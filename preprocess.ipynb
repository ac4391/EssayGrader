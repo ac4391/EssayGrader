{
 "cells": [
  {
   "cell_type": "markdown",
   "metadata": {
    "collapsed": true
   },
   "source": [
    "This notebook is for the purpose of converting the essays in string form to word embedding vectorized form. This notebook makes use of the GLoVe word embeddings. More information about these word embeddings can be found here: https://nlp.stanford.edu/projects/glove/\n",
    "\n",
    "If you'd like to move directly to the Neural Network, you can skip this notebook completely and load the prepared data directly!\n",
    "\n",
    "If you would like to follow along with the preprocessing work, follow the link above and download the glove.6B.zip file to the \"data/\" directory of this project. Then uncompress the zip file to reveal directory named \"glove.6B/\" with 4 txt files inside. These are the four available word embeddings. You are now able to proceed with this notebook. "
   ]
  },
  {
   "cell_type": "code",
   "execution_count": 1,
   "metadata": {},
   "outputs": [],
   "source": [
    "from src.preprocess import get_data, vectorize_essays, pad_embedding, word_count\n",
    "%load_ext autoreload\n",
    "%autoreload 2"
   ]
  },
  {
   "cell_type": "code",
   "execution_count": 2,
   "metadata": {},
   "outputs": [],
   "source": [
    "# Import training data from tsv file and store in a pandas dataframe\n",
    "data_path = './data/training_set_rel3.tsv'\n",
    "essay_df = get_data(data_path)"
   ]
  },
  {
   "cell_type": "markdown",
   "metadata": {},
   "source": [
    "We can inspect the contents of the dataframe to understand what information is provided in the training set\n",
    "More EDA if we have time"
   ]
  },
  {
   "cell_type": "markdown",
   "metadata": {},
   "source": [
    "We'd like to drop some columns that are irrelevant to the neural network"
   ]
  },
  {
   "cell_type": "code",
   "execution_count": 3,
   "metadata": {},
   "outputs": [
    {
     "data": {
      "text/html": [
       "<div>\n",
       "<style scoped>\n",
       "    .dataframe tbody tr th:only-of-type {\n",
       "        vertical-align: middle;\n",
       "    }\n",
       "\n",
       "    .dataframe tbody tr th {\n",
       "        vertical-align: top;\n",
       "    }\n",
       "\n",
       "    .dataframe thead th {\n",
       "        text-align: right;\n",
       "    }\n",
       "</style>\n",
       "<table border=\"1\" class=\"dataframe\">\n",
       "  <thead>\n",
       "    <tr style=\"text-align: right;\">\n",
       "      <th></th>\n",
       "      <th>essay_id</th>\n",
       "      <th>essay_set</th>\n",
       "      <th>essay</th>\n",
       "      <th>rater1_domain1</th>\n",
       "      <th>rater2_domain1</th>\n",
       "    </tr>\n",
       "  </thead>\n",
       "  <tbody>\n",
       "    <tr>\n",
       "      <th>12971</th>\n",
       "      <td>21626</td>\n",
       "      <td>8</td>\n",
       "      <td>In most stories mothers and daughters are eit...</td>\n",
       "      <td>17</td>\n",
       "      <td>18</td>\n",
       "    </tr>\n",
       "    <tr>\n",
       "      <th>12972</th>\n",
       "      <td>21628</td>\n",
       "      <td>8</td>\n",
       "      <td>I never understood the meaning laughter is th...</td>\n",
       "      <td>15</td>\n",
       "      <td>17</td>\n",
       "    </tr>\n",
       "    <tr>\n",
       "      <th>12973</th>\n",
       "      <td>21629</td>\n",
       "      <td>8</td>\n",
       "      <td>When you laugh, is @CAPS5 out of habit, or is ...</td>\n",
       "      <td>20</td>\n",
       "      <td>26</td>\n",
       "    </tr>\n",
       "    <tr>\n",
       "      <th>12974</th>\n",
       "      <td>21630</td>\n",
       "      <td>8</td>\n",
       "      <td>Trippin' on fen...</td>\n",
       "      <td>20</td>\n",
       "      <td>20</td>\n",
       "    </tr>\n",
       "    <tr>\n",
       "      <th>12975</th>\n",
       "      <td>21633</td>\n",
       "      <td>8</td>\n",
       "      <td>Many people believe that laughter can improve...</td>\n",
       "      <td>20</td>\n",
       "      <td>20</td>\n",
       "    </tr>\n",
       "  </tbody>\n",
       "</table>\n",
       "</div>"
      ],
      "text/plain": [
       "       essay_id  essay_set                                              essay  \\\n",
       "12971     21626          8   In most stories mothers and daughters are eit...   \n",
       "12972     21628          8   I never understood the meaning laughter is th...   \n",
       "12973     21629          8  When you laugh, is @CAPS5 out of habit, or is ...   \n",
       "12974     21630          8                                 Trippin' on fen...   \n",
       "12975     21633          8   Many people believe that laughter can improve...   \n",
       "\n",
       "       rater1_domain1  rater2_domain1  \n",
       "12971              17              18  \n",
       "12972              15              17  \n",
       "12973              20              26  \n",
       "12974              20              20  \n",
       "12975              20              20  "
      ]
     },
     "execution_count": 3,
     "metadata": {},
     "output_type": "execute_result"
    }
   ],
   "source": [
    "drop_labels =['rater1_trait1', 'rater1_trait2', 'rater1_trait3', 'rater1_trait4', 'rater1_trait5', 'rater1_trait6',\\\n",
    "              'rater2_trait1', 'rater2_trait2', 'rater2_trait3', 'rater2_trait4', 'rater2_trait5', 'rater2_trait6',\\\n",
    "              'rater3_trait1', 'rater3_trait2', 'rater3_trait3', 'rater3_trait4', 'rater3_trait5', 'rater3_trait6',\\\n",
    "              'rater3_domain1', 'rater1_domain2', 'rater2_domain2', 'domain1_score', 'domain2_score']\n",
    "essay_df.drop(columns=drop_labels, inplace=True)\n",
    "essay_df.tail()"
   ]
  },
  {
   "cell_type": "markdown",
   "metadata": {},
   "source": [
    "The given dataset holds essays from 8 distinct \"essay sets\". In order to speed training time and reduce memory impact, we will only examine a subset of these essay sets. The rest of the essays can be discarded"
   ]
  },
  {
   "cell_type": "code",
   "execution_count": 4,
   "metadata": {},
   "outputs": [
    {
     "data": {
      "text/plain": [
       "'Examining essays in sets [1 3 4 5 6]'"
      ]
     },
     "execution_count": 4,
     "metadata": {},
     "output_type": "execute_result"
    }
   ],
   "source": [
    "sets = [1,3,4,5,6]\n",
    "essay_df = essay_df[essay_df['essay_set'].isin(sets)]\n",
    "\n",
    "\"Examining essays in sets {}\".format(essay_df.essay_set.unique())"
   ]
  },
  {
   "cell_type": "code",
   "execution_count": 5,
   "metadata": {},
   "outputs": [
    {
     "name": "stdout",
     "output_type": "stream",
     "text": [
      "The total number of essays is 8884\n",
      "1000 Essays Vectorized\n",
      "2000 Essays Vectorized\n",
      "3000 Essays Vectorized\n",
      "4000 Essays Vectorized\n",
      "5000 Essays Vectorized\n",
      "6000 Essays Vectorized\n",
      "7000 Essays Vectorized\n",
      "8000 Essays Vectorized\n",
      "8884 Total Essays Vectorized!\n"
     ]
    }
   ],
   "source": [
    "essays = essay_df['essay'] # A list of essays as strings\n",
    "\n",
    "# Add a column to dataframe with essays as word embeddings\n",
    "essay_df['essays_embed'] = vectorize_essays(essays, embed_size=100, verbose=True)"
   ]
  },
  {
   "cell_type": "code",
   "execution_count": 6,
   "metadata": {},
   "outputs": [
    {
     "name": "stdout",
     "output_type": "stream",
     "text": [
      "*** Word Count Statistics ***\n",
      "\n",
      "****************************************\n",
      "Word count statistics for set 1: \n",
      "count    1783.000000\n",
      "mean      319.823331\n",
      "std       106.196183\n",
      "min        10.000000\n",
      "25%       249.000000\n",
      "50%       318.000000\n",
      "75%       385.000000\n",
      "max       732.000000\n",
      "Name: word_count, dtype: float64\n",
      "\n",
      "\n",
      "****************************************\n",
      "Word count statistics for set 3: \n",
      "count    1726.000000\n",
      "mean       91.243917\n",
      "std        45.958534\n",
      "min         6.000000\n",
      "25%        55.000000\n",
      "50%        84.000000\n",
      "75%       123.000000\n",
      "max       302.000000\n",
      "Name: word_count, dtype: float64\n",
      "\n",
      "\n",
      "****************************************\n",
      "Word count statistics for set 4: \n",
      "count    1770.000000\n",
      "mean       75.905085\n",
      "std        43.277093\n",
      "min         2.000000\n",
      "25%        42.000000\n",
      "50%        69.000000\n",
      "75%       103.000000\n",
      "max       313.000000\n",
      "Name: word_count, dtype: float64\n",
      "\n",
      "\n",
      "****************************************\n",
      "Word count statistics for set 5: \n",
      "count    1805.000000\n",
      "mean      103.087535\n",
      "std        50.154154\n",
      "min         3.000000\n",
      "25%        65.000000\n",
      "50%        99.000000\n",
      "75%       134.000000\n",
      "max       352.000000\n",
      "Name: word_count, dtype: float64\n",
      "\n",
      "\n",
      "****************************************\n",
      "Word count statistics for set 6: \n",
      "count    1800.000000\n",
      "mean      127.424444\n",
      "std        47.152513\n",
      "min         3.000000\n",
      "25%        97.000000\n",
      "50%       128.000000\n",
      "75%       157.000000\n",
      "max       376.000000\n",
      "Name: word_count, dtype: float64\n",
      "\n",
      "\n"
     ]
    }
   ],
   "source": [
    "essay_df['word_count'] = essay_df.apply(lambda row: word_count(row), axis=1)\n",
    "# Potentially add matplotlib visualization later\n",
    "print(\"*** Word Count Statistics ***\\n\")\n",
    "#word_count_stats = [None]*len(sets)\n",
    "for set in sets:\n",
    "    print('*'*40)\n",
    "    print(\"Word count statistics for set {}: \".format(set))\n",
    "    print(essay_df[essay_df['essay_set']==set]['word_count'].describe())\n",
    "    print('\\n')"
   ]
  },
  {
   "cell_type": "markdown",
   "metadata": {},
   "source": [
    "We would also like to remove some outliers for word count. Those essays with length greater than 600 words will be removed."
   ]
  },
  {
   "cell_type": "code",
   "execution_count": 7,
   "metadata": {},
   "outputs": [
    {
     "data": {
      "text/plain": [
       "count    8871.000000\n",
       "mean      143.059858\n",
       "std       108.228778\n",
       "min         2.000000\n",
       "25%        68.000000\n",
       "50%       113.000000\n",
       "75%       172.000000\n",
       "max       600.000000\n",
       "Name: word_count, dtype: float64"
      ]
     },
     "execution_count": 7,
     "metadata": {},
     "output_type": "execute_result"
    }
   ],
   "source": [
    "max_length = 600 # Maximum length for an essay\n",
    "essay_df = essay_df[essay_df['word_count']<=max_length]\n",
    "\n",
    "essay_df['word_count'].describe()"
   ]
  },
  {
   "cell_type": "markdown",
   "metadata": {},
   "source": [
    "Next we will pad each essay to the maximum length so that all essays have a uniform size of word embedding matrix"
   ]
  },
  {
   "cell_type": "code",
   "execution_count": 8,
   "metadata": {},
   "outputs": [],
   "source": [
    "essays_embed = essay_df['essays_embed']\n",
    "essay_df['essays_embed'] = pad_embedding(essays_embed,\\\n",
    "                                         max_length=max_length, right_pad=True)"
   ]
  },
  {
   "cell_type": "code",
   "execution_count": 9,
   "metadata": {},
   "outputs": [],
   "source": [
    "essay_df.dropna(subset=['essays_embed'], inplace=True)"
   ]
  },
  {
   "cell_type": "code",
   "execution_count": 10,
   "metadata": {},
   "outputs": [],
   "source": [
    "# Add max score for each set\n",
    "score_ranges = [(0,0), (2,12), (0,0), (0,3), (0,4), (0,4), (0,4)]\n",
    "\n",
    "for idx in essay_df.index:\n",
    "    essay_df.loc[idx,'max_score']=score_ranges[essay_df.loc[idx,'essay_set']][1]"
   ]
  },
  {
   "cell_type": "code",
   "execution_count": 11,
   "metadata": {},
   "outputs": [],
   "source": [
    "maximum_score = 12\n",
    "for idx in essay_df.index:\n",
    "    essay_df.loc[idx,'norm_score1']=essay_df.loc[idx,'rater1_domain1']*maximum_score/essay_df.loc[idx,'max_score']\n",
    "    essay_df.loc[idx,'norm_score2']=essay_df.loc[idx,'rater2_domain1']*maximum_score/essay_df.loc[idx,'max_score']\n",
    "    \n",
    "essay_df['norm_score1']=[int(x) for x in essay_df['norm_score1']]\n",
    "essay_df['norm_score2']=[int(x) for x in essay_df['norm_score2']]"
   ]
  },
  {
   "cell_type": "code",
   "execution_count": 14,
   "metadata": {},
   "outputs": [
    {
     "data": {
      "text/html": [
       "<div>\n",
       "<style scoped>\n",
       "    .dataframe tbody tr th:only-of-type {\n",
       "        vertical-align: middle;\n",
       "    }\n",
       "\n",
       "    .dataframe tbody tr th {\n",
       "        vertical-align: top;\n",
       "    }\n",
       "\n",
       "    .dataframe thead th {\n",
       "        text-align: right;\n",
       "    }\n",
       "</style>\n",
       "<table border=\"1\" class=\"dataframe\">\n",
       "  <thead>\n",
       "    <tr style=\"text-align: right;\">\n",
       "      <th></th>\n",
       "      <th>essay_id</th>\n",
       "      <th>essay_set</th>\n",
       "      <th>essay</th>\n",
       "      <th>rater1_domain1</th>\n",
       "      <th>rater2_domain1</th>\n",
       "      <th>essays_embed</th>\n",
       "      <th>word_count</th>\n",
       "      <th>max_score</th>\n",
       "      <th>norm_score1</th>\n",
       "      <th>norm_score2</th>\n",
       "    </tr>\n",
       "  </thead>\n",
       "  <tbody>\n",
       "    <tr>\n",
       "      <th>0</th>\n",
       "      <td>1</td>\n",
       "      <td>1</td>\n",
       "      <td>Dear local newspaper, I think effects computer...</td>\n",
       "      <td>4</td>\n",
       "      <td>4</td>\n",
       "      <td>[[-0.45701, 0.23121, 0.87486, -0.7933, -0.1945...</td>\n",
       "      <td>299</td>\n",
       "      <td>12.0</td>\n",
       "      <td>4</td>\n",
       "      <td>4</td>\n",
       "    </tr>\n",
       "    <tr>\n",
       "      <th>1</th>\n",
       "      <td>2</td>\n",
       "      <td>1</td>\n",
       "      <td>Dear @CAPS1 @CAPS2, I believe that using compu...</td>\n",
       "      <td>5</td>\n",
       "      <td>4</td>\n",
       "      <td>[[-0.45701, 0.23121, 0.87486, -0.7933, -0.1945...</td>\n",
       "      <td>349</td>\n",
       "      <td>12.0</td>\n",
       "      <td>5</td>\n",
       "      <td>4</td>\n",
       "    </tr>\n",
       "    <tr>\n",
       "      <th>2</th>\n",
       "      <td>3</td>\n",
       "      <td>1</td>\n",
       "      <td>Dear, @CAPS1 @CAPS2 @CAPS3 More and more peopl...</td>\n",
       "      <td>4</td>\n",
       "      <td>3</td>\n",
       "      <td>[[-0.45701, 0.23121, 0.87486, -0.7933, -0.1945...</td>\n",
       "      <td>236</td>\n",
       "      <td>12.0</td>\n",
       "      <td>4</td>\n",
       "      <td>3</td>\n",
       "    </tr>\n",
       "    <tr>\n",
       "      <th>3</th>\n",
       "      <td>4</td>\n",
       "      <td>1</td>\n",
       "      <td>Dear Local Newspaper, @CAPS1 I have found that...</td>\n",
       "      <td>5</td>\n",
       "      <td>5</td>\n",
       "      <td>[[-0.45701, 0.23121, 0.87486, -0.7933, -0.1945...</td>\n",
       "      <td>449</td>\n",
       "      <td>12.0</td>\n",
       "      <td>5</td>\n",
       "      <td>5</td>\n",
       "    </tr>\n",
       "    <tr>\n",
       "      <th>4</th>\n",
       "      <td>5</td>\n",
       "      <td>1</td>\n",
       "      <td>Dear @LOCATION1, I know having computers has a...</td>\n",
       "      <td>4</td>\n",
       "      <td>4</td>\n",
       "      <td>[[-0.45701, 0.23121, 0.87486, -0.7933, -0.1945...</td>\n",
       "      <td>387</td>\n",
       "      <td>12.0</td>\n",
       "      <td>4</td>\n",
       "      <td>4</td>\n",
       "    </tr>\n",
       "  </tbody>\n",
       "</table>\n",
       "</div>"
      ],
      "text/plain": [
       "   essay_id  essay_set                                              essay  \\\n",
       "0         1          1  Dear local newspaper, I think effects computer...   \n",
       "1         2          1  Dear @CAPS1 @CAPS2, I believe that using compu...   \n",
       "2         3          1  Dear, @CAPS1 @CAPS2 @CAPS3 More and more peopl...   \n",
       "3         4          1  Dear Local Newspaper, @CAPS1 I have found that...   \n",
       "4         5          1  Dear @LOCATION1, I know having computers has a...   \n",
       "\n",
       "   rater1_domain1  rater2_domain1  \\\n",
       "0               4               4   \n",
       "1               5               4   \n",
       "2               4               3   \n",
       "3               5               5   \n",
       "4               4               4   \n",
       "\n",
       "                                        essays_embed  word_count  max_score  \\\n",
       "0  [[-0.45701, 0.23121, 0.87486, -0.7933, -0.1945...         299       12.0   \n",
       "1  [[-0.45701, 0.23121, 0.87486, -0.7933, -0.1945...         349       12.0   \n",
       "2  [[-0.45701, 0.23121, 0.87486, -0.7933, -0.1945...         236       12.0   \n",
       "3  [[-0.45701, 0.23121, 0.87486, -0.7933, -0.1945...         449       12.0   \n",
       "4  [[-0.45701, 0.23121, 0.87486, -0.7933, -0.1945...         387       12.0   \n",
       "\n",
       "   norm_score1  norm_score2  \n",
       "0            4            4  \n",
       "1            5            4  \n",
       "2            4            3  \n",
       "3            5            5  \n",
       "4            4            4  "
      ]
     },
     "execution_count": 14,
     "metadata": {},
     "output_type": "execute_result"
    }
   ],
   "source": [
    "essay_df.head()"
   ]
  },
  {
   "cell_type": "code",
   "execution_count": 15,
   "metadata": {},
   "outputs": [],
   "source": [
    "# Store the preprocessed data frame for later use\n",
    "essay_df.to_pickle('./data/essay_df.pkl')"
   ]
  },
  {
   "cell_type": "code",
   "execution_count": null,
   "metadata": {},
   "outputs": [],
   "source": []
  },
  {
   "cell_type": "code",
   "execution_count": null,
   "metadata": {},
   "outputs": [],
   "source": []
  }
 ],
 "metadata": {
  "kernelspec": {
   "display_name": "Python 3",
   "language": "python",
   "name": "python3"
  },
  "language_info": {
   "codemirror_mode": {
    "name": "ipython",
    "version": 3
   },
   "file_extension": ".py",
   "mimetype": "text/x-python",
   "name": "python",
   "nbconvert_exporter": "python",
   "pygments_lexer": "ipython3",
   "version": "3.6.7"
  }
 },
 "nbformat": 4,
 "nbformat_minor": 1
}
