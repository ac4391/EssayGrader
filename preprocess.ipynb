{
 "cells": [
  {
   "cell_type": "markdown",
   "metadata": {
    "collapsed": true
   },
   "source": [
    "This notebook is for the purpose of converting the essays in string form to word embedding vectorized form. This notebook makes use of the GLoVe word embeddings. More information about these word embeddings can be found here: https://nlp.stanford.edu/projects/glove/\n",
    "\n",
    "If you would like to follow along with the preprocessing work, follow the link above and download the glove.6B.zip file to the \"data/\" directory of this project. Then uncompress the zip file to reveal directory named \"glove.6B/\" with 4 txt files inside. These are the four available word embeddings. You are now able to proceed with this notebook. "
   ]
  },
  {
   "cell_type": "code",
   "execution_count": 1,
   "metadata": {},
   "outputs": [],
   "source": [
    "from src.preprocess import get_data, vectorize_essays, pad_embedding, word_count, essay_to_words\n",
    "%load_ext autoreload\n",
    "%autoreload 2"
   ]
  },
  {
   "cell_type": "code",
   "execution_count": 2,
   "metadata": {},
   "outputs": [],
   "source": [
    "# Import training data from tsv file and store in a pandas dataframe\n",
    "data_path = './data/training_set_rel3.tsv'\n",
    "essay_df = get_data(data_path)"
   ]
  },
  {
   "cell_type": "markdown",
   "metadata": {},
   "source": [
    "We can inspect the contents of the dataframe to understand what information is provided in the training set.\n",
    "\n",
    "More EDA if we have time"
   ]
  },
  {
   "cell_type": "markdown",
   "metadata": {},
   "source": [
    "We'd like to drop some columns that are irrelevant to the neural network"
   ]
  },
  {
   "cell_type": "code",
   "execution_count": 3,
   "metadata": {},
   "outputs": [
    {
     "data": {
      "text/html": [
       "<div>\n",
       "<style scoped>\n",
       "    .dataframe tbody tr th:only-of-type {\n",
       "        vertical-align: middle;\n",
       "    }\n",
       "\n",
       "    .dataframe tbody tr th {\n",
       "        vertical-align: top;\n",
       "    }\n",
       "\n",
       "    .dataframe thead th {\n",
       "        text-align: right;\n",
       "    }\n",
       "</style>\n",
       "<table border=\"1\" class=\"dataframe\">\n",
       "  <thead>\n",
       "    <tr style=\"text-align: right;\">\n",
       "      <th></th>\n",
       "      <th>essay_id</th>\n",
       "      <th>essay_set</th>\n",
       "      <th>essay</th>\n",
       "      <th>rater1_domain1</th>\n",
       "      <th>rater2_domain1</th>\n",
       "      <th>domain1_score</th>\n",
       "    </tr>\n",
       "  </thead>\n",
       "  <tbody>\n",
       "    <tr>\n",
       "      <th>0</th>\n",
       "      <td>1</td>\n",
       "      <td>1</td>\n",
       "      <td>Dear local newspaper, I think effects computer...</td>\n",
       "      <td>4</td>\n",
       "      <td>4</td>\n",
       "      <td>8</td>\n",
       "    </tr>\n",
       "    <tr>\n",
       "      <th>1</th>\n",
       "      <td>2</td>\n",
       "      <td>1</td>\n",
       "      <td>Dear @CAPS1 @CAPS2, I believe that using compu...</td>\n",
       "      <td>5</td>\n",
       "      <td>4</td>\n",
       "      <td>9</td>\n",
       "    </tr>\n",
       "    <tr>\n",
       "      <th>2</th>\n",
       "      <td>3</td>\n",
       "      <td>1</td>\n",
       "      <td>Dear, @CAPS1 @CAPS2 @CAPS3 More and more peopl...</td>\n",
       "      <td>4</td>\n",
       "      <td>3</td>\n",
       "      <td>7</td>\n",
       "    </tr>\n",
       "    <tr>\n",
       "      <th>3</th>\n",
       "      <td>4</td>\n",
       "      <td>1</td>\n",
       "      <td>Dear Local Newspaper, @CAPS1 I have found that...</td>\n",
       "      <td>5</td>\n",
       "      <td>5</td>\n",
       "      <td>10</td>\n",
       "    </tr>\n",
       "    <tr>\n",
       "      <th>4</th>\n",
       "      <td>5</td>\n",
       "      <td>1</td>\n",
       "      <td>Dear @LOCATION1, I know having computers has a...</td>\n",
       "      <td>4</td>\n",
       "      <td>4</td>\n",
       "      <td>8</td>\n",
       "    </tr>\n",
       "  </tbody>\n",
       "</table>\n",
       "</div>"
      ],
      "text/plain": [
       "   essay_id  essay_set                                              essay  \\\n",
       "0         1          1  Dear local newspaper, I think effects computer...   \n",
       "1         2          1  Dear @CAPS1 @CAPS2, I believe that using compu...   \n",
       "2         3          1  Dear, @CAPS1 @CAPS2 @CAPS3 More and more peopl...   \n",
       "3         4          1  Dear Local Newspaper, @CAPS1 I have found that...   \n",
       "4         5          1  Dear @LOCATION1, I know having computers has a...   \n",
       "\n",
       "   rater1_domain1  rater2_domain1  domain1_score  \n",
       "0               4               4              8  \n",
       "1               5               4              9  \n",
       "2               4               3              7  \n",
       "3               5               5             10  \n",
       "4               4               4              8  "
      ]
     },
     "execution_count": 3,
     "metadata": {},
     "output_type": "execute_result"
    }
   ],
   "source": [
    "drop_labels =['rater1_trait1', 'rater1_trait2', 'rater1_trait3', 'rater1_trait4', 'rater1_trait5', 'rater1_trait6',\\\n",
    "              'rater2_trait1', 'rater2_trait2', 'rater2_trait3', 'rater2_trait4', 'rater2_trait5', 'rater2_trait6',\\\n",
    "              'rater3_trait1', 'rater3_trait2', 'rater3_trait3', 'rater3_trait4', 'rater3_trait5', 'rater3_trait6',\\\n",
    "              'rater3_domain1', 'rater1_domain2', 'rater2_domain2', 'domain2_score']\n",
    "essay_df.drop(columns=drop_labels, inplace=True)\n",
    "essay_df.head()"
   ]
  },
  {
   "cell_type": "markdown",
   "metadata": {},
   "source": [
    "The given dataset holds essays from 8 distinct \"essay sets\". In order to speed training time and reduce memory impact, we will only examine a subset of these essay sets. The rest of the essays can be discarded. For a more detailed analysis of why certain essay sets were used and some were not, please see the research report. "
   ]
  },
  {
   "cell_type": "code",
   "execution_count": 4,
   "metadata": {},
   "outputs": [
    {
     "data": {
      "text/plain": [
       "'Examining essays in sets [1 3 4 5 6]'"
      ]
     },
     "execution_count": 4,
     "metadata": {},
     "output_type": "execute_result"
    }
   ],
   "source": [
    "sets = [1,3,4,5,6]\n",
    "essay_df = essay_df[essay_df['essay_set'].isin(sets)]\n",
    "\n",
    "\"Examining essays in sets {}\".format(essay_df.essay_set.unique())"
   ]
  },
  {
   "cell_type": "code",
   "execution_count": 5,
   "metadata": {},
   "outputs": [
    {
     "name": "stdout",
     "output_type": "stream",
     "text": [
      "Vectorizing essays...\n",
      "8884 Total Essays Vectorized!\n"
     ]
    }
   ],
   "source": [
    "essays = essay_df['essay'] # A list of essays as strings\n",
    "embed_size = 200 # Desired word embedding size. Chosen from the options: [50, 100, 200, 300]\n",
    "\n",
    "# Add a column to dataframe with essays as word embeddings\n",
    "essay_df['essays_embed'] = vectorize_essays(essays, embed_size=embed_size, verbose=False)"
   ]
  },
  {
   "cell_type": "code",
   "execution_count": 6,
   "metadata": {},
   "outputs": [],
   "source": [
    "#Word_count\n",
    "essay_df['word_count'] = essay_df.apply(lambda row: word_count(row), axis=1)"
   ]
  },
  {
   "cell_type": "markdown",
   "metadata": {},
   "source": [
    "Next we will partition the dataset into a larger dataset for training and validation, and\n",
    "a smaller dataset for testing."
   ]
  },
  {
   "cell_type": "code",
   "execution_count": 7,
   "metadata": {},
   "outputs": [
    {
     "name": "stdout",
     "output_type": "stream",
     "text": [
      "The train dataset has 7107 essays.\n",
      "The test dataset has 1777 essays.\n",
      "Saving the test dataset...\n",
      "Test dataset saved!\n"
     ]
    }
   ],
   "source": [
    "test_prop = 0.2\n",
    "test_df = essay_df.sample(frac=test_prop,random_state=33)\n",
    "train_df = essay_df.drop(test_df.index)\n",
    "\n",
    "print('The train dataset has {} essays.'.format(len(train_df)))\n",
    "print('The test dataset has {} essays.'.format(len(test_df)))\n",
    "print('Saving the test dataset...')\n",
    "test_df.to_pickle('./data/test_df.pkl')\n",
    "print('Test dataset saved!')"
   ]
  },
  {
   "cell_type": "markdown",
   "metadata": {},
   "source": [
    "We would also like to remove some outliers for word count. The chosen method is to examine each essay set individually due to large variations of lenghts between essay sets. For each essay set, remove essays that have word counts larger than 1 standard deviation greater than the mean."
   ]
  },
  {
   "cell_type": "code",
   "execution_count": 8,
   "metadata": {},
   "outputs": [],
   "source": [
    "# This would be a good place to put a visualization of word count statistics for each set\n",
    "# Both before and after the modification\n",
    "\n",
    "wc_stats = {}\n",
    "for set in sets:\n",
    "    mean,std = train_df[train_df['essay_set']==set]['word_count'].agg(['mean','std'])\n",
    "    \n",
    "    # Record the min and max allowable word counts for each set\n",
    "    wc_stats[set] = (int(round(mean-std)),int(round(mean+std)))"
   ]
  },
  {
   "cell_type": "code",
   "execution_count": 9,
   "metadata": {},
   "outputs": [
    {
     "name": "stdout",
     "output_type": "stream",
     "text": [
      "The maximum essay length from set 1 is 426 words\n",
      "The maximum essay length from set 3 is 137 words\n",
      "The maximum essay length from set 4 is 120 words\n",
      "The maximum essay length from set 5 is 153 words\n",
      "The maximum essay length from set 6 is 175 words\n"
     ]
    }
   ],
   "source": [
    "for set in sets:\n",
    "    wc_min, wc_max = wc_stats[set]\n",
    "    train_df = train_df[(train_df['essay_set']!=set) | (train_df['word_count']<wc_max)]\n",
    "    print('The maximum essay length from set {} is {} words'.format(set, wc_max))"
   ]
  },
  {
   "cell_type": "markdown",
   "metadata": {},
   "source": [
    "Next we will pad each essay to the maximum length of the essay set so that all essays from an essay set have a uniform size of word embedding matrix. This will allow for the essay embedding matrix to be input to the Neural Network. "
   ]
  },
  {
   "cell_type": "code",
   "execution_count": 10,
   "metadata": {},
   "outputs": [
    {
     "name": "stdout",
     "output_type": "stream",
     "text": [
      "All 1196 padded essays in set 1 have a shape of (426, 200)\n",
      "All 1120 padded essays in set 3 have a shape of (137, 200)\n",
      "All 1218 padded essays in set 4 have a shape of (120, 200)\n",
      "All 1212 padded essays in set 5 have a shape of (153, 200)\n",
      "All 1226 padded essays in set 6 have a shape of (175, 200)\n"
     ]
    }
   ],
   "source": [
    "train_df['essays_embed'] = train_df.apply(lambda x: pad_embedding(x['essays_embed'], x['essay_set'], wc_stats, right_pad=True), axis=1)\n",
    "for set in sets:\n",
    "    n_essays = len(train_df[train_df['essay_set']==set])\n",
    "    shapes = [train_df[train_df['essay_set']==set]['essays_embed'].iloc[x].shape for x in range(n_essays)]\n",
    "    if all(shape==shapes[0] for shape in shapes):\n",
    "        print('All {} padded essays in set {} have a shape of {}'.format(n_essays, set, shapes[0]))\n",
    "    else:\n",
    "        print('Essay shapes in set {} do not match. Please ensure that essays were correctly padded.'.format(set))"
   ]
  },
  {
   "cell_type": "markdown",
   "metadata": {},
   "source": [
    "Next we would like to normalize the scores for each set to a consistent scale."
   ]
  },
  {
   "cell_type": "code",
   "execution_count": 11,
   "metadata": {},
   "outputs": [],
   "source": [
    "# Add min and max score for each set to the dataframe\n",
    "score_ranges = [(0,0), (2,12), (0,0), (0,3), (0,4), (0,4), (0,4)]\n",
    "\n",
    "for idx in train_df.index:\n",
    "    train_df.loc[idx,'min_score']=score_ranges[train_df.loc[idx,'essay_set']][0]\n",
    "    train_df.loc[idx,'max_score']=score_ranges[train_df.loc[idx,'essay_set']][1]\n",
    "for idx in test_df.index:\n",
    "    test_df.loc[idx,'min_score']=score_ranges[test_df.loc[idx,'essay_set']][0]\n",
    "    test_df.loc[idx,'max_score']=score_ranges[test_df.loc[idx,'essay_set']][1]"
   ]
  },
  {
   "cell_type": "code",
   "execution_count": 12,
   "metadata": {},
   "outputs": [],
   "source": [
    "max_score = max([b for a,b in score_ranges])\n",
    "\n",
    "#For the train set\n",
    "for idx in train_df.index:\n",
    "    train_df.loc[idx,'rater1_domain1_norm']=train_df.loc[idx,'rater1_domain1']*max_score/train_df.loc[idx,'max_score']\n",
    "    train_df.loc[idx,'rater2_domain1_norm']=train_df.loc[idx,'rater2_domain1']*max_score/train_df.loc[idx,'max_score']\n",
    "    train_df.loc[idx,'norm_score']=train_df.loc[idx,'domain1_score']*max_score/train_df.loc[idx,'max_score']\n",
    "train_df['rater1_domain1_norm']=[int(x) for x in train_df['rater1_domain1_norm']]\n",
    "train_df['rater2_domain1_norm']=[int(x) for x in train_df['rater2_domain1_norm']]\n",
    "train_df['norm_score']=[int(x) for x in train_df['norm_score']]\n",
    "\n",
    "#For the test set\n",
    "for idx in test_df.index:\n",
    "    test_df.loc[idx,'rater1_domain1_norm']=test_df.loc[idx,'rater1_domain1']*max_score/test_df.loc[idx,'max_score']\n",
    "    test_df.loc[idx,'rater2_domain1_norm']=test_df.loc[idx,'rater2_domain1']*max_score/test_df.loc[idx,'max_score']\n",
    "    test_df.loc[idx,'norm_score']=test_df.loc[idx,'domain1_score']*max_score/test_df.loc[idx,'max_score']\n",
    "test_df['rater1_domain1_norm']=[int(x) for x in test_df['rater1_domain1_norm']]\n",
    "test_df['rater2_domain1_norm']=[int(x) for x in test_df['rater2_domain1_norm']]\n",
    "test_df['norm_score']=[int(x) for x in test_df['norm_score']]"
   ]
  },
  {
   "cell_type": "code",
   "execution_count": 13,
   "metadata": {},
   "outputs": [
    {
     "data": {
      "text/html": [
       "<div>\n",
       "<style scoped>\n",
       "    .dataframe tbody tr th:only-of-type {\n",
       "        vertical-align: middle;\n",
       "    }\n",
       "\n",
       "    .dataframe tbody tr th {\n",
       "        vertical-align: top;\n",
       "    }\n",
       "\n",
       "    .dataframe thead th {\n",
       "        text-align: right;\n",
       "    }\n",
       "</style>\n",
       "<table border=\"1\" class=\"dataframe\">\n",
       "  <thead>\n",
       "    <tr style=\"text-align: right;\">\n",
       "      <th></th>\n",
       "      <th>essay_id</th>\n",
       "      <th>essay_set</th>\n",
       "      <th>rater1_domain1</th>\n",
       "      <th>rater2_domain1</th>\n",
       "      <th>domain1_score</th>\n",
       "      <th>essays_embed</th>\n",
       "      <th>word_count</th>\n",
       "      <th>min_score</th>\n",
       "      <th>max_score</th>\n",
       "      <th>rater1_domain1_norm</th>\n",
       "      <th>rater2_domain1_norm</th>\n",
       "      <th>norm_score</th>\n",
       "    </tr>\n",
       "  </thead>\n",
       "  <tbody>\n",
       "    <tr>\n",
       "      <th>0</th>\n",
       "      <td>1</td>\n",
       "      <td>1</td>\n",
       "      <td>4</td>\n",
       "      <td>4</td>\n",
       "      <td>8</td>\n",
       "      <td>[[0.1285, 0.68849, 0.83504, -0.16483, -0.36831...</td>\n",
       "      <td>299</td>\n",
       "      <td>2.0</td>\n",
       "      <td>12.0</td>\n",
       "      <td>4</td>\n",
       "      <td>4</td>\n",
       "      <td>8</td>\n",
       "    </tr>\n",
       "    <tr>\n",
       "      <th>1</th>\n",
       "      <td>2</td>\n",
       "      <td>1</td>\n",
       "      <td>5</td>\n",
       "      <td>4</td>\n",
       "      <td>9</td>\n",
       "      <td>[[0.1285, 0.68849, 0.83504, -0.16483, -0.36831...</td>\n",
       "      <td>349</td>\n",
       "      <td>2.0</td>\n",
       "      <td>12.0</td>\n",
       "      <td>5</td>\n",
       "      <td>4</td>\n",
       "      <td>9</td>\n",
       "    </tr>\n",
       "    <tr>\n",
       "      <th>2</th>\n",
       "      <td>3</td>\n",
       "      <td>1</td>\n",
       "      <td>4</td>\n",
       "      <td>3</td>\n",
       "      <td>7</td>\n",
       "      <td>[[0.1285, 0.68849, 0.83504, -0.16483, -0.36831...</td>\n",
       "      <td>236</td>\n",
       "      <td>2.0</td>\n",
       "      <td>12.0</td>\n",
       "      <td>4</td>\n",
       "      <td>3</td>\n",
       "      <td>7</td>\n",
       "    </tr>\n",
       "    <tr>\n",
       "      <th>4</th>\n",
       "      <td>5</td>\n",
       "      <td>1</td>\n",
       "      <td>4</td>\n",
       "      <td>4</td>\n",
       "      <td>8</td>\n",
       "      <td>[[0.1285, 0.68849, 0.83504, -0.16483, -0.36831...</td>\n",
       "      <td>387</td>\n",
       "      <td>2.0</td>\n",
       "      <td>12.0</td>\n",
       "      <td>4</td>\n",
       "      <td>4</td>\n",
       "      <td>8</td>\n",
       "    </tr>\n",
       "    <tr>\n",
       "      <th>9</th>\n",
       "      <td>10</td>\n",
       "      <td>1</td>\n",
       "      <td>5</td>\n",
       "      <td>4</td>\n",
       "      <td>9</td>\n",
       "      <td>[[0.15637, -0.40361, -0.29629, -0.34259, -0.18...</td>\n",
       "      <td>419</td>\n",
       "      <td>2.0</td>\n",
       "      <td>12.0</td>\n",
       "      <td>5</td>\n",
       "      <td>4</td>\n",
       "      <td>9</td>\n",
       "    </tr>\n",
       "  </tbody>\n",
       "</table>\n",
       "</div>"
      ],
      "text/plain": [
       "   essay_id  essay_set  rater1_domain1  rater2_domain1  domain1_score  \\\n",
       "0         1          1               4               4              8   \n",
       "1         2          1               5               4              9   \n",
       "2         3          1               4               3              7   \n",
       "4         5          1               4               4              8   \n",
       "9        10          1               5               4              9   \n",
       "\n",
       "                                        essays_embed  word_count  min_score  \\\n",
       "0  [[0.1285, 0.68849, 0.83504, -0.16483, -0.36831...         299        2.0   \n",
       "1  [[0.1285, 0.68849, 0.83504, -0.16483, -0.36831...         349        2.0   \n",
       "2  [[0.1285, 0.68849, 0.83504, -0.16483, -0.36831...         236        2.0   \n",
       "4  [[0.1285, 0.68849, 0.83504, -0.16483, -0.36831...         387        2.0   \n",
       "9  [[0.15637, -0.40361, -0.29629, -0.34259, -0.18...         419        2.0   \n",
       "\n",
       "   max_score  rater1_domain1_norm  rater2_domain1_norm  norm_score  \n",
       "0       12.0                    4                    4           8  \n",
       "1       12.0                    5                    4           9  \n",
       "2       12.0                    4                    3           7  \n",
       "4       12.0                    4                    4           8  \n",
       "9       12.0                    5                    4           9  "
      ]
     },
     "execution_count": 13,
     "metadata": {},
     "output_type": "execute_result"
    }
   ],
   "source": [
    "# We no longer need the raw text from each essay\n",
    "drop_labels =['essay']\n",
    "train_df.drop(columns=drop_labels, inplace=True)\n",
    "train_df.head()"
   ]
  },
  {
   "cell_type": "code",
   "execution_count": 14,
   "metadata": {},
   "outputs": [],
   "source": [
    "# Store the preprocessed data frame for later use\n",
    "train_df.to_pickle('./data/train_df.pkl')"
   ]
  },
  {
   "cell_type": "markdown",
   "metadata": {},
   "source": [
    "# Data vision exploratory"
   ]
  },
  {
   "cell_type": "code",
   "execution_count": 15,
   "metadata": {},
   "outputs": [],
   "source": [
    "#Dependencies\n",
    "import pandas as pd\n",
    "import seaborn as sns\n",
    "import matplotlib.pyplot as plt"
   ]
  },
  {
   "cell_type": "code",
   "execution_count": 16,
   "metadata": {},
   "outputs": [
    {
     "data": {
      "image/png": "[encoded data removed]",
      "text/plain": [
       "<Figure size 1152x288 with 2 Axes>"
      ]
     },
     "metadata": {
      "needs_background": "light"
     },
     "output_type": "display_data"
    }
   ],
   "source": [
    "#Distibution of the scores for rater1 and rater2 in the train set\n",
    "fig,ax = plt.subplots(1,2,figsize=(16,4),sharey=True)\n",
    "_ = sns.boxplot(x='essay_set',y='rater1_domain1_norm',data=train_df,ax=ax[0])\n",
    "_ = sns.boxplot(x='essay_set',y='rater2_domain1_norm',data=train_df,ax=ax[1])"
   ]
  },
  {
   "cell_type": "code",
   "execution_count": 17,
   "metadata": {},
   "outputs": [
    {
     "data": {
      "image/png": "[encoded data removed]",
      "text/plain": [
       "<Figure size 432x288 with 1 Axes>"
      ]
     },
     "metadata": {
      "needs_background": "light"
     },
     "output_type": "display_data"
    }
   ],
   "source": [
    "#Distribution of the final score (sum of both)\n",
    "_ = sns.boxplot(x='essay_set', y='norm_score', data = train_df)"
   ]
  },
  {
   "cell_type": "code",
   "execution_count": 18,
   "metadata": {},
   "outputs": [
    {
     "data": {
      "image/png": "[encoded data removed]",
      "text/plain": [
       "<Figure size 1152x288 with 2 Axes>"
      ]
     },
     "metadata": {
      "needs_background": "light"
     },
     "output_type": "display_data"
    }
   ],
   "source": [
    "#Distibution of the scores for rater1 and rater2 in the test set\n",
    "fig,ax = plt.subplots(1,2,figsize=(16,4),sharey=True)\n",
    "_ = sns.boxplot(x='essay_set',y='rater1_domain1_norm',data=test_df,ax=ax[0])\n",
    "_ = sns.boxplot(x='essay_set',y='rater2_domain1_norm',data=test_df,ax=ax[1])"
   ]
  },
  {
   "cell_type": "code",
   "execution_count": 19,
   "metadata": {},
   "outputs": [
    {
     "data": {
      "image/png": "[encoded data removed]",
      "text/plain": [
       "<Figure size 432x288 with 1 Axes>"
      ]
     },
     "metadata": {
      "needs_background": "light"
     },
     "output_type": "display_data"
    }
   ],
   "source": [
    "#Distribution of word count in the train set\n",
    "_ = sns.boxplot(x='essay_set', y='word_count', data=train_df)"
   ]
  },
  {
   "cell_type": "code",
   "execution_count": 20,
   "metadata": {},
   "outputs": [
    {
     "data": {
      "image/png": "[encoded data removed]",
      "text/plain": [
       "<Figure size 432x288 with 1 Axes>"
      ]
     },
     "metadata": {
      "needs_background": "light"
     },
     "output_type": "display_data"
    }
   ],
   "source": [
    "#Distribution of word count in the test set\n",
    "_ = sns.boxplot(x='essay_set', y='word_count', data=test_df)"
   ]
  },
  {
   "cell_type": "code",
   "execution_count": null,
   "metadata": {},
   "outputs": [],
   "source": []
  },
  {
   "cell_type": "code",
   "execution_count": null,
   "metadata": {},
   "outputs": [],
   "source": []
  },
  {
   "cell_type": "code",
   "execution_count": null,
   "metadata": {},
   "outputs": [],
   "source": []
  },
  {
   "cell_type": "code",
   "execution_count": null,
   "metadata": {},
   "outputs": [],
   "source": []
  },
  {
   "cell_type": "code",
   "execution_count": null,
   "metadata": {},
   "outputs": [],
   "source": []
  },
  {
   "cell_type": "code",
   "execution_count": null,
   "metadata": {},
   "outputs": [],
   "source": []
  },
  {
   "cell_type": "code",
   "execution_count": null,
   "metadata": {},
   "outputs": [],
   "source": []
  }
 ],
 "metadata": {
  "celltoolbar": "Raw Cell Format",
  "kernelspec": {
   "display_name": "Python 3",
   "language": "python",
   "name": "python3"
  },
  "language_info": {
   "codemirror_mode": {
    "name": "ipython",
    "version": 3
   },
   "file_extension": ".py",
   "mimetype": "text/x-python",
   "name": "python",
   "nbconvert_exporter": "python",
   "pygments_lexer": "ipython3",
   "version": "3.6.7"
  }
 },
 "nbformat": 4,
 "nbformat_minor": 1
}
