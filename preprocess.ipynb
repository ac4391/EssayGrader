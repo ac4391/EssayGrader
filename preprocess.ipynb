{
 "cells": [
  {
   "cell_type": "markdown",
   "metadata": {
    "collapsed": true
   },
   "source": [
    "This notebook is for the purpose of converting the essays in string form to word embedding vectorized form. This notebook makes use of the GLoVe word embeddings. More information about these word embeddings can be found here: https://nlp.stanford.edu/projects/glove/\n",
    "\n",
    "If you'd like to move directly to the Neural Network, you can skip this notebook completely and load the prepared data directly!\n",
    "\n",
    "If you would like to follow along with the preprocessing work, follow the link above and download the glove.6B.zip file to the \"data/\" directory of this project. Then uncompress the zip file to reveal directory named \"glove.6B/\" with 4 txt files inside. These are the four available word embeddings. You are now able to proceed with this notebook. "
   ]
  },
  {
   "cell_type": "code",
   "execution_count": 1,
   "metadata": {},
   "outputs": [],
   "source": [
    "from src.preprocess import get_data, vectorize_essays, pad_embedding, word_count\n",
    "%load_ext autoreload\n",
    "%autoreload 2"
   ]
  },
  {
   "cell_type": "code",
   "execution_count": 2,
   "metadata": {},
   "outputs": [],
   "source": [
    "# Import training data from tsv file and store in a pandas dataframe\n",
    "data_path = './data/training_set_rel3.tsv'\n",
    "essay_df = get_data(data_path)"
   ]
  },
  {
   "cell_type": "markdown",
   "metadata": {},
   "source": [
    "We can inspect the contents of the dataframe to understand what information is provided in the training set\n",
    "More EDA if we have time"
   ]
  },
  {
   "cell_type": "markdown",
   "metadata": {},
   "source": [
    "We'd like to drop some columns that are irrelevant to the neural network"
   ]
  },
  {
   "cell_type": "code",
   "execution_count": 3,
   "metadata": {},
   "outputs": [
    {
     "data": {
      "text/html": [
       "<div>\n",
       "<style scoped>\n",
       "    .dataframe tbody tr th:only-of-type {\n",
       "        vertical-align: middle;\n",
       "    }\n",
       "\n",
       "    .dataframe tbody tr th {\n",
       "        vertical-align: top;\n",
       "    }\n",
       "\n",
       "    .dataframe thead th {\n",
       "        text-align: right;\n",
       "    }\n",
       "</style>\n",
       "<table border=\"1\" class=\"dataframe\">\n",
       "  <thead>\n",
       "    <tr style=\"text-align: right;\">\n",
       "      <th></th>\n",
       "      <th>essay_id</th>\n",
       "      <th>essay_set</th>\n",
       "      <th>essay</th>\n",
       "      <th>domain1_score</th>\n",
       "    </tr>\n",
       "  </thead>\n",
       "  <tbody>\n",
       "    <tr>\n",
       "      <th>12971</th>\n",
       "      <td>21626</td>\n",
       "      <td>8</td>\n",
       "      <td>In most stories mothers and daughters are eit...</td>\n",
       "      <td>35</td>\n",
       "    </tr>\n",
       "    <tr>\n",
       "      <th>12972</th>\n",
       "      <td>21628</td>\n",
       "      <td>8</td>\n",
       "      <td>I never understood the meaning laughter is th...</td>\n",
       "      <td>32</td>\n",
       "    </tr>\n",
       "    <tr>\n",
       "      <th>12973</th>\n",
       "      <td>21629</td>\n",
       "      <td>8</td>\n",
       "      <td>When you laugh, is @CAPS5 out of habit, or is ...</td>\n",
       "      <td>40</td>\n",
       "    </tr>\n",
       "    <tr>\n",
       "      <th>12974</th>\n",
       "      <td>21630</td>\n",
       "      <td>8</td>\n",
       "      <td>Trippin' on fen...</td>\n",
       "      <td>40</td>\n",
       "    </tr>\n",
       "    <tr>\n",
       "      <th>12975</th>\n",
       "      <td>21633</td>\n",
       "      <td>8</td>\n",
       "      <td>Many people believe that laughter can improve...</td>\n",
       "      <td>40</td>\n",
       "    </tr>\n",
       "  </tbody>\n",
       "</table>\n",
       "</div>"
      ],
      "text/plain": [
       "       essay_id  essay_set                                              essay  \\\n",
       "12971     21626          8   In most stories mothers and daughters are eit...   \n",
       "12972     21628          8   I never understood the meaning laughter is th...   \n",
       "12973     21629          8  When you laugh, is @CAPS5 out of habit, or is ...   \n",
       "12974     21630          8                                 Trippin' on fen...   \n",
       "12975     21633          8   Many people believe that laughter can improve...   \n",
       "\n",
       "       domain1_score  \n",
       "12971             35  \n",
       "12972             32  \n",
       "12973             40  \n",
       "12974             40  \n",
       "12975             40  "
      ]
     },
     "execution_count": 3,
     "metadata": {},
     "output_type": "execute_result"
    }
   ],
   "source": [
    "drop_labels =['rater1_trait1', 'rater1_trait2', 'rater1_trait3', 'rater1_trait4', 'rater1_trait5', 'rater1_trait6',\\\n",
    "              'rater2_trait1', 'rater2_trait2', 'rater2_trait3', 'rater2_trait4', 'rater2_trait5', 'rater2_trait6',\\\n",
    "              'rater3_trait1', 'rater3_trait2', 'rater3_trait3', 'rater3_trait4', 'rater3_trait5', 'rater3_trait6',\\\n",
    "              'rater1_domain1', 'rater2_domain1', 'rater3_domain1', 'rater1_domain2', 'rater2_domain2', 'domain2_score']\n",
    "essay_df.drop(columns=drop_labels, inplace=True)\n",
    "essay_df.tail()"
   ]
  },
  {
   "cell_type": "markdown",
   "metadata": {},
   "source": [
    "The given dataset holds essays from 8 distinct \"essay sets\". In order to speed training time and reduce memory impact, we will only examine a subset of these essay sets. The rest of the essays can be discarded"
   ]
  },
  {
   "cell_type": "code",
   "execution_count": 4,
   "metadata": {},
   "outputs": [
    {
     "name": "stdout",
     "output_type": "stream",
     "text": [
      "Examining essays in sets [1 3 4 5 6]\n"
     ]
    }
   ],
   "source": [
    "sets = [1,3,4,5,6]\n",
    "essay_df = essay_df[essay_df['essay_set'].isin(sets)]\n",
    "\n",
    "print(\"Examining essays in sets {}\".format(essay_df.essay_set.unique()))"
   ]
  },
  {
   "cell_type": "code",
   "execution_count": 5,
   "metadata": {},
   "outputs": [
    {
     "name": "stdout",
     "output_type": "stream",
     "text": [
      "The total number of essays is 8884\n",
      "1000 Essays Vectorized\n",
      "2000 Essays Vectorized\n",
      "3000 Essays Vectorized\n",
      "4000 Essays Vectorized\n",
      "5000 Essays Vectorized\n",
      "6000 Essays Vectorized\n",
      "7000 Essays Vectorized\n",
      "8000 Essays Vectorized\n",
      "8884 Total Essays Vectorized!\n"
     ]
    }
   ],
   "source": [
    "essays = essay_df['essay'] # A list of essays as strings\n",
    "\n",
    "# Add a column to dataframe with essays as word embeddings\n",
    "essay_df['essays_embed'] = vectorize_essays(essays, embed_size=100, verbose=True)"
   ]
  },
  {
   "cell_type": "code",
   "execution_count": 6,
   "metadata": {},
   "outputs": [
    {
     "name": "stdout",
     "output_type": "stream",
     "text": [
      "*** Word Count Statistics ***\n",
      "\n",
      "****************************************\n",
      "Word count statistics for set 1: \n",
      "count    1783.000000\n",
      "mean      319.823331\n",
      "std       106.196183\n",
      "min        10.000000\n",
      "25%       249.000000\n",
      "50%       318.000000\n",
      "75%       385.000000\n",
      "max       732.000000\n",
      "Name: word_count, dtype: float64\n",
      "\n",
      "\n",
      "****************************************\n",
      "Word count statistics for set 3: \n",
      "count    1726.000000\n",
      "mean       91.243917\n",
      "std        45.958534\n",
      "min         6.000000\n",
      "25%        55.000000\n",
      "50%        84.000000\n",
      "75%       123.000000\n",
      "max       302.000000\n",
      "Name: word_count, dtype: float64\n",
      "\n",
      "\n",
      "****************************************\n",
      "Word count statistics for set 4: \n",
      "count    1770.000000\n",
      "mean       75.905085\n",
      "std        43.277093\n",
      "min         2.000000\n",
      "25%        42.000000\n",
      "50%        69.000000\n",
      "75%       103.000000\n",
      "max       313.000000\n",
      "Name: word_count, dtype: float64\n",
      "\n",
      "\n",
      "****************************************\n",
      "Word count statistics for set 5: \n",
      "count    1805.000000\n",
      "mean      103.087535\n",
      "std        50.154154\n",
      "min         3.000000\n",
      "25%        65.000000\n",
      "50%        99.000000\n",
      "75%       134.000000\n",
      "max       352.000000\n",
      "Name: word_count, dtype: float64\n",
      "\n",
      "\n",
      "****************************************\n",
      "Word count statistics for set 6: \n",
      "count    1800.000000\n",
      "mean      127.424444\n",
      "std        47.152513\n",
      "min         3.000000\n",
      "25%        97.000000\n",
      "50%       128.000000\n",
      "75%       157.000000\n",
      "max       376.000000\n",
      "Name: word_count, dtype: float64\n",
      "\n",
      "\n"
     ]
    }
   ],
   "source": [
    "essay_df['word_count'] = essay_df.apply(lambda row: word_count(row), axis=1)\n",
    "# Potentially add matplotlib visualization later\n",
    "print(\"*** Word Count Statistics ***\\n\")\n",
    "#word_count_stats = [None]*len(sets)\n",
    "for set in sets:\n",
    "    print('*'*40)\n",
    "    print(\"Word count statistics for set {}: \".format(set))\n",
    "    print(essay_df[essay_df['essay_set']==set]['word_count'].describe())\n",
    "    print('\\n')"
   ]
  },
  {
   "cell_type": "markdown",
   "metadata": {},
   "source": [
    "We would also like to remove some outliers for word count. Those essays with length greater than 600 words will be removed."
   ]
  },
  {
   "cell_type": "code",
   "execution_count": 7,
   "metadata": {},
   "outputs": [
    {
     "name": "stdout",
     "output_type": "stream",
     "text": [
      "count    8871.000000\n",
      "mean      143.059858\n",
      "std       108.228778\n",
      "min         2.000000\n",
      "25%        68.000000\n",
      "50%       113.000000\n",
      "75%       172.000000\n",
      "max       600.000000\n",
      "Name: word_count, dtype: float64\n"
     ]
    }
   ],
   "source": [
    "max_length = 600 # Maximum length for an essay\n",
    "essay_df = essay_df[essay_df['word_count']<=max_length]\n",
    "\n",
    "print(essay_df['word_count'].describe())"
   ]
  },
  {
   "cell_type": "markdown",
   "metadata": {},
   "source": [
    "Next we will pad each essay to the maximum length so that all essays have a uniform size of word embedding matrix"
   ]
  },
  {
   "cell_type": "code",
   "execution_count": 8,
   "metadata": {},
   "outputs": [],
   "source": [
    "essays_embed = essay_df['essays_embed']\n",
    "essay_df['essays_embed'] = pad_embedding(essays_embed,\\\n",
    "                                         max_length=max_length, right_pad=True)"
   ]
  },
  {
   "cell_type": "code",
   "execution_count": 10,
   "metadata": {},
   "outputs": [],
   "source": [
    "essay_df.dropna(subset=['essays_embed'], inplace=True)"
   ]
  },
  {
   "cell_type": "code",
   "execution_count": 11,
   "metadata": {},
   "outputs": [],
   "source": [
    "# Add max score for each set\n",
    "score_ranges = [(0,0), (2,12), (0,0), (0,3), (0,4), (0,4), (0,4)]\n",
    "\n",
    "for idx in essay_df.index:\n",
    "    essay_df.loc[idx,'max_score']=score_ranges[essay_df.loc[idx,'essay_set']][1]"
   ]
  },
  {
   "cell_type": "code",
   "execution_count": 12,
   "metadata": {},
   "outputs": [],
   "source": [
    "maximum_score = 12\n",
    "for idx in essay_df.index:\n",
    "    essay_df.loc[idx,'norm_score']=essay_df.loc[idx,'domain1_score']*maximum_score/essay_df.loc[idx,'max_score']"
   ]
  },
  {
   "cell_type": "code",
   "execution_count": 13,
   "metadata": {},
   "outputs": [
    {
     "data": {
      "text/html": [
       "<div>\n",
       "<style scoped>\n",
       "    .dataframe tbody tr th:only-of-type {\n",
       "        vertical-align: middle;\n",
       "    }\n",
       "\n",
       "    .dataframe tbody tr th {\n",
       "        vertical-align: top;\n",
       "    }\n",
       "\n",
       "    .dataframe thead th {\n",
       "        text-align: right;\n",
       "    }\n",
       "</style>\n",
       "<table border=\"1\" class=\"dataframe\">\n",
       "  <thead>\n",
       "    <tr style=\"text-align: right;\">\n",
       "      <th></th>\n",
       "      <th>essay_id</th>\n",
       "      <th>essay_set</th>\n",
       "      <th>essay</th>\n",
       "      <th>domain1_score</th>\n",
       "      <th>essays_embed</th>\n",
       "      <th>word_count</th>\n",
       "      <th>max_score</th>\n",
       "      <th>norm_score</th>\n",
       "    </tr>\n",
       "  </thead>\n",
       "  <tbody>\n",
       "    <tr>\n",
       "      <th>7079</th>\n",
       "      <td>11827</td>\n",
       "      <td>5</td>\n",
       "      <td>In this memoir of Narciso Rodriguez, @PERSON3'...</td>\n",
       "      <td>2</td>\n",
       "      <td>[[-0.57058, 0.44183, 0.70102, -0.41713, -0.340...</td>\n",
       "      <td>133</td>\n",
       "      <td>4.0</td>\n",
       "      <td>6.0</td>\n",
       "    </tr>\n",
       "    <tr>\n",
       "      <th>7080</th>\n",
       "      <td>11828</td>\n",
       "      <td>5</td>\n",
       "      <td>Throughout the excerpt from Home the Blueprint...</td>\n",
       "      <td>2</td>\n",
       "      <td>[[-0.40822, 0.32473, -0.18726, 0.33417, 0.7855...</td>\n",
       "      <td>143</td>\n",
       "      <td>4.0</td>\n",
       "      <td>6.0</td>\n",
       "    </tr>\n",
       "    <tr>\n",
       "      <th>7081</th>\n",
       "      <td>11829</td>\n",
       "      <td>5</td>\n",
       "      <td>The mood the author created in the memoir is l...</td>\n",
       "      <td>3</td>\n",
       "      <td>[[-0.39713, -0.22052, 0.82328, -0.14376, -0.67...</td>\n",
       "      <td>91</td>\n",
       "      <td>4.0</td>\n",
       "      <td>9.0</td>\n",
       "    </tr>\n",
       "    <tr>\n",
       "      <th>7082</th>\n",
       "      <td>11830</td>\n",
       "      <td>5</td>\n",
       "      <td>The mood created by the author is showing how ...</td>\n",
       "      <td>1</td>\n",
       "      <td>[[-0.39713, -0.22052, 0.82328, -0.14376, -0.67...</td>\n",
       "      <td>57</td>\n",
       "      <td>4.0</td>\n",
       "      <td>3.0</td>\n",
       "    </tr>\n",
       "    <tr>\n",
       "      <th>7083</th>\n",
       "      <td>11831</td>\n",
       "      <td>5</td>\n",
       "      <td>The mood created in the memoir is happiness an...</td>\n",
       "      <td>3</td>\n",
       "      <td>[[-0.39713, -0.22052, 0.82328, -0.14376, -0.67...</td>\n",
       "      <td>108</td>\n",
       "      <td>4.0</td>\n",
       "      <td>9.0</td>\n",
       "    </tr>\n",
       "  </tbody>\n",
       "</table>\n",
       "</div>"
      ],
      "text/plain": [
       "      essay_id  essay_set                                              essay  \\\n",
       "7079     11827          5  In this memoir of Narciso Rodriguez, @PERSON3'...   \n",
       "7080     11828          5  Throughout the excerpt from Home the Blueprint...   \n",
       "7081     11829          5  The mood the author created in the memoir is l...   \n",
       "7082     11830          5  The mood created by the author is showing how ...   \n",
       "7083     11831          5  The mood created in the memoir is happiness an...   \n",
       "\n",
       "      domain1_score                                       essays_embed  \\\n",
       "7079              2  [[-0.57058, 0.44183, 0.70102, -0.41713, -0.340...   \n",
       "7080              2  [[-0.40822, 0.32473, -0.18726, 0.33417, 0.7855...   \n",
       "7081              3  [[-0.39713, -0.22052, 0.82328, -0.14376, -0.67...   \n",
       "7082              1  [[-0.39713, -0.22052, 0.82328, -0.14376, -0.67...   \n",
       "7083              3  [[-0.39713, -0.22052, 0.82328, -0.14376, -0.67...   \n",
       "\n",
       "      word_count  max_score  norm_score  \n",
       "7079         133        4.0         6.0  \n",
       "7080         143        4.0         6.0  \n",
       "7081          91        4.0         9.0  \n",
       "7082          57        4.0         3.0  \n",
       "7083         108        4.0         9.0  "
      ]
     },
     "execution_count": 13,
     "metadata": {},
     "output_type": "execute_result"
    }
   ],
   "source": [
    "essay_df[essay_df['essay_set']==5].head()"
   ]
  },
  {
   "cell_type": "code",
   "execution_count": 14,
   "metadata": {},
   "outputs": [],
   "source": [
    "# Store the preprocessed data frame for later use\n",
    "essay_df.to_pickle('./data/essay_df.pkl')"
   ]
  },
  {
   "cell_type": "code",
   "execution_count": null,
   "metadata": {},
   "outputs": [],
   "source": []
  }
 ],
 "metadata": {
  "kernelspec": {
   "display_name": "Python 3",
   "language": "python",
   "name": "python3"
  },
  "language_info": {
   "codemirror_mode": {
    "name": "ipython",
    "version": 3
   },
   "file_extension": ".py",
   "mimetype": "text/x-python",
   "name": "python",
   "nbconvert_exporter": "python",
   "pygments_lexer": "ipython3",
   "version": "3.6.7"
  }
 },
 "nbformat": 4,
 "nbformat_minor": 1
}
