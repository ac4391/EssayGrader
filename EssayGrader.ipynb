{
 "cells": [
  {
   "cell_type": "markdown",
   "metadata": {},
   "source": [
    "# MLP:\n",
    "The first half of this notebook may be used to train an MLP"
   ]
  },
  {
   "cell_type": "code",
   "execution_count": 1,
   "metadata": {},
   "outputs": [],
   "source": [
    "import pandas as pd\n",
    "import numpy as np\n",
    "import matplotlib.pyplot as plt\n",
    "from src.utils import get_batches, shuffle, train_val_split, preds_to_scores, scores_to_preds\n",
    "from src.mlp import MLP\n",
    "from src.rnn import RNN\n",
    "\n",
    "%load_ext autoreload\n",
    "%autoreload 2"
   ]
  },
  {
   "cell_type": "code",
   "execution_count": 2,
   "metadata": {},
   "outputs": [],
   "source": [
    "# Define the path to the data. This is the training dataframe saved from the preprocessing notebook.\n",
    "data_path = './data/train_df.pkl'\n",
    "train_df = pd.read_pickle(data_path)"
   ]
  },
  {
   "cell_type": "code",
   "execution_count": 35,
   "metadata": {},
   "outputs": [
    {
     "data": {
      "text/html": [
       "<div>\n",
       "<style scoped>\n",
       "    .dataframe tbody tr th:only-of-type {\n",
       "        vertical-align: middle;\n",
       "    }\n",
       "\n",
       "    .dataframe tbody tr th {\n",
       "        vertical-align: top;\n",
       "    }\n",
       "\n",
       "    .dataframe thead th {\n",
       "        text-align: right;\n",
       "    }\n",
       "</style>\n",
       "<table border=\"1\" class=\"dataframe\">\n",
       "  <thead>\n",
       "    <tr style=\"text-align: right;\">\n",
       "      <th></th>\n",
       "      <th>essay_id</th>\n",
       "      <th>essay_set</th>\n",
       "      <th>rater1_domain1</th>\n",
       "      <th>rater2_domain1</th>\n",
       "      <th>domain1_score</th>\n",
       "      <th>essays_embed</th>\n",
       "      <th>word_count</th>\n",
       "      <th>min_score</th>\n",
       "      <th>max_score</th>\n",
       "      <th>norm_score</th>\n",
       "    </tr>\n",
       "  </thead>\n",
       "  <tbody>\n",
       "    <tr>\n",
       "      <th>5309</th>\n",
       "      <td>8863</td>\n",
       "      <td>4</td>\n",
       "      <td>0</td>\n",
       "      <td>0</td>\n",
       "      <td>0</td>\n",
       "      <td>[[-0.46765, 0.46369, 0.21761, -0.63619, 0.2019...</td>\n",
       "      <td>43</td>\n",
       "      <td>0.0</td>\n",
       "      <td>4.0</td>\n",
       "      <td>0</td>\n",
       "    </tr>\n",
       "    <tr>\n",
       "      <th>5310</th>\n",
       "      <td>8864</td>\n",
       "      <td>4</td>\n",
       "      <td>0</td>\n",
       "      <td>0</td>\n",
       "      <td>0</td>\n",
       "      <td>[[0.15637, -0.40361, -0.29629, -0.34259, -0.18...</td>\n",
       "      <td>28</td>\n",
       "      <td>0.0</td>\n",
       "      <td>4.0</td>\n",
       "      <td>0</td>\n",
       "    </tr>\n",
       "    <tr>\n",
       "      <th>5311</th>\n",
       "      <td>8865</td>\n",
       "      <td>4</td>\n",
       "      <td>3</td>\n",
       "      <td>2</td>\n",
       "      <td>3</td>\n",
       "      <td>[[-0.46765, 0.46369, 0.21761, -0.63619, 0.2019...</td>\n",
       "      <td>111</td>\n",
       "      <td>0.0</td>\n",
       "      <td>4.0</td>\n",
       "      <td>9</td>\n",
       "    </tr>\n",
       "    <tr>\n",
       "      <th>5312</th>\n",
       "      <td>8866</td>\n",
       "      <td>4</td>\n",
       "      <td>1</td>\n",
       "      <td>2</td>\n",
       "      <td>2</td>\n",
       "      <td>[[-0.46765, 0.46369, 0.21761, -0.63619, 0.2019...</td>\n",
       "      <td>52</td>\n",
       "      <td>0.0</td>\n",
       "      <td>4.0</td>\n",
       "      <td>6</td>\n",
       "    </tr>\n",
       "    <tr>\n",
       "      <th>5313</th>\n",
       "      <td>8867</td>\n",
       "      <td>4</td>\n",
       "      <td>2</td>\n",
       "      <td>2</td>\n",
       "      <td>2</td>\n",
       "      <td>[[-0.46765, 0.46369, 0.21761, -0.63619, 0.2019...</td>\n",
       "      <td>104</td>\n",
       "      <td>0.0</td>\n",
       "      <td>4.0</td>\n",
       "      <td>6</td>\n",
       "    </tr>\n",
       "  </tbody>\n",
       "</table>\n",
       "</div>"
      ],
      "text/plain": [
       "<div>\n",
       "<style scoped>\n",
       "    .dataframe tbody tr th:only-of-type {\n",
       "        vertical-align: middle;\n",
       "    }\n",
       "\n",
       "    .dataframe tbody tr th {\n",
       "        vertical-align: top;\n",
       "    }\n",
       "\n",
       "    .dataframe thead th {\n",
       "        text-align: right;\n",
       "    }\n",
       "</style>\n",
       "<table border=\"1\" class=\"dataframe\">\n",
       "  <thead>\n",
       "    <tr style=\"text-align: right;\">\n",
       "      <th></th>\n",
       "      <th>essay_id</th>\n",
       "      <th>essay_set</th>\n",
       "      <th>rater1_domain1</th>\n",
       "      <th>rater2_domain1</th>\n",
       "      <th>domain1_score</th>\n",
       "      <th>essays_embed</th>\n",
       "      <th>word_count</th>\n",
       "      <th>min_score</th>\n",
       "      <th>max_score</th>\n",
       "      <th>norm_score</th>\n",
       "    </tr>\n",
       "  </thead>\n",
       "  <tbody>\n",
       "    <tr>\n",
       "      <th>5309</th>\n",
       "      <td>8863</td>\n",
       "      <td>4</td>\n",
       "      <td>0</td>\n",
       "      <td>0</td>\n",
       "      <td>0</td>\n",
       "      <td>[[-0.46765, 0.46369, 0.21761, -0.63619, 0.2019...</td>\n",
       "      <td>43</td>\n",
       "      <td>0.0</td>\n",
       "      <td>4.0</td>\n",
       "      <td>0</td>\n",
       "    </tr>\n",
       "    <tr>\n",
       "      <th>5310</th>\n",
       "      <td>8864</td>\n",
       "      <td>4</td>\n",
       "      <td>0</td>\n",
       "      <td>0</td>\n",
       "      <td>0</td>\n",
       "      <td>[[0.15637, -0.40361, -0.29629, -0.34259, -0.18...</td>\n",
       "      <td>28</td>\n",
       "      <td>0.0</td>\n",
       "      <td>4.0</td>\n",
       "      <td>0</td>\n",
       "    </tr>\n",
       "    <tr>\n",
       "      <th>5311</th>\n",
       "      <td>8865</td>\n",
       "      <td>4</td>\n",
       "      <td>3</td>\n",
       "      <td>2</td>\n",
       "      <td>3</td>\n",
       "      <td>[[-0.46765, 0.46369, 0.21761, -0.63619, 0.2019...</td>\n",
       "      <td>111</td>\n",
       "      <td>0.0</td>\n",
       "      <td>4.0</td>\n",
       "      <td>9</td>\n",
       "    </tr>\n",
       "    <tr>\n",
       "      <th>5312</th>\n",
       "      <td>8866</td>\n",
       "      <td>4</td>\n",
       "      <td>1</td>\n",
       "      <td>2</td>\n",
       "      <td>2</td>\n",
       "      <td>[[-0.46765, 0.46369, 0.21761, -0.63619, 0.2019...</td>\n",
       "      <td>52</td>\n",
       "      <td>0.0</td>\n",
       "      <td>4.0</td>\n",
       "      <td>6</td>\n",
       "    </tr>\n",
       "    <tr>\n",
       "      <th>5313</th>\n",
       "      <td>8867</td>\n",
       "      <td>4</td>\n",
       "      <td>2</td>\n",
       "      <td>2</td>\n",
       "      <td>2</td>\n",
       "      <td>[[-0.46765, 0.46369, 0.21761, -0.63619, 0.2019...</td>\n",
       "      <td>104</td>\n",
       "      <td>0.0</td>\n",
       "      <td>4.0</td>\n",
       "      <td>6</td>\n",
       "    </tr>\n",
       "  </tbody>\n",
       "</table>\n",
       "</div>"
      ]
     },
     "execution_count": 35,
     "metadata": {},
     "output_type": "execute_result"
    }
   ],
   "source": [
    "# To further isolate our data, we will only examine essays from a single set\n",
    "# Feel free to experiment with different essay sets!\n",
    "\n",
    "set = 4\n",
    "df = train_df.loc[train_df['essay_set'] == set]\n",
    "df.head()"
   ]
  },
  {
   "cell_type": "code",
   "execution_count": 36,
   "metadata": {},
   "outputs": [],
   "source": [
    "# We should get a plot here to examine score distribution for this set\n",
    "\n",
    "# In order to avoid bias toward more common scores, we will limit the number\n",
    "# of essays from each scoring bucket to a set value\n",
    "score_df = None\n",
    "min_score = int(df['min_score'].min())\n",
    "max_score = int(df['max_score'].max())\n",
    "\n",
    "n_max = 100\n",
    "for i in range(min_score,max_score+1):\n",
    "    if score_df is None:\n",
    "        score_df = df.loc[df['domain1_score'] == i][:n_max]\n",
    "    else:\n",
    "        temp_df = df.loc[df['domain1_score'] == i][:n_max]\n",
    "        score_df = pd.concat([score_df, temp_df])\n",
    "df = score_df"
   ]
  },
  {
   "cell_type": "code",
   "execution_count": 37,
   "metadata": {},
   "outputs": [
    {
     "name": "stdout",
     "output_type": "stream",
     "text": [
      "There are 369 training essays, each of shape 120 x 200\n"
     ]
    }
   ],
   "source": [
    "# Extract essay vectors and corresponding scores\n",
    "X = np.array(df['essays_embed'])\n",
    "y = np.array(df['domain1_score'])\n",
    "X = np.stack(X, axis=0)\n",
    "print('There are {} training essays, each of shape {} x {}'.format(X.shape[0], X.shape[1], X.shape[2]))"
   ]
  },
  {
   "cell_type": "markdown",
   "metadata": {},
   "source": [
    "These essays are the wrong shape to feed directly into the MLP. Therefore, each essay matrix needs to be flattened into a 1-D vector."
   ]
  },
  {
   "cell_type": "code",
   "execution_count": 38,
   "metadata": {},
   "outputs": [
    {
     "name": "stdout",
     "output_type": "stream",
     "text": [
      "There are 369 training essays, each a vector of length 24000\n"
     ]
    }
   ],
   "source": [
    "X_flatten = np.reshape(X, [X.shape[0], -1])\n",
    "print('There are {} training essays, each a vector of length {}'.format(X_flatten.shape[0], X_flatten.shape[1]))"
   ]
  },
  {
   "cell_type": "markdown",
   "metadata": {},
   "source": [
    "The next step is to shuffle the data and separate it into training and validation sets."
   ]
  },
  {
   "cell_type": "code",
   "execution_count": 39,
   "metadata": {},
   "outputs": [],
   "source": [
    "X, y = shuffle(X_flatten, y)\n",
    "\n",
    "X_train, y_train, X_val, y_val = train_val_split(X, y, train_prop=0.85)"
   ]
  },
  {
   "cell_type": "markdown",
   "metadata": {},
   "source": [
    "Here we need to transform the labels to the form that the network will predict. For example, in set 1, the essays are graded on a scale from 2-12, therefore there are 11 classes into which the network will try to classify each essay. However, the network will classify essays into the scale 0-10. Therefore, this step will perform this shift on the labels. If the scoring range already starts at 0, no shift is performed."
   ]
  },
  {
   "cell_type": "code",
   "execution_count": 56,
   "metadata": {},
   "outputs": [
    {
     "name": "stdout",
     "output_type": "stream",
     "text": [
      "No score adjustment necessary\n"
     ]
    }
   ],
   "source": [
    "if min_score != 0:\n",
    "    y_train_adj = scores_to_preds(y_train, min_score)\n",
    "    print('Training labels shifted from a scale of ({},{}) to ({},{})'\\\n",
    "          .format(min(y_train),max(y_train), min(y_train_adj), max(y_train_adj)))\n",
    "    y_val_adj = scores_to_preds(y_val, min_score)\n",
    "    print('Validation labels shifted from a scale of ({},{}) to ({},{})'\\\n",
    "          .format(min(y_val),max(y_val), min(y_val_adj), max(y_val_adj)))\n",
    "else:\n",
    "    print('No score adjustment necessary')\n",
    "    y_train_adj = y_train\n",
    "    y_val_adj = y_val"
   ]
  },
  {
   "cell_type": "markdown",
   "metadata": {},
   "source": [
    "Enter the name of the model you're training here. The model will be saved to the 'model/' directory of this project. Then choose other parameters such as learning rate, number of training epochs, l2 regularization, dropout probability, and regression vs classification. All other parameters are derived and do not need to be set manually."
   ]
  },
  {
   "cell_type": "code",
   "execution_count": 41,
   "metadata": {},
   "outputs": [],
   "source": [
    "# User Defined Parameters\n",
    "model_name = 'mlp_set1'\n",
    "hidden_dims = [100,30]\n",
    "weight_scale = 1e-2\n",
    "batch_size = 16\n",
    "n_epochs = 5\n",
    "l2_reg = 1e-4\n",
    "keep_prob = 0.8\n",
    "reg = True\n",
    "lr = 1e-3\n",
    "\n",
    "# Derived Parameters\n",
    "input_dim = X_train.shape[1]\n",
    "num_classes = max_score-min_score + 1\n",
    "n_batches = round(X_train.shape[0]/batch_size)\n",
    "batch_gen = get_batches(X_train, y_train_adj, batch_size, net_type='mlp')\n",
    "\n",
    "mlp_net = MLP(input_dim=input_dim, hidden_dims=hidden_dims, num_classes=num_classes, weight_scale=weight_scale,\\\n",
    "              l2_reg=l2_reg, keep_prob=keep_prob, regression=reg)"
   ]
  },
  {
   "cell_type": "code",
   "execution_count": 42,
   "metadata": {
    "collapsed": true
   },
   "outputs": [
    {
     "name": "stdout",
     "output_type": "stream",
     "text": [
      "Epoch 1, Batch 1 -- Loss: 2.047 Validation accuracy: 0.200\nSample Grade Predictions: \nPreds:   0 0 0 0 1 0 0 0 1 0 0 1 1 0 1 1 1 0 0 0\nActual:  2 2 2 0 3 0 2 2 2 1 1 2 2 0 0 2 3 1 2 2\nBest validation accuracy! - Saving Model\n"
     ]
    },
    {
     "name": "stdout",
     "output_type": "stream",
     "text": [
      "Epoch 2, Batch 1 -- Loss: 1.128 Validation accuracy: 0.182\nSample Grade Predictions: \nPreds:   1 1 1 1 1 1 1 1 1 1 1 1 1 1 1 1 1 0 1 1\nActual:  2 2 2 0 3 0 2 2 2 1 1 2 2 0 0 2 3 1 2 2\n"
     ]
    },
    {
     "name": "stdout",
     "output_type": "stream",
     "text": [
      "Epoch 3, Batch 1 -- Loss: 1.108 Validation accuracy: 0.200\nSample Grade Predictions: \nPreds:   1 1 1 1 1 1 1 1 1 1 1 1 1 1 1 1 1 0 1 1\nActual:  2 2 2 0 3 0 2 2 2 1 1 2 2 0 0 2 3 1 2 2\n"
     ]
    },
    {
     "name": "stdout",
     "output_type": "stream",
     "text": [
      "Epoch 4, Batch 1 -- Loss: 2.245 Validation accuracy: 0.200\nSample Grade Predictions: \nPreds:   1 1 1 1 1 1 1 1 1 1 1 1 1 1 1 1 1 0 1 1\nActual:  2 2 2 0 3 0 2 2 2 1 1 2 2 0 0 2 3 1 2 2\n"
     ]
    },
    {
     "name": "stdout",
     "output_type": "stream",
     "text": [
      "Epoch 5, Batch 1 -- Loss: 1.041 Validation accuracy: 0.236\nSample Grade Predictions: \nPreds:   2 1 1 1 1 1 2 1 1 1 2 1 2 2 1 1 2 1 2 1\nActual:  2 2 2 0 3 0 2 2 2 1 1 2 2 0 0 2 3 1 2 2\nBest validation accuracy! - Saving Model\n"
     ]
    },
    {
     "name": "stdout",
     "output_type": "stream",
     "text": [
      "Best validation accuracy over the training period was: 0.23636363446712494%\n"
     ]
    }
   ],
   "source": [
    "train_loss_hist, val_loss_hist = mlp_net.train(gen=batch_gen, X_val=X_val, y_val=y_val_adj, n_epochs=n_epochs, n_batches=n_batches, lr=lr,\\\n",
    "                                               save_every_n=5, model_name=model_name)"
   ]
  },
  {
   "cell_type": "code",
   "execution_count": 43,
   "metadata": {},
   "outputs": [],
   "source": [
    "# Extract Loss data for plotting\n",
    "x = []\n",
    "train_loss = []\n",
    "val_loss = []\n",
    "for k,v in train_loss_hist.items():\n",
    "    x.append(k[0]-1+k[1]/n_batches)\n",
    "    train_loss.append(v)\n",
    "    val_loss.append(val_loss_hist[k])"
   ]
  },
  {
   "cell_type": "code",
   "execution_count": 44,
   "metadata": {},
   "outputs": [
    {
     "data": {
      "image/png": "[encoded data removed]",
      "text/plain": [
       "<Figure size 432x288 with 1 Axes>"
      ]
     },
     "metadata": {},
     "output_type": "display_data"
    }
   ],
   "source": [
    "fig, ax = plt.subplots()\n",
    "ax.plot(x, train_loss, 'k--', label='Train Loss')\n",
    "ax.plot(x, val_loss, 'k:', label='Validation Loss')\n",
    "\n",
    "legend = ax.legend(loc='lower left', shadow=False, fontsize='large')\n",
    "legend.get_frame().set_facecolor('C0')\n",
    "plt.title('Training and Validation Loss for model: '+model_name)\n",
    "plt.xlabel('Epochs')\n",
    "plt.ylabel('Loss')\n",
    "plt.show()"
   ]
  },
  {
   "cell_type": "code",
   "execution_count": 48,
   "metadata": {},
   "outputs": [
    {
     "name": "stdout",
     "output_type": "stream",
     "text": [
      "INFO:tensorflow:Restoring parameters from ./model/mlp_set1\n"
     ]
    }
   ],
   "source": [
    "preds = mlp_net.predict('./model/'+model_name, X_val)\n",
    "\n",
    "# We need to map predictions from classes in the model to actual scores\n",
    "preds = preds_to_scores(preds, min_score=min_score)"
   ]
  },
  {
   "cell_type": "code",
   "execution_count": 49,
   "metadata": {},
   "outputs": [
    {
     "data": {
      "text/plain": [
       "0.16105877074921493"
      ]
     },
     "execution_count": 49,
     "metadata": {},
     "output_type": "execute_result"
    }
   ],
   "source": [
    "from src.preprocess import quadratic_weighted_kappa\n",
    "\n",
    "quadratic_weighted_kappa(y_val, preds)"
   ]
  },
  {
   "cell_type": "markdown",
   "metadata": {},
   "source": [
    "# RNN:\n",
    "The second half of this notebook may be used for training an RNN - specifically an LSTM or GRU"
   ]
  },
  {
   "cell_type": "code",
   "execution_count": 58,
   "metadata": {},
   "outputs": [
    {
     "data": {
      "text/html": [
       "<div>\n",
       "<style scoped>\n",
       "    .dataframe tbody tr th:only-of-type {\n",
       "        vertical-align: middle;\n",
       "    }\n",
       "\n",
       "    .dataframe tbody tr th {\n",
       "        vertical-align: top;\n",
       "    }\n",
       "\n",
       "    .dataframe thead th {\n",
       "        text-align: right;\n",
       "    }\n",
       "</style>\n",
       "<table border=\"1\" class=\"dataframe\">\n",
       "  <thead>\n",
       "    <tr style=\"text-align: right;\">\n",
       "      <th></th>\n",
       "      <th>essay_id</th>\n",
       "      <th>essay_set</th>\n",
       "      <th>rater1_domain1</th>\n",
       "      <th>rater2_domain1</th>\n",
       "      <th>domain1_score</th>\n",
       "      <th>essays_embed</th>\n",
       "      <th>word_count</th>\n",
       "      <th>min_score</th>\n",
       "      <th>max_score</th>\n",
       "      <th>norm_score</th>\n",
       "    </tr>\n",
       "  </thead>\n",
       "  <tbody>\n",
       "    <tr>\n",
       "      <th>5309</th>\n",
       "      <td>8863</td>\n",
       "      <td>4</td>\n",
       "      <td>0</td>\n",
       "      <td>0</td>\n",
       "      <td>0</td>\n",
       "      <td>[[-0.46765, 0.46369, 0.21761, -0.63619, 0.2019...</td>\n",
       "      <td>43</td>\n",
       "      <td>0.0</td>\n",
       "      <td>4.0</td>\n",
       "      <td>0</td>\n",
       "    </tr>\n",
       "    <tr>\n",
       "      <th>5310</th>\n",
       "      <td>8864</td>\n",
       "      <td>4</td>\n",
       "      <td>0</td>\n",
       "      <td>0</td>\n",
       "      <td>0</td>\n",
       "      <td>[[0.15637, -0.40361, -0.29629, -0.34259, -0.18...</td>\n",
       "      <td>28</td>\n",
       "      <td>0.0</td>\n",
       "      <td>4.0</td>\n",
       "      <td>0</td>\n",
       "    </tr>\n",
       "    <tr>\n",
       "      <th>5311</th>\n",
       "      <td>8865</td>\n",
       "      <td>4</td>\n",
       "      <td>3</td>\n",
       "      <td>2</td>\n",
       "      <td>3</td>\n",
       "      <td>[[-0.46765, 0.46369, 0.21761, -0.63619, 0.2019...</td>\n",
       "      <td>111</td>\n",
       "      <td>0.0</td>\n",
       "      <td>4.0</td>\n",
       "      <td>9</td>\n",
       "    </tr>\n",
       "    <tr>\n",
       "      <th>5312</th>\n",
       "      <td>8866</td>\n",
       "      <td>4</td>\n",
       "      <td>1</td>\n",
       "      <td>2</td>\n",
       "      <td>2</td>\n",
       "      <td>[[-0.46765, 0.46369, 0.21761, -0.63619, 0.2019...</td>\n",
       "      <td>52</td>\n",
       "      <td>0.0</td>\n",
       "      <td>4.0</td>\n",
       "      <td>6</td>\n",
       "    </tr>\n",
       "    <tr>\n",
       "      <th>5313</th>\n",
       "      <td>8867</td>\n",
       "      <td>4</td>\n",
       "      <td>2</td>\n",
       "      <td>2</td>\n",
       "      <td>2</td>\n",
       "      <td>[[-0.46765, 0.46369, 0.21761, -0.63619, 0.2019...</td>\n",
       "      <td>104</td>\n",
       "      <td>0.0</td>\n",
       "      <td>4.0</td>\n",
       "      <td>6</td>\n",
       "    </tr>\n",
       "  </tbody>\n",
       "</table>\n",
       "</div>"
      ],
      "text/plain": [
       "<div>\n",
       "<style scoped>\n",
       "    .dataframe tbody tr th:only-of-type {\n",
       "        vertical-align: middle;\n",
       "    }\n",
       "\n",
       "    .dataframe tbody tr th {\n",
       "        vertical-align: top;\n",
       "    }\n",
       "\n",
       "    .dataframe thead th {\n",
       "        text-align: right;\n",
       "    }\n",
       "</style>\n",
       "<table border=\"1\" class=\"dataframe\">\n",
       "  <thead>\n",
       "    <tr style=\"text-align: right;\">\n",
       "      <th></th>\n",
       "      <th>essay_id</th>\n",
       "      <th>essay_set</th>\n",
       "      <th>rater1_domain1</th>\n",
       "      <th>rater2_domain1</th>\n",
       "      <th>domain1_score</th>\n",
       "      <th>essays_embed</th>\n",
       "      <th>word_count</th>\n",
       "      <th>min_score</th>\n",
       "      <th>max_score</th>\n",
       "      <th>norm_score</th>\n",
       "    </tr>\n",
       "  </thead>\n",
       "  <tbody>\n",
       "    <tr>\n",
       "      <th>5309</th>\n",
       "      <td>8863</td>\n",
       "      <td>4</td>\n",
       "      <td>0</td>\n",
       "      <td>0</td>\n",
       "      <td>0</td>\n",
       "      <td>[[-0.46765, 0.46369, 0.21761, -0.63619, 0.2019...</td>\n",
       "      <td>43</td>\n",
       "      <td>0.0</td>\n",
       "      <td>4.0</td>\n",
       "      <td>0</td>\n",
       "    </tr>\n",
       "    <tr>\n",
       "      <th>5310</th>\n",
       "      <td>8864</td>\n",
       "      <td>4</td>\n",
       "      <td>0</td>\n",
       "      <td>0</td>\n",
       "      <td>0</td>\n",
       "      <td>[[0.15637, -0.40361, -0.29629, -0.34259, -0.18...</td>\n",
       "      <td>28</td>\n",
       "      <td>0.0</td>\n",
       "      <td>4.0</td>\n",
       "      <td>0</td>\n",
       "    </tr>\n",
       "    <tr>\n",
       "      <th>5311</th>\n",
       "      <td>8865</td>\n",
       "      <td>4</td>\n",
       "      <td>3</td>\n",
       "      <td>2</td>\n",
       "      <td>3</td>\n",
       "      <td>[[-0.46765, 0.46369, 0.21761, -0.63619, 0.2019...</td>\n",
       "      <td>111</td>\n",
       "      <td>0.0</td>\n",
       "      <td>4.0</td>\n",
       "      <td>9</td>\n",
       "    </tr>\n",
       "    <tr>\n",
       "      <th>5312</th>\n",
       "      <td>8866</td>\n",
       "      <td>4</td>\n",
       "      <td>1</td>\n",
       "      <td>2</td>\n",
       "      <td>2</td>\n",
       "      <td>[[-0.46765, 0.46369, 0.21761, -0.63619, 0.2019...</td>\n",
       "      <td>52</td>\n",
       "      <td>0.0</td>\n",
       "      <td>4.0</td>\n",
       "      <td>6</td>\n",
       "    </tr>\n",
       "    <tr>\n",
       "      <th>5313</th>\n",
       "      <td>8867</td>\n",
       "      <td>4</td>\n",
       "      <td>2</td>\n",
       "      <td>2</td>\n",
       "      <td>2</td>\n",
       "      <td>[[-0.46765, 0.46369, 0.21761, -0.63619, 0.2019...</td>\n",
       "      <td>104</td>\n",
       "      <td>0.0</td>\n",
       "      <td>4.0</td>\n",
       "      <td>6</td>\n",
       "    </tr>\n",
       "  </tbody>\n",
       "</table>\n",
       "</div>"
      ]
     },
     "execution_count": 58,
     "metadata": {},
     "output_type": "execute_result"
    }
   ],
   "source": [
    "# Define the path to the data\n",
    "data_path = './data/train_df.pkl'\n",
    "train_df = pd.read_pickle(data_path)\n",
    "\n",
    "# To further isolate our data, we will only examine essays from a single set\n",
    "# Feel free to experiment with different essay sets!\n",
    "set = 4\n",
    "df = train_df.loc[train_df['essay_set'] == set]\n",
    "df.head()"
   ]
  },
  {
   "cell_type": "code",
   "execution_count": 59,
   "metadata": {},
   "outputs": [],
   "source": [
    "# In order to avoid bias toward more common scores, we will limit the number\n",
    "# of essays from each scoring bucket to a set value\n",
    "score_df = None\n",
    "min_score = int(df['min_score'].min())\n",
    "max_score = int(df['max_score'].max())\n",
    "\n",
    "n_max = 100\n",
    "for i in range(min_score,max_score+1):\n",
    "    if score_df is None:\n",
    "        score_df = df.loc[df['domain1_score'] == i][:n_max]\n",
    "    else:\n",
    "        temp_df = df.loc[df['domain1_score'] == i][:n_max]\n",
    "        score_df = pd.concat([score_df, temp_df])\n",
    "df = score_df"
   ]
  },
  {
   "cell_type": "code",
   "execution_count": 60,
   "metadata": {},
   "outputs": [
    {
     "name": "stdout",
     "output_type": "stream",
     "text": [
      "There are 369 training essays, each of shape 120 x 200\n"
     ]
    }
   ],
   "source": [
    "# Extract essay vectors and corresponding scores\n",
    "X = np.array(df['essays_embed'])\n",
    "y = np.array(df['domain1_score'])\n",
    "X = np.stack(X, axis=0)\n",
    "print('There are {} training essays, each of shape {} x {}'.format(X.shape[0], X.shape[1], X.shape[2]))"
   ]
  },
  {
   "cell_type": "markdown",
   "metadata": {},
   "source": [
    "The next step is to shuffle the data and separate it into training and validation sets."
   ]
  },
  {
   "cell_type": "code",
   "execution_count": 61,
   "metadata": {},
   "outputs": [],
   "source": [
    "X, y = shuffle(X, y)\n",
    "X_train, y_train, X_val, y_val = train_val_split(X, y, train_prop=0.85)"
   ]
  },
  {
   "cell_type": "markdown",
   "metadata": {},
   "source": [
    "Here we need to transform the labels to the form that the network will predict. For example, in set 1, the essays are graded on a scale from 2-12, therefore there are 11 classes into which the network will try to classify each essay. However, the network will classify essays into the scale 0-10. Therefore, this step will perform this shift on the labels."
   ]
  },
  {
   "cell_type": "code",
   "execution_count": 62,
   "metadata": {},
   "outputs": [
    {
     "name": "stdout",
     "output_type": "stream",
     "text": [
      "No score adjustment necessary\n"
     ]
    }
   ],
   "source": [
    "if min_score != 0:\n",
    "    y_train_adj = scores_to_preds(y_train, min_score)\n",
    "    print('Training labels shifted from a scale of ({},{}) to ({},{})'\\\n",
    "          .format(min(y_train),max(y_train), min(y_train_adj), max(y_train_adj)))\n",
    "    y_val_adj = scores_to_preds(y_val, min_score)\n",
    "    print('Validation labels shifted from a scale of ({},{}) to ({},{})'\\\n",
    "          .format(min(y_val),max(y_val), min(y_val_adj), max(y_val_adj)))\n",
    "else:\n",
    "    print('No score adjustment necessary')\n",
    "    y_train_adj = y_train\n",
    "    y_val_adj = y_val"
   ]
  },
  {
   "cell_type": "code",
   "execution_count": null,
   "metadata": {},
   "outputs": [],
   "source": [
    "# User Defined Parameters\n",
    "model_name = 'gru_set4'\n",
    "batch_size = 32\n",
    "n_epochs = 10\n",
    "l2_reg = 1e-4\n",
    "keep_prob = 0.8\n",
    "reg = True\n",
    "lr = 1e-3\n",
    "\n",
    "# Derived Parameters\n",
    "input_dim = X_train.shape[1]\n",
    "num_classes = max_score-min_score + 1\n",
    "n_batches = round(X_train.shape[0]/batch_size)\n",
    "batch_gen = get_batches(X_train, y_train_adj, batch_size, net_type='mlp')\n",
    "\n",
    "mlp_net = MLP(input_dim=input_dim, hidden_dims=hidden_dims, num_classes=num_classes, weight_scale=weight_scale,\\\n",
    "              l2_reg=l2_reg, keep_prob=keep_prob, regression=reg)"
   ]
  },
  {
   "cell_type": "code",
   "execution_count": 77,
   "metadata": {},
   "outputs": [],
   "source": [
    "# User Defined Parameters\n",
    "model_name = 'gru_set4'\n",
    "batch_size = 32\n",
    "cell_type = 'gru'\n",
    "rnn_size = 128\n",
    "lr = 5e-3\n",
    "\n",
    "# Derived Parameters\n",
    "num_classes = max_score-min_score + 1\n",
    "n_batches = round(X_train.shape[0]/batch_size)\n",
    "seq_length = X_train.shape[1]\n",
    "embed_size = X_train.shape[2]\n",
    "\n",
    "X_val_t = X_val[:batch_size]\n",
    "y_val_t = y_val[:batch_size]\n",
    "batch_gen = get_batches(X_train, y_train_adj, batch_size, net_type=cell_type)\n",
    "\n",
    "my_net = RNN(num_classes, batch_size, seq_length, embed_size, cell_type=cell_type,\n",
    "                 rnn_size=rnn_size, num_layers=2, learning_rate=lr, train_keep_prob=1)"
   ]
  },
  {
   "cell_type": "code",
   "execution_count": 83,
   "metadata": {
    "collapsed": true
   },
   "outputs": [
    {
     "name": "stdout",
     "output_type": "stream",
     "text": [
      "Training Network...\n\n\n---------- Training epoch: 1 ----------"
     ]
    },
    {
     "name": "stdout",
     "output_type": "stream",
     "text": [
      "Epoch 1, step 5 loss: 1.3769  validation accuracy: 0.40625  0.1692 sec/batch\nBest validation accuracy! - Saving Model\nSample Grade Predictions: \nPreds:   2 0 0 0 2 0 0 0 0 2 0 2 0 0 0 2 0 0 2 2\nActual:  2 0 0 1 3 1 0 0 3 2 2 3 1 1 3 2 2 2 2 3\n"
     ]
    },
    {
     "name": "stdout",
     "output_type": "stream",
     "text": [
      "Epoch 1, step 10 loss: 1.2243  validation accuracy: 0.53125  0.1701 sec/batch\nBest validation accuracy! - Saving Model\nSample Grade Predictions: \nPreds:   3 2 0 2 3 3 0 0 2 3 2 3 0 2 3 3 2 2 3 3\nActual:  2 0 0 1 3 1 0 0 3 2 2 3 1 1 3 2 2 2 2 3\n\n\n---------- Training epoch: 2 ----------"
     ]
    },
    {
     "name": "stdout",
     "output_type": "stream",
     "text": [
      "Epoch 2, step 5 loss: 0.9285  validation accuracy: 0.46875  0.1830 sec/batch\nSample Grade Predictions: \nPreds:   3 0 0 0 3 2 0 0 2 3 2 3 0 0 2 3 2 0 3 3\nActual:  2 0 0 1 3 1 0 0 3 2 2 3 1 1 3 2 2 2 2 3\n"
     ]
    },
    {
     "name": "stdout",
     "output_type": "stream",
     "text": [
      "Epoch 2, step 10 loss: 1.0555  validation accuracy: 0.5  0.1765 sec/batch\nSample Grade Predictions: \nPreds:   3 1 1 1 3 2 1 0 2 3 2 3 0 1 2 2 2 2 2 3\nActual:  2 0 0 1 3 1 0 0 3 2 2 3 1 1 3 2 2 2 2 3\n\n\n---------- Training epoch: 3 ----------"
     ]
    },
    {
     "name": "stdout",
     "output_type": "stream",
     "text": [
      "Epoch 3, step 5 loss: 1.0565  validation accuracy: 0.5625  0.1945 sec/batch\nBest validation accuracy! - Saving Model\nSample Grade Predictions: \nPreds:   2 1 0 1 2 2 0 0 2 2 2 3 0 0 2 2 2 2 2 2\nActual:  2 0 0 1 3 1 0 0 3 2 2 3 1 1 3 2 2 2 2 3\n"
     ]
    },
    {
     "name": "stdout",
     "output_type": "stream",
     "text": [
      "Epoch 3, step 10 loss: 1.0094  validation accuracy: 0.53125  0.1838 sec/batch\nSample Grade Predictions: \nPreds:   3 1 0 1 3 2 0 0 2 3 2 3 0 1 2 3 2 1 3 3\nActual:  2 0 0 1 3 1 0 0 3 2 2 3 1 1 3 2 2 2 2 3\n\n\n---------- Training epoch: 4 ----------"
     ]
    },
    {
     "name": "stdout",
     "output_type": "stream",
     "text": [
      "Epoch 4, step 5 loss: 1.0015  validation accuracy: 0.59375  0.1721 sec/batch\nBest validation accuracy! - Saving Model\nSample Grade Predictions: \nPreds:   3 1 0 1 3 2 0 0 2 3 2 3 0 1 2 3 2 2 3 3\nActual:  2 0 0 1 3 1 0 0 3 2 2 3 1 1 3 2 2 2 2 3\n"
     ]
    },
    {
     "name": "stdout",
     "output_type": "stream",
     "text": [
      "Epoch 4, step 10 loss: 1.0195  validation accuracy: 0.59375  0.1694 sec/batch\nSample Grade Predictions: \nPreds:   3 1 0 1 3 2 0 0 2 3 2 3 0 1 2 3 2 2 3 3\nActual:  2 0 0 1 3 1 0 0 3 2 2 3 1 1 3 2 2 2 2 3\n\n\n---------- Training epoch: 5 ----------"
     ]
    },
    {
     "name": "stdout",
     "output_type": "stream",
     "text": [
      "Epoch 5, step 5 loss: 0.7677  validation accuracy: 0.59375  0.1702 sec/batch\nSample Grade Predictions: \nPreds:   3 1 0 1 3 2 0 0 2 3 2 3 0 1 2 2 1 1 2 2\nActual:  2 0 0 1 3 1 0 0 3 2 2 3 1 1 3 2 2 2 2 3\n"
     ]
    },
    {
     "name": "stdout",
     "output_type": "stream",
     "text": [
      "Epoch 5, step 10 loss: 1.0745  validation accuracy: 0.5  0.1698 sec/batch\nSample Grade Predictions: \nPreds:   3 1 0 2 3 2 0 0 2 3 2 3 0 1 2 3 2 2 3 3\nActual:  2 0 0 1 3 1 0 0 3 2 2 3 1 1 3 2 2 2 2 3\n\n\n---------- Training epoch: 6 ----------"
     ]
    },
    {
     "name": "stdout",
     "output_type": "stream",
     "text": [
      "Epoch 6, step 5 loss: 1.1863  validation accuracy: 0.53125  0.1684 sec/batch\nSample Grade Predictions: \nPreds:   2 0 0 1 2 2 0 0 1 2 2 2 0 0 1 2 1 1 2 2\nActual:  2 0 0 1 3 1 0 0 3 2 2 3 1 1 3 2 2 2 2 3\n"
     ]
    },
    {
     "name": "stdout",
     "output_type": "stream",
     "text": [
      "Epoch 6, step 10 loss: 0.8708  validation accuracy: 0.34375  0.1717 sec/batch\nSample Grade Predictions: \nPreds:   3 1 1 2 3 2 1 1 2 3 2 3 1 1 2 3 2 2 3 3\nActual:  2 0 0 1 3 1 0 0 3 2 2 3 1 1 3 2 2 2 2 3\n\n\n---------- Training epoch: 7 ----------"
     ]
    },
    {
     "name": "stdout",
     "output_type": "stream",
     "text": [
      "Epoch 7, step 5 loss: 0.7561  validation accuracy: 0.5625  0.1709 sec/batch\nSample Grade Predictions: \nPreds:   3 0 0 1 3 2 0 0 1 3 2 3 0 0 1 3 1 2 3 3\nActual:  2 0 0 1 3 1 0 0 3 2 2 3 1 1 3 2 2 2 2 3\n"
     ]
    },
    {
     "name": "stdout",
     "output_type": "stream",
     "text": [
      "Epoch 7, step 10 loss: 0.9269  validation accuracy: 0.65625  0.1697 sec/batch\nBest validation accuracy! - Saving Model\nSample Grade Predictions: \nPreds:   2 0 0 1 3 2 0 0 1 2 2 3 0 0 1 2 1 2 2 2\nActual:  2 0 0 1 3 1 0 0 3 2 2 3 1 1 3 2 2 2 2 3\n\n\n---------- Training epoch: 8 ----------"
     ]
    },
    {
     "name": "stdout",
     "output_type": "stream",
     "text": [
      "Epoch 8, step 5 loss: 1.1507  validation accuracy: 0.5  0.1673 sec/batch\nSample Grade Predictions: \nPreds:   2 1 1 1 3 2 1 1 1 3 2 3 1 1 1 2 1 2 2 3\nActual:  2 0 0 1 3 1 0 0 3 2 2 3 1 1 3 2 2 2 2 3\n"
     ]
    },
    {
     "name": "stdout",
     "output_type": "stream",
     "text": [
      "Epoch 8, step 10 loss: 1.0571  validation accuracy: 0.5625  0.1763 sec/batch\nSample Grade Predictions: \nPreds:   3 0 0 2 3 2 0 0 2 3 2 3 0 1 1 3 2 2 3 3\nActual:  2 0 0 1 3 1 0 0 3 2 2 3 1 1 3 2 2 2 2 3\n\n\n---------- Training epoch: 9 ----------"
     ]
    },
    {
     "name": "stdout",
     "output_type": "stream",
     "text": [
      "Epoch 9, step 5 loss: 1.0009  validation accuracy: 0.59375  0.1708 sec/batch\nSample Grade Predictions: \nPreds:   2 0 0 2 3 2 0 0 2 2 2 3 0 0 1 3 2 2 2 2\nActual:  2 0 0 1 3 1 0 0 3 2 2 3 1 1 3 2 2 2 2 3\n"
     ]
    },
    {
     "name": "stdout",
     "output_type": "stream",
     "text": [
      "Epoch 9, step 10 loss: 0.7109  validation accuracy: 0.71875  0.1727 sec/batch\nBest validation accuracy! - Saving Model\nSample Grade Predictions: \nPreds:   2 0 0 1 3 2 0 0 2 2 2 3 0 0 1 2 2 2 2 2\nActual:  2 0 0 1 3 1 0 0 3 2 2 3 1 1 3 2 2 2 2 3\n\n\n---------- Training epoch: 10 ----------"
     ]
    },
    {
     "name": "stdout",
     "output_type": "stream",
     "text": [
      "Epoch 10, step 5 loss: 0.7490  validation accuracy: 0.625  0.2038 sec/batch\nSample Grade Predictions: \nPreds:   2 0 0 2 3 2 0 0 2 3 2 3 0 1 1 3 2 2 3 3\nActual:  2 0 0 1 3 1 0 0 3 2 2 3 1 1 3 2 2 2 2 3\n"
     ]
    },
    {
     "name": "stdout",
     "output_type": "stream",
     "text": [
      "Epoch 10, step 10 loss: 0.6902  validation accuracy: 0.625  0.1989 sec/batch\nSample Grade Predictions: \nPreds:   2 0 0 2 3 2 0 0 2 3 2 3 0 1 1 3 2 2 3 3\nActual:  2 0 0 1 3 1 0 0 3 2 2 3 1 1 3 2 2 2 2 3\nBest validation accuracy over the training period was: 0.71875%\n"
     ]
    }
   ],
   "source": [
    "print('Training Network...')\n",
    "train_loss_hist, val_loss_hist = my_net.train(batch_gen, X_val_t, y_val_t,\\\n",
    "                                              n_epochs, n_batches, save_every_n=5,\\\n",
    "                                              model_name=model_name)"
   ]
  },
  {
   "cell_type": "code",
   "execution_count": 84,
   "metadata": {},
   "outputs": [],
   "source": [
    "# Extract Loss data for plotting\n",
    "x = []\n",
    "train_loss = []\n",
    "val_loss = []\n",
    "for k,v in train_loss_hist.items():\n",
    "    x.append(k[0]-1+k[1]/n_batches)\n",
    "    train_loss.append(v)\n",
    "    val_loss.append(val_loss_hist[k])"
   ]
  },
  {
   "cell_type": "code",
   "execution_count": 85,
   "metadata": {},
   "outputs": [
    {
     "data": {
      "image/png": "[encoded data removed]",
      "text/plain": [
       "<Figure size 432x288 with 1 Axes>"
      ]
     },
     "metadata": {},
     "output_type": "display_data"
    }
   ],
   "source": [
    "fig, ax = plt.subplots()\n",
    "ax.plot(x, train_loss, 'k--', label='Train Loss')\n",
    "ax.plot(x, val_loss, 'k:', label='Validation Loss')\n",
    "\n",
    "legend = ax.legend(loc='lower left', shadow=False, fontsize='large')\n",
    "legend.get_frame().set_facecolor('C0')\n",
    "plt.title('Training and Validation Loss for model: '+model_name)\n",
    "plt.xlabel('Epochs')\n",
    "plt.ylabel('Loss')\n",
    "plt.show()"
   ]
  },
  {
   "cell_type": "code",
   "execution_count": 86,
   "metadata": {
    "collapsed": true
   },
   "outputs": [
    {
     "name": "stdout",
     "output_type": "stream",
     "text": [
      "INFO:tensorflow:Restoring parameters from ./model/best_model_rnn\n"
     ]
    },
    {
     "name": "stdout",
     "output_type": "stream",
     "text": [
      "Running network predictions\n"
     ]
    }
   ],
   "source": [
    "batch_size = X_val.shape[0]\n",
    "seq_length = X_val.shape[1]\n",
    "embed_size = X_val.shape[2]\n",
    "\n",
    "pred_net = RNN(num_classes, batch_size, seq_length, embed_size, cell_type=cell_type,\n",
    "                 rnn_size=rnn_size, num_layers=2, learning_rate=lr, train_keep_prob=1)\n",
    "preds = pred_net.predict('./model/best_model_rnn', X_val)\n",
    "preds = scores_to_preds(preds, min_score)"
   ]
  },
  {
   "cell_type": "code",
   "execution_count": 87,
   "metadata": {},
   "outputs": [
    {
     "data": {
      "text/plain": [
       "0.8628086804689449"
      ]
     },
     "execution_count": 87,
     "metadata": {},
     "output_type": "execute_result"
    }
   ],
   "source": [
    "from src.preprocess import quadratic_weighted_kappa\n",
    "quadratic_weighted_kappa(preds[0], y_val)"
   ]
  }
 ],
 "metadata": {
  "kernelspec": {
   "display_name": "Python 3",
   "language": "python",
   "name": "python3"
  },
  "language_info": {
   "codemirror_mode": {
    "name": "ipython",
    "version": 3.0
   },
   "file_extension": ".py",
   "mimetype": "text/x-python",
   "name": "python",
   "nbconvert_exporter": "python",
   "pygments_lexer": "ipython3",
   "version": "3.6.7"
  }
 },
 "nbformat": 4,
 "nbformat_minor": 0
}