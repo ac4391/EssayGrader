{
 "cells": [
  {
   "cell_type": "markdown",
   "metadata": {},
   "source": [
    "This notebook will serve as the master notebook which the TAs can run from start to finish"
   ]
  },
  {
   "cell_type": "code",
   "execution_count": 1,
   "metadata": {},
   "outputs": [],
   "source": [
    "import pandas as pd\n",
    "import numpy as np\n",
    "from src.utils import get_batches, shuffle, train_val_split\n",
    "\n",
    "\n",
    "%load_ext autoreload\n",
    "%autoreload 2"
   ]
  },
  {
   "cell_type": "code",
   "execution_count": 2,
   "metadata": {},
   "outputs": [],
   "source": [
    "# Define the path to the data\n",
    "data_path = './data/essay_df.pkl'\n",
    "df = pd.read_pickle(data_path)"
   ]
  },
  {
   "cell_type": "code",
   "execution_count": 3,
   "metadata": {},
   "outputs": [
    {
     "name": "stdout",
     "output_type": "stream",
     "text": [
      "<class 'pandas.core.frame.DataFrame'>\n",
      "Int64Index: 8870 entries, 0 to 10683\n",
      "Data columns (total 8 columns):\n",
      "essay_id         8870 non-null int64\n",
      "essay_set        8870 non-null int64\n",
      "essay            8870 non-null object\n",
      "domain1_score    8870 non-null int64\n",
      "essays_embed     8870 non-null object\n",
      "word_count       8870 non-null int64\n",
      "max_score        8870 non-null float64\n",
      "norm_score       8870 non-null float64\n",
      "dtypes: float64(2), int64(4), object(2)\n",
      "memory usage: 623.7+ KB\n"
     ]
    }
   ],
   "source": [
    "df.info()"
   ]
  },
  {
   "cell_type": "code",
   "execution_count": 4,
   "metadata": {},
   "outputs": [],
   "source": [
    "X = np.array(df['essays_embed'])\n",
    "y = np.array(df['norm_score'])"
   ]
  },
  {
   "cell_type": "code",
   "execution_count": 5,
   "metadata": {},
   "outputs": [
    {
     "name": "stdout",
     "output_type": "stream",
     "text": [
      "(8870, 600, 100)\n"
     ]
    }
   ],
   "source": [
    "X_stacked = np.stack(X, axis=0)\n",
    "print(X_stacked.shape)"
   ]
  },
  {
   "cell_type": "code",
   "execution_count": 6,
   "metadata": {},
   "outputs": [
    {
     "name": "stdout",
     "output_type": "stream",
     "text": [
      "(8870, 60000)\n"
     ]
    }
   ],
   "source": [
    "X_flat = np.reshape(X_stacked, [X_stacked.shape[0], -1])\n",
    "print(X_flat.shape)"
   ]
  },
  {
   "cell_type": "code",
   "execution_count": 6,
   "metadata": {},
   "outputs": [],
   "source": [
    "# instead of flattening, take the average value of each part of vectorized word in essay\n",
    "X_flat = np.mean(X_stacked, axis = 1)\n"
   ]
  },
  {
   "cell_type": "code",
   "execution_count": 7,
   "metadata": {},
   "outputs": [],
   "source": [
    "X_shuffled, y_shuffled = shuffle(X_flat, y)"
   ]
  },
  {
   "cell_type": "code",
   "execution_count": 8,
   "metadata": {},
   "outputs": [
    {
     "name": "stdout",
     "output_type": "stream",
     "text": [
      "(8870, 100)\n"
     ]
    }
   ],
   "source": [
    "print(X_shuffled.shape)"
   ]
  },
  {
   "cell_type": "code",
   "execution_count": 10,
   "metadata": {},
   "outputs": [
    {
     "name": "stdout",
     "output_type": "stream",
     "text": [
      "(7096, 100) (1774, 100) (7096,) (1774,)\n"
     ]
    }
   ],
   "source": [
    "X_train, y_train, X_val, y_val = train_val_split(X_shuffled, y_shuffled, train_prop=0.8)\n",
    "print(X_train.shape, X_val.shape, y_train.shape, y_val.shape )"
   ]
  },
  {
   "cell_type": "code",
   "execution_count": 46,
   "metadata": {},
   "outputs": [],
   "source": [
    "from src.mlp import MLP\n",
    "input_dim = X_train.shape[1]\n",
    "batch_size = 1\n",
    "\n",
    "batch_gen = get_batches(X_train, y_train, batch_size, net_type='mlp')\n",
    "\n",
    "my_net = MLP(input_dim=input_dim, hidden_dims=[30, 100], num_classes=12, l2_reg=1e-4)"
   ]
  },
  {
   "cell_type": "code",
   "execution_count": 47,
   "metadata": {},
   "outputs": [
    {
     "name": "stdout",
     "output_type": "stream",
     "text": [
      "loss for counter 7000 is 2.0067946910858154\n",
      "counter 7000: valid acc = 0.45321306586265564\n",
      "[9 9 9 9 9 9 9 9 9 9 9 9 9 9 9 9 9 9 9 9]\n",
      "[ 9  9  9  9 12  9  6  6  9  6  6  9  9  6  3  9  9  6  6  9]\n",
      "Best validation accuracy! iteration:7000 accuracy: 0.45321306586265564%\n",
      "loss for counter 14000 is 0.004160015378147364\n",
      "counter 14000: valid acc = 0.45321306586265564\n",
      "[9 9 9 9 9 9 9 9 9 9 9 9 9 9 9 9 9 9 9 9]\n",
      "[ 9  9  9  9 12  9  6  6  9  6  6  9  9  6  3  9  9  6  6  9]\n",
      "loss for counter 21000 is 1.4545613527297974\n",
      "counter 21000: valid acc = 0.4565952718257904\n",
      "[9 9 9 9 9 9 9 9 9 9 9 9 9 9 9 9 9 9 9 9]\n",
      "[ 9  9  9  9 12  9  6  6  9  6  6  9  9  6  3  9  9  6  6  9]\n",
      "Best validation accuracy! iteration:21000 accuracy: 0.4565952718257904%\n",
      "loss for counter 28000 is 1.2490569353103638\n",
      "counter 28000: valid acc = 0.5180383324623108\n",
      "[9 9 9 9 9 9 6 6 9 9 9 9 9 9 9 6 9 9 9 9]\n",
      "[ 9  9  9  9 12  9  6  6  9  6  6  9  9  6  3  9  9  6  6  9]\n",
      "Best validation accuracy! iteration:28000 accuracy: 0.5180383324623108%\n",
      "loss for counter 35000 is 1.0286654233932495\n",
      "counter 35000: valid acc = 0.40360766649246216\n",
      "[9 9 6 6 9 9 6 6 9 9 6 6 6 6 6 6 9 6 6 6]\n",
      "[ 9  9  9  9 12  9  6  6  9  6  6  9  9  6  3  9  9  6  6  9]\n",
      "loss for counter 42000 is 0.04120279476046562\n",
      "counter 42000: valid acc = 0.3742953836917877\n",
      "[9 9 6 6 9 9 6 6 9 6 6 6 6 6 6 6 9 6 6 6]\n",
      "[ 9  9  9  9 12  9  6  6  9  6  6  9  9  6  3  9  9  6  6  9]\n",
      "loss for counter 49000 is 0.05981605127453804\n",
      "counter 49000: valid acc = 0.44532132148742676\n",
      "[9 9 9 6 9 9 6 6 9 9 6 6 9 6 6 6 9 6 6 6]\n",
      "[ 9  9  9  9 12  9  6  6  9  6  6  9  9  6  3  9  9  6  6  9]\n",
      "loss for counter 56000 is 1.2259801626205444\n",
      "counter 56000: valid acc = 0.4554678797721863\n",
      "[9 9 9 6 9 9 6 6 9 9 6 6 9 6 6 6 9 6 6 6]\n",
      "[ 9  9  9  9 12  9  6  6  9  6  6  9  9  6  3  9  9  6  6  9]\n",
      "loss for counter 63000 is 1.019304871559143\n",
      "counter 63000: valid acc = 0.3624577224254608\n",
      "[9 9 6 6 6 9 6 6 9 6 6 6 6 6 6 6 9 6 6 6]\n",
      "[ 9  9  9  9 12  9  6  6  9  6  6  9  9  6  3  9  9  6  6  9]\n",
      "loss for counter 70000 is 1.164700984954834\n",
      "counter 70000: valid acc = 0.31116122007369995\n",
      "[9 9 6 6 6 6 6 6 9 6 6 6 6 6 6 6 9 6 6 6]\n",
      "[ 9  9  9  9 12  9  6  6  9  6  6  9  9  6  3  9  9  6  6  9]\n",
      "loss for counter 77000 is 1.9922670125961304\n",
      "counter 77000: valid acc = 0.271702378988266\n",
      "[6 6 6 6 6 6 6 6 6 6 6 6 6 6 6 6 6 6 6 6]\n",
      "[ 9  9  9  9 12  9  6  6  9  6  6  9  9  6  3  9  9  6  6  9]\n",
      "loss for counter 84000 is 0.20691408216953278\n",
      "counter 84000: valid acc = 0.24689966440200806\n",
      "[6 6 6 6 6 6 6 6 6 6 6 6 6 6 6 6 6 6 6 6]\n",
      "[ 9  9  9  9 12  9  6  6  9  6  6  9  9  6  3  9  9  6  6  9]\n",
      "loss for counter 91000 is 1.437022089958191\n",
      "counter 91000: valid acc = 0.3996617794036865\n",
      "[9 9 6 6 9 9 6 6 9 9 6 6 6 6 6 6 9 6 6 6]\n",
      "[ 9  9  9  9 12  9  6  6  9  6  6  9  9  6  3  9  9  6  6  9]\n",
      "loss for counter 98000 is 1.0549185276031494\n",
      "counter 98000: valid acc = 0.4509582817554474\n",
      "[9 9 9 6 9 9 6 6 9 9 6 6 9 6 6 6 9 6 6 6]\n",
      "[ 9  9  9  9 12  9  6  6  9  6  6  9  9  6  3  9  9  6  6  9]\n",
      "loss for counter 105000 is 1.34647536277771\n",
      "counter 105000: valid acc = 0.34441938996315\n",
      "[9 9 6 6 6 9 6 6 9 6 6 6 6 6 6 6 9 6 6 6]\n",
      "[ 9  9  9  9 12  9  6  6  9  6  6  9  9  6  3  9  9  6  6  9]\n",
      "loss for counter 112000 is 2.5708439350128174\n",
      "counter 112000: valid acc = 0.509019136428833\n",
      "[9 9 9 6 9 9 6 6 9 9 9 9 9 6 9 6 9 6 9 9]\n",
      "[ 9  9  9  9 12  9  6  6  9  6  6  9  9  6  3  9  9  6  6  9]\n",
      "loss for counter 119000 is 1.5716216564178467\n",
      "counter 119000: valid acc = 0.3759864568710327\n",
      "[9 9 6 6 9 9 6 6 9 6 6 6 6 6 6 6 9 6 6 6]\n",
      "[ 9  9  9  9 12  9  6  6  9  6  6  9  9  6  3  9  9  6  6  9]\n",
      "loss for counter 126000 is 2.523002862930298\n",
      "counter 126000: valid acc = 0.4391206204891205\n",
      "[9 9 9 9 9 9 4 4 9 9 9 9 9 4 9 4 9 9 9 9]\n",
      "[ 9  9  9  9 12  9  6  6  9  6  6  9  9  6  3  9  9  6  6  9]\n",
      "loss for counter 133000 is 4.073014736175537\n",
      "counter 133000: valid acc = 0.0\n",
      "[8 8 8 4 8 8 4 4 8 8 8 8 8 4 8 4 8 8 8 8]\n",
      "[ 9  9  9  9 12  9  6  6  9  6  6  9  9  6  3  9  9  6  6  9]\n",
      "loss for counter 140000 is 1.492042064666748\n",
      "counter 140000: valid acc = 0.0\n",
      "[8 8 8 8 8 8 4 8 8 8 8 8 8 8 8 4 8 8 8 8]\n",
      "[ 9  9  9  9 12  9  6  6  9  6  6  9  9  6  3  9  9  6  6  9]\n",
      "loss for counter 147000 is 1.5416332483291626\n",
      "counter 147000: valid acc = 0.0\n",
      "[8 8 8 4 8 8 4 4 8 8 8 8 8 4 8 4 8 8 8 8]\n",
      "[ 9  9  9  9 12  9  6  6  9  6  6  9  9  6  3  9  9  6  6  9]\n"
     ]
    }
   ],
   "source": [
    "my_net.train(gen=batch_gen, X_val=X_val, y_val=y_val, n_epochs=20, lr=1e-4)"
   ]
  },
  {
   "cell_type": "code",
   "execution_count": null,
   "metadata": {},
   "outputs": [],
   "source": []
  },
  {
   "cell_type": "code",
   "execution_count": null,
   "metadata": {},
   "outputs": [],
   "source": []
  }
 ],
 "metadata": {
  "kernelspec": {
   "display_name": "Python 3",
   "language": "python",
   "name": "python3"
  },
  "language_info": {
   "codemirror_mode": {
    "name": "ipython",
    "version": 3
   },
   "file_extension": ".py",
   "mimetype": "text/x-python",
   "name": "python",
   "nbconvert_exporter": "python",
   "pygments_lexer": "ipython3",
   "version": "3.6.5"
  }
 },
 "nbformat": 4,
 "nbformat_minor": 1
}
