{
 "cells": [
  {
   "cell_type": "markdown",
   "metadata": {},
   "source": [
    "This notebook will serve as the master notebook which the TAs can run from start to finish"
   ]
  },
  {
   "cell_type": "code",
   "execution_count": 1,
   "metadata": {},
   "outputs": [],
   "source": [
    "import pandas as pd\n",
    "import numpy as np\n",
    "from src.utils import get_batches, shuffle, train_val_split\n",
    "\n",
    "\n",
    "%load_ext autoreload\n",
    "%autoreload 2"
   ]
  },
  {
   "cell_type": "code",
   "execution_count": 2,
   "metadata": {},
   "outputs": [],
   "source": [
    "# Define the path to the data\n",
    "data_path = './data/essay_df.pkl'\n",
    "df = pd.read_pickle(data_path)"
   ]
  },
  {
   "cell_type": "code",
   "execution_count": 3,
   "metadata": {},
   "outputs": [
    {
     "name": "stdout",
     "output_type": "stream",
     "text": [
      "<class 'pandas.core.frame.DataFrame'>\nInt64Index: 8764 entries, 0 to 10683\nData columns (total 8 columns):\nessay_id         8764 non-null int64\nessay_set        8764 non-null int64\nessay            8764 non-null object\ndomain1_score    8764 non-null int64\nessays_embed     8764 non-null object\nword_count       8764 non-null int64\nmax_score        8764 non-null float64\nnorm_score       8764 non-null float64\ndtypes: float64(2), int64(4), object(2)\nmemory usage: 616.2+ KB\n"
     ]
    }
   ],
   "source": [
    "df.info()"
   ]
  },
  {
   "cell_type": "code",
   "execution_count": 14,
   "metadata": {},
   "outputs": [],
   "source": [
    "X = np.array(df['essays_embed'])\n",
    "y = np.array(df['norm_score'])"
   ]
  },
  {
   "cell_type": "code",
   "execution_count": 15,
   "metadata": {},
   "outputs": [
    {
     "name": "stdout",
     "output_type": "stream",
     "text": [
      "(8764, 600, 100)\n"
     ]
    }
   ],
   "source": [
    "X_stacked = np.stack(X, axis=0)\n",
    "print(X_stacked.shape)"
   ]
  },
  {
   "cell_type": "code",
   "execution_count": 16,
   "metadata": {},
   "outputs": [
    {
     "name": "stdout",
     "output_type": "stream",
     "text": [
      "(8764, 60000)\n"
     ]
    }
   ],
   "source": [
    "X_flat = np.reshape(X_stacked, [X_stacked.shape[0], -1])\n",
    "print(X_flat.shape)"
   ]
  },
  {
   "cell_type": "code",
   "execution_count": 17,
   "metadata": {},
   "outputs": [],
   "source": [
    "X_shuffled, y_shuffled = shuffle(X_flat, y)"
   ]
  },
  {
   "cell_type": "code",
   "execution_count": 18,
   "metadata": {},
   "outputs": [
    {
     "name": "stdout",
     "output_type": "stream",
     "text": [
      "(8764, 60000)\n"
     ]
    }
   ],
   "source": [
    "print(X_shuffled.shape)"
   ]
  },
  {
   "cell_type": "code",
   "execution_count": 19,
   "metadata": {},
   "outputs": [],
   "source": [
    "X_train, y_train, X_val, y_val = train_val_split(X_shuffled, y_shuffled, train_prop=0.8)"
   ]
  },
  {
   "cell_type": "code",
   "execution_count": 51,
   "metadata": {},
   "outputs": [],
   "source": [
    "from src.mlp import MLP\n",
    "input_dim = X_train.shape[1]\n",
    "batch_size = 100\n",
    "\n",
    "batch_gen = get_batches(X_train, y_train, batch_size, net_type='mlp')\n",
    "\n",
    "my_net = MLP(input_dim=input_dim, hidden_dims=[100, 100], num_classes=12, l2_reg=1e-4)"
   ]
  },
  {
   "cell_type": "code",
   "execution_count": 52,
   "metadata": {},
   "outputs": [
    {
     "name": "stdout",
     "output_type": "stream",
     "text": [
      "loss for counter 5 is 2.438948392868042\ncounter 5: valid acc = 0.0\n[8 8 8 8 8 8 8 8 8 8 8 8 8 8 8 8 8 8 8 8]\n[12  9  9  6  9  9  6  9  9  3  9  6 12  6 12  9 12  3  9  3]\n"
     ]
    },
    {
     "name": "stdout",
     "output_type": "stream",
     "text": [
      "loss for counter 10 is 2.4793944358825684\ncounter 10: valid acc = 0.0\n[8 8 8 8 8 8 8 8 8 8 8 8 8 8 8 8 8 8 8 8]\n[12  9  9  6  9  9  6  9  9  3  9  6 12  6 12  9 12  3  9  3]\n"
     ]
    },
    {
     "name": "stdout",
     "output_type": "stream",
     "text": [
      "loss for counter 15 is 2.471740245819092\ncounter 15: valid acc = 0.0\n[8 8 8 8 8 8 8 8 8 8 8 8 8 8 8 8 8 8 8 8]\n[12  9  9  6  9  9  6  9  9  3  9  6 12  6 12  9 12  3  9  3]\n"
     ]
    },
    {
     "name": "stdout",
     "output_type": "stream",
     "text": [
      "loss for counter 20 is 1.693276286125183\ncounter 20: valid acc = 0.0\n[8 8 8 8 8 8 8 8 8 8 8 8 8 8 8 8 8 8 8 8]\n[12  9  9  6  9  9  6  9  9  3  9  6 12  6 12  9 12  3  9  3]\n"
     ]
    },
    {
     "name": "stdout",
     "output_type": "stream",
     "text": [
      "loss for counter 25 is 1.7523139715194702\ncounter 25: valid acc = 0.0\n[8 8 8 8 8 8 8 8 8 8 8 8 8 8 8 8 8 8 8 8]\n[12  9  9  6  9  9  6  9  9  3  9  6 12  6 12  9 12  3  9  3]\n"
     ]
    },
    {
     "name": "stdout",
     "output_type": "stream",
     "text": [
      "loss for counter 30 is 1.819976806640625\ncounter 30: valid acc = 0.0\n[8 8 8 8 8 8 8 8 8 8 8 8 8 8 8 8 8 8 8 8]\n[12  9  9  6  9  9  6  9  9  3  9  6 12  6 12  9 12  3  9  3]\n"
     ]
    },
    {
     "name": "stdout",
     "output_type": "stream",
     "text": [
      "loss for counter 35 is 1.9171377420425415\ncounter 35: valid acc = 0.0\n[8 8 8 8 8 8 8 8 8 8 8 8 8 8 8 8 8 8 8 8]\n[12  9  9  6  9  9  6  9  9  3  9  6 12  6 12  9 12  3  9  3]\n"
     ]
    },
    {
     "name": "stdout",
     "output_type": "stream",
     "text": [
      "loss for counter 40 is 1.9840341806411743\ncounter 40: valid acc = 0.0\n[8 8 8 8 8 8 8 8 8 8 8 8 8 8 8 8 8 8 8 8]\n[12  9  9  6  9  9  6  9  9  3  9  6 12  6 12  9 12  3  9  3]\n"
     ]
    },
    {
     "name": "stdout",
     "output_type": "stream",
     "text": [
      "loss for counter 45 is 1.967331886291504\ncounter 45: valid acc = 0.0\n[8 8 8 8 8 8 8 8 8 8 8 8 8 4 8 8 8 8 8 4]\n[12  9  9  6  9  9  6  9  9  3  9  6 12  6 12  9 12  3  9  3]\n"
     ]
    },
    {
     "name": "stdout",
     "output_type": "stream",
     "text": [
      "loss for counter 50 is 1.8063957691192627\ncounter 50: valid acc = 0.0\n[8 8 8 8 8 8 8 4 8 4 4 4 8 4 8 8 8 8 4 4]\n[12  9  9  6  9  9  6  9  9  3  9  6 12  6 12  9 12  3  9  3]\n"
     ]
    },
    {
     "name": "stdout",
     "output_type": "stream",
     "text": [
      "loss for counter 55 is 2.08632230758667\ncounter 55: valid acc = 0.0\n[8 8 8 8 8 8 8 4 8 4 4 4 8 4 8 8 8 4 4 4]\n[12  9  9  6  9  9  6  9  9  3  9  6 12  6 12  9 12  3  9  3]\n"
     ]
    },
    {
     "name": "stdout",
     "output_type": "stream",
     "text": [
      "loss for counter 60 is 2.356614112854004\ncounter 60: valid acc = 0.0\n[8 8 8 8 8 8 8 4 8 4 4 4 8 4 8 8 8 4 4 4]\n[12  9  9  6  9  9  6  9  9  3  9  6 12  6 12  9 12  3  9  3]\n"
     ]
    },
    {
     "name": "stdout",
     "output_type": "stream",
     "text": [
      "loss for counter 65 is 2.042902946472168\ncounter 65: valid acc = 0.0\n[8 8 8 8 8 8 8 4 8 4 4 4 8 4 8 8 8 8 4 4]\n[12  9  9  6  9  9  6  9  9  3  9  6 12  6 12  9 12  3  9  3]\n"
     ]
    },
    {
     "name": "stdout",
     "output_type": "stream",
     "text": [
      "loss for counter 70 is 2.078446626663208\ncounter 70: valid acc = 0.0\n[8 8 8 8 8 8 8 4 8 4 4 4 8 4 8 8 8 8 4 4]\n[12  9  9  6  9  9  6  9  9  3  9  6 12  6 12  9 12  3  9  3]\n"
     ]
    },
    {
     "name": "stdout",
     "output_type": "stream",
     "text": [
      "loss for counter 75 is 2.369800090789795\ncounter 75: valid acc = 0.0\n[8 8 8 8 8 8 8 8 8 8 8 4 8 4 8 8 8 8 8 4]\n[12  9  9  6  9  9  6  9  9  3  9  6 12  6 12  9 12  3  9  3]\n"
     ]
    },
    {
     "name": "stdout",
     "output_type": "stream",
     "text": [
      "loss for counter 80 is 2.412123918533325\ncounter 80: valid acc = 0.0\n[8 8 8 8 8 8 8 8 8 8 8 8 8 8 8 8 8 8 8 8]\n[12  9  9  6  9  9  6  9  9  3  9  6 12  6 12  9 12  3  9  3]\n"
     ]
    },
    {
     "name": "stdout",
     "output_type": "stream",
     "text": [
      "loss for counter 85 is 2.403811454772949\ncounter 85: valid acc = 0.0\n[8 8 8 8 8 8 8 8 8 8 8 8 8 8 8 8 8 8 8 8]\n[12  9  9  6  9  9  6  9  9  3  9  6 12  6 12  9 12  3  9  3]\n"
     ]
    },
    {
     "name": "stdout",
     "output_type": "stream",
     "text": [
      "loss for counter 90 is 1.4451932907104492\ncounter 90: valid acc = 0.0\n[8 8 8 8 8 8 8 8 8 8 8 8 8 8 8 8 8 8 8 8]\n[12  9  9  6  9  9  6  9  9  3  9  6 12  6 12  9 12  3  9  3]\n"
     ]
    },
    {
     "name": "stdout",
     "output_type": "stream",
     "text": [
      "loss for counter 95 is 1.4683969020843506\ncounter 95: valid acc = 0.0\n[8 8 8 8 8 8 8 8 8 8 8 8 8 8 8 8 8 8 8 8]\n[12  9  9  6  9  9  6  9  9  3  9  6 12  6 12  9 12  3  9  3]\n"
     ]
    },
    {
     "name": "stdout",
     "output_type": "stream",
     "text": [
      "loss for counter 100 is 1.4790095090866089\ncounter 100: valid acc = 0.0\n[8 8 8 8 8 8 8 8 8 8 8 8 8 8 8 8 8 8 8 8]\n[12  9  9  6  9  9  6  9  9  3  9  6 12  6 12  9 12  3  9  3]\n"
     ]
    },
    {
     "name": "stdout",
     "output_type": "stream",
     "text": [
      "loss for counter 105 is 1.6119147539138794\ncounter 105: valid acc = 0.0\n[8 8 8 8 8 8 8 8 8 8 8 8 8 8 8 8 8 8 8 8]\n[12  9  9  6  9  9  6  9  9  3  9  6 12  6 12  9 12  3  9  3]\n"
     ]
    },
    {
     "name": "stdout",
     "output_type": "stream",
     "text": [
      "loss for counter 110 is 1.6529134511947632\ncounter 110: valid acc = 0.0\n[8 8 8 8 8 8 8 4 8 4 4 4 8 4 8 8 8 4 4 4]\n[12  9  9  6  9  9  6  9  9  3  9  6 12  6 12  9 12  3  9  3]\n"
     ]
    },
    {
     "name": "stdout",
     "output_type": "stream",
     "text": [
      "loss for counter 115 is 1.547882318496704\ncounter 115: valid acc = 0.0\n[8 8 4 4 4 4 4 4 8 4 4 4 8 4 8 4 8 4 4 4]\n[12  9  9  6  9  9  6  9  9  3  9  6 12  6 12  9 12  3  9  3]\n"
     ]
    },
    {
     "name": "stdout",
     "output_type": "stream",
     "text": [
      "loss for counter 120 is 1.4297293424606323\ncounter 120: valid acc = 0.0\n[4 4 4 4 4 4 4 4 8 4 4 4 4 4 4 4 4 4 4 4]\n[12  9  9  6  9  9  6  9  9  3  9  6 12  6 12  9 12  3  9  3]\n"
     ]
    },
    {
     "name": "stdout",
     "output_type": "stream",
     "text": [
      "loss for counter 125 is 2.1785104274749756\ncounter 125: valid acc = 0.0\n[4 4 4 4 4 4 4 4 8 4 4 4 8 4 4 4 4 4 4 4]\n[12  9  9  6  9  9  6  9  9  3  9  6 12  6 12  9 12  3  9  3]\n"
     ]
    },
    {
     "name": "stdout",
     "output_type": "stream",
     "text": [
      "loss for counter 130 is 2.3758883476257324\ncounter 130: valid acc = 0.0\n[4 4 4 4 4 4 4 4 8 4 4 4 8 4 4 4 4 4 4 4]\n[12  9  9  6  9  9  6  9  9  3  9  6 12  6 12  9 12  3  9  3]\n"
     ]
    },
    {
     "name": "stdout",
     "output_type": "stream",
     "text": [
      "loss for counter 135 is 1.9979307651519775\ncounter 135: valid acc = 0.0\n[8 4 4 4 4 4 4 4 8 4 4 4 8 4 8 4 8 4 4 4]\n[12  9  9  6  9  9  6  9  9  3  9  6 12  6 12  9 12  3  9  3]\n"
     ]
    },
    {
     "name": "stdout",
     "output_type": "stream",
     "text": [
      "loss for counter 140 is 1.977400302886963\ncounter 140: valid acc = 0.0\n[8 8 4 4 4 4 4 4 8 4 4 4 8 4 8 4 8 4 4 4]\n[12  9  9  6  9  9  6  9  9  3  9  6 12  6 12  9 12  3  9  3]\n"
     ]
    },
    {
     "name": "stdout",
     "output_type": "stream",
     "text": [
      "loss for counter 145 is 2.3021695613861084\ncounter 145: valid acc = 0.0\n[8 8 8 8 8 8 8 8 8 4 4 4 8 4 8 8 8 4 4 4]\n[12  9  9  6  9  9  6  9  9  3  9  6 12  6 12  9 12  3  9  3]\n"
     ]
    },
    {
     "name": "stdout",
     "output_type": "stream",
     "text": [
      "loss for counter 150 is 2.3396856784820557\ncounter 150: valid acc = 0.0\n[8 8 8 8 8 8 8 8 8 8 8 8 8 8 8 8 8 8 8 8]\n[12  9  9  6  9  9  6  9  9  3  9  6 12  6 12  9 12  3  9  3]\n"
     ]
    },
    {
     "name": "stdout",
     "output_type": "stream",
     "text": [
      "loss for counter 155 is 2.327465772628784\ncounter 155: valid acc = 0.0\n[8 8 8 8 8 8 8 8 8 8 8 8 8 8 8 8 8 8 8 8]\n[12  9  9  6  9  9  6  9  9  3  9  6 12  6 12  9 12  3  9  3]\n"
     ]
    },
    {
     "name": "stdout",
     "output_type": "stream",
     "text": [
      "loss for counter 160 is 1.139379620552063\ncounter 160: valid acc = 0.0\n[8 8 8 8 8 8 8 8 8 8 8 8 8 8 8 8 8 8 8 8]\n[12  9  9  6  9  9  6  9  9  3  9  6 12  6 12  9 12  3  9  3]\n"
     ]
    },
    {
     "name": "stdout",
     "output_type": "stream",
     "text": [
      "loss for counter 165 is 1.1088624000549316\ncounter 165: valid acc = 0.0\n[8 8 8 8 8 8 8 8 8 8 8 8 8 8 8 8 8 8 8 8]\n[12  9  9  6  9  9  6  9  9  3  9  6 12  6 12  9 12  3  9  3]\n"
     ]
    },
    {
     "name": "stdout",
     "output_type": "stream",
     "text": [
      "loss for counter 170 is 1.0852668285369873\ncounter 170: valid acc = 0.0\n[8 8 8 8 8 8 8 8 8 8 8 8 8 8 8 8 8 8 8 8]\n[12  9  9  6  9  9  6  9  9  3  9  6 12  6 12  9 12  3  9  3]\n"
     ]
    },
    {
     "name": "stdout",
     "output_type": "stream",
     "text": [
      "loss for counter 175 is 1.3017349243164062\ncounter 175: valid acc = 0.0\n[8 8 8 8 8 8 8 8 8 8 8 8 8 8 8 8 8 8 8 8]\n[12  9  9  6  9  9  6  9  9  3  9  6 12  6 12  9 12  3  9  3]\n"
     ]
    },
    {
     "name": "stdout",
     "output_type": "stream",
     "text": [
      "loss for counter 180 is 1.3724181652069092\ncounter 180: valid acc = 0.0\n[8 8 4 8 8 8 8 4 8 4 4 4 8 4 8 8 8 4 4 4]\n[12  9  9  6  9  9  6  9  9  3  9  6 12  6 12  9 12  3  9  3]\n"
     ]
    },
    {
     "name": "stdout",
     "output_type": "stream",
     "text": [
      "loss for counter 185 is 1.25709068775177\ncounter 185: valid acc = 0.0\n[8 8 4 4 4 4 4 4 8 4 4 4 8 4 8 4 8 4 4 4]\n[12  9  9  6  9  9  6  9  9  3  9  6 12  6 12  9 12  3  9  3]\n"
     ]
    },
    {
     "name": "stdout",
     "output_type": "stream",
     "text": [
      "loss for counter 190 is 1.2268190383911133\ncounter 190: valid acc = 0.0\n[4 4 4 4 4 4 4 4 8 4 4 4 4 4 4 4 4 4 4 4]\n[12  9  9  6  9  9  6  9  9  3  9  6 12  6 12  9 12  3  9  3]\n"
     ]
    },
    {
     "name": "stdout",
     "output_type": "stream",
     "text": [
      "loss for counter 195 is 2.233076810836792\ncounter 195: valid acc = 0.0\n[8 8 4 4 4 4 4 4 8 4 4 4 8 4 8 4 8 4 4 4]\n[12  9  9  6  9  9  6  9  9  3  9  6 12  6 12  9 12  3  9  3]\n"
     ]
    },
    {
     "name": "stdout",
     "output_type": "stream",
     "text": [
      "loss for counter 200 is 2.32006573677063\ncounter 200: valid acc = 0.0\n[8 8 4 8 8 8 8 4 8 4 4 4 8 4 8 8 8 4 4 4]\n[12  9  9  6  9  9  6  9  9  3  9  6 12  6 12  9 12  3  9  3]\n"
     ]
    },
    {
     "name": "stdout",
     "output_type": "stream",
     "text": [
      "loss for counter 205 is 1.8836615085601807\ncounter 205: valid acc = 0.0\n[8 8 4 8 8 8 8 4 8 4 4 4 8 4 8 8 8 4 4 4]\n[12  9  9  6  9  9  6  9  9  3  9  6 12  6 12  9 12  3  9  3]\n"
     ]
    },
    {
     "name": "stdout",
     "output_type": "stream",
     "text": [
      "loss for counter 210 is 1.8009802103042603\ncounter 210: valid acc = 0.0\n[8 8 4 8 8 8 8 4 8 4 4 4 8 4 8 8 8 4 4 4]\n[12  9  9  6  9  9  6  9  9  3  9  6 12  6 12  9 12  3  9  3]\n"
     ]
    },
    {
     "name": "stdout",
     "output_type": "stream",
     "text": [
      "loss for counter 215 is 2.2652828693389893\ncounter 215: valid acc = 0.0\n[8 8 8 8 8 8 8 8 8 8 8 8 8 4 8 8 8 8 8 8]\n[12  9  9  6  9  9  6  9  9  3  9  6 12  6 12  9 12  3  9  3]\n"
     ]
    },
    {
     "name": "stdout",
     "output_type": "stream",
     "text": [
      "loss for counter 220 is 2.2906882762908936\ncounter 220: valid acc = 0.0\n[8 8 8 8 8 8 8 8 8 8 8 8 8 8 8 8 8 8 8 8]\n[12  9  9  6  9  9  6  9  9  3  9  6 12  6 12  9 12  3  9  3]\n"
     ]
    },
    {
     "name": "stdout",
     "output_type": "stream",
     "text": [
      "loss for counter 225 is 2.281104564666748\ncounter 225: valid acc = 0.0\n[8 8 8 8 8 8 8 8 8 8 8 8 8 8 8 8 8 8 8 8]\n[12  9  9  6  9  9  6  9  9  3  9  6 12  6 12  9 12  3  9  3]\n"
     ]
    },
    {
     "name": "stdout",
     "output_type": "stream",
     "text": [
      "loss for counter 230 is 1.071022629737854\ncounter 230: valid acc = 0.0\n[8 8 8 8 8 8 8 8 8 8 8 8 8 8 8 8 8 8 8 8]\n[12  9  9  6  9  9  6  9  9  3  9  6 12  6 12  9 12  3  9  3]\n"
     ]
    },
    {
     "name": "stdout",
     "output_type": "stream",
     "text": [
      "loss for counter 235 is 1.0311866998672485\ncounter 235: valid acc = 0.0\n[8 8 8 8 8 8 8 8 8 8 8 8 8 8 8 8 8 8 8 8]\n[12  9  9  6  9  9  6  9  9  3  9  6 12  6 12  9 12  3  9  3]\n"
     ]
    },
    {
     "name": "stdout",
     "output_type": "stream",
     "text": [
      "loss for counter 240 is 1.0051891803741455\ncounter 240: valid acc = 0.0\n[8 8 8 8 8 8 8 8 8 8 8 8 8 8 8 8 8 8 8 8]\n[12  9  9  6  9  9  6  9  9  3  9  6 12  6 12  9 12  3  9  3]\n"
     ]
    },
    {
     "name": "stdout",
     "output_type": "stream",
     "text": [
      "loss for counter 245 is 1.2421436309814453\ncounter 245: valid acc = 0.0\n[8 8 8 8 8 8 8 8 8 8 8 8 8 8 8 8 8 8 8 8]\n[12  9  9  6  9  9  6  9  9  3  9  6 12  6 12  9 12  3  9  3]\n"
     ]
    },
    {
     "name": "stdout",
     "output_type": "stream",
     "text": [
      "loss for counter 250 is 1.3184566497802734\ncounter 250: valid acc = 0.0\n[8 8 8 8 8 8 8 8 8 4 4 4 8 4 8 8 8 8 4 8]\n[12  9  9  6  9  9  6  9  9  3  9  6 12  6 12  9 12  3  9  3]\n"
     ]
    },
    {
     "name": "stdout",
     "output_type": "stream",
     "text": [
      "loss for counter 255 is 1.2071529626846313\ncounter 255: valid acc = 0.0\n[8 8 4 8 4 8 4 4 8 4 4 4 8 4 8 8 8 4 4 4]\n[12  9  9  6  9  9  6  9  9  3  9  6 12  6 12  9 12  3  9  3]\n"
     ]
    },
    {
     "name": "stdout",
     "output_type": "stream",
     "text": [
      "loss for counter 260 is 1.183332085609436\ncounter 260: valid acc = 0.0\n[4 4 4 4 4 4 4 4 8 4 4 4 8 4 4 4 4 4 4 4]\n[12  9  9  6  9  9  6  9  9  3  9  6 12  6 12  9 12  3  9  3]\n"
     ]
    },
    {
     "name": "stdout",
     "output_type": "stream",
     "text": [
      "loss for counter 265 is 2.164684534072876\ncounter 265: valid acc = 0.0\n[8 8 4 8 4 8 4 4 8 4 4 4 8 4 8 8 8 4 4 4]\n[12  9  9  6  9  9  6  9  9  3  9  6 12  6 12  9 12  3  9  3]\n"
     ]
    },
    {
     "name": "stdout",
     "output_type": "stream",
     "text": [
      "loss for counter 270 is 2.2120351791381836\ncounter 270: valid acc = 0.0\n[8 8 8 8 8 8 8 8 8 4 4 4 8 4 8 8 8 4 4 4]\n[12  9  9  6  9  9  6  9  9  3  9  6 12  6 12  9 12  3  9  3]\n"
     ]
    },
    {
     "name": "stdout",
     "output_type": "stream",
     "text": [
      "loss for counter 275 is 1.763846755027771\ncounter 275: valid acc = 0.0\n[8 8 8 8 8 8 8 8 8 4 4 4 8 4 8 8 8 4 4 4]\n[12  9  9  6  9  9  6  9  9  3  9  6 12  6 12  9 12  3  9  3]\n"
     ]
    },
    {
     "name": "stdout",
     "output_type": "stream",
     "text": [
      "loss for counter 280 is 1.6453059911727905\ncounter 280: valid acc = 0.22317351400852203\n[6 6 6 6 6 6 6 6 8 6 6 6 6 6 6 6 6 6 6 6]\n[12  9  9  6  9  9  6  9  9  3  9  6 12  6 12  9 12  3  9  3]\n"
     ]
    },
    {
     "name": "stdout",
     "output_type": "stream",
     "text": [
      "loss for counter 285 is 2.2506792545318604\ncounter 285: valid acc = 0.22031962871551514\n[6 6 6 6 6 6 6 6 8 6 6 6 8 6 6 6 6 6 6 6]\n[12  9  9  6  9  9  6  9  9  3  9  6 12  6 12  9 12  3  9  3]\n"
     ]
    },
    {
     "name": "stdout",
     "output_type": "stream",
     "text": [
      "loss for counter 290 is 2.2660675048828125\ncounter 290: valid acc = 0.2009132355451584\n[8 8 6 8 6 8 6 6 8 6 6 6 8 6 8 6 8 6 6 6]\n[12  9  9  6  9  9  6  9  9  3  9  6 12  6 12  9 12  3  9  3]\n"
     ]
    },
    {
     "name": "stdout",
     "output_type": "stream",
     "text": [
      "loss for counter 295 is 2.264549732208252\ncounter 295: valid acc = 0.10331050306558609\n[8 8 8 8 8 8 8 8 8 8 8 6 8 6 8 8 8 8 6 8]\n[12  9  9  6  9  9  6  9  9  3  9  6 12  6 12  9 12  3  9  3]\n"
     ]
    },
    {
     "name": "stdout",
     "output_type": "stream",
     "text": [
      "loss for counter 300 is 1.0952444076538086\ncounter 300: valid acc = 0.0\n[8 8 8 8 8 8 8 8 8 8 8 8 8 8 8 8 8 8 8 8]\n[12  9  9  6  9  9  6  9  9  3  9  6 12  6 12  9 12  3  9  3]\n"
     ]
    },
    {
     "name": "stdout",
     "output_type": "stream",
     "text": [
      "loss for counter 305 is 1.0331060886383057\ncounter 305: valid acc = 0.0\n[8 8 8 8 8 8 8 8 8 8 8 8 8 8 8 8 8 8 8 8]\n[12  9  9  6  9  9  6  9  9  3  9  6 12  6 12  9 12  3  9  3]\n"
     ]
    },
    {
     "name": "stdout",
     "output_type": "stream",
     "text": [
      "loss for counter 310 is 0.9928126931190491\ncounter 310: valid acc = 0.0\n[8 8 8 8 8 8 8 8 8 8 8 8 8 8 8 8 8 8 8 8]\n[12  9  9  6  9  9  6  9  9  3  9  6 12  6 12  9 12  3  9  3]\n"
     ]
    },
    {
     "name": "stdout",
     "output_type": "stream",
     "text": [
      "loss for counter 315 is 1.2212504148483276\ncounter 315: valid acc = 0.0\n[8 8 8 8 8 8 8 8 8 8 8 8 8 8 8 8 8 8 8 8]\n[12  9  9  6  9  9  6  9  9  3  9  6 12  6 12  9 12  3  9  3]\n"
     ]
    },
    {
     "name": "stdout",
     "output_type": "stream",
     "text": [
      "loss for counter 320 is 1.292829155921936\ncounter 320: valid acc = 0.0\n[8 8 8 8 8 8 8 8 8 4 4 4 8 4 8 8 8 4 4 4]\n[12  9  9  6  9  9  6  9  9  3  9  6 12  6 12  9 12  3  9  3]\n"
     ]
    },
    {
     "name": "stdout",
     "output_type": "stream",
     "text": [
      "loss for counter 325 is 1.1821876764297485\ncounter 325: valid acc = 0.0\n[8 8 4 8 8 8 8 4 8 4 4 4 8 4 8 8 8 4 4 4]\n[12  9  9  6  9  9  6  9  9  3  9  6 12  6 12  9 12  3  9  3]\n"
     ]
    },
    {
     "name": "stdout",
     "output_type": "stream",
     "text": [
      "loss for counter 330 is 1.1570578813552856\ncounter 330: valid acc = 0.0\n[4 4 4 4 4 4 4 4 8 4 4 4 8 4 4 4 8 4 4 4]\n[12  9  9  6  9  9  6  9  9  3  9  6 12  6 12  9 12  3  9  3]\n"
     ]
    },
    {
     "name": "stdout",
     "output_type": "stream",
     "text": [
      "loss for counter 335 is 2.1205499172210693\ncounter 335: valid acc = 0.0\n[8 8 4 8 8 8 8 4 8 4 4 4 8 4 8 8 8 4 4 4]\n[12  9  9  6  9  9  6  9  9  3  9  6 12  6 12  9 12  3  9  3]\n"
     ]
    },
    {
     "name": "stdout",
     "output_type": "stream",
     "text": [
      "loss for counter 340 is 2.1392228603363037\ncounter 340: valid acc = 0.0\n[8 8 8 8 8 8 8 8 8 4 4 4 8 4 8 8 8 4 4 4]\n[12  9  9  6  9  9  6  9  9  3  9  6 12  6 12  9 12  3  9  3]\n"
     ]
    },
    {
     "name": "stdout",
     "output_type": "stream",
     "text": [
      "loss for counter 345 is 1.6829922199249268\ncounter 345: valid acc = 0.027397260069847107\n[8 8 8 8 8 8 8 8 8 4 6 4 8 4 8 8 8 4 4 4]\n[12  9  9  6  9  9  6  9  9  3  9  6 12  6 12  9 12  3  9  3]\n"
     ]
    },
    {
     "name": "stdout",
     "output_type": "stream",
     "text": [
      "loss for counter 350 is 1.5466808080673218\ncounter 350: valid acc = 0.22374428808689117\n[6 6 6 6 6 6 6 6 6 6 6 6 6 6 6 6 6 6 6 6]\n[12  9  9  6  9  9  6  9  9  3  9  6 12  6 12  9 12  3  9  3]\n"
     ]
    },
    {
     "name": "stdout",
     "output_type": "stream",
     "text": [
      "loss for counter 355 is 2.241425037384033\ncounter 355: valid acc = 0.22374428808689117\n[6 6 6 6 6 6 6 6 8 6 6 6 6 6 6 6 6 6 6 6]\n[12  9  9  6  9  9  6  9  9  3  9  6 12  6 12  9 12  3  9  3]\n"
     ]
    },
    {
     "name": "stdout",
     "output_type": "stream",
     "text": [
      "loss for counter 360 is 2.250638961791992\ncounter 360: valid acc = 0.2226027399301529\n[6 6 6 6 6 6 6 6 8 6 6 6 6 6 6 6 6 6 6 6]\n[12  9  9  6  9  9  6  9  9  3  9  6 12  6 12  9 12  3  9  3]\n"
     ]
    },
    {
     "name": "stdout",
     "output_type": "stream",
     "text": [
      "loss for counter 365 is 2.256990671157837\ncounter 365: valid acc = 0.21632419526576996\n[8 6 6 6 6 6 6 6 8 6 6 6 8 6 6 6 8 6 6 6]\n[12  9  9  6  9  9  6  9  9  3  9  6 12  6 12  9 12  3  9  3]\n"
     ]
    },
    {
     "name": "stdout",
     "output_type": "stream",
     "text": [
      "loss for counter 370 is 1.1204191446304321\ncounter 370: valid acc = 0.0\n[8 8 8 8 8 8 8 8 8 8 8 8 8 8 8 8 8 8 8 8]\n[12  9  9  6  9  9  6  9  9  3  9  6 12  6 12  9 12  3  9  3]\n"
     ]
    },
    {
     "name": "stdout",
     "output_type": "stream",
     "text": [
      "loss for counter 375 is 1.0342766046524048\ncounter 375: valid acc = 0.0\n[8 8 8 8 8 8 8 8 8 8 8 8 8 8 8 8 8 8 8 8]\n[12  9  9  6  9  9  6  9  9  3  9  6 12  6 12  9 12  3  9  3]\n"
     ]
    },
    {
     "name": "stdout",
     "output_type": "stream",
     "text": [
      "loss for counter 380 is 0.9811902642250061\ncounter 380: valid acc = 0.0\n[8 8 8 8 8 8 8 8 8 8 8 8 8 8 8 8 8 8 8 8]\n[12  9  9  6  9  9  6  9  9  3  9  6 12  6 12  9 12  3  9  3]\n"
     ]
    },
    {
     "name": "stdout",
     "output_type": "stream",
     "text": [
      "loss for counter 385 is 1.2032158374786377\ncounter 385: valid acc = 0.0\n[8 8 8 8 8 8 8 8 8 8 8 8 8 8 8 8 8 8 8 8]\n[12  9  9  6  9  9  6  9  9  3  9  6 12  6 12  9 12  3  9  3]\n"
     ]
    },
    {
     "name": "stdout",
     "output_type": "stream",
     "text": [
      "loss for counter 390 is 1.2717278003692627\ncounter 390: valid acc = 0.0\n[8 8 8 8 8 8 8 8 8 4 4 4 8 4 8 8 8 4 4 4]\n[12  9  9  6  9  9  6  9  9  3  9  6 12  6 12  9 12  3  9  3]\n"
     ]
    },
    {
     "name": "stdout",
     "output_type": "stream",
     "text": [
      "loss for counter 395 is 1.1608136892318726\ncounter 395: valid acc = 0.0\n[8 8 4 8 8 8 8 4 8 4 4 4 8 4 8 8 8 4 4 4]\n[12  9  9  6  9  9  6  9  9  3  9  6 12  6 12  9 12  3  9  3]\n"
     ]
    },
    {
     "name": "stdout",
     "output_type": "stream",
     "text": [
      "loss for counter 400 is 1.1353691816329956\ncounter 400: valid acc = 0.0\n[8 8 4 4 4 4 4 4 8 4 4 4 8 4 8 4 8 4 4 4]\n[12  9  9  6  9  9  6  9  9  3  9  6 12  6 12  9 12  3  9  3]\n"
     ]
    },
    {
     "name": "stdout",
     "output_type": "stream",
     "text": [
      "loss for counter 405 is 2.099794626235962\ncounter 405: valid acc = 0.0\n[8 8 4 8 8 8 8 4 8 4 4 4 8 4 8 8 8 4 4 4]\n[12  9  9  6  9  9  6  9  9  3  9  6 12  6 12  9 12  3  9  3]\n"
     ]
    },
    {
     "name": "stdout",
     "output_type": "stream",
     "text": [
      "loss for counter 410 is 2.088498592376709\ncounter 410: valid acc = 0.0\n[8 8 8 8 8 8 8 8 8 4 4 4 8 4 8 8 8 4 4 4]\n[12  9  9  6  9  9  6  9  9  3  9  6 12  6 12  9 12  3  9  3]\n"
     ]
    },
    {
     "name": "stdout",
     "output_type": "stream",
     "text": [
      "loss for counter 415 is 1.6225711107254028\ncounter 415: valid acc = 0.21746575832366943\n[6 6 6 6 6 6 6 6 8 6 6 6 8 6 6 6 8 6 6 6]\n[12  9  9  6  9  9  6  9  9  3  9  6 12  6 12  9 12  3  9  3]\n"
     ]
    },
    {
     "name": "stdout",
     "output_type": "stream",
     "text": [
      "loss for counter 420 is 1.4776785373687744\ncounter 420: valid acc = 0.22431506216526031\n[6 6 6 6 6 6 6 6 6 6 6 6 6 6 6 6 6 6 6 6]\n[12  9  9  6  9  9  6  9  9  3  9  6 12  6 12  9 12  3  9  3]\n"
     ]
    },
    {
     "name": "stdout",
     "output_type": "stream",
     "text": [
      "loss for counter 425 is 2.233103036880493\ncounter 425: valid acc = 0.22374428808689117\n[6 6 6 6 6 6 6 6 6 6 6 6 6 6 6 6 6 6 6 6]\n[12  9  9  6  9  9  6  9  9  3  9  6 12  6 12  9 12  3  9  3]\n"
     ]
    },
    {
     "name": "stdout",
     "output_type": "stream",
     "text": [
      "loss for counter 430 is 2.2377700805664062\ncounter 430: valid acc = 0.22374428808689117\n[6 6 6 6 6 6 6 6 8 6 6 6 6 6 6 6 6 6 6 6]\n[12  9  9  6  9  9  6  9  9  3  9  6 12  6 12  9 12  3  9  3]\n"
     ]
    },
    {
     "name": "stdout",
     "output_type": "stream",
     "text": [
      "loss for counter 435 is 2.2503502368927\ncounter 435: valid acc = 0.2214611917734146\n[6 6 6 6 6 6 6 6 8 6 6 6 6 6 6 6 6 6 6 6]\n[12  9  9  6  9  9  6  9  9  3  9  6 12  6 12  9 12  3  9  3]\n"
     ]
    },
    {
     "name": "stdout",
     "output_type": "stream",
     "text": [
      "loss for counter 440 is 1.141333818435669\ncounter 440: valid acc = 0.0\n[8 8 8 8 8 8 8 8 8 8 8 8 8 8 8 8 8 8 8 8]\n[12  9  9  6  9  9  6  9  9  3  9  6 12  6 12  9 12  3  9  3]\n"
     ]
    },
    {
     "name": "stdout",
     "output_type": "stream",
     "text": [
      "loss for counter 445 is 1.0309003591537476\ncounter 445: valid acc = 0.0\n[8 8 8 8 8 8 8 8 8 8 8 8 8 8 8 8 8 8 8 8]\n[12  9  9  6  9  9  6  9  9  3  9  6 12  6 12  9 12  3  9  3]\n"
     ]
    },
    {
     "name": "stdout",
     "output_type": "stream",
     "text": [
      "loss for counter 450 is 0.9669733047485352\ncounter 450: valid acc = 0.0\n[8 8 8 8 8 8 8 8 8 8 8 8 8 8 8 8 8 8 8 8]\n[12  9  9  6  9  9  6  9  9  3  9  6 12  6 12  9 12  3  9  3]\n"
     ]
    },
    {
     "name": "stdout",
     "output_type": "stream",
     "text": [
      "loss for counter 455 is 1.1863489151000977\ncounter 455: valid acc = 0.0\n[8 8 8 8 8 8 8 8 8 8 8 8 8 8 8 8 8 8 8 8]\n[12  9  9  6  9  9  6  9  9  3  9  6 12  6 12  9 12  3  9  3]\n"
     ]
    },
    {
     "name": "stdout",
     "output_type": "stream",
     "text": [
      "loss for counter 460 is 1.253129005432129\ncounter 460: valid acc = 0.0\n[8 8 8 8 8 8 8 8 8 4 4 4 8 4 8 8 8 4 4 4]\n[12  9  9  6  9  9  6  9  9  3  9  6 12  6 12  9 12  3  9  3]\n"
     ]
    },
    {
     "name": "stdout",
     "output_type": "stream",
     "text": [
      "loss for counter 465 is 1.1412677764892578\ncounter 465: valid acc = 0.0\n[8 8 4 8 8 8 8 4 8 4 4 4 8 4 8 8 8 4 4 4]\n[12  9  9  6  9  9  6  9  9  3  9  6 12  6 12  9 12  3  9  3]\n"
     ]
    },
    {
     "name": "stdout",
     "output_type": "stream",
     "text": [
      "loss for counter 470 is 1.115979790687561\ncounter 470: valid acc = 0.0\n[8 8 4 4 4 4 4 4 8 4 4 4 8 4 8 4 8 4 4 4]\n[12  9  9  6  9  9  6  9  9  3  9  6 12  6 12  9 12  3  9  3]\n"
     ]
    },
    {
     "name": "stdout",
     "output_type": "stream",
     "text": [
      "loss for counter 475 is 2.08971905708313\ncounter 475: valid acc = 0.0\n[8 8 4 8 8 8 8 8 8 4 4 4 8 4 8 8 8 4 4 4]\n[12  9  9  6  9  9  6  9  9  3  9  6 12  6 12  9 12  3  9  3]\n"
     ]
    },
    {
     "name": "stdout",
     "output_type": "stream",
     "text": [
      "loss for counter 480 is 2.0423848628997803\ncounter 480: valid acc = 0.0\n[8 8 8 8 8 8 8 8 8 4 4 4 8 4 8 8 8 4 4 4]\n[12  9  9  6  9  9  6  9  9  3  9  6 12  6 12  9 12  3  9  3]\n"
     ]
    },
    {
     "name": "stdout",
     "output_type": "stream",
     "text": [
      "loss for counter 485 is 1.5648518800735474\ncounter 485: valid acc = 0.2226027399301529\n[6 6 6 6 6 6 6 6 8 6 6 6 6 6 6 6 6 6 6 6]\n[12  9  9  6  9  9  6  9  9  3  9  6 12  6 12  9 12  3  9  3]\n"
     ]
    },
    {
     "name": "stdout",
     "output_type": "stream",
     "text": [
      "loss for counter 490 is 1.4137020111083984\ncounter 490: valid acc = 0.22431506216526031\n[6 6 6 6 6 6 6 6 6 6 6 6 6 6 6 6 6 6 6 6]\n[12  9  9  6  9  9  6  9  9  3  9  6 12  6 12  9 12  3  9  3]\n"
     ]
    },
    {
     "name": "stdout",
     "output_type": "stream",
     "text": [
      "loss for counter 495 is 2.2260055541992188\ncounter 495: valid acc = 0.22431506216526031\n[6 6 6 6 6 6 6 6 6 6 6 6 6 6 6 6 6 6 6 6]\n[12  9  9  6  9  9  6  9  9  3  9  6 12  6 12  9 12  3  9  3]\n"
     ]
    },
    {
     "name": "stdout",
     "output_type": "stream",
     "text": [
      "loss for counter 500 is 2.224780559539795\ncounter 500: valid acc = 0.22374428808689117\n[6 6 6 6 6 6 6 6 6 6 6 6 6 6 6 6 6 6 6 6]\n[12  9  9  6  9  9  6  9  9  3  9  6 12  6 12  9 12  3  9  3]\n"
     ]
    },
    {
     "name": "stdout",
     "output_type": "stream",
     "text": [
      "loss for counter 505 is 2.2425119876861572\ncounter 505: valid acc = 0.22317351400852203\n[6 6 6 6 6 6 6 6 8 6 6 6 6 6 6 6 6 6 6 6]\n[12  9  9  6  9  9  6  9  9  3  9  6 12  6 12  9 12  3  9  3]\n"
     ]
    },
    {
     "name": "stdout",
     "output_type": "stream",
     "text": [
      "loss for counter 510 is 1.162802815437317\ncounter 510: valid acc = 0.0\n[8 8 8 8 8 8 8 8 8 8 8 8 8 8 8 8 8 8 8 8]\n[12  9  9  6  9  9  6  9  9  3  9  6 12  6 12  9 12  3  9  3]\n"
     ]
    },
    {
     "name": "stdout",
     "output_type": "stream",
     "text": [
      "loss for counter 515 is 1.0245602130889893\ncounter 515: valid acc = 0.0\n[8 8 8 8 8 8 8 8 8 8 8 8 8 8 8 8 8 8 8 8]\n[12  9  9  6  9  9  6  9  9  3  9  6 12  6 12  9 12  3  9  3]\n"
     ]
    },
    {
     "name": "stdout",
     "output_type": "stream",
     "text": [
      "loss for counter 520 is 0.9500662684440613\ncounter 520: valid acc = 0.0\n[8 8 8 8 8 8 8 8 8 8 8 8 8 8 8 8 8 8 8 8]\n[12  9  9  6  9  9  6  9  9  3  9  6 12  6 12  9 12  3  9  3]\n"
     ]
    },
    {
     "name": "stdout",
     "output_type": "stream",
     "text": [
      "loss for counter 525 is 1.170359492301941\ncounter 525: valid acc = 0.0\n[8 8 8 8 8 8 8 8 8 8 8 8 8 8 8 8 8 8 8 8]\n[12  9  9  6  9  9  6  9  9  3  9  6 12  6 12  9 12  3  9  3]\n"
     ]
    },
    {
     "name": "stdout",
     "output_type": "stream",
     "text": [
      "loss for counter 530 is 1.2357351779937744\ncounter 530: valid acc = 0.0\n[8 8 8 8 8 8 8 8 8 4 4 4 8 4 8 8 8 4 4 4]\n[12  9  9  6  9  9  6  9  9  3  9  6 12  6 12  9 12  3  9  3]\n"
     ]
    },
    {
     "name": "stdout",
     "output_type": "stream",
     "text": [
      "loss for counter 535 is 1.122448205947876\ncounter 535: valid acc = 0.0\n[8 8 4 8 8 8 8 4 8 4 4 4 8 4 8 8 8 4 4 4]\n[12  9  9  6  9  9  6  9  9  3  9  6 12  6 12  9 12  3  9  3]\n"
     ]
    },
    {
     "name": "stdout",
     "output_type": "stream",
     "text": [
      "loss for counter 540 is 1.0971966981887817\ncounter 540: valid acc = 0.0\n[8 8 4 4 4 4 4 4 8 4 4 4 8 4 8 4 8 4 4 4]\n[12  9  9  6  9  9  6  9  9  3  9  6 12  6 12  9 12  3  9  3]\n"
     ]
    },
    {
     "name": "stdout",
     "output_type": "stream",
     "text": [
      "loss for counter 545 is 2.0838370323181152\ncounter 545: valid acc = 0.0\n[8 8 8 8 8 8 8 8 8 4 4 4 8 4 8 8 8 4 4 4]\n[12  9  9  6  9  9  6  9  9  3  9  6 12  6 12  9 12  3  9  3]\n"
     ]
    },
    {
     "name": "stdout",
     "output_type": "stream",
     "text": [
      "loss for counter 550 is 1.988680124282837\ncounter 550: valid acc = 0.0\n[8 8 8 8 8 8 8 8 8 4 4 4 8 4 8 8 8 4 4 4]\n[12  9  9  6  9  9  6  9  9  3  9  6 12  6 12  9 12  3  9  3]\n"
     ]
    },
    {
     "name": "stdout",
     "output_type": "stream",
     "text": [
      "loss for counter 555 is 1.4985640048980713\ncounter 555: valid acc = 0.22374428808689117\n[6 6 6 6 6 6 6 6 6 6 6 6 6 6 6 6 6 6 6 6]\n[12  9  9  6  9  9  6  9  9  3  9  6 12  6 12  9 12  3  9  3]\n"
     ]
    },
    {
     "name": "stdout",
     "output_type": "stream",
     "text": [
      "loss for counter 560 is 1.340578317642212\ncounter 560: valid acc = 0.22488585114479065\n[6 6 6 6 6 6 6 6 6 6 6 6 6 6 6 6 6 6 6 6]\n[12  9  9  6  9  9  6  9  9  3  9  6 12  6 12  9 12  3  9  3]\n"
     ]
    },
    {
     "name": "stdout",
     "output_type": "stream",
     "text": [
      "loss for counter 565 is 2.2220866680145264\ncounter 565: valid acc = 0.22431506216526031\n[6 6 6 6 6 6 6 6 6 6 6 6 6 6 6 6 6 6 6 6]\n[12  9  9  6  9  9  6  9  9  3  9  6 12  6 12  9 12  3  9  3]\n"
     ]
    },
    {
     "name": "stdout",
     "output_type": "stream",
     "text": [
      "loss for counter 570 is 2.2105655670166016\ncounter 570: valid acc = 0.22431506216526031\n[6 6 6 6 6 6 6 6 6 6 6 6 6 6 6 6 6 6 6 6]\n[12  9  9  6  9  9  6  9  9  3  9  6 12  6 12  9 12  3  9  3]\n"
     ]
    },
    {
     "name": "stdout",
     "output_type": "stream",
     "text": [
      "loss for counter 575 is 2.232780933380127\ncounter 575: valid acc = 0.22374428808689117\n[6 6 6 6 6 6 6 6 8 6 6 6 6 6 6 6 6 6 6 6]\n[12  9  9  6  9  9  6  9  9  3  9  6 12  6 12  9 12  3  9  3]\n"
     ]
    },
    {
     "name": "stdout",
     "output_type": "stream",
     "text": [
      "loss for counter 580 is 1.1869810819625854\ncounter 580: valid acc = 0.0\n[8 8 8 8 8 8 8 8 8 8 8 8 8 8 8 8 8 8 8 8]\n[12  9  9  6  9  9  6  9  9  3  9  6 12  6 12  9 12  3  9  3]\n"
     ]
    },
    {
     "name": "stdout",
     "output_type": "stream",
     "text": [
      "loss for counter 585 is 1.0144730806350708\ncounter 585: valid acc = 0.0\n[8 8 8 8 8 8 8 8 8 8 8 8 8 8 8 8 8 8 8 8]\n[12  9  9  6  9  9  6  9  9  3  9  6 12  6 12  9 12  3  9  3]\n"
     ]
    },
    {
     "name": "stdout",
     "output_type": "stream",
     "text": [
      "loss for counter 590 is 0.9293167591094971\ncounter 590: valid acc = 0.0\n[8 8 8 8 8 8 8 8 8 8 8 8 8 8 8 8 8 8 8 8]\n[12  9  9  6  9  9  6  9  9  3  9  6 12  6 12  9 12  3  9  3]\n"
     ]
    },
    {
     "name": "stdout",
     "output_type": "stream",
     "text": [
      "loss for counter 595 is 1.154919147491455\ncounter 595: valid acc = 0.0\n[8 8 8 8 8 8 8 8 8 8 8 8 8 8 8 8 8 8 8 8]\n[12  9  9  6  9  9  6  9  9  3  9  6 12  6 12  9 12  3  9  3]\n"
     ]
    },
    {
     "name": "stdout",
     "output_type": "stream",
     "text": [
      "loss for counter 600 is 1.2183748483657837\ncounter 600: valid acc = 0.0\n[8 8 4 8 8 8 8 8 8 4 4 4 8 4 8 8 8 4 4 4]\n[12  9  9  6  9  9  6  9  9  3  9  6 12  6 12  9 12  3  9  3]\n"
     ]
    },
    {
     "name": "stdout",
     "output_type": "stream",
     "text": [
      "loss for counter 605 is 1.1034413576126099\ncounter 605: valid acc = 0.0\n[8 8 4 8 4 8 4 4 8 4 4 4 8 4 8 8 8 4 4 4]\n[12  9  9  6  9  9  6  9  9  3  9  6 12  6 12  9 12  3  9  3]\n"
     ]
    },
    {
     "name": "stdout",
     "output_type": "stream",
     "text": [
      "loss for counter 610 is 1.0777140855789185\ncounter 610: valid acc = 0.0\n[8 8 4 4 4 4 4 4 8 4 4 4 8 4 8 4 8 4 4 4]\n[12  9  9  6  9  9  6  9  9  3  9  6 12  6 12  9 12  3  9  3]\n"
     ]
    },
    {
     "name": "stdout",
     "output_type": "stream",
     "text": [
      "loss for counter 615 is 2.077342987060547\ncounter 615: valid acc = 0.0\n[8 8 8 8 8 8 8 8 8 4 4 4 8 4 8 8 8 4 4 4]\n[12  9  9  6  9  9  6  9  9  3  9  6 12  6 12  9 12  3  9  3]\n"
     ]
    },
    {
     "name": "stdout",
     "output_type": "stream",
     "text": [
      "loss for counter 620 is 1.9138739109039307\ncounter 620: valid acc = 0.13413241505622864\n[8 8 6 8 8 8 8 8 8 6 6 6 8 6 8 8 8 6 6 6]\n[12  9  9  6  9  9  6  9  9  3  9  6 12  6 12  9 12  3  9  3]\n"
     ]
    },
    {
     "name": "stdout",
     "output_type": "stream",
     "text": [
      "loss for counter 625 is 1.4142467975616455\ncounter 625: valid acc = 0.22431506216526031\n[6 6 6 6 6 6 6 6 6 6 6 6 6 6 6 6 6 6 6 6]\n[12  9  9  6  9  9  6  9  9  3  9  6 12  6 12  9 12  3  9  3]\n"
     ]
    },
    {
     "name": "stdout",
     "output_type": "stream",
     "text": [
      "loss for counter 630 is 1.2496564388275146\ncounter 630: valid acc = 0.2254566252231598\n[6 6 6 6 6 6 6 6 6 6 6 6 6 6 6 6 6 6 6 6]\n[12  9  9  6  9  9  6  9  9  3  9  6 12  6 12  9 12  3  9  3]\n"
     ]
    },
    {
     "name": "stdout",
     "output_type": "stream",
     "text": [
      "loss for counter 635 is 2.2246363162994385\ncounter 635: valid acc = 0.2254566252231598\n[6 6 6 6 6 6 6 6 6 6 6 6 6 6 6 6 6 6 6 6]\n[12  9  9  6  9  9  6  9  9  3  9  6 12  6 12  9 12  3  9  3]\n"
     ]
    },
    {
     "name": "stdout",
     "output_type": "stream",
     "text": [
      "loss for counter 640 is 2.193781614303589\ncounter 640: valid acc = 0.22431506216526031\n[6 6 6 6 6 6 6 6 6 6 6 6 6 6 6 6 6 6 6 6]\n[12  9  9  6  9  9  6  9  9  3  9  6 12  6 12  9 12  3  9  3]\n"
     ]
    },
    {
     "name": "stdout",
     "output_type": "stream",
     "text": [
      "loss for counter 645 is 2.2191832065582275\ncounter 645: valid acc = 0.22374428808689117\n[6 6 6 6 6 6 6 6 6 6 6 6 6 6 6 6 6 6 6 6]\n[12  9  9  6  9  9  6  9  9  3  9  6 12  6 12  9 12  3  9  3]\n"
     ]
    },
    {
     "name": "stdout",
     "output_type": "stream",
     "text": [
      "loss for counter 650 is 1.2113419771194458\ncounter 650: valid acc = 0.0\n[8 8 8 8 8 8 8 8 8 8 8 8 8 8 8 8 8 8 8 8]\n[12  9  9  6  9  9  6  9  9  3  9  6 12  6 12  9 12  3  9  3]\n"
     ]
    },
    {
     "name": "stdout",
     "output_type": "stream",
     "text": [
      "loss for counter 655 is 0.99649977684021\ncounter 655: valid acc = 0.0\n[8 8 8 8 8 8 8 8 8 8 8 8 8 8 8 8 8 8 8 8]\n[12  9  9  6  9  9  6  9  9  3  9  6 12  6 12  9 12  3  9  3]\n"
     ]
    },
    {
     "name": "stdout",
     "output_type": "stream",
     "text": [
      "loss for counter 660 is 0.9030553698539734\ncounter 660: valid acc = 0.0\n[8 8 8 8 8 8 8 8 8 8 8 8 8 8 8 8 8 8 8 8]\n[12  9  9  6  9  9  6  9  9  3  9  6 12  6 12  9 12  3  9  3]\n"
     ]
    },
    {
     "name": "stdout",
     "output_type": "stream",
     "text": [
      "loss for counter 665 is 1.1401848793029785\ncounter 665: valid acc = 0.0\n[8 8 8 8 8 8 8 8 8 8 8 8 8 8 8 8 8 8 8 8]\n[12  9  9  6  9  9  6  9  9  3  9  6 12  6 12  9 12  3  9  3]\n"
     ]
    },
    {
     "name": "stdout",
     "output_type": "stream",
     "text": [
      "loss for counter 670 is 1.1998507976531982\ncounter 670: valid acc = 0.0\n[8 8 4 8 4 8 4 4 8 4 4 4 8 4 8 8 8 4 4 4]\n[12  9  9  6  9  9  6  9  9  3  9  6 12  6 12  9 12  3  9  3]\n"
     ]
    },
    {
     "name": "stdout",
     "output_type": "stream",
     "text": [
      "loss for counter 675 is 1.0836251974105835\ncounter 675: valid acc = 0.0\n[8 8 4 8 4 8 4 4 8 4 4 4 8 4 8 8 8 4 4 4]\n[12  9  9  6  9  9  6  9  9  3  9  6 12  6 12  9 12  3  9  3]\n"
     ]
    },
    {
     "name": "stdout",
     "output_type": "stream",
     "text": [
      "loss for counter 680 is 1.0566461086273193\ncounter 680: valid acc = 0.0\n[8 8 4 4 4 4 4 4 8 4 4 4 8 4 4 4 8 4 4 4]\n[12  9  9  6  9  9  6  9  9  3  9  6 12  6 12  9 12  3  9  3]\n"
     ]
    },
    {
     "name": "stdout",
     "output_type": "stream",
     "text": [
      "loss for counter 685 is 2.0612785816192627\ncounter 685: valid acc = 0.0\n[8 8 4 8 8 8 8 8 8 4 4 4 8 4 8 8 8 4 4 4]\n[12  9  9  6  9  9  6  9  9  3  9  6 12  6 12  9 12  3  9  3]\n"
     ]
    },
    {
     "name": "stdout",
     "output_type": "stream",
     "text": [
      "loss for counter 690 is 1.7970054149627686\ncounter 690: valid acc = 0.22374428808689117\n[6 6 6 6 6 6 6 6 8 6 6 6 6 6 6 6 6 6 6 6]\n[12  9  9  6  9  9  6  9  9  3  9  6 12  6 12  9 12  3  9  3]\n"
     ]
    },
    {
     "name": "stdout",
     "output_type": "stream",
     "text": [
      "loss for counter 695 is 1.305001139640808\ncounter 695: valid acc = 0.22431506216526031\n[6 6 6 6 6 6 6 6 6 6 6 6 6 6 6 6 6 6 6 6]\n[12  9  9  6  9  9  6  9  9  3  9  6 12  6 12  9 12  3  9  3]\n"
     ]
    },
    {
     "name": "stdout",
     "output_type": "stream",
     "text": [
      "loss for counter 700 is 1.139453649520874\ncounter 700: valid acc = 0.2254566252231598\n[6 6 6 6 6 6 6 6 6 6 6 6 6 6 6 6 6 6 6 6]\n[12  9  9  6  9  9  6  9  9  3  9  6 12  6 12  9 12  3  9  3]\n"
     ]
    },
    {
     "name": "stdout",
     "output_type": "stream",
     "text": [
      "loss for counter 705 is 2.2374236583709717\ncounter 705: valid acc = 0.22659817337989807\n[6 6 6 6 6 6 6 6 6 6 6 6 6 6 6 6 6 6 6 6]\n[12  9  9  6  9  9  6  9  9  3  9  6 12  6 12  9 12  3  9  3]\n"
     ]
    },
    {
     "name": "stdout",
     "output_type": "stream",
     "text": [
      "loss for counter 710 is 2.168889045715332\ncounter 710: valid acc = 0.22602739930152893\n[6 6 6 6 6 6 6 6 6 6 6 6 6 6 6 6 6 6 6 6]\n[12  9  9  6  9  9  6  9  9  3  9  6 12  6 12  9 12  3  9  3]\n"
     ]
    },
    {
     "name": "stdout",
     "output_type": "stream",
     "text": [
      "loss for counter 715 is 2.192234992980957\ncounter 715: valid acc = 0.22374428808689117\n[6 6 6 6 6 6 6 6 8 6 6 6 6 6 6 6 6 6 6 6]\n[12  9  9  6  9  9  6  9  9  3  9  6 12  6 12  9 12  3  9  3]\n"
     ]
    },
    {
     "name": "stdout",
     "output_type": "stream",
     "text": [
      "loss for counter 720 is 1.2238432168960571\ncounter 720: valid acc = 0.0\n[8 8 8 8 8 8 8 8 8 8 8 8 8 8 8 8 8 8 8 8]\n[12  9  9  6  9  9  6  9  9  3  9  6 12  6 12  9 12  3  9  3]\n"
     ]
    },
    {
     "name": "stdout",
     "output_type": "stream",
     "text": [
      "loss for counter 725 is 0.9607689380645752\ncounter 725: valid acc = 0.0\n[8 8 8 8 8 8 8 8 8 8 8 8 8 8 8 8 8 8 8 8]\n[12  9  9  6  9  9  6  9  9  3  9  6 12  6 12  9 12  3  9  3]\n"
     ]
    },
    {
     "name": "stdout",
     "output_type": "stream",
     "text": [
      "loss for counter 730 is 0.8712957501411438\ncounter 730: valid acc = 0.0\n[8 8 8 8 8 8 8 8 8 8 8 8 8 8 8 8 8 8 8 8]\n[12  9  9  6  9  9  6  9  9  3  9  6 12  6 12  9 12  3  9  3]\n"
     ]
    },
    {
     "name": "stdout",
     "output_type": "stream",
     "text": [
      "loss for counter 735 is 1.1281964778900146\ncounter 735: valid acc = 0.0\n[8 8 8 8 8 8 8 8 8 8 8 8 8 8 8 8 8 8 8 8]\n[12  9  9  6  9  9  6  9  9  3  9  6 12  6 12  9 12  3  9  3]\n"
     ]
    },
    {
     "name": "stdout",
     "output_type": "stream",
     "text": [
      "loss for counter 740 is 1.1785032749176025\ncounter 740: valid acc = 0.0\n[8 8 4 4 4 8 4 4 8 4 4 4 8 4 8 4 8 4 4 4]\n[12  9  9  6  9  9  6  9  9  3  9  6 12  6 12  9 12  3  9  3]\n"
     ]
    },
    {
     "name": "stdout",
     "output_type": "stream",
     "text": [
      "loss for counter 745 is 1.063344120979309\ncounter 745: valid acc = 0.0\n[8 8 4 4 4 4 4 4 8 4 4 4 8 4 8 4 8 4 4 4]\n[12  9  9  6  9  9  6  9  9  3  9  6 12  6 12  9 12  3  9  3]\n"
     ]
    },
    {
     "name": "stdout",
     "output_type": "stream",
     "text": [
      "loss for counter 750 is 1.0349698066711426\ncounter 750: valid acc = 0.0\n[4 4 4 4 4 4 4 4 8 4 4 4 4 4 4 4 4 4 4 4]\n[12  9  9  6  9  9  6  9  9  3  9  6 12  6 12  9 12  3  9  3]\n"
     ]
    },
    {
     "name": "stdout",
     "output_type": "stream",
     "text": [
      "loss for counter 755 is 2.010378122329712\ncounter 755: valid acc = 0.0\n[8 8 4 8 8 8 4 4 8 4 4 4 8 4 8 8 8 4 4 8]\n[12  9  9  6  9  9  6  9  9  3  9  6 12  6 12  9 12  3  9  3]\n"
     ]
    },
    {
     "name": "stdout",
     "output_type": "stream",
     "text": [
      "loss for counter 760 is 1.6161518096923828\ncounter 760: valid acc = 0.22431506216526031\n[6 6 6 6 6 6 6 6 6 6 6 6 6 6 6 6 6 6 6 6]\n[12  9  9  6  9  9  6  9  9  3  9  6 12  6 12  9 12  3  9  3]\n"
     ]
    },
    {
     "name": "stdout",
     "output_type": "stream",
     "text": [
      "loss for counter 765 is 1.1811786890029907\ncounter 765: valid acc = 0.22431506216526031\n[6 6 6 6 6 6 6 6 6 6 6 6 6 6 6 6 6 6 6 6]\n[12  9  9  6  9  9  6  9  9  3  9  6 12  6 12  9 12  3  9  3]\n"
     ]
    },
    {
     "name": "stdout",
     "output_type": "stream",
     "text": [
      "loss for counter 770 is 1.032273292541504\ncounter 770: valid acc = 0.23915524780750275\n[6 6 6 6 6 6 6 6 9 6 6 6 6 6 6 6 6 6 6 6]\n[12  9  9  6  9  9  6  9  9  3  9  6 12  6 12  9 12  3  9  3]\n"
     ]
    },
    {
     "name": "stdout",
     "output_type": "stream",
     "text": [
      "loss for counter 775 is 2.2509658336639404\ncounter 775: valid acc = 0.24942922592163086\n[6 6 6 6 6 6 6 6 9 6 6 6 6 6 6 6 6 6 6 6]\n[12  9  9  6  9  9  6  9  9  3  9  6 12  6 12  9 12  3  9  3]\n"
     ]
    },
    {
     "name": "stdout",
     "output_type": "stream",
     "text": [
      "loss for counter 780 is 2.1067330837249756\ncounter 780: valid acc = 0.24200913310050964\n[6 6 6 6 6 6 6 6 9 6 6 6 6 6 6 6 6 6 6 6]\n[12  9  9  6  9  9  6  9  9  3  9  6 12  6 12  9 12  3  9  3]\n"
     ]
    },
    {
     "name": "stdout",
     "output_type": "stream",
     "text": [
      "loss for counter 785 is 2.1096231937408447\ncounter 785: valid acc = 0.0\n[8 8 8 8 8 8 8 8 8 8 8 8 8 8 8 8 8 8 8 8]\n[12  9  9  6  9  9  6  9  9  3  9  6 12  6 12  9 12  3  9  3]\n"
     ]
    },
    {
     "name": "stdout",
     "output_type": "stream",
     "text": [
      "loss for counter 790 is 1.208893895149231\ncounter 790: valid acc = 0.0\n[8 8 8 8 8 8 8 8 8 8 8 8 8 8 8 8 8 8 8 8]\n[12  9  9  6  9  9  6  9  9  3  9  6 12  6 12  9 12  3  9  3]\n"
     ]
    },
    {
     "name": "stdout",
     "output_type": "stream",
     "text": [
      "loss for counter 795 is 0.8930244445800781\ncounter 795: valid acc = 0.0\n[8 8 8 8 8 8 8 8 8 8 8 8 8 8 8 8 8 8 8 8]\n[12  9  9  6  9  9  6  9  9  3  9  6 12  6 12  9 12  3  9  3]\n"
     ]
    },
    {
     "name": "stdout",
     "output_type": "stream",
     "text": [
      "loss for counter 800 is 0.8431296944618225\ncounter 800: valid acc = 0.0\n[8 8 8 8 8 8 8 8 8 8 8 8 8 8 8 8 8 8 8 8]\n[12  9  9  6  9  9  6  9  9  3  9  6 12  6 12  9 12  3  9  3]\n"
     ]
    },
    {
     "name": "stdout",
     "output_type": "stream",
     "text": [
      "loss for counter 805 is 1.1271520853042603\ncounter 805: valid acc = 0.0\n[8 8 8 8 8 8 8 8 8 8 8 8 8 8 8 8 8 8 8 8]\n[12  9  9  6  9  9  6  9  9  3  9  6 12  6 12  9 12  3  9  3]\n"
     ]
    },
    {
     "name": "stdout",
     "output_type": "stream",
     "text": [
      "loss for counter 810 is 1.1534875631332397\ncounter 810: valid acc = 0.0\n[4 4 4 4 4 4 4 4 8 4 4 4 4 4 4 4 4 4 4 8]\n[12  9  9  6  9  9  6  9  9  3  9  6 12  6 12  9 12  3  9  3]\n"
     ]
    },
    {
     "name": "stdout",
     "output_type": "stream",
     "text": [
      "loss for counter 815 is 1.0469506978988647\ncounter 815: valid acc = 0.0\n[4 4 4 4 4 4 4 4 8 4 4 4 4 4 4 4 4 4 4 8]\n[12  9  9  6  9  9  6  9  9  3  9  6 12  6 12  9 12  3  9  3]\n"
     ]
    },
    {
     "name": "stdout",
     "output_type": "stream",
     "text": [
      "loss for counter 820 is 1.0202187299728394\ncounter 820: valid acc = 0.0\n[4 4 4 4 4 4 4 4 4 4 4 4 4 4 4 4 4 4 4 4]\n[12  9  9  6  9  9  6  9  9  3  9  6 12  6 12  9 12  3  9  3]\n"
     ]
    },
    {
     "name": "stdout",
     "output_type": "stream",
     "text": [
      "loss for counter 825 is 1.8652063608169556\ncounter 825: valid acc = 0.0\n[8 8 4 4 4 4 4 4 8 4 4 4 8 4 8 4 8 4 4 8]\n[12  9  9  6  9  9  6  9  9  3  9  6 12  6 12  9 12  3  9  3]\n"
     ]
    },
    {
     "name": "stdout",
     "output_type": "stream",
     "text": [
      "loss for counter 830 is 1.4148509502410889\ncounter 830: valid acc = 0.22431506216526031\n[6 6 6 6 6 6 6 6 6 6 6 6 6 6 6 6 6 6 6 6]\n[12  9  9  6  9  9  6  9  9  3  9  6 12  6 12  9 12  3  9  3]\n"
     ]
    },
    {
     "name": "stdout",
     "output_type": "stream",
     "text": [
      "loss for counter 835 is 1.085652232170105\ncounter 835: valid acc = 0.22431506216526031\n[6 6 6 6 6 6 6 6 6 6 6 6 6 6 6 6 6 6 6 6]\n[12  9  9  6  9  9  6  9  9  3  9  6 12  6 12  9 12  3  9  3]\n"
     ]
    },
    {
     "name": "stdout",
     "output_type": "stream",
     "text": [
      "loss for counter 840 is 0.9737644195556641\ncounter 840: valid acc = 0.45205479860305786\n[9 9 9 9 9 9 9 9 9 9 9 9 9 9 9 9 9 9 9 9]\n[12  9  9  6  9  9  6  9  9  3  9  6 12  6 12  9 12  3  9  3]\n"
     ]
    },
    {
     "name": "stdout",
     "output_type": "stream",
     "text": [
      "loss for counter 845 is 2.166719436645508\ncounter 845: valid acc = 0.45205479860305786\n[9 9 9 9 9 9 9 9 9 9 9 9 9 9 9 9 9 9 9 9]\n[12  9  9  6  9  9  6  9  9  3  9  6 12  6 12  9 12  3  9  3]\n"
     ]
    },
    {
     "name": "stdout",
     "output_type": "stream",
     "text": [
      "loss for counter 850 is 1.9149370193481445\ncounter 850: valid acc = 0.0\n[8 8 8 8 8 8 8 8 8 8 8 8 8 8 8 8 8 8 8 8]\n[12  9  9  6  9  9  6  9  9  3  9  6 12  6 12  9 12  3  9  3]\n"
     ]
    },
    {
     "name": "stdout",
     "output_type": "stream",
     "text": [
      "loss for counter 855 is 1.9244294166564941\ncounter 855: valid acc = 0.0\n[8 8 8 8 8 8 8 8 8 8 8 8 8 8 8 8 8 8 8 8]\n[12  9  9  6  9  9  6  9  9  3  9  6 12  6 12  9 12  3  9  3]\n"
     ]
    },
    {
     "name": "stdout",
     "output_type": "stream",
     "text": [
      "loss for counter 860 is 1.1745034456253052\ncounter 860: valid acc = 0.0\n[8 8 8 8 8 8 8 8 8 8 8 8 8 8 8 8 8 8 8 8]\n[12  9  9  6  9  9  6  9  9  3  9  6 12  6 12  9 12  3  9  3]\n"
     ]
    },
    {
     "name": "stdout",
     "output_type": "stream",
     "text": [
      "loss for counter 865 is 0.8218899965286255\ncounter 865: valid acc = 0.0\n[4 4 4 4 4 4 4 4 8 4 4 4 4 4 4 4 4 4 4 8]\n[12  9  9  6  9  9  6  9  9  3  9  6 12  6 12  9 12  3  9  3]\n"
     ]
    },
    {
     "name": "stdout",
     "output_type": "stream",
     "text": [
      "loss for counter 870 is 0.8350646495819092\ncounter 870: valid acc = 0.0\n[8 8 8 8 8 8 8 8 8 8 8 8 8 8 8 8 8 8 8 8]\n[12  9  9  6  9  9  6  9  9  3  9  6 12  6 12  9 12  3  9  3]\n"
     ]
    },
    {
     "name": "stdout",
     "output_type": "stream",
     "text": [
      "loss for counter 875 is 1.1510391235351562\ncounter 875: valid acc = 0.0\n[8 8 4 4 4 8 4 4 8 4 4 4 8 4 8 8 8 4 4 8]\n[12  9  9  6  9  9  6  9  9  3  9  6 12  6 12  9 12  3  9  3]\n"
     ]
    },
    {
     "name": "stdout",
     "output_type": "stream",
     "text": [
      "loss for counter 880 is 1.1281497478485107\ncounter 880: valid acc = 0.0\n[4 4 4 4 4 4 4 4 4 4 4 4 4 4 4 4 4 4 4 8]\n[12  9  9  6  9  9  6  9  9  3  9  6 12  6 12  9 12  3  9  3]\n"
     ]
    },
    {
     "name": "stdout",
     "output_type": "stream",
     "text": [
      "loss for counter 885 is 1.0357539653778076\ncounter 885: valid acc = 0.0\n[4 4 4 4 4 4 4 4 4 4 4 4 4 4 4 4 4 4 4 4]\n[12  9  9  6  9  9  6  9  9  3  9  6 12  6 12  9 12  3  9  3]\n"
     ]
    },
    {
     "name": "stdout",
     "output_type": "stream",
     "text": [
      "loss for counter 890 is 1.0166250467300415\ncounter 890: valid acc = 0.0\n[4 4 4 4 4 4 4 4 4 4 4 4 4 4 4 4 4 4 4 8]\n[12  9  9  6  9  9  6  9  9  3  9  6 12  6 12  9 12  3  9  3]\n"
     ]
    },
    {
     "name": "stdout",
     "output_type": "stream",
     "text": [
      "loss for counter 895 is 1.5810707807540894\ncounter 895: valid acc = 0.45205479860305786\n[9 9 9 9 9 9 9 9 9 9 9 9 9 9 9 9 9 9 9 9]\n[12  9  9  6  9  9  6  9  9  3  9  6 12  6 12  9 12  3  9  3]\n"
     ]
    },
    {
     "name": "stdout",
     "output_type": "stream",
     "text": [
      "loss for counter 900 is 1.2846661806106567\ncounter 900: valid acc = 0.22431506216526031\n[6 6 6 6 6 6 6 6 6 6 6 6 6 6 6 6 6 6 6 6]\n[12  9  9  6  9  9  6  9  9  3  9  6 12  6 12  9 12  3  9  3]\n"
     ]
    },
    {
     "name": "stdout",
     "output_type": "stream",
     "text": [
      "loss for counter 905 is 1.0385489463806152\ncounter 905: valid acc = 0.22431506216526031\n[6 6 6 6 6 6 6 6 6 6 6 6 6 6 6 6 6 6 6 6]\n[12  9  9  6  9  9  6  9  9  3  9  6 12  6 12  9 12  3  9  3]\n"
     ]
    },
    {
     "name": "stdout",
     "output_type": "stream",
     "text": [
      "loss for counter 910 is 0.9568448662757874\ncounter 910: valid acc = 0.45205479860305786\n[9 9 9 9 9 9 9 9 9 9 9 9 9 9 9 9 9 9 9 9]\n[12  9  9  6  9  9  6  9  9  3  9  6 12  6 12  9 12  3  9  3]\n"
     ]
    },
    {
     "name": "stdout",
     "output_type": "stream",
     "text": [
      "loss for counter 915 is 1.850556492805481\ncounter 915: valid acc = 0.0\n[8 8 8 8 8 8 8 8 8 8 8 8 8 8 8 8 8 8 8 8]\n[12  9  9  6  9  9  6  9  9  3  9  6 12  6 12  9 12  3  9  3]\n"
     ]
    },
    {
     "name": "stdout",
     "output_type": "stream",
     "text": [
      "loss for counter 920 is 1.7239989042282104\ncounter 920: valid acc = 0.0\n[8 8 8 8 8 8 8 8 8 8 8 8 8 8 8 8 8 8 8 8]\n[12  9  9  6  9  9  6  9  9  3  9  6 12  6 12  9 12  3  9  3]\n"
     ]
    },
    {
     "name": "stdout",
     "output_type": "stream",
     "text": [
      "loss for counter 925 is 1.7898461818695068\ncounter 925: valid acc = 0.0\n[8 8 8 8 8 8 8 8 8 8 8 8 8 8 8 8 8 8 8 8]\n[12  9  9  6  9  9  6  9  9  3  9  6 12  6 12  9 12  3  9  3]\n"
     ]
    },
    {
     "name": "stdout",
     "output_type": "stream",
     "text": [
      "loss for counter 930 is 1.07231867313385\ncounter 930: valid acc = 0.0\n[8 8 8 8 8 8 8 8 8 8 8 8 8 8 8 8 8 8 8 8]\n[12  9  9  6  9  9  6  9  9  3  9  6 12  6 12  9 12  3  9  3]\n"
     ]
    },
    {
     "name": "stdout",
     "output_type": "stream",
     "text": [
      "loss for counter 935 is 0.7838267683982849\ncounter 935: valid acc = 0.0\n[4 4 4 4 4 4 4 4 4 4 4 4 4 4 4 4 4 4 4 4]\n[12  9  9  6  9  9  6  9  9  3  9  6 12  6 12  9 12  3  9  3]\n"
     ]
    },
    {
     "name": "stdout",
     "output_type": "stream",
     "text": [
      "loss for counter 940 is 0.8369061350822449\ncounter 940: valid acc = 0.0\n[8 8 8 8 8 8 8 8 8 8 8 8 8 8 8 8 8 8 8 8]\n[12  9  9  6  9  9  6  9  9  3  9  6 12  6 12  9 12  3  9  3]\n"
     ]
    },
    {
     "name": "stdout",
     "output_type": "stream",
     "text": [
      "loss for counter 945 is 1.1760714054107666\ncounter 945: valid acc = 0.0\n[4 4 4 4 4 4 4 4 4 4 4 4 4 4 4 4 4 4 4 4]\n[12  9  9  6  9  9  6  9  9  3  9  6 12  6 12  9 12  3  9  3]\n"
     ]
    },
    {
     "name": "stdout",
     "output_type": "stream",
     "text": [
      "loss for counter 950 is 1.0936311483383179\ncounter 950: valid acc = 0.0\n[4 4 4 4 4 4 4 4 4 4 4 4 4 4 4 4 4 4 4 8]\n[12  9  9  6  9  9  6  9  9  3  9  6 12  6 12  9 12  3  9  3]\n"
     ]
    },
    {
     "name": "stdout",
     "output_type": "stream",
     "text": [
      "loss for counter 955 is 1.0217616558074951\ncounter 955: valid acc = 0.0\n[4 4 4 4 4 4 4 4 4 4 4 4 4 4 4 4 4 4 4 4]\n[12  9  9  6  9  9  6  9  9  3  9  6 12  6 12  9 12  3  9  3]\n"
     ]
    },
    {
     "name": "stdout",
     "output_type": "stream",
     "text": [
      "loss for counter 960 is 1.019047737121582\ncounter 960: valid acc = 0.0\n[8 8 8 8 8 8 8 8 8 8 4 8 8 4 8 8 8 8 8 8]\n[12  9  9  6  9  9  6  9  9  3  9  6 12  6 12  9 12  3  9  3]\n"
     ]
    },
    {
     "name": "stdout",
     "output_type": "stream",
     "text": [
      "loss for counter 965 is 1.2748795747756958\ncounter 965: valid acc = 0.45205479860305786\n[9 9 9 9 9 9 9 9 9 9 9 9 9 9 9 9 9 9 9 9]\n[12  9  9  6  9  9  6  9  9  3  9  6 12  6 12  9 12  3  9  3]\n"
     ]
    },
    {
     "name": "stdout",
     "output_type": "stream",
     "text": [
      "loss for counter 970 is 1.2032595872879028\ncounter 970: valid acc = 0.22431506216526031\n[6 6 6 6 6 6 6 6 6 6 6 6 6 6 6 6 6 6 6 6]\n[12  9  9  6  9  9  6  9  9  3  9  6 12  6 12  9 12  3  9  3]\n"
     ]
    },
    {
     "name": "stdout",
     "output_type": "stream",
     "text": [
      "loss for counter 975 is 1.0207250118255615\ncounter 975: valid acc = 0.22431506216526031\n[6 6 6 6 6 6 6 6 6 6 6 6 6 6 6 6 6 6 6 6]\n[12  9  9  6  9  9  6  9  9  3  9  6 12  6 12  9 12  3  9  3]\n"
     ]
    },
    {
     "name": "stdout",
     "output_type": "stream",
     "text": [
      "loss for counter 980 is 0.9490153789520264\ncounter 980: valid acc = 0.21917808055877686\n[6 6 6 6 6 6 6 6 6 6 6 6 6 6 6 6 6 6 6 9]\n[12  9  9  6  9  9  6  9  9  3  9  6 12  6 12  9 12  3  9  3]\n"
     ]
    },
    {
     "name": "stdout",
     "output_type": "stream",
     "text": [
      "loss for counter 985 is 1.652971625328064\ncounter 985: valid acc = 0.0\n[8 8 8 8 8 8 8 8 8 8 8 8 8 8 8 8 8 8 8 8]\n[12  9  9  6  9  9  6  9  9  3  9  6 12  6 12  9 12  3  9  3]\n"
     ]
    },
    {
     "name": "stdout",
     "output_type": "stream",
     "text": [
      "loss for counter 990 is 1.6439151763916016\ncounter 990: valid acc = 0.0\n[8 8 8 8 8 8 8 8 8 8 8 8 8 8 8 8 8 8 8 8]\n[12  9  9  6  9  9  6  9  9  3  9  6 12  6 12  9 12  3  9  3]\n"
     ]
    },
    {
     "name": "stdout",
     "output_type": "stream",
     "text": [
      "loss for counter 995 is 1.766884446144104\ncounter 995: valid acc = 0.0\n[8 8 8 8 8 8 8 8 8 8 8 8 8 8 8 8 8 8 8 8]\n[12  9  9  6  9  9  6  9  9  3  9  6 12  6 12  9 12  3  9  3]\n"
     ]
    },
    {
     "name": "stdout",
     "output_type": "stream",
     "text": [
      "loss for counter 1000 is 0.8452533483505249\ncounter 1000: valid acc = 0.0\n[4 4 4 4 4 4 4 4 4 4 4 4 4 4 4 4 4 4 4 4]\n[12  9  9  6  9  9  6  9  9  3  9  6 12  6 12  9 12  3  9  3]\n"
     ]
    },
    {
     "name": "stdout",
     "output_type": "stream",
     "text": [
      "loss for counter 1005 is 0.7553697824478149\ncounter 1005: valid acc = 0.0\n[4 4 4 4 4 4 4 4 4 4 4 4 4 4 4 4 4 4 4 4]\n[12  9  9  6  9  9  6  9  9  3  9  6 12  6 12  9 12  3  9  3]\n"
     ]
    },
    {
     "name": "stdout",
     "output_type": "stream",
     "text": [
      "loss for counter 1010 is 0.975233793258667\ncounter 1010: valid acc = 0.0\n[8 8 8 8 8 8 8 8 8 8 8 8 8 8 8 8 8 8 8 8]\n[12  9  9  6  9  9  6  9  9  3  9  6 12  6 12  9 12  3  9  3]\n"
     ]
    },
    {
     "name": "stdout",
     "output_type": "stream",
     "text": [
      "loss for counter 1015 is 1.4367343187332153\ncounter 1015: valid acc = 0.0\n[4 4 4 4 4 4 4 4 4 4 4 4 4 4 4 4 4 4 4 4]\n[12  9  9  6  9  9  6  9  9  3  9  6 12  6 12  9 12  3  9  3]\n"
     ]
    },
    {
     "ename": "KeyboardInterrupt",
     "evalue": "",
     "traceback": [
      "\u001b[0;31m---------------------------------------------------------------------------\u001b[0m",
      "\u001b[0;31mKeyboardInterrupt\u001b[0m                         Traceback (most recent call last)",
      "\u001b[0;32m<ipython-input-52-b576db54abb8>\u001b[0m in \u001b[0;36m<module>\u001b[0;34m\u001b[0m\n\u001b[0;32m----> 1\u001b[0;31m \u001b[0mmy_net\u001b[0m\u001b[0;34m.\u001b[0m\u001b[0mtrain\u001b[0m\u001b[0;34m(\u001b[0m\u001b[0mgen\u001b[0m\u001b[0;34m=\u001b[0m\u001b[0mbatch_gen\u001b[0m\u001b[0;34m,\u001b[0m \u001b[0mX_val\u001b[0m\u001b[0;34m=\u001b[0m\u001b[0mX_val\u001b[0m\u001b[0;34m,\u001b[0m \u001b[0my_val\u001b[0m\u001b[0;34m=\u001b[0m\u001b[0my_val\u001b[0m\u001b[0;34m,\u001b[0m \u001b[0mn_epochs\u001b[0m\u001b[0;34m=\u001b[0m\u001b[0;36m20\u001b[0m\u001b[0;34m,\u001b[0m \u001b[0mlr\u001b[0m\u001b[0;34m=\u001b[0m\u001b[0;36m1e-2\u001b[0m\u001b[0;34m)\u001b[0m\u001b[0;34m\u001b[0m\u001b[0;34m\u001b[0m\u001b[0m\n\u001b[0m",
      "\u001b[0;32m~/Columbia/ECBM4040/Project/EssayGrader/src/mlp.py\u001b[0m in \u001b[0;36mtrain\u001b[0;34m(self, gen, X_val, y_val, n_epochs, lr)\u001b[0m\n\u001b[1;32m     52\u001b[0m             \u001b[0;32mfor\u001b[0m \u001b[0mbatch_X\u001b[0m\u001b[0;34m,\u001b[0m \u001b[0mbatch_y\u001b[0m \u001b[0;32min\u001b[0m \u001b[0mgen\u001b[0m\u001b[0;34m:\u001b[0m\u001b[0;34m\u001b[0m\u001b[0;34m\u001b[0m\u001b[0m\n\u001b[1;32m     53\u001b[0m                 \u001b[0mcounter\u001b[0m \u001b[0;34m+=\u001b[0m \u001b[0;36m1\u001b[0m\u001b[0;34m\u001b[0m\u001b[0;34m\u001b[0m\u001b[0m\n\u001b[0;32m---> 54\u001b[0;31m                 \u001b[0mloss\u001b[0m\u001b[0;34m,\u001b[0m \u001b[0m_\u001b[0m \u001b[0;34m=\u001b[0m \u001b[0msess\u001b[0m\u001b[0;34m.\u001b[0m\u001b[0mrun\u001b[0m\u001b[0;34m(\u001b[0m\u001b[0;34m[\u001b[0m\u001b[0mself\u001b[0m\u001b[0;34m.\u001b[0m\u001b[0mloss\u001b[0m\u001b[0;34m,\u001b[0m\u001b[0mself\u001b[0m\u001b[0;34m.\u001b[0m\u001b[0mtrain_step\u001b[0m\u001b[0;34m]\u001b[0m\u001b[0;34m,\u001b[0m \u001b[0mfeed_dict\u001b[0m\u001b[0;34m=\u001b[0m\u001b[0;34m{\u001b[0m\u001b[0mself\u001b[0m\u001b[0;34m.\u001b[0m\u001b[0mX\u001b[0m\u001b[0;34m:\u001b[0m \u001b[0mbatch_X\u001b[0m\u001b[0;34m,\u001b[0m \u001b[0mself\u001b[0m\u001b[0;34m.\u001b[0m\u001b[0my\u001b[0m\u001b[0;34m:\u001b[0m \u001b[0mbatch_y\u001b[0m\u001b[0;34m}\u001b[0m\u001b[0;34m)\u001b[0m\u001b[0;34m\u001b[0m\u001b[0;34m\u001b[0m\u001b[0m\n\u001b[0m\u001b[1;32m     55\u001b[0m                 \u001b[0;32mif\u001b[0m \u001b[0mcounter\u001b[0m \u001b[0;34m%\u001b[0m \u001b[0;36m5\u001b[0m \u001b[0;34m==\u001b[0m\u001b[0;36m0\u001b[0m\u001b[0;34m:\u001b[0m\u001b[0;34m\u001b[0m\u001b[0;34m\u001b[0m\u001b[0m\n\u001b[1;32m     56\u001b[0m                     \u001b[0mpreds\u001b[0m\u001b[0;34m,\u001b[0m\u001b[0mvals\u001b[0m\u001b[0;34m,\u001b[0m \u001b[0mval_acc\u001b[0m \u001b[0;34m=\u001b[0m \u001b[0msess\u001b[0m\u001b[0;34m.\u001b[0m\u001b[0mrun\u001b[0m\u001b[0;34m(\u001b[0m\u001b[0;34m[\u001b[0m\u001b[0mself\u001b[0m\u001b[0;34m.\u001b[0m\u001b[0mpreds\u001b[0m\u001b[0;34m,\u001b[0m\u001b[0mself\u001b[0m\u001b[0;34m.\u001b[0m\u001b[0my\u001b[0m\u001b[0;34m,\u001b[0m \u001b[0mself\u001b[0m\u001b[0;34m.\u001b[0m\u001b[0maccuracy\u001b[0m\u001b[0;34m]\u001b[0m\u001b[0;34m,\u001b[0m \u001b[0mfeed_dict\u001b[0m\u001b[0;34m=\u001b[0m\u001b[0;34m{\u001b[0m\u001b[0mself\u001b[0m\u001b[0;34m.\u001b[0m\u001b[0mX\u001b[0m\u001b[0;34m:\u001b[0m \u001b[0mX_val\u001b[0m\u001b[0;34m,\u001b[0m \u001b[0mself\u001b[0m\u001b[0;34m.\u001b[0m\u001b[0my\u001b[0m\u001b[0;34m:\u001b[0m \u001b[0my_val\u001b[0m\u001b[0;34m}\u001b[0m\u001b[0;34m)\u001b[0m\u001b[0;34m\u001b[0m\u001b[0;34m\u001b[0m\u001b[0m\n",
      "\u001b[0;32m/anaconda3/envs/EssayGrader_env/lib/python3.6/site-packages/tensorflow/python/client/session.py\u001b[0m in \u001b[0;36mrun\u001b[0;34m(self, fetches, feed_dict, options, run_metadata)\u001b[0m\n\u001b[1;32m    927\u001b[0m     \u001b[0;32mtry\u001b[0m\u001b[0;34m:\u001b[0m\u001b[0;34m\u001b[0m\u001b[0;34m\u001b[0m\u001b[0m\n\u001b[1;32m    928\u001b[0m       result = self._run(None, fetches, feed_dict, options_ptr,\n\u001b[0;32m--> 929\u001b[0;31m                          run_metadata_ptr)\n\u001b[0m\u001b[1;32m    930\u001b[0m       \u001b[0;32mif\u001b[0m \u001b[0mrun_metadata\u001b[0m\u001b[0;34m:\u001b[0m\u001b[0;34m\u001b[0m\u001b[0;34m\u001b[0m\u001b[0m\n\u001b[1;32m    931\u001b[0m         \u001b[0mproto_data\u001b[0m \u001b[0;34m=\u001b[0m \u001b[0mtf_session\u001b[0m\u001b[0;34m.\u001b[0m\u001b[0mTF_GetBuffer\u001b[0m\u001b[0;34m(\u001b[0m\u001b[0mrun_metadata_ptr\u001b[0m\u001b[0;34m)\u001b[0m\u001b[0;34m\u001b[0m\u001b[0;34m\u001b[0m\u001b[0m\n",
      "\u001b[0;32m/anaconda3/envs/EssayGrader_env/lib/python3.6/site-packages/tensorflow/python/client/session.py\u001b[0m in \u001b[0;36m_run\u001b[0;34m(self, handle, fetches, feed_dict, options, run_metadata)\u001b[0m\n\u001b[1;32m   1150\u001b[0m     \u001b[0;32mif\u001b[0m \u001b[0mfinal_fetches\u001b[0m \u001b[0;32mor\u001b[0m \u001b[0mfinal_targets\u001b[0m \u001b[0;32mor\u001b[0m \u001b[0;34m(\u001b[0m\u001b[0mhandle\u001b[0m \u001b[0;32mand\u001b[0m \u001b[0mfeed_dict_tensor\u001b[0m\u001b[0;34m)\u001b[0m\u001b[0;34m:\u001b[0m\u001b[0;34m\u001b[0m\u001b[0;34m\u001b[0m\u001b[0m\n\u001b[1;32m   1151\u001b[0m       results = self._do_run(handle, final_targets, final_fetches,\n\u001b[0;32m-> 1152\u001b[0;31m                              feed_dict_tensor, options, run_metadata)\n\u001b[0m\u001b[1;32m   1153\u001b[0m     \u001b[0;32melse\u001b[0m\u001b[0;34m:\u001b[0m\u001b[0;34m\u001b[0m\u001b[0;34m\u001b[0m\u001b[0m\n\u001b[1;32m   1154\u001b[0m       \u001b[0mresults\u001b[0m \u001b[0;34m=\u001b[0m \u001b[0;34m[\u001b[0m\u001b[0;34m]\u001b[0m\u001b[0;34m\u001b[0m\u001b[0;34m\u001b[0m\u001b[0m\n",
      "\u001b[0;32m/anaconda3/envs/EssayGrader_env/lib/python3.6/site-packages/tensorflow/python/client/session.py\u001b[0m in \u001b[0;36m_do_run\u001b[0;34m(self, handle, target_list, fetch_list, feed_dict, options, run_metadata)\u001b[0m\n\u001b[1;32m   1326\u001b[0m     \u001b[0;32mif\u001b[0m \u001b[0mhandle\u001b[0m \u001b[0;32mis\u001b[0m \u001b[0;32mNone\u001b[0m\u001b[0;34m:\u001b[0m\u001b[0;34m\u001b[0m\u001b[0;34m\u001b[0m\u001b[0m\n\u001b[1;32m   1327\u001b[0m       return self._do_call(_run_fn, feeds, fetches, targets, options,\n\u001b[0;32m-> 1328\u001b[0;31m                            run_metadata)\n\u001b[0m\u001b[1;32m   1329\u001b[0m     \u001b[0;32melse\u001b[0m\u001b[0;34m:\u001b[0m\u001b[0;34m\u001b[0m\u001b[0;34m\u001b[0m\u001b[0m\n\u001b[1;32m   1330\u001b[0m       \u001b[0;32mreturn\u001b[0m \u001b[0mself\u001b[0m\u001b[0;34m.\u001b[0m\u001b[0m_do_call\u001b[0m\u001b[0;34m(\u001b[0m\u001b[0m_prun_fn\u001b[0m\u001b[0;34m,\u001b[0m \u001b[0mhandle\u001b[0m\u001b[0;34m,\u001b[0m \u001b[0mfeeds\u001b[0m\u001b[0;34m,\u001b[0m \u001b[0mfetches\u001b[0m\u001b[0;34m)\u001b[0m\u001b[0;34m\u001b[0m\u001b[0;34m\u001b[0m\u001b[0m\n",
      "\u001b[0;32m/anaconda3/envs/EssayGrader_env/lib/python3.6/site-packages/tensorflow/python/client/session.py\u001b[0m in \u001b[0;36m_do_call\u001b[0;34m(self, fn, *args)\u001b[0m\n\u001b[1;32m   1332\u001b[0m   \u001b[0;32mdef\u001b[0m \u001b[0m_do_call\u001b[0m\u001b[0;34m(\u001b[0m\u001b[0mself\u001b[0m\u001b[0;34m,\u001b[0m \u001b[0mfn\u001b[0m\u001b[0;34m,\u001b[0m \u001b[0;34m*\u001b[0m\u001b[0margs\u001b[0m\u001b[0;34m)\u001b[0m\u001b[0;34m:\u001b[0m\u001b[0;34m\u001b[0m\u001b[0;34m\u001b[0m\u001b[0m\n\u001b[1;32m   1333\u001b[0m     \u001b[0;32mtry\u001b[0m\u001b[0;34m:\u001b[0m\u001b[0;34m\u001b[0m\u001b[0;34m\u001b[0m\u001b[0m\n\u001b[0;32m-> 1334\u001b[0;31m       \u001b[0;32mreturn\u001b[0m \u001b[0mfn\u001b[0m\u001b[0;34m(\u001b[0m\u001b[0;34m*\u001b[0m\u001b[0margs\u001b[0m\u001b[0;34m)\u001b[0m\u001b[0;34m\u001b[0m\u001b[0;34m\u001b[0m\u001b[0m\n\u001b[0m\u001b[1;32m   1335\u001b[0m     \u001b[0;32mexcept\u001b[0m \u001b[0merrors\u001b[0m\u001b[0;34m.\u001b[0m\u001b[0mOpError\u001b[0m \u001b[0;32mas\u001b[0m \u001b[0me\u001b[0m\u001b[0;34m:\u001b[0m\u001b[0;34m\u001b[0m\u001b[0;34m\u001b[0m\u001b[0m\n\u001b[1;32m   1336\u001b[0m       \u001b[0mmessage\u001b[0m \u001b[0;34m=\u001b[0m \u001b[0mcompat\u001b[0m\u001b[0;34m.\u001b[0m\u001b[0mas_text\u001b[0m\u001b[0;34m(\u001b[0m\u001b[0me\u001b[0m\u001b[0;34m.\u001b[0m\u001b[0mmessage\u001b[0m\u001b[0;34m)\u001b[0m\u001b[0;34m\u001b[0m\u001b[0;34m\u001b[0m\u001b[0m\n",
      "\u001b[0;32m/anaconda3/envs/EssayGrader_env/lib/python3.6/site-packages/tensorflow/python/client/session.py\u001b[0m in \u001b[0;36m_run_fn\u001b[0;34m(feed_dict, fetch_list, target_list, options, run_metadata)\u001b[0m\n\u001b[1;32m   1317\u001b[0m       \u001b[0mself\u001b[0m\u001b[0;34m.\u001b[0m\u001b[0m_extend_graph\u001b[0m\u001b[0;34m(\u001b[0m\u001b[0;34m)\u001b[0m\u001b[0;34m\u001b[0m\u001b[0;34m\u001b[0m\u001b[0m\n\u001b[1;32m   1318\u001b[0m       return self._call_tf_sessionrun(\n\u001b[0;32m-> 1319\u001b[0;31m           options, feed_dict, fetch_list, target_list, run_metadata)\n\u001b[0m\u001b[1;32m   1320\u001b[0m \u001b[0;34m\u001b[0m\u001b[0m\n\u001b[1;32m   1321\u001b[0m     \u001b[0;32mdef\u001b[0m \u001b[0m_prun_fn\u001b[0m\u001b[0;34m(\u001b[0m\u001b[0mhandle\u001b[0m\u001b[0;34m,\u001b[0m \u001b[0mfeed_dict\u001b[0m\u001b[0;34m,\u001b[0m \u001b[0mfetch_list\u001b[0m\u001b[0;34m)\u001b[0m\u001b[0;34m:\u001b[0m\u001b[0;34m\u001b[0m\u001b[0;34m\u001b[0m\u001b[0m\n",
      "\u001b[0;32m/anaconda3/envs/EssayGrader_env/lib/python3.6/site-packages/tensorflow/python/client/session.py\u001b[0m in \u001b[0;36m_call_tf_sessionrun\u001b[0;34m(self, options, feed_dict, fetch_list, target_list, run_metadata)\u001b[0m\n\u001b[1;32m   1405\u001b[0m     return tf_session.TF_SessionRun_wrapper(\n\u001b[1;32m   1406\u001b[0m         \u001b[0mself\u001b[0m\u001b[0;34m.\u001b[0m\u001b[0m_session\u001b[0m\u001b[0;34m,\u001b[0m \u001b[0moptions\u001b[0m\u001b[0;34m,\u001b[0m \u001b[0mfeed_dict\u001b[0m\u001b[0;34m,\u001b[0m \u001b[0mfetch_list\u001b[0m\u001b[0;34m,\u001b[0m \u001b[0mtarget_list\u001b[0m\u001b[0;34m,\u001b[0m\u001b[0;34m\u001b[0m\u001b[0;34m\u001b[0m\u001b[0m\n\u001b[0;32m-> 1407\u001b[0;31m         run_metadata)\n\u001b[0m\u001b[1;32m   1408\u001b[0m \u001b[0;34m\u001b[0m\u001b[0m\n\u001b[1;32m   1409\u001b[0m   \u001b[0;32mdef\u001b[0m \u001b[0m_call_tf_sessionprun\u001b[0m\u001b[0;34m(\u001b[0m\u001b[0mself\u001b[0m\u001b[0;34m,\u001b[0m \u001b[0mhandle\u001b[0m\u001b[0;34m,\u001b[0m \u001b[0mfeed_dict\u001b[0m\u001b[0;34m,\u001b[0m \u001b[0mfetch_list\u001b[0m\u001b[0;34m)\u001b[0m\u001b[0;34m:\u001b[0m\u001b[0;34m\u001b[0m\u001b[0;34m\u001b[0m\u001b[0m\n",
      "\u001b[0;31mKeyboardInterrupt\u001b[0m: "
     ],
     "output_type": "error"
    }
   ],
   "source": [
    "my_net.train(gen=batch_gen, X_val=X_val, y_val=y_val, n_epochs=20, lr=1e-2)"
   ]
  },
  {
   "cell_type": "code",
   "execution_count": null,
   "metadata": {},
   "outputs": [],
   "source": [
    ""
   ]
  }
 ],
 "metadata": {
  "kernelspec": {
   "display_name": "Python 2",
   "language": "python",
   "name": "python2"
  },
  "language_info": {
   "codemirror_mode": {
    "name": "ipython",
    "version": 2.0
   },
   "file_extension": ".py",
   "mimetype": "text/x-python",
   "name": "python",
   "nbconvert_exporter": "python",
   "pygments_lexer": "ipython2",
   "version": "2.7.6"
  }
 },
 "nbformat": 4,
 "nbformat_minor": 0
}