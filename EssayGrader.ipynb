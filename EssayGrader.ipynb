{
 "cells": [
  {
   "cell_type": "markdown",
   "metadata": {},
   "source": [
    "This notebook will serve as the master notebook which the TAs can run from start to finish"
   ]
  },
  {
   "cell_type": "code",
   "execution_count": 2,
   "metadata": {},
   "outputs": [],
   "source": [
    "import pandas as pd\n",
    "import numpy as np\n",
    "from src.utils import get_batches, shuffle, train_val_split\n",
    "\n",
    "\n",
    "%load_ext autoreload\n",
    "%autoreload 2"
   ]
  },
  {
   "cell_type": "code",
   "execution_count": 3,
   "metadata": {},
   "outputs": [],
   "source": [
    "# Define the path to the data\n",
    "data_path = './data/essay_df.pkl'\n",
    "df = pd.read_pickle(data_path)"
   ]
  },
  {
   "cell_type": "code",
   "execution_count": 4,
   "metadata": {},
   "outputs": [
    {
     "name": "stdout",
     "output_type": "stream",
     "text": [
      "<class 'pandas.core.frame.DataFrame'>\nInt64Index: 8764 entries, 0 to 10683\nData columns (total 8 columns):\nessay_id         8764 non-null int64\nessay_set        8764 non-null int64\nessay            8764 non-null object\ndomain1_score    8764 non-null int64\nessays_embed     8764 non-null object\nword_count       8764 non-null int64\nmax_score        8764 non-null float64\nnorm_score       8764 non-null float64\ndtypes: float64(2), int64(4), object(2)\nmemory usage: 616.2+ KB\n"
     ]
    }
   ],
   "source": [
    "df.info()"
   ]
  },
  {
   "cell_type": "code",
   "execution_count": 5,
   "metadata": {},
   "outputs": [],
   "source": [
    "X = np.array(df['essays_embed'])\n",
    "y = np.array(df['norm_score'])\n",
    "sets = np.array(df['essay_set'])"
   ]
  },
  {
   "cell_type": "code",
   "execution_count": 6,
   "metadata": {},
   "outputs": [
    {
     "name": "stdout",
     "output_type": "stream",
     "text": [
      "(8764, 600, 100)\n"
     ]
    }
   ],
   "source": [
    "X_stacked = np.stack(X, axis=0)\n",
    "print(X_stacked.shape)"
   ]
  },
  {
   "cell_type": "code",
   "execution_count": 7,
   "metadata": {},
   "outputs": [
    {
     "name": "stdout",
     "output_type": "stream",
     "text": [
      "(8764, 60000)\n"
     ]
    }
   ],
   "source": [
    "X_flat = np.reshape(X_stacked, [X_stacked.shape[0], -1])\n",
    "print(X_flat.shape)"
   ]
  },
  {
   "cell_type": "code",
   "execution_count": 128,
   "metadata": {},
   "outputs": [],
   "source": [
    "# instead of flattening, take the average value of each part of vectorized word in essay\n",
    "#X_flat = np.mean(X_stacked, axis = 1)"
   ]
  },
  {
   "cell_type": "code",
   "execution_count": 8,
   "metadata": {},
   "outputs": [],
   "source": [
    "X_shuffled, y_shuffled, sets_shuffled = shuffle(X_flat, y, sets)"
   ]
  },
  {
   "cell_type": "code",
   "execution_count": 9,
   "metadata": {},
   "outputs": [
    {
     "name": "stdout",
     "output_type": "stream",
     "text": [
      "(8764, 60000)\n"
     ]
    }
   ],
   "source": [
    "print(X_shuffled.shape)"
   ]
  },
  {
   "cell_type": "code",
   "execution_count": 10,
   "metadata": {},
   "outputs": [
    {
     "name": "stdout",
     "output_type": "stream",
     "text": [
      "[5 6 5 ... 4 1 5]\n(7012, 60000) (1752, 60000) (7012,) (1752,)\n"
     ]
    }
   ],
   "source": [
    "X_train, y_train, s_train, X_val, y_val, s_val = train_val_split(X_shuffled, y_shuffled, sets_shuffled, train_prop=0.8)\n",
    "print(X_train.shape, X_val.shape, y_train.shape, y_val.shape )"
   ]
  },
  {
   "cell_type": "code",
   "execution_count": 11,
   "metadata": {},
   "outputs": [],
   "source": [
    "from src.mlp import MLP\n",
    "input_dim = X_train.shape[1]\n",
    "batch_size = 10\n",
    "\n",
    "batch_gen = get_batches(X_train, y_train, s_train, batch_size, net_type='mlp')\n",
    "\n",
    "my_net = MLP(input_dim=input_dim, hidden_dims=[100, 100], num_classes=12, reg=False, l2_reg=1e-4)"
   ]
  },
  {
   "cell_type": "code",
   "execution_count": 12,
   "metadata": {},
   "outputs": [
    {
     "name": "stdout",
     "output_type": "stream",
     "text": [
      "loss for counter 10 is 2.4922592639923096\ncounter 10: valid acc = 0.2083333283662796\n[3 3 3 8 8 8 2 3 3 3 3 2 3 3 3 2 3 2 8 3]\n[4 1 1 8 8 5 1 2 3 3 1 2 2 3 1 1 0 1 8 3]\n"
     ]
    },
    {
     "name": "stdout",
     "output_type": "stream",
     "text": [
      "loss for counter 20 is 2.4893555641174316\ncounter 20: valid acc = 0.21289955079555511\n[3 3 3 8 8 8 2 3 3 3 3 2 3 3 1 2 3 1 8 3]\n[4 1 1 8 8 5 1 2 3 3 1 2 2 3 1 1 0 1 8 3]\n"
     ]
    },
    {
     "name": "stdout",
     "output_type": "stream",
     "text": [
      "loss for counter 30 is 1.9858654737472534\ncounter 30: valid acc = 0.2083333283662796\n[3 3 3 8 8 8 2 3 3 3 3 2 3 3 3 2 3 2 8 3]\n[4 1 1 8 8 5 1 2 3 3 1 2 2 3 1 1 0 1 8 3]\n"
     ]
    },
    {
     "name": "stdout",
     "output_type": "stream",
     "text": [
      "loss for counter 40 is 1.711927056312561\ncounter 40: valid acc = 0.1997716873884201\n[1 1 1 8 8 4 1 1 1 1 1 1 1 1 1 1 1 1 8 1]\n[4 1 1 8 8 5 1 2 3 3 1 2 2 3 1 1 0 1 8 3]\n"
     ]
    },
    {
     "name": "stdout",
     "output_type": "stream",
     "text": [
      "loss for counter 50 is 1.880250096321106\ncounter 50: valid acc = 0.17922374606132507\n[1 1 1 8 8 4 1 1 1 1 1 1 1 1 1 1 1 1 8 1]\n[4 1 1 8 8 5 1 2 3 3 1 2 2 3 1 1 0 1 8 3]\n"
     ]
    },
    {
     "name": "stdout",
     "output_type": "stream",
     "text": [
      "loss for counter 60 is 1.9276753664016724\ncounter 60: valid acc = 0.2083333283662796\n[3 3 3 8 8 8 2 3 3 3 3 2 3 3 3 2 3 2 8 3]\n[4 1 1 8 8 5 1 2 3 3 1 2 2 3 1 1 0 1 8 3]\n"
     ]
    },
    {
     "name": "stdout",
     "output_type": "stream",
     "text": [
      "loss for counter 70 is 1.5337598323822021\ncounter 70: valid acc = 0.2083333283662796\n[3 3 3 8 8 8 2 3 3 3 3 2 3 3 3 2 3 2 8 3]\n[4 1 1 8 8 5 1 2 3 3 1 2 2 3 1 1 0 1 8 3]\n"
     ]
    },
    {
     "name": "stdout",
     "output_type": "stream",
     "text": [
      "loss for counter 80 is 1.6081604957580566\ncounter 80: valid acc = 0.2083333283662796\n[3 3 3 8 8 8 2 3 3 3 3 2 3 3 3 2 3 2 8 3]\n[4 1 1 8 8 5 1 2 3 3 1 2 2 3 1 1 0 1 8 3]\n"
     ]
    },
    {
     "name": "stdout",
     "output_type": "stream",
     "text": [
      "loss for counter 90 is 1.6711384057998657\ncounter 90: valid acc = 0.2083333283662796\n[3 3 3 8 8 8 2 3 3 3 3 2 3 3 3 2 3 2 8 3]\n[4 1 1 8 8 5 1 2 3 3 1 2 2 3 1 1 0 1 8 3]\n"
     ]
    },
    {
     "name": "stdout",
     "output_type": "stream",
     "text": [
      "loss for counter 100 is 1.5579503774642944\ncounter 100: valid acc = 0.2083333283662796\n[3 3 3 8 8 8 2 3 3 3 3 2 3 3 3 2 3 2 8 3]\n[4 1 1 8 8 5 1 2 3 3 1 2 2 3 1 1 0 1 8 3]\n"
     ]
    },
    {
     "name": "stdout",
     "output_type": "stream",
     "text": [
      "loss for counter 110 is 1.5981481075286865\ncounter 110: valid acc = 0.2083333283662796\n[3 3 3 8 8 8 2 3 3 3 3 2 3 3 3 2 3 2 8 3]\n[4 1 1 8 8 5 1 2 3 3 1 2 2 3 1 1 0 1 8 3]\n"
     ]
    },
    {
     "name": "stdout",
     "output_type": "stream",
     "text": [
      "loss for counter 120 is 1.9655112028121948\ncounter 120: valid acc = 0.2614155113697052\n[3 3 3 9 9 8 2 3 3 3 3 2 3 3 3 2 3 2 9 3]\n[4 1 1 8 8 5 1 2 3 3 1 2 2 3 1 1 0 1 8 3]\n"
     ]
    },
    {
     "name": "stdout",
     "output_type": "stream",
     "text": [
      "loss for counter 130 is 2.1824564933776855\ncounter 130: valid acc = 0.20890410244464874\n[3 3 3 8 8 8 2 3 3 3 3 2 3 3 3 2 3 2 8 3]\n[4 1 1 8 8 5 1 2 3 3 1 2 2 3 1 1 0 1 8 3]\n"
     ]
    },
    {
     "name": "stdout",
     "output_type": "stream",
     "text": [
      "loss for counter 140 is 1.7378581762313843\ncounter 140: valid acc = 0.2083333283662796\n[3 3 3 8 8 8 2 3 3 3 3 2 3 3 3 2 3 2 8 3]\n[4 1 1 8 8 5 1 2 3 3 1 2 2 3 1 1 0 1 8 3]\n"
     ]
    },
    {
     "name": "stdout",
     "output_type": "stream",
     "text": [
      "loss for counter 150 is 1.4493087530136108\ncounter 150: valid acc = 0.2083333283662796\n[3 3 3 8 8 8 2 3 3 3 3 2 3 3 3 2 3 2 8 3]\n[4 1 1 8 8 5 1 2 3 3 1 2 2 3 1 1 0 1 8 3]\n"
     ]
    },
    {
     "name": "stdout",
     "output_type": "stream",
     "text": [
      "loss for counter 160 is 1.998924970626831\ncounter 160: valid acc = 0.20890410244464874\n[3 3 3 8 8 8 2 3 3 3 3 2 3 3 3 2 3 2 8 3]\n[4 1 1 8 8 5 1 2 3 3 1 2 2 3 1 1 0 1 8 3]\n"
     ]
    },
    {
     "name": "stdout",
     "output_type": "stream",
     "text": [
      "loss for counter 170 is 1.5681707859039307\ncounter 170: valid acc = 0.20947489142417908\n[3 3 3 8 8 8 2 3 3 3 3 2 3 3 3 2 3 2 8 3]\n[4 1 1 8 8 5 1 2 3 3 1 2 2 3 1 1 0 1 8 3]\n"
     ]
    },
    {
     "name": "stdout",
     "output_type": "stream",
     "text": [
      "loss for counter 180 is 2.1195425987243652\ncounter 180: valid acc = 0.20890410244464874\n[3 3 3 8 8 8 2 3 3 3 3 2 3 3 3 2 3 2 8 3]\n[4 1 1 8 8 5 1 2 3 3 1 2 2 3 1 1 0 1 8 3]\n"
     ]
    },
    {
     "name": "stdout",
     "output_type": "stream",
     "text": [
      "loss for counter 190 is 1.4394320249557495\ncounter 190: valid acc = 0.20947489142417908\n[3 3 3 8 8 8 2 3 3 3 3 2 3 3 3 2 3 2 8 3]\n[4 1 1 8 8 5 1 2 3 3 1 2 2 3 1 1 0 1 8 3]\n"
     ]
    },
    {
     "name": "stdout",
     "output_type": "stream",
     "text": [
      "loss for counter 200 is 1.9869011640548706\ncounter 200: valid acc = 0.2083333283662796\n[3 3 3 8 8 8 2 3 3 3 3 2 3 3 3 2 3 2 8 3]\n[4 1 1 8 8 5 1 2 3 3 1 2 2 3 1 1 0 1 8 3]\n"
     ]
    },
    {
     "name": "stdout",
     "output_type": "stream",
     "text": [
      "loss for counter 210 is 1.7892197370529175\ncounter 210: valid acc = 0.20890410244464874\n[3 3 3 8 8 8 2 3 3 3 3 2 3 3 3 2 3 2 8 3]\n[4 1 1 8 8 5 1 2 3 3 1 2 2 3 1 1 0 1 8 3]\n"
     ]
    },
    {
     "name": "stdout",
     "output_type": "stream",
     "text": [
      "loss for counter 220 is 1.8454251289367676\ncounter 220: valid acc = 0.2083333283662796\n[3 3 3 8 8 8 2 3 3 3 3 2 3 3 3 2 3 2 8 3]\n[4 1 1 8 8 5 1 2 3 3 1 2 2 3 1 1 0 1 8 3]\n"
     ]
    },
    {
     "name": "stdout",
     "output_type": "stream",
     "text": [
      "loss for counter 230 is 1.6450084447860718\ncounter 230: valid acc = 0.2083333283662796\n[3 3 3 8 8 8 2 3 3 3 3 2 3 3 3 2 3 2 8 3]\n[4 1 1 8 8 5 1 2 3 3 1 2 2 3 1 1 0 1 8 3]\n"
     ]
    },
    {
     "name": "stdout",
     "output_type": "stream",
     "text": [
      "loss for counter 240 is 1.585709810256958\ncounter 240: valid acc = 0.2083333283662796\n[3 3 3 8 8 8 2 3 3 3 3 2 3 3 3 2 3 2 8 3]\n[4 1 1 8 8 5 1 2 3 3 1 2 2 3 1 1 0 1 8 3]\n"
     ]
    },
    {
     "name": "stdout",
     "output_type": "stream",
     "text": [
      "loss for counter 250 is 1.6652820110321045\ncounter 250: valid acc = 0.2083333283662796\n[3 3 3 8 8 8 2 3 3 3 3 2 3 3 3 2 3 2 8 3]\n[4 1 1 8 8 5 1 2 3 3 1 2 2 3 1 1 0 1 8 3]\n"
     ]
    },
    {
     "name": "stdout",
     "output_type": "stream",
     "text": [
      "loss for counter 260 is 1.288562297821045\ncounter 260: valid acc = 0.2083333283662796\n[3 3 3 8 8 8 2 3 3 3 3 2 3 3 3 2 3 2 8 3]\n[4 1 1 8 8 5 1 2 3 3 1 2 2 3 1 1 0 1 8 3]\n"
     ]
    },
    {
     "name": "stdout",
     "output_type": "stream",
     "text": [
      "loss for counter 270 is 1.5014675855636597\ncounter 270: valid acc = 0.21004566550254822\n[3 3 3 8 8 8 2 3 3 3 3 2 3 3 3 2 3 2 8 3]\n[4 1 1 8 8 5 1 2 3 3 1 2 2 3 1 1 0 1 8 3]\n"
     ]
    },
    {
     "name": "stdout",
     "output_type": "stream",
     "text": [
      "loss for counter 280 is 1.2381091117858887\ncounter 280: valid acc = 0.2083333283662796\n[3 3 3 8 8 8 2 3 3 3 3 2 3 3 3 2 3 2 8 3]\n[4 1 1 8 8 5 1 2 3 3 1 2 2 3 1 1 0 1 8 3]\n"
     ]
    },
    {
     "name": "stdout",
     "output_type": "stream",
     "text": [
      "loss for counter 290 is 1.671948790550232\ncounter 290: valid acc = 0.2083333283662796\n[3 3 3 8 8 8 2 3 3 3 3 2 3 3 3 2 3 2 8 3]\n[4 1 1 8 8 5 1 2 3 3 1 2 2 3 1 1 0 1 8 3]\n"
     ]
    },
    {
     "name": "stdout",
     "output_type": "stream",
     "text": [
      "loss for counter 300 is 1.5001879930496216\ncounter 300: valid acc = 0.20947489142417908\n[3 3 3 8 8 8 2 3 3 3 3 2 3 3 3 2 3 2 8 3]\n[4 1 1 8 8 5 1 2 3 3 1 2 2 3 1 1 0 1 8 3]\n"
     ]
    },
    {
     "name": "stdout",
     "output_type": "stream",
     "text": [
      "loss for counter 310 is 1.7944539785385132\ncounter 310: valid acc = 0.3173516094684601\n[3 1 1 9 9 8 2 3 3 3 1 2 3 3 1 1 1 1 9 3]\n[4 1 1 8 8 5 1 2 3 3 1 2 2 3 1 1 0 1 8 3]\n"
     ]
    },
    {
     "name": "stdout",
     "output_type": "stream",
     "text": [
      "loss for counter 320 is 1.5396727323532104\ncounter 320: valid acc = 0.3076483905315399\n[3 1 1 8 9 8 2 3 3 3 1 1 1 1 1 1 1 1 8 3]\n[4 1 1 8 8 5 1 2 3 3 1 2 2 3 1 1 0 1 8 3]\n"
     ]
    },
    {
     "name": "stdout",
     "output_type": "stream",
     "text": [
      "loss for counter 330 is 1.2894526720046997\ncounter 330: valid acc = 0.28367578983306885\n[3 1 1 8 8 8 2 3 3 3 1 1 1 1 1 1 1 1 8 3]\n[4 1 1 8 8 5 1 2 3 3 1 2 2 3 1 1 0 1 8 3]\n"
     ]
    },
    {
     "name": "stdout",
     "output_type": "stream",
     "text": [
      "loss for counter 340 is 1.5152039527893066\ncounter 340: valid acc = 0.2859589159488678\n[3 1 1 8 8 8 2 3 3 3 1 2 3 3 1 1 1 1 8 3]\n[4 1 1 8 8 5 1 2 3 3 1 2 2 3 1 1 0 1 8 3]\n"
     ]
    },
    {
     "name": "stdout",
     "output_type": "stream",
     "text": [
      "loss for counter 350 is 0.9962880611419678\ncounter 350: valid acc = 0.2699771821498871\n[3 3 1 8 8 8 2 3 3 3 1 2 3 3 1 1 3 1 8 3]\n[4 1 1 8 8 5 1 2 3 3 1 2 2 3 1 1 0 1 8 3]\n"
     ]
    },
    {
     "name": "stdout",
     "output_type": "stream",
     "text": [
      "loss for counter 360 is 1.452153205871582\ncounter 360: valid acc = 0.32363012433052063\n[3 1 1 9 9 8 2 3 3 3 1 2 3 3 1 1 3 1 9 3]\n[4 1 1 8 8 5 1 2 3 3 1 2 2 3 1 1 0 1 8 3]\n"
     ]
    },
    {
     "name": "stdout",
     "output_type": "stream",
     "text": [
      "loss for counter 370 is 1.363992691040039\ncounter 370: valid acc = 0.33961185812950134\n[3 1 1 9 9 8 2 3 3 3 1 2 3 3 1 1 1 1 9 3]\n[4 1 1 8 8 5 1 2 3 3 1 2 2 3 1 1 0 1 8 3]\n"
     ]
    },
    {
     "name": "stdout",
     "output_type": "stream",
     "text": [
      "loss for counter 380 is 1.4899107217788696\ncounter 380: valid acc = 0.33390411734580994\n[3 1 1 9 9 8 2 3 3 3 1 1 3 1 1 1 1 1 9 3]\n[4 1 1 8 8 5 1 2 3 3 1 2 2 3 1 1 0 1 8 3]\n"
     ]
    },
    {
     "name": "stdout",
     "output_type": "stream",
     "text": [
      "loss for counter 390 is 1.7613537311553955\ncounter 390: valid acc = 0.30821916460990906\n[3 1 1 9 9 8 2 3 3 3 1 1 1 1 1 1 1 1 9 3]\n[4 1 1 8 8 5 1 2 3 3 1 2 2 3 1 1 0 1 8 3]\n"
     ]
    },
    {
     "name": "stdout",
     "output_type": "stream",
     "text": [
      "loss for counter 400 is 1.3467143774032593\ncounter 400: valid acc = 0.327625572681427\n[3 1 1 9 9 8 2 3 3 3 1 1 1 1 1 1 1 1 9 3]\n[4 1 1 8 8 5 1 2 3 3 1 2 2 3 1 1 0 1 8 3]\n"
     ]
    },
    {
     "name": "stdout",
     "output_type": "stream",
     "text": [
      "loss for counter 410 is 1.190451979637146\ncounter 410: valid acc = 0.33675798773765564\n[3 1 1 9 9 8 2 3 3 3 1 1 1 1 1 1 1 1 9 3]\n[4 1 1 8 8 5 1 2 3 3 1 2 2 3 1 1 0 1 8 3]\n"
     ]
    },
    {
     "name": "stdout",
     "output_type": "stream",
     "text": [
      "loss for counter 420 is 1.4907236099243164\ncounter 420: valid acc = 0.33390411734580994\n[3 1 1 9 9 8 2 3 3 3 1 2 3 3 1 1 1 1 9 3]\n[4 1 1 8 8 5 1 2 3 3 1 2 2 3 1 1 0 1 8 3]\n"
     ]
    },
    {
     "name": "stdout",
     "output_type": "stream",
     "text": [
      "loss for counter 430 is 1.3996771574020386\ncounter 430: valid acc = 0.31221461296081543\n[3 1 1 8 9 8 2 3 3 3 1 1 3 1 1 1 1 1 8 3]\n[4 1 1 8 8 5 1 2 3 3 1 2 2 3 1 1 0 1 8 3]\n"
     ]
    },
    {
     "name": "stdout",
     "output_type": "stream",
     "text": [
      "loss for counter 440 is 1.0973596572875977\ncounter 440: valid acc = 0.327625572681427\n[3 1 1 8 9 8 2 3 3 3 1 1 3 1 1 1 1 1 8 3]\n[4 1 1 8 8 5 1 2 3 3 1 2 2 3 1 1 0 1 8 3]\n"
     ]
    },
    {
     "name": "stdout",
     "output_type": "stream",
     "text": [
      "loss for counter 450 is 0.7682636380195618\ncounter 450: valid acc = 0.3361872136592865\n[3 1 1 9 9 8 2 3 3 3 1 1 3 1 1 1 1 1 9 3]\n[4 1 1 8 8 5 1 2 3 3 1 2 2 3 1 1 0 1 8 3]\n"
     ]
    },
    {
     "name": "stdout",
     "output_type": "stream",
     "text": [
      "loss for counter 460 is 1.4762300252914429\ncounter 460: valid acc = 0.3321917951107025\n[3 1 1 9 9 8 2 3 3 3 1 1 1 1 1 1 1 1 9 3]\n[4 1 1 8 8 5 1 2 3 3 1 2 2 3 1 1 0 1 8 3]\n"
     ]
    },
    {
     "name": "stdout",
     "output_type": "stream",
     "text": [
      "loss for counter 470 is 0.8406582474708557\ncounter 470: valid acc = 0.3173516094684601\n[3 1 1 9 9 8 2 3 3 3 1 1 3 1 1 1 1 1 9 3]\n[4 1 1 8 8 5 1 2 3 3 1 2 2 3 1 1 0 1 8 3]\n"
     ]
    },
    {
     "name": "stdout",
     "output_type": "stream",
     "text": [
      "loss for counter 480 is 1.2321497201919556\ncounter 480: valid acc = 0.3321917951107025\n[3 1 1 9 9 8 2 3 3 3 1 1 3 1 1 1 1 1 9 3]\n[4 1 1 8 8 5 1 2 3 3 1 2 2 3 1 1 0 1 8 3]\n"
     ]
    },
    {
     "name": "stdout",
     "output_type": "stream",
     "text": [
      "loss for counter 490 is 1.2480964660644531\ncounter 490: valid acc = 0.3390410840511322\n[3 1 1 9 9 8 2 3 3 3 1 1 1 1 1 1 1 1 9 3]\n[4 1 1 8 8 5 1 2 3 3 1 2 2 3 1 1 0 1 8 3]\n"
     ]
    },
    {
     "name": "stdout",
     "output_type": "stream",
     "text": [
      "loss for counter 500 is 1.2429252862930298\ncounter 500: valid acc = 0.33675798773765564\n[3 1 1 9 9 8 2 3 3 3 1 1 3 1 1 1 1 1 9 3]\n[4 1 1 8 8 5 1 2 3 3 1 2 2 3 1 1 0 1 8 3]\n"
     ]
    },
    {
     "name": "stdout",
     "output_type": "stream",
     "text": [
      "loss for counter 510 is 2.0172605514526367\ncounter 510: valid acc = 0.32534247636795044\n[3 1 1 9 9 6 2 3 3 3 1 1 1 1 1 1 1 1 9 3]\n[4 1 1 8 8 5 1 2 3 3 1 2 2 3 1 1 0 1 8 3]\n"
     ]
    },
    {
     "name": "stdout",
     "output_type": "stream",
     "text": [
      "loss for counter 520 is 1.0887621641159058\ncounter 520: valid acc = 0.31963470578193665\n[3 1 1 9 9 6 2 2 3 2 1 1 2 1 1 1 1 1 9 3]\n[4 1 1 8 8 5 1 2 3 3 1 2 2 3 1 1 0 1 8 3]\n"
     ]
    },
    {
     "name": "stdout",
     "output_type": "stream",
     "text": [
      "loss for counter 530 is 1.1476936340332031\ncounter 530: valid acc = 0.2956621050834656\n[3 1 1 8 9 8 2 3 3 3 1 1 3 1 1 1 1 1 8 3]\n[4 1 1 8 8 5 1 2 3 3 1 2 2 3 1 1 0 1 8 3]\n"
     ]
    },
    {
     "name": "stdout",
     "output_type": "stream",
     "text": [
      "loss for counter 540 is 1.3759324550628662\ncounter 540: valid acc = 0.3133561611175537\n[3 1 1 8 9 8 2 3 3 3 1 1 3 1 1 1 1 1 8 3]\n[4 1 1 8 8 5 1 2 3 3 1 2 2 3 1 1 0 1 8 3]\n"
     ]
    },
    {
     "name": "stdout",
     "output_type": "stream",
     "text": [
      "loss for counter 550 is 1.4562139511108398\ncounter 550: valid acc = 0.3430365324020386\n[3 1 1 9 9 8 2 3 3 3 1 2 2 2 1 1 1 1 9 3]\n[4 1 1 8 8 5 1 2 3 3 1 2 2 3 1 1 0 1 8 3]\n"
     ]
    },
    {
     "name": "stdout",
     "output_type": "stream",
     "text": [
      "loss for counter 560 is 1.3627638816833496\ncounter 560: valid acc = 0.2871004641056061\n[3 1 1 8 9 8 2 3 3 3 1 1 1 1 1 1 1 1 8 3]\n[4 1 1 8 8 5 1 2 3 3 1 2 2 3 1 1 0 1 8 3]\n"
     ]
    },
    {
     "name": "stdout",
     "output_type": "stream",
     "text": [
      "loss for counter 570 is 1.1372416019439697\ncounter 570: valid acc = 0.31107306480407715\n[3 1 1 9 9 8 2 3 3 3 1 1 1 1 1 1 1 1 9 3]\n[4 1 1 8 8 5 1 2 3 3 1 2 2 3 1 1 0 1 8 3]\n"
     ]
    },
    {
     "ename": "KeyboardInterrupt",
     "evalue": "",
     "traceback": [
      "\u001b[0;31m---------------------------------------------------------------------------\u001b[0m",
      "\u001b[0;31mKeyboardInterrupt\u001b[0m                         Traceback (most recent call last)",
      "\u001b[0;32m<ipython-input-12-b9e353c7e795>\u001b[0m in \u001b[0;36m<module>\u001b[0;34m\u001b[0m\n\u001b[0;32m----> 1\u001b[0;31m \u001b[0mmy_net\u001b[0m\u001b[0;34m.\u001b[0m\u001b[0mtrain\u001b[0m\u001b[0;34m(\u001b[0m\u001b[0mgen\u001b[0m\u001b[0;34m=\u001b[0m\u001b[0mbatch_gen\u001b[0m\u001b[0;34m,\u001b[0m \u001b[0mX_val\u001b[0m\u001b[0;34m=\u001b[0m\u001b[0mX_val\u001b[0m\u001b[0;34m,\u001b[0m \u001b[0my_val\u001b[0m\u001b[0;34m=\u001b[0m\u001b[0my_val\u001b[0m\u001b[0;34m,\u001b[0m \u001b[0ms_val\u001b[0m\u001b[0;34m=\u001b[0m\u001b[0ms_val\u001b[0m\u001b[0;34m,\u001b[0m \u001b[0mn_epochs\u001b[0m\u001b[0;34m=\u001b[0m\u001b[0;36m20\u001b[0m\u001b[0;34m,\u001b[0m \u001b[0mlr\u001b[0m\u001b[0;34m=\u001b[0m\u001b[0;36m1e-4\u001b[0m\u001b[0;34m)\u001b[0m\u001b[0;34m\u001b[0m\u001b[0;34m\u001b[0m\u001b[0m\n\u001b[0m",
      "\u001b[0;32m~/Columbia/ECBM4040/Project/EssayGrader/src/mlp.py\u001b[0m in \u001b[0;36mtrain\u001b[0;34m(self, gen, X_val, y_val, s_val, n_epochs, lr)\u001b[0m\n\u001b[1;32m    114\u001b[0m             \u001b[0;32mfor\u001b[0m \u001b[0mbatch_X\u001b[0m\u001b[0;34m,\u001b[0m \u001b[0mbatch_y\u001b[0m\u001b[0;34m,\u001b[0m \u001b[0mbatch_s\u001b[0m \u001b[0;32min\u001b[0m \u001b[0mgen\u001b[0m\u001b[0;34m:\u001b[0m\u001b[0;34m\u001b[0m\u001b[0;34m\u001b[0m\u001b[0m\n\u001b[1;32m    115\u001b[0m                 \u001b[0mcounter\u001b[0m \u001b[0;34m+=\u001b[0m \u001b[0;36m1\u001b[0m\u001b[0;34m\u001b[0m\u001b[0;34m\u001b[0m\u001b[0m\n\u001b[0;32m--> 116\u001b[0;31m                 \u001b[0mloss\u001b[0m\u001b[0;34m,\u001b[0m \u001b[0m_\u001b[0m \u001b[0;34m=\u001b[0m \u001b[0msess\u001b[0m\u001b[0;34m.\u001b[0m\u001b[0mrun\u001b[0m\u001b[0;34m(\u001b[0m\u001b[0;34m[\u001b[0m\u001b[0mself\u001b[0m\u001b[0;34m.\u001b[0m\u001b[0mloss\u001b[0m\u001b[0;34m,\u001b[0m\u001b[0mself\u001b[0m\u001b[0;34m.\u001b[0m\u001b[0mtrain_step\u001b[0m\u001b[0;34m]\u001b[0m\u001b[0;34m,\u001b[0m \u001b[0mfeed_dict\u001b[0m\u001b[0;34m=\u001b[0m\u001b[0;34m{\u001b[0m\u001b[0mself\u001b[0m\u001b[0;34m.\u001b[0m\u001b[0mX\u001b[0m\u001b[0;34m:\u001b[0m \u001b[0mbatch_X\u001b[0m\u001b[0;34m,\u001b[0m \u001b[0mself\u001b[0m\u001b[0;34m.\u001b[0m\u001b[0my\u001b[0m\u001b[0;34m:\u001b[0m \u001b[0mbatch_y\u001b[0m\u001b[0;34m}\u001b[0m\u001b[0;34m)\u001b[0m\u001b[0;34m\u001b[0m\u001b[0;34m\u001b[0m\u001b[0m\n\u001b[0m\u001b[1;32m    117\u001b[0m                 \u001b[0;32mif\u001b[0m \u001b[0mcounter\u001b[0m \u001b[0;34m%\u001b[0m \u001b[0;36m10\u001b[0m \u001b[0;34m==\u001b[0m \u001b[0;36m0\u001b[0m\u001b[0;34m:\u001b[0m\u001b[0;34m\u001b[0m\u001b[0;34m\u001b[0m\u001b[0m\n\u001b[1;32m    118\u001b[0m                     \u001b[0mpreds\u001b[0m\u001b[0;34m,\u001b[0m \u001b[0mvals\u001b[0m\u001b[0;34m,\u001b[0m \u001b[0mval_acc\u001b[0m \u001b[0;34m=\u001b[0m \u001b[0msess\u001b[0m\u001b[0;34m.\u001b[0m\u001b[0mrun\u001b[0m\u001b[0;34m(\u001b[0m\u001b[0;34m[\u001b[0m\u001b[0mself\u001b[0m\u001b[0;34m.\u001b[0m\u001b[0mpreds\u001b[0m\u001b[0;34m,\u001b[0m \u001b[0mself\u001b[0m\u001b[0;34m.\u001b[0m\u001b[0my\u001b[0m\u001b[0;34m,\u001b[0m \u001b[0mself\u001b[0m\u001b[0;34m.\u001b[0m\u001b[0maccuracy\u001b[0m\u001b[0;34m]\u001b[0m\u001b[0;34m,\u001b[0m \u001b[0mfeed_dict\u001b[0m\u001b[0;34m=\u001b[0m\u001b[0;34m{\u001b[0m\u001b[0mself\u001b[0m\u001b[0;34m.\u001b[0m\u001b[0mX\u001b[0m\u001b[0;34m:\u001b[0m \u001b[0mX_val\u001b[0m\u001b[0;34m,\u001b[0m \u001b[0mself\u001b[0m\u001b[0;34m.\u001b[0m\u001b[0my\u001b[0m\u001b[0;34m:\u001b[0m \u001b[0my_val\u001b[0m\u001b[0;34m}\u001b[0m\u001b[0;34m)\u001b[0m\u001b[0;34m\u001b[0m\u001b[0;34m\u001b[0m\u001b[0m\n",
      "\u001b[0;32m/anaconda3/envs/EssayGrader_env/lib/python3.6/site-packages/tensorflow/python/client/session.py\u001b[0m in \u001b[0;36mrun\u001b[0;34m(self, fetches, feed_dict, options, run_metadata)\u001b[0m\n\u001b[1;32m    927\u001b[0m     \u001b[0;32mtry\u001b[0m\u001b[0;34m:\u001b[0m\u001b[0;34m\u001b[0m\u001b[0;34m\u001b[0m\u001b[0m\n\u001b[1;32m    928\u001b[0m       result = self._run(None, fetches, feed_dict, options_ptr,\n\u001b[0;32m--> 929\u001b[0;31m                          run_metadata_ptr)\n\u001b[0m\u001b[1;32m    930\u001b[0m       \u001b[0;32mif\u001b[0m \u001b[0mrun_metadata\u001b[0m\u001b[0;34m:\u001b[0m\u001b[0;34m\u001b[0m\u001b[0;34m\u001b[0m\u001b[0m\n\u001b[1;32m    931\u001b[0m         \u001b[0mproto_data\u001b[0m \u001b[0;34m=\u001b[0m \u001b[0mtf_session\u001b[0m\u001b[0;34m.\u001b[0m\u001b[0mTF_GetBuffer\u001b[0m\u001b[0;34m(\u001b[0m\u001b[0mrun_metadata_ptr\u001b[0m\u001b[0;34m)\u001b[0m\u001b[0;34m\u001b[0m\u001b[0;34m\u001b[0m\u001b[0m\n",
      "\u001b[0;32m/anaconda3/envs/EssayGrader_env/lib/python3.6/site-packages/tensorflow/python/client/session.py\u001b[0m in \u001b[0;36m_run\u001b[0;34m(self, handle, fetches, feed_dict, options, run_metadata)\u001b[0m\n\u001b[1;32m   1150\u001b[0m     \u001b[0;32mif\u001b[0m \u001b[0mfinal_fetches\u001b[0m \u001b[0;32mor\u001b[0m \u001b[0mfinal_targets\u001b[0m \u001b[0;32mor\u001b[0m \u001b[0;34m(\u001b[0m\u001b[0mhandle\u001b[0m \u001b[0;32mand\u001b[0m \u001b[0mfeed_dict_tensor\u001b[0m\u001b[0;34m)\u001b[0m\u001b[0;34m:\u001b[0m\u001b[0;34m\u001b[0m\u001b[0;34m\u001b[0m\u001b[0m\n\u001b[1;32m   1151\u001b[0m       results = self._do_run(handle, final_targets, final_fetches,\n\u001b[0;32m-> 1152\u001b[0;31m                              feed_dict_tensor, options, run_metadata)\n\u001b[0m\u001b[1;32m   1153\u001b[0m     \u001b[0;32melse\u001b[0m\u001b[0;34m:\u001b[0m\u001b[0;34m\u001b[0m\u001b[0;34m\u001b[0m\u001b[0m\n\u001b[1;32m   1154\u001b[0m       \u001b[0mresults\u001b[0m \u001b[0;34m=\u001b[0m \u001b[0;34m[\u001b[0m\u001b[0;34m]\u001b[0m\u001b[0;34m\u001b[0m\u001b[0;34m\u001b[0m\u001b[0m\n",
      "\u001b[0;32m/anaconda3/envs/EssayGrader_env/lib/python3.6/site-packages/tensorflow/python/client/session.py\u001b[0m in \u001b[0;36m_do_run\u001b[0;34m(self, handle, target_list, fetch_list, feed_dict, options, run_metadata)\u001b[0m\n\u001b[1;32m   1326\u001b[0m     \u001b[0;32mif\u001b[0m \u001b[0mhandle\u001b[0m \u001b[0;32mis\u001b[0m \u001b[0;32mNone\u001b[0m\u001b[0;34m:\u001b[0m\u001b[0;34m\u001b[0m\u001b[0;34m\u001b[0m\u001b[0m\n\u001b[1;32m   1327\u001b[0m       return self._do_call(_run_fn, feeds, fetches, targets, options,\n\u001b[0;32m-> 1328\u001b[0;31m                            run_metadata)\n\u001b[0m\u001b[1;32m   1329\u001b[0m     \u001b[0;32melse\u001b[0m\u001b[0;34m:\u001b[0m\u001b[0;34m\u001b[0m\u001b[0;34m\u001b[0m\u001b[0m\n\u001b[1;32m   1330\u001b[0m       \u001b[0;32mreturn\u001b[0m \u001b[0mself\u001b[0m\u001b[0;34m.\u001b[0m\u001b[0m_do_call\u001b[0m\u001b[0;34m(\u001b[0m\u001b[0m_prun_fn\u001b[0m\u001b[0;34m,\u001b[0m \u001b[0mhandle\u001b[0m\u001b[0;34m,\u001b[0m \u001b[0mfeeds\u001b[0m\u001b[0;34m,\u001b[0m \u001b[0mfetches\u001b[0m\u001b[0;34m)\u001b[0m\u001b[0;34m\u001b[0m\u001b[0;34m\u001b[0m\u001b[0m\n",
      "\u001b[0;32m/anaconda3/envs/EssayGrader_env/lib/python3.6/site-packages/tensorflow/python/client/session.py\u001b[0m in \u001b[0;36m_do_call\u001b[0;34m(self, fn, *args)\u001b[0m\n\u001b[1;32m   1332\u001b[0m   \u001b[0;32mdef\u001b[0m \u001b[0m_do_call\u001b[0m\u001b[0;34m(\u001b[0m\u001b[0mself\u001b[0m\u001b[0;34m,\u001b[0m \u001b[0mfn\u001b[0m\u001b[0;34m,\u001b[0m \u001b[0;34m*\u001b[0m\u001b[0margs\u001b[0m\u001b[0;34m)\u001b[0m\u001b[0;34m:\u001b[0m\u001b[0;34m\u001b[0m\u001b[0;34m\u001b[0m\u001b[0m\n\u001b[1;32m   1333\u001b[0m     \u001b[0;32mtry\u001b[0m\u001b[0;34m:\u001b[0m\u001b[0;34m\u001b[0m\u001b[0;34m\u001b[0m\u001b[0m\n\u001b[0;32m-> 1334\u001b[0;31m       \u001b[0;32mreturn\u001b[0m \u001b[0mfn\u001b[0m\u001b[0;34m(\u001b[0m\u001b[0;34m*\u001b[0m\u001b[0margs\u001b[0m\u001b[0;34m)\u001b[0m\u001b[0;34m\u001b[0m\u001b[0;34m\u001b[0m\u001b[0m\n\u001b[0m\u001b[1;32m   1335\u001b[0m     \u001b[0;32mexcept\u001b[0m \u001b[0merrors\u001b[0m\u001b[0;34m.\u001b[0m\u001b[0mOpError\u001b[0m \u001b[0;32mas\u001b[0m \u001b[0me\u001b[0m\u001b[0;34m:\u001b[0m\u001b[0;34m\u001b[0m\u001b[0;34m\u001b[0m\u001b[0m\n\u001b[1;32m   1336\u001b[0m       \u001b[0mmessage\u001b[0m \u001b[0;34m=\u001b[0m \u001b[0mcompat\u001b[0m\u001b[0;34m.\u001b[0m\u001b[0mas_text\u001b[0m\u001b[0;34m(\u001b[0m\u001b[0me\u001b[0m\u001b[0;34m.\u001b[0m\u001b[0mmessage\u001b[0m\u001b[0;34m)\u001b[0m\u001b[0;34m\u001b[0m\u001b[0;34m\u001b[0m\u001b[0m\n",
      "\u001b[0;32m/anaconda3/envs/EssayGrader_env/lib/python3.6/site-packages/tensorflow/python/client/session.py\u001b[0m in \u001b[0;36m_run_fn\u001b[0;34m(feed_dict, fetch_list, target_list, options, run_metadata)\u001b[0m\n\u001b[1;32m   1317\u001b[0m       \u001b[0mself\u001b[0m\u001b[0;34m.\u001b[0m\u001b[0m_extend_graph\u001b[0m\u001b[0;34m(\u001b[0m\u001b[0;34m)\u001b[0m\u001b[0;34m\u001b[0m\u001b[0;34m\u001b[0m\u001b[0m\n\u001b[1;32m   1318\u001b[0m       return self._call_tf_sessionrun(\n\u001b[0;32m-> 1319\u001b[0;31m           options, feed_dict, fetch_list, target_list, run_metadata)\n\u001b[0m\u001b[1;32m   1320\u001b[0m \u001b[0;34m\u001b[0m\u001b[0m\n\u001b[1;32m   1321\u001b[0m     \u001b[0;32mdef\u001b[0m \u001b[0m_prun_fn\u001b[0m\u001b[0;34m(\u001b[0m\u001b[0mhandle\u001b[0m\u001b[0;34m,\u001b[0m \u001b[0mfeed_dict\u001b[0m\u001b[0;34m,\u001b[0m \u001b[0mfetch_list\u001b[0m\u001b[0;34m)\u001b[0m\u001b[0;34m:\u001b[0m\u001b[0;34m\u001b[0m\u001b[0;34m\u001b[0m\u001b[0m\n",
      "\u001b[0;32m/anaconda3/envs/EssayGrader_env/lib/python3.6/site-packages/tensorflow/python/client/session.py\u001b[0m in \u001b[0;36m_call_tf_sessionrun\u001b[0;34m(self, options, feed_dict, fetch_list, target_list, run_metadata)\u001b[0m\n\u001b[1;32m   1405\u001b[0m     return tf_session.TF_SessionRun_wrapper(\n\u001b[1;32m   1406\u001b[0m         \u001b[0mself\u001b[0m\u001b[0;34m.\u001b[0m\u001b[0m_session\u001b[0m\u001b[0;34m,\u001b[0m \u001b[0moptions\u001b[0m\u001b[0;34m,\u001b[0m \u001b[0mfeed_dict\u001b[0m\u001b[0;34m,\u001b[0m \u001b[0mfetch_list\u001b[0m\u001b[0;34m,\u001b[0m \u001b[0mtarget_list\u001b[0m\u001b[0;34m,\u001b[0m\u001b[0;34m\u001b[0m\u001b[0;34m\u001b[0m\u001b[0m\n\u001b[0;32m-> 1407\u001b[0;31m         run_metadata)\n\u001b[0m\u001b[1;32m   1408\u001b[0m \u001b[0;34m\u001b[0m\u001b[0m\n\u001b[1;32m   1409\u001b[0m   \u001b[0;32mdef\u001b[0m \u001b[0m_call_tf_sessionprun\u001b[0m\u001b[0;34m(\u001b[0m\u001b[0mself\u001b[0m\u001b[0;34m,\u001b[0m \u001b[0mhandle\u001b[0m\u001b[0;34m,\u001b[0m \u001b[0mfeed_dict\u001b[0m\u001b[0;34m,\u001b[0m \u001b[0mfetch_list\u001b[0m\u001b[0;34m)\u001b[0m\u001b[0;34m:\u001b[0m\u001b[0;34m\u001b[0m\u001b[0;34m\u001b[0m\u001b[0m\n",
      "\u001b[0;31mKeyboardInterrupt\u001b[0m: "
     ],
     "output_type": "error"
    }
   ],
   "source": [
    "my_net.train(gen=batch_gen, X_val=X_val, y_val=y_val, s_val=s_val, n_epochs=20, lr=1e-4)"
   ]
  },
  {
   "cell_type": "code",
   "execution_count": null,
   "metadata": {},
   "outputs": [],
   "source": [
    ""
   ]
  },
  {
   "cell_type": "code",
   "execution_count": null,
   "metadata": {},
   "outputs": [],
   "source": [
    ""
   ]
  }
 ],
 "metadata": {
  "kernelspec": {
   "display_name": "Python 3",
   "language": "python",
   "name": "python3"
  },
  "language_info": {
   "codemirror_mode": {
    "name": "ipython",
    "version": 3.0
   },
   "file_extension": ".py",
   "mimetype": "text/x-python",
   "name": "python",
   "nbconvert_exporter": "python",
   "pygments_lexer": "ipython3",
   "version": "3.6.5"
  }
 },
 "nbformat": 4,
 "nbformat_minor": 0
}