{
 "cells": [
  {
   "cell_type": "markdown",
   "metadata": {},
   "source": [
    "This notebook will serve as the master notebook which the TAs can run from start to finish"
   ]
  },
  {
   "cell_type": "code",
   "execution_count": 8,
   "metadata": {},
   "outputs": [
    {
     "name": "stdout",
     "output_type": "stream",
     "text": [
      "The autoreload extension is already loaded. To reload it, use:\n  %reload_ext autoreload\n"
     ]
    }
   ],
   "source": [
    "import pandas as pd\n",
    "\n",
    "%load_ext autoreload\n",
    "%autoreload 2"
   ]
  },
  {
   "cell_type": "code",
   "execution_count": 9,
   "metadata": {},
   "outputs": [],
   "source": [
    "# Define the path to the data\n",
    "data_path = './data/essay_df.pkl'\n",
    "df = pd.read_pickle(data_path)"
   ]
  },
  {
   "cell_type": "code",
   "execution_count": 11,
   "metadata": {},
   "outputs": [
    {
     "name": "stdout",
     "output_type": "stream",
     "text": [
      "<class 'pandas.core.frame.DataFrame'>\nRangeIndex: 12976 entries, 0 to 12975\nData columns (total 29 columns):\nessay_id          12976 non-null int64\nessay_set         12976 non-null int64\nessay             12976 non-null object\nrater1_domain1    12976 non-null int64\nrater2_domain1    12976 non-null int64\nrater3_domain1    128 non-null float64\ndomain1_score     12976 non-null int64\nrater1_domain2    1800 non-null float64\nrater2_domain2    1800 non-null float64\ndomain2_score     1800 non-null float64\nrater1_trait1     2292 non-null float64\nrater1_trait2     2292 non-null float64\nrater1_trait3     2292 non-null float64\nrater1_trait4     2292 non-null float64\nrater1_trait5     723 non-null float64\nrater1_trait6     723 non-null float64\nrater2_trait1     2292 non-null float64\nrater2_trait2     2292 non-null float64\nrater2_trait3     2292 non-null float64\nrater2_trait4     2292 non-null float64\nrater2_trait5     723 non-null float64\nrater2_trait6     723 non-null float64\nrater3_trait1     128 non-null float64\nrater3_trait2     128 non-null float64\nrater3_trait3     128 non-null float64\nrater3_trait4     128 non-null float64\nrater3_trait5     128 non-null float64\nrater3_trait6     128 non-null float64\nessays_embed      12976 non-null object\ndtypes: float64(22), int64(5), object(2)\nmemory usage: 2.9+ MB\n"
     ]
    }
   ],
   "source": [
    "df.info()"
   ]
  },
  {
   "cell_type": "code",
   "execution_count": 19,
   "metadata": {},
   "outputs": [
    {
     "name": "stdout",
     "output_type": "stream",
     "text": [
      "<class 'pandas.core.frame.DataFrame'>\nRangeIndex: 12976 entries, 0 to 12975\nData columns (total 29 columns):\nessay_id          12976 non-null int64\nessay_set         12976 non-null int64\nessay             12976 non-null object\nrater1_domain1    12976 non-null int64\nrater2_domain1    12976 non-null int64\nrater3_domain1    128 non-null float64\ndomain1_score     12976 non-null int64\nrater1_domain2    1800 non-null float64\nrater2_domain2    1800 non-null float64\ndomain2_score     1800 non-null float64\nrater1_trait1     2292 non-null float64\nrater1_trait2     2292 non-null float64\nrater1_trait3     2292 non-null float64\nrater1_trait4     2292 non-null float64\nrater1_trait5     723 non-null float64\nrater1_trait6     723 non-null float64\nrater2_trait1     2292 non-null float64\nrater2_trait2     2292 non-null float64\nrater2_trait3     2292 non-null float64\nrater2_trait4     2292 non-null float64\nrater2_trait5     723 non-null float64\nrater2_trait6     723 non-null float64\nrater3_trait1     128 non-null float64\nrater3_trait2     128 non-null float64\nrater3_trait3     128 non-null float64\nrater3_trait4     128 non-null float64\nrater3_trait5     128 non-null float64\nrater3_trait6     128 non-null float64\nessays_embed      12976 non-null object\ndtypes: float64(22), int64(5), object(2)\nmemory usage: 19.9 MB\n"
     ]
    }
   ],
   "source": [
    "df.info(memory_usage='deep')"
   ]
  },
  {
   "cell_type": "code",
   "execution_count": 21,
   "metadata": {},
   "outputs": [
    {
     "data": {
      "text/plain": [
       "20896129"
      ]
     },
     "execution_count": 21,
     "metadata": {},
     "output_type": "execute_result"
    }
   ],
   "source": [
    "df.memory_usage(index=True, deep=True).sum()"
   ]
  },
  {
   "cell_type": "code",
   "execution_count": null,
   "metadata": {},
   "outputs": [],
   "source": [
    "# Define a batch generator\n",
    "# Adopted from HW3\n",
    "def get_batches(essays, scores, n_essays):\n",
    "    '''\n",
    "    Partition data array into mini-batches\n",
    "    param essays: array of essays in word embedding form\n",
    "    param scores: array of scores of essays\n",
    "    param n_essays: number of essays in a mini-batch\n",
    "    output:\n",
    "    '''\n",
    "    batch_size = n_seqs * n_steps\n",
    "    n_batches = int(len(array) / batch_size)\n",
    "    \n",
    "    # we only keep the full batches and ignore the rest.\n",
    "\n",
    "    array = array[:batch_size * n_batches]\n",
    "    array = array.reshape((n_seqs, -1))\n",
    "\n",
    "    # Label array is created by rolling the regular array by 1 along\n",
    "    # the rows.\n",
    "    label_array = np.roll(array, -1)\n",
    "    \n",
    "    # Loop to generate batches for inputs and targets\n",
    "    while True:\n",
    "        for i in range(n_batches):\n",
    "            batch_x = array[:,i*n_steps: (i+1)*n_steps]\n",
    "            batch_y = label_array[:,i*n_steps : (i+1)*n_steps]\n",
    "\n",
    "            yield (batch_x, batch_y)"
   ]
  }
 ],
 "metadata": {
  "kernelspec": {
   "display_name": "Python 2",
   "language": "python",
   "name": "python2"
  },
  "language_info": {
   "codemirror_mode": {
    "name": "ipython",
    "version": 2.0
   },
   "file_extension": ".py",
   "mimetype": "text/x-python",
   "name": "python",
   "nbconvert_exporter": "python",
   "pygments_lexer": "ipython2",
   "version": "2.7.6"
  }
 },
 "nbformat": 4,
 "nbformat_minor": 0
}