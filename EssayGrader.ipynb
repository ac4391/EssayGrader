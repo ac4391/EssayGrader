{
 "cells": [
  {
   "cell_type": "markdown",
   "metadata": {},
   "source": [
    "This notebook will serve as the master notebook which the TAs can run from start to finish"
   ]
  },
  {
   "cell_type": "code",
   "execution_count": 81,
   "metadata": {},
   "outputs": [
    {
     "name": "stdout",
     "output_type": "stream",
     "text": [
      "The autoreload extension is already loaded. To reload it, use:\n  %reload_ext autoreload\n"
     ]
    }
   ],
   "source": [
    "import pandas as pd\n",
    "import numpy as np\n",
    "from src.utils import get_batches, shuffle, train_val_split\n",
    "\n",
    "\n",
    "%load_ext autoreload\n",
    "%autoreload 2"
   ]
  },
  {
   "cell_type": "code",
   "execution_count": 82,
   "metadata": {},
   "outputs": [],
   "source": [
    "# Define the path to the data\n",
    "data_path = './data/essay_df.pkl'\n",
    "df = pd.read_pickle(data_path)"
   ]
  },
  {
   "cell_type": "code",
   "execution_count": 5,
   "metadata": {},
   "outputs": [
    {
     "name": "stdout",
     "output_type": "stream",
     "text": [
      "<class 'pandas.core.frame.DataFrame'>\nInt64Index: 8764 entries, 0 to 10683\nData columns (total 8 columns):\nessay_id         8764 non-null int64\nessay_set        8764 non-null int64\nessay            8764 non-null object\ndomain1_score    8764 non-null int64\nessays_embed     8764 non-null object\nword_count       8764 non-null int64\nmax_score        8764 non-null float64\nnorm_score       8764 non-null float64\ndtypes: float64(2), int64(4), object(2)\nmemory usage: 616.2+ KB\n"
     ]
    }
   ],
   "source": [
    "df.info()"
   ]
  },
  {
   "cell_type": "code",
   "execution_count": 7,
   "metadata": {},
   "outputs": [],
   "source": [
    "X = np.array(df['essays_embed'])\n",
    "y = np.array(df['norm_score'])\n",
    "X_stacked = np.stack(X, axis=0)\n",
    "X_flat = np.reshape(X_stacked, [X_stacked.shape[0], -1])\n",
    "X_shuffled, y_shuffled = shuffle(X_flat, y)\n",
    "X_train, y_train, X_val, y_val = train_val_split(X_shuffled, y_shuffled, train_prop=0.8)"
   ]
  },
  {
   "cell_type": "code",
   "execution_count": 16,
   "metadata": {},
   "outputs": [],
   "source": [
    "# Small sample dataset for proof of concept testing\n",
    "# Note that we're using training data for both training and validation\n",
    "X_train = X_train[:100]\n",
    "y_train = y_train[:100]\n",
    "X_val = X_train\n",
    "y_val = y_train"
   ]
  },
  {
   "cell_type": "code",
   "execution_count": 18,
   "metadata": {},
   "outputs": [],
   "source": [
    "from src.mlp import MLP\n",
    "input_dim = X_train.shape[1]\n",
    "batch_size = 10\n",
    "\n",
    "batch_gen = get_batches(X_train, y_train, batch_size, net_type='mlp')\n",
    "\n",
    "my_net = MLP(input_dim=input_dim, hidden_dims=[100, 100], num_classes=12, l2_reg=0)"
   ]
  },
  {
   "cell_type": "code",
   "execution_count": 19,
   "metadata": {
    "collapsed": true
   },
   "outputs": [
    {
     "name": "stdout",
     "output_type": "stream",
     "text": [
      "loss for counter 5 is 2.480353593826294\ncounter 5: valid acc = 0.36000001430511475\n[8 8 8 8 8 8 8 8 8 8 8 8 8 8 8 8 8 8 8 8]\n[ 8  9  7 10  8  8 10 10  9  9  8  8  7  6  6 12  8  8  4  6]\nloss for counter 10 is 2.4738287925720215\ncounter 10: valid acc = 0.36000001430511475\n[8 8 8 8 8 8 8 8 8 8 8 8 8 8 8 8 8 8 8 8]\n[ 8  9  7 10  8  8 10 10  9  9  8  8  7  6  6 12  8  8  4  6]\n"
     ]
    },
    {
     "name": "stdout",
     "output_type": "stream",
     "text": [
      "loss for counter 15 is 2.4656758308410645\ncounter 15: valid acc = 0.36000001430511475\n[8 8 8 8 8 8 8 8 8 8 8 8 8 8 8 8 8 8 8 8]\n[ 8  9  7 10  8  8 10 10  9  9  8  8  7  6  6 12  8  8  4  6]\nloss for counter 20 is 2.461050510406494\ncounter 20: valid acc = 0.36000001430511475\n[8 8 8 8 8 8 8 8 8 8 8 8 8 8 8 8 8 8 8 8]\n[ 8  9  7 10  8  8 10 10  9  9  8  8  7  6  6 12  8  8  4  6]\n"
     ]
    },
    {
     "name": "stdout",
     "output_type": "stream",
     "text": [
      "loss for counter 25 is 2.451246500015259\ncounter 25: valid acc = 0.36000001430511475\n[8 8 8 8 8 8 8 8 8 8 8 8 8 8 8 8 8 8 8 8]\n[ 8  9  7 10  8  8 10 10  9  9  8  8  7  6  6 12  8  8  4  6]\nloss for counter 30 is 2.4484925270080566\ncounter 30: valid acc = 0.36000001430511475\n[8 8 8 8 8 8 8 8 8 8 8 8 8 8 8 8 8 8 8 8]\n[ 8  9  7 10  8  8 10 10  9  9  8  8  7  6  6 12  8  8  4  6]\n"
     ]
    },
    {
     "name": "stdout",
     "output_type": "stream",
     "text": [
      "loss for counter 35 is 2.437058687210083\ncounter 35: valid acc = 0.36000001430511475\n[8 8 8 8 8 8 8 8 8 8 8 8 8 8 8 8 8 8 8 8]\n[ 8  9  7 10  8  8 10 10  9  9  8  8  7  6  6 12  8  8  4  6]\nloss for counter 40 is 2.4361467361450195\ncounter 40: valid acc = 0.36000001430511475\n[8 8 8 8 8 8 8 8 8 8 8 8 8 8 8 8 8 8 8 8]\n[ 8  9  7 10  8  8 10 10  9  9  8  8  7  6  6 12  8  8  4  6]\n"
     ]
    },
    {
     "name": "stdout",
     "output_type": "stream",
     "text": [
      "loss for counter 45 is 2.423104763031006\ncounter 45: valid acc = 0.36000001430511475\n[8 8 8 8 8 8 8 8 8 8 8 8 8 8 8 8 8 8 8 8]\n[ 8  9  7 10  8  8 10 10  9  9  8  8  7  6  6 12  8  8  4  6]\nloss for counter 50 is 2.4240055084228516\ncounter 50: valid acc = 0.36000001430511475\n[8 8 8 8 8 8 8 8 8 8 8 8 8 8 8 8 8 8 8 8]\n[ 8  9  7 10  8  8 10 10  9  9  8  8  7  6  6 12  8  8  4  6]\n"
     ]
    },
    {
     "name": "stdout",
     "output_type": "stream",
     "text": [
      "loss for counter 55 is 2.4093780517578125\ncounter 55: valid acc = 0.36000001430511475\n[8 8 8 8 8 8 8 8 8 8 8 8 8 8 8 8 8 8 8 8]\n[ 8  9  7 10  8  8 10 10  9  9  8  8  7  6  6 12  8  8  4  6]\n"
     ]
    },
    {
     "name": "stdout",
     "output_type": "stream",
     "text": [
      "loss for counter 60 is 2.4120612144470215\ncounter 60: valid acc = 0.36000001430511475\n[8 8 8 8 8 8 8 8 8 8 8 8 8 8 8 8 8 8 8 8]\n[ 8  9  7 10  8  8 10 10  9  9  8  8  7  6  6 12  8  8  4  6]\nloss for counter 65 is 2.395871162414551\ncounter 65: valid acc = 0.36000001430511475\n[8 8 8 8 8 8 8 8 8 8 8 8 8 8 8 8 8 8 8 8]\n[ 8  9  7 10  8  8 10 10  9  9  8  8  7  6  6 12  8  8  4  6]\n"
     ]
    },
    {
     "name": "stdout",
     "output_type": "stream",
     "text": [
      "loss for counter 70 is 2.4003052711486816\ncounter 70: valid acc = 0.36000001430511475\n[8 8 8 8 8 8 8 8 8 8 8 8 8 8 8 8 8 8 8 8]\n[ 8  9  7 10  8  8 10 10  9  9  8  8  7  6  6 12  8  8  4  6]\nloss for counter 75 is 2.3825764656066895\ncounter 75: valid acc = 0.36000001430511475\n[8 8 8 8 8 8 8 8 8 8 8 8 8 8 8 8 8 8 8 8]\n[ 8  9  7 10  8  8 10 10  9  9  8  8  7  6  6 12  8  8  4  6]\n"
     ]
    },
    {
     "name": "stdout",
     "output_type": "stream",
     "text": [
      "loss for counter 80 is 2.3887295722961426\ncounter 80: valid acc = 0.36000001430511475\n[8 8 8 8 8 8 8 8 8 8 8 8 8 8 8 8 8 8 8 8]\n[ 8  9  7 10  8  8 10 10  9  9  8  8  7  6  6 12  8  8  4  6]\n"
     ]
    },
    {
     "name": "stdout",
     "output_type": "stream",
     "text": [
      "loss for counter 85 is 2.369485855102539\ncounter 85: valid acc = 0.36000001430511475\n[8 8 8 8 8 8 8 8 8 8 8 8 8 8 8 8 8 8 8 8]\n[ 8  9  7 10  8  8 10 10  9  9  8  8  7  6  6 12  8  8  4  6]\nloss for counter 90 is 2.377324342727661\ncounter 90: valid acc = 0.36000001430511475\n[8 8 8 8 8 8 8 8 8 8 8 8 8 8 8 8 8 8 8 8]\n[ 8  9  7 10  8  8 10 10  9  9  8  8  7  6  6 12  8  8  4  6]\n"
     ]
    },
    {
     "name": "stdout",
     "output_type": "stream",
     "text": [
      "loss for counter 95 is 2.3565902709960938\ncounter 95: valid acc = 0.36000001430511475\n[8 8 8 8 8 8 8 8 8 8 8 8 8 8 8 8 8 8 8 8]\n[ 8  9  7 10  8  8 10 10  9  9  8  8  7  6  6 12  8  8  4  6]\n"
     ]
    },
    {
     "name": "stdout",
     "output_type": "stream",
     "text": [
      "loss for counter 100 is 2.3660788536071777\ncounter 100: valid acc = 0.36000001430511475\n[8 8 8 8 8 8 8 8 8 8 8 8 8 8 8 8 8 8 8 8]\n[ 8  9  7 10  8  8 10 10  9  9  8  8  7  6  6 12  8  8  4  6]\n"
     ]
    },
    {
     "name": "stdout",
     "output_type": "stream",
     "text": [
      "loss for counter 105 is 2.3438796997070312\ncounter 105: valid acc = 0.36000001430511475\n[8 8 8 8 8 8 8 8 8 8 8 8 8 8 8 8 8 8 8 8]\n[ 8  9  7 10  8  8 10 10  9  9  8  8  7  6  6 12  8  8  4  6]\n"
     ]
    },
    {
     "name": "stdout",
     "output_type": "stream",
     "text": [
      "loss for counter 110 is 2.3549816608428955\ncounter 110: valid acc = 0.36000001430511475\n[8 8 8 8 8 8 8 8 8 8 8 8 8 8 8 8 8 8 8 8]\n[ 8  9  7 10  8  8 10 10  9  9  8  8  7  6  6 12  8  8  4  6]\nloss for counter 115 is 2.3313422203063965\ncounter 115: valid acc = 0.36000001430511475\n[8 8 8 8 8 8 8 8 8 8 8 8 8 8 8 8 8 8 8 8]\n[ 8  9  7 10  8  8 10 10  9  9  8  8  7  6  6 12  8  8  4  6]\n"
     ]
    },
    {
     "name": "stdout",
     "output_type": "stream",
     "text": [
      "loss for counter 120 is 2.3440184593200684\ncounter 120: valid acc = 0.36000001430511475\n[8 8 8 8 8 8 8 8 8 8 8 8 8 8 8 8 8 8 8 8]\n[ 8  9  7 10  8  8 10 10  9  9  8  8  7  6  6 12  8  8  4  6]\nloss for counter 125 is 2.3189635276794434\ncounter 125: valid acc = 0.36000001430511475\n[8 8 8 8 8 8 8 8 8 8 8 8 8 8 8 8 8 8 8 8]\n[ 8  9  7 10  8  8 10 10  9  9  8  8  7  6  6 12  8  8  4  6]\n"
     ]
    },
    {
     "name": "stdout",
     "output_type": "stream",
     "text": [
      "loss for counter 130 is 2.3331730365753174\ncounter 130: valid acc = 0.36000001430511475\n[8 8 8 8 8 8 8 8 8 8 8 8 8 8 8 8 8 8 8 8]\n[ 8  9  7 10  8  8 10 10  9  9  8  8  7  6  6 12  8  8  4  6]\nloss for counter 135 is 2.306727170944214\ncounter 135: valid acc = 0.36000001430511475\n[8 8 8 8 8 8 8 8 8 8 8 8 8 8 8 8 8 8 8 8]\n[ 8  9  7 10  8  8 10 10  9  9  8  8  7  6  6 12  8  8  4  6]\n"
     ]
    },
    {
     "name": "stdout",
     "output_type": "stream",
     "text": [
      "loss for counter 140 is 2.3224263191223145\ncounter 140: valid acc = 0.36000001430511475\n[8 8 8 8 8 8 8 8 8 8 8 8 8 8 8 8 8 8 8 8]\n[ 8  9  7 10  8  8 10 10  9  9  8  8  7  6  6 12  8  8  4  6]\nloss for counter 145 is 2.294612169265747\ncounter 145: valid acc = 0.36000001430511475\n[8 8 8 8 8 8 8 8 8 8 8 8 8 8 8 8 8 8 8 8]\n[ 8  9  7 10  8  8 10 10  9  9  8  8  7  6  6 12  8  8  4  6]\n"
     ]
    },
    {
     "name": "stdout",
     "output_type": "stream",
     "text": [
      "loss for counter 150 is 2.3117547035217285\ncounter 150: valid acc = 0.36000001430511475\n[8 8 8 8 8 8 8 8 8 8 8 8 8 8 8 8 8 8 8 8]\n[ 8  9  7 10  8  8 10 10  9  9  8  8  7  6  6 12  8  8  4  6]\nloss for counter 155 is 2.2825920581817627\ncounter 155: valid acc = 0.36000001430511475\n[8 8 8 8 8 8 8 8 8 8 8 8 8 8 8 8 8 8 8 8]\n[ 8  9  7 10  8  8 10 10  9  9  8  8  7  6  6 12  8  8  4  6]\n"
     ]
    },
    {
     "name": "stdout",
     "output_type": "stream",
     "text": [
      "loss for counter 160 is 2.301129102706909\ncounter 160: valid acc = 0.36000001430511475\n[8 8 8 8 8 8 8 8 8 8 8 8 8 8 8 8 8 8 8 8]\n[ 8  9  7 10  8  8 10 10  9  9  8  8  7  6  6 12  8  8  4  6]\nloss for counter 165 is 2.2706329822540283\ncounter 165: valid acc = 0.36000001430511475\n[8 8 8 8 8 8 8 8 8 8 8 8 8 8 8 8 8 8 8 8]\n[ 8  9  7 10  8  8 10 10  9  9  8  8  7  6  6 12  8  8  4  6]\n"
     ]
    },
    {
     "name": "stdout",
     "output_type": "stream",
     "text": [
      "loss for counter 170 is 2.2905125617980957\ncounter 170: valid acc = 0.36000001430511475\n[8 8 8 8 8 8 8 8 8 8 8 8 8 8 8 8 8 8 8 8]\n[ 8  9  7 10  8  8 10 10  9  9  8  8  7  6  6 12  8  8  4  6]\nloss for counter 175 is 2.2586915493011475\ncounter 175: valid acc = 0.36000001430511475\n[8 8 8 8 8 8 8 8 8 8 8 8 8 8 8 8 8 8 8 8]\n[ 8  9  7 10  8  8 10 10  9  9  8  8  7  6  6 12  8  8  4  6]\n"
     ]
    },
    {
     "name": "stdout",
     "output_type": "stream",
     "text": [
      "loss for counter 180 is 2.2798588275909424\ncounter 180: valid acc = 0.36000001430511475\n[8 8 8 8 8 8 8 8 8 8 8 8 8 8 8 8 8 8 8 8]\n[ 8  9  7 10  8  8 10 10  9  9  8  8  7  6  6 12  8  8  4  6]\nloss for counter 185 is 2.246708631515503\ncounter 185: valid acc = 0.36000001430511475\n[8 8 8 8 8 8 8 8 8 8 8 8 8 8 8 8 8 8 8 8]\n[ 8  9  7 10  8  8 10 10  9  9  8  8  7  6  6 12  8  8  4  6]\n"
     ]
    },
    {
     "name": "stdout",
     "output_type": "stream",
     "text": [
      "loss for counter 190 is 2.269106864929199\ncounter 190: valid acc = 0.36000001430511475\n[8 8 8 8 8 8 8 8 8 8 8 8 8 8 8 8 8 8 8 8]\n[ 8  9  7 10  8  8 10 10  9  9  8  8  7  6  6 12  8  8  4  6]\nloss for counter 195 is 2.2346034049987793\ncounter 195: valid acc = 0.36000001430511475\n[8 8 8 8 8 8 8 8 8 8 8 8 8 8 8 8 8 8 8 8]\n[ 8  9  7 10  8  8 10 10  9  9  8  8  7  6  6 12  8  8  4  6]\n"
     ]
    },
    {
     "name": "stdout",
     "output_type": "stream",
     "text": [
      "loss for counter 200 is 2.2581756114959717\ncounter 200: valid acc = 0.36000001430511475\n[8 8 8 8 8 8 8 8 8 8 8 8 8 8 8 8 8 8 8 8]\n[ 8  9  7 10  8  8 10 10  9  9  8  8  7  6  6 12  8  8  4  6]\nloss for counter 205 is 2.222263813018799\ncounter 205: valid acc = 0.36000001430511475\n[8 8 8 8 8 8 8 8 8 8 8 8 8 8 8 8 8 8 8 8]\n[ 8  9  7 10  8  8 10 10  9  9  8  8  7  6  6 12  8  8  4  6]\n"
     ]
    },
    {
     "name": "stdout",
     "output_type": "stream",
     "text": [
      "loss for counter 210 is 2.2469563484191895\ncounter 210: valid acc = 0.36000001430511475\n[8 8 8 8 8 8 8 8 8 8 8 8 8 8 8 8 8 8 8 8]\n[ 8  9  7 10  8  8 10 10  9  9  8  8  7  6  6 12  8  8  4  6]\nloss for counter 215 is 2.209526538848877\ncounter 215: valid acc = 0.36000001430511475\n[8 8 8 8 8 8 8 8 8 8 8 8 8 8 8 8 8 8 8 8]\n[ 8  9  7 10  8  8 10 10  9  9  8  8  7  6  6 12  8  8  4  6]\n"
     ]
    },
    {
     "name": "stdout",
     "output_type": "stream",
     "text": [
      "loss for counter 220 is 2.2352988719940186\ncounter 220: valid acc = 0.36000001430511475\n[8 8 8 8 8 8 8 8 8 8 8 8 8 8 8 8 8 8 8 8]\n[ 8  9  7 10  8  8 10 10  9  9  8  8  7  6  6 12  8  8  4  6]\nloss for counter 225 is 2.1961543560028076\ncounter 225: valid acc = 0.36000001430511475\n[8 8 8 8 8 8 8 8 8 8 8 8 8 8 8 8 8 8 8 8]\n[ 8  9  7 10  8  8 10 10  9  9  8  8  7  6  6 12  8  8  4  6]\n"
     ]
    },
    {
     "name": "stdout",
     "output_type": "stream",
     "text": [
      "loss for counter 230 is 2.2229936122894287\ncounter 230: valid acc = 0.36000001430511475\n[8 8 8 8 8 8 8 8 8 8 8 8 8 8 8 8 8 8 8 8]\n[ 8  9  7 10  8  8 10 10  9  9  8  8  7  6  6 12  8  8  4  6]\nloss for counter 235 is 2.181788921356201\ncounter 235: valid acc = 0.36000001430511475\n[8 8 8 8 8 8 8 8 8 8 8 8 8 8 8 8 8 8 8 8]\n[ 8  9  7 10  8  8 10 10  9  9  8  8  7  6  6 12  8  8  4  6]\n"
     ]
    },
    {
     "name": "stdout",
     "output_type": "stream",
     "text": [
      "loss for counter 240 is 2.209746837615967\ncounter 240: valid acc = 0.36000001430511475\n[8 8 8 8 8 8 8 8 8 8 8 8 8 8 8 8 8 8 8 8]\n[ 8  9  7 10  8  8 10 10  9  9  8  8  7  6  6 12  8  8  4  6]\nloss for counter 245 is 2.1658852100372314\ncounter 245: valid acc = 0.36000001430511475\n[8 8 8 8 8 8 8 8 8 8 8 8 8 8 8 8 8 8 8 8]\n[ 8  9  7 10  8  8 10 10  9  9  8  8  7  6  6 12  8  8  4  6]\n"
     ]
    },
    {
     "name": "stdout",
     "output_type": "stream",
     "text": [
      "loss for counter 250 is 2.1951470375061035\ncounter 250: valid acc = 0.36000001430511475\n[8 8 8 8 8 8 8 8 8 8 8 8 8 8 8 8 8 8 8 8]\n[ 8  9  7 10  8  8 10 10  9  9  8  8  7  6  6 12  8  8  4  6]\n"
     ]
    },
    {
     "name": "stdout",
     "output_type": "stream",
     "text": [
      "loss for counter 255 is 2.147611141204834\ncounter 255: valid acc = 0.36000001430511475\n[8 8 8 8 8 8 8 8 8 8 8 8 8 8 8 8 8 8 8 8]\n[ 8  9  7 10  8  8 10 10  9  9  8  8  7  6  6 12  8  8  4  6]\nloss for counter 260 is 2.178633213043213\ncounter 260: valid acc = 0.36000001430511475\n[8 8 8 8 8 8 8 8 8 8 8 8 8 8 8 8 8 8 8 8]\n[ 8  9  7 10  8  8 10 10  9  9  8  8  7  6  6 12  8  8  4  6]\n"
     ]
    },
    {
     "name": "stdout",
     "output_type": "stream",
     "text": [
      "loss for counter 265 is 2.1257164478302\ncounter 265: valid acc = 0.36000001430511475\n[8 8 8 8 8 8 8 8 8 8 8 8 8 8 8 8 8 8 8 8]\n[ 8  9  7 10  8  8 10 10  9  9  8  8  7  6  6 12  8  8  4  6]\nloss for counter 270 is 2.1594860553741455\ncounter 270: valid acc = 0.36000001430511475\n[8 8 8 8 8 8 8 8 8 8 8 8 8 8 8 8 8 8 8 8]\n[ 8  9  7 10  8  8 10 10  9  9  8  8  7  6  6 12  8  8  4  6]\n"
     ]
    },
    {
     "name": "stdout",
     "output_type": "stream",
     "text": [
      "loss for counter 275 is 2.098402738571167\ncounter 275: valid acc = 0.36000001430511475\n[8 8 8 8 8 8 8 8 8 8 8 8 8 8 8 8 8 8 8 8]\n[ 8  9  7 10  8  8 10 10  9  9  8  8  7  6  6 12  8  8  4  6]\nloss for counter 280 is 2.13691782951355\ncounter 280: valid acc = 0.36000001430511475\n[8 8 8 8 8 8 8 8 8 8 8 8 8 8 8 8 8 8 8 8]\n[ 8  9  7 10  8  8 10 10  9  9  8  8  7  6  6 12  8  8  4  6]\n"
     ]
    },
    {
     "name": "stdout",
     "output_type": "stream",
     "text": [
      "loss for counter 285 is 2.0633654594421387\ncounter 285: valid acc = 0.36000001430511475\n[8 8 8 8 8 8 8 8 8 8 8 8 8 8 8 8 8 8 8 8]\n[ 8  9  7 10  8  8 10 10  9  9  8  8  7  6  6 12  8  8  4  6]\nloss for counter 290 is 2.1104178428649902\ncounter 290: valid acc = 0.36000001430511475\n[8 8 8 8 8 8 8 8 8 8 8 8 8 8 8 8 8 8 8 8]\n[ 8  9  7 10  8  8 10 10  9  9  8  8  7  6  6 12  8  8  4  6]\n"
     ]
    },
    {
     "name": "stdout",
     "output_type": "stream",
     "text": [
      "loss for counter 295 is 2.018463611602783\ncounter 295: valid acc = 0.36000001430511475\n[8 8 8 8 8 8 8 8 8 8 8 8 8 8 8 8 8 8 8 8]\n[ 8  9  7 10  8  8 10 10  9  9  8  8  7  6  6 12  8  8  4  6]\nloss for counter 300 is 2.080516815185547\ncounter 300: valid acc = 0.36000001430511475\n[8 8 8 8 8 8 8 8 8 8 8 8 8 8 8 8 8 8 8 8]\n[ 8  9  7 10  8  8 10 10  9  9  8  8  7  6  6 12  8  8  4  6]\n"
     ]
    },
    {
     "name": "stdout",
     "output_type": "stream",
     "text": [
      "loss for counter 305 is 1.9635661840438843\ncounter 305: valid acc = 0.36000001430511475\n[8 8 8 8 8 8 8 8 8 8 8 8 8 8 8 8 8 8 8 8]\n[ 8  9  7 10  8  8 10 10  9  9  8  8  7  6  6 12  8  8  4  6]\nloss for counter 310 is 2.049630641937256\ncounter 310: valid acc = 0.36000001430511475\n[8 8 8 8 8 8 8 8 8 8 8 8 8 8 8 8 8 8 8 8]\n[ 8  9  7 10  8  8 10 10  9  9  8  8  7  6  6 12  8  8  4  6]\n"
     ]
    },
    {
     "name": "stdout",
     "output_type": "stream",
     "text": [
      "loss for counter 315 is 1.9030077457427979\ncounter 315: valid acc = 0.36000001430511475\n[8 8 8 8 8 8 8 8 8 8 8 8 8 8 8 8 8 8 8 8]\n[ 8  9  7 10  8  8 10 10  9  9  8  8  7  6  6 12  8  8  4  6]\nloss for counter 320 is 2.0214383602142334\ncounter 320: valid acc = 0.36000001430511475\n[8 8 8 8 8 8 8 8 8 8 8 8 8 8 8 8 8 8 8 8]\n[ 8  9  7 10  8  8 10 10  9  9  8  8  7  6  6 12  8  8  4  6]\n"
     ]
    },
    {
     "name": "stdout",
     "output_type": "stream",
     "text": [
      "loss for counter 325 is 1.845346212387085\ncounter 325: valid acc = 0.36000001430511475\n[8 8 8 8 8 8 8 8 8 8 8 8 8 8 8 8 8 8 8 8]\n[ 8  9  7 10  8  8 10 10  9  9  8  8  7  6  6 12  8  8  4  6]\nloss for counter 330 is 1.9978764057159424\ncounter 330: valid acc = 0.36000001430511475\n[8 8 8 8 8 8 8 8 8 8 8 8 8 8 8 8 8 8 8 8]\n[ 8  9  7 10  8  8 10 10  9  9  8  8  7  6  6 12  8  8  4  6]\n"
     ]
    },
    {
     "name": "stdout",
     "output_type": "stream",
     "text": [
      "loss for counter 335 is 1.7981418371200562\ncounter 335: valid acc = 0.36000001430511475\n[8 8 8 8 8 8 8 8 8 8 8 8 8 8 8 8 8 8 8 8]\n[ 8  9  7 10  8  8 10 10  9  9  8  8  7  6  6 12  8  8  4  6]\nloss for counter 340 is 1.9774677753448486\ncounter 340: valid acc = 0.36000001430511475\n[8 8 8 8 8 8 8 8 8 8 8 8 8 8 8 8 8 8 8 8]\n[ 8  9  7 10  8  8 10 10  9  9  8  8  7  6  6 12  8  8  4  6]\n"
     ]
    },
    {
     "name": "stdout",
     "output_type": "stream",
     "text": [
      "loss for counter 345 is 1.7633634805679321\ncounter 345: valid acc = 0.36000001430511475\n[8 8 8 8 8 8 8 8 8 8 8 8 8 8 8 8 8 8 8 8]\n[ 8  9  7 10  8  8 10 10  9  9  8  8  7  6  6 12  8  8  4  6]\nloss for counter 350 is 1.9578113555908203\ncounter 350: valid acc = 0.36000001430511475\n[8 8 8 8 8 8 8 8 8 8 8 8 8 8 8 8 8 8 8 8]\n[ 8  9  7 10  8  8 10 10  9  9  8  8  7  6  6 12  8  8  4  6]\n"
     ]
    },
    {
     "name": "stdout",
     "output_type": "stream",
     "text": [
      "loss for counter 355 is 1.7386360168457031\ncounter 355: valid acc = 0.36000001430511475\n[8 8 8 8 8 8 8 8 8 8 8 8 8 8 8 8 8 8 8 8]\n[ 8  9  7 10  8  8 10 10  9  9  8  8  7  6  6 12  8  8  4  6]\nloss for counter 360 is 1.938023328781128\ncounter 360: valid acc = 0.36000001430511475\n[8 8 8 8 8 8 8 8 8 8 8 8 8 8 8 8 8 8 8 8]\n[ 8  9  7 10  8  8 10 10  9  9  8  8  7  6  6 12  8  8  4  6]\n"
     ]
    },
    {
     "name": "stdout",
     "output_type": "stream",
     "text": [
      "loss for counter 365 is 1.7206859588623047\ncounter 365: valid acc = 0.36000001430511475\n[8 8 8 8 8 8 8 8 8 8 8 8 8 8 8 8 8 8 8 8]\n[ 8  9  7 10  8  8 10 10  9  9  8  8  7  6  6 12  8  8  4  6]\nloss for counter 370 is 1.9185028076171875\ncounter 370: valid acc = 0.36000001430511475\n[8 8 8 8 8 8 8 8 8 8 8 8 8 8 8 8 8 8 8 8]\n[ 8  9  7 10  8  8 10 10  9  9  8  8  7  6  6 12  8  8  4  6]\n"
     ]
    },
    {
     "name": "stdout",
     "output_type": "stream",
     "text": [
      "loss for counter 375 is 1.7070448398590088\ncounter 375: valid acc = 0.36000001430511475\n[8 8 8 8 8 8 8 8 8 8 8 8 8 8 8 8 8 8 8 8]\n[ 8  9  7 10  8  8 10 10  9  9  8  8  7  6  6 12  8  8  4  6]\nloss for counter 380 is 1.8999006748199463\ncounter 380: valid acc = 0.36000001430511475\n[8 8 8 8 8 8 8 8 8 8 8 8 8 8 8 8 8 8 8 8]\n[ 8  9  7 10  8  8 10 10  9  9  8  8  7  6  6 12  8  8  4  6]\n"
     ]
    },
    {
     "name": "stdout",
     "output_type": "stream",
     "text": [
      "loss for counter 385 is 1.6961848735809326\ncounter 385: valid acc = 0.36000001430511475\n[8 8 8 8 8 8 8 8 8 8 8 8 8 8 8 8 8 8 8 8]\n[ 8  9  7 10  8  8 10 10  9  9  8  8  7  6  6 12  8  8  4  6]\nloss for counter 390 is 1.882634162902832\ncounter 390: valid acc = 0.36000001430511475\n[8 8 8 8 8 8 8 8 8 8 8 8 8 8 8 8 8 8 8 8]\n[ 8  9  7 10  8  8 10 10  9  9  8  8  7  6  6 12  8  8  4  6]\n"
     ]
    },
    {
     "name": "stdout",
     "output_type": "stream",
     "text": [
      "loss for counter 395 is 1.6872059106826782\ncounter 395: valid acc = 0.36000001430511475\n[8 8 8 8 8 8 8 8 8 8 8 8 8 8 8 8 8 8 8 8]\n[ 8  9  7 10  8  8 10 10  9  9  8  8  7  6  6 12  8  8  4  6]\nloss for counter 400 is 1.8668406009674072\ncounter 400: valid acc = 0.36000001430511475\n[8 8 8 8 8 8 8 8 8 8 8 8 8 8 8 8 8 8 8 8]\n[ 8  9  7 10  8  8 10 10  9  9  8  8  7  6  6 12  8  8  4  6]\n"
     ]
    },
    {
     "name": "stdout",
     "output_type": "stream",
     "text": [
      "loss for counter 405 is 1.6795543432235718\ncounter 405: valid acc = 0.36000001430511475\n[8 8 8 8 8 8 8 8 8 8 8 8 8 8 8 8 8 8 8 8]\n[ 8  9  7 10  8  8 10 10  9  9  8  8  7  6  6 12  8  8  4  6]\nloss for counter 410 is 1.8524620532989502\ncounter 410: valid acc = 0.36000001430511475\n[8 8 8 8 8 8 8 8 8 8 8 8 8 8 8 8 8 8 8 8]\n[ 8  9  7 10  8  8 10 10  9  9  8  8  7  6  6 12  8  8  4  6]\n"
     ]
    },
    {
     "name": "stdout",
     "output_type": "stream",
     "text": [
      "loss for counter 415 is 1.6728594303131104\ncounter 415: valid acc = 0.36000001430511475\n[8 8 8 8 8 8 8 8 8 8 8 8 8 8 8 8 8 8 8 8]\n[ 8  9  7 10  8  8 10 10  9  9  8  8  7  6  6 12  8  8  4  6]\nloss for counter 420 is 1.8393363952636719\ncounter 420: valid acc = 0.36000001430511475\n[8 8 8 8 8 8 8 8 8 8 8 8 8 8 8 8 8 8 8 8]\n[ 8  9  7 10  8  8 10 10  9  9  8  8  7  6  6 12  8  8  4  6]\n"
     ]
    },
    {
     "name": "stdout",
     "output_type": "stream",
     "text": [
      "loss for counter 425 is 1.6668504476547241\ncounter 425: valid acc = 0.36000001430511475\n[8 8 8 8 8 8 8 8 8 8 8 8 8 8 8 8 8 8 8 8]\n[ 8  9  7 10  8  8 10 10  9  9  8  8  7  6  6 12  8  8  4  6]\nloss for counter 430 is 1.8272552490234375\ncounter 430: valid acc = 0.36000001430511475\n[8 8 8 8 8 8 8 8 8 8 8 8 8 8 8 8 8 8 8 8]\n[ 8  9  7 10  8  8 10 10  9  9  8  8  7  6  6 12  8  8  4  6]\n"
     ]
    },
    {
     "name": "stdout",
     "output_type": "stream",
     "text": [
      "loss for counter 435 is 1.6613174676895142\ncounter 435: valid acc = 0.36000001430511475\n[8 8 8 8 8 8 8 8 8 8 8 8 8 8 8 8 8 8 8 8]\n[ 8  9  7 10  8  8 10 10  9  9  8  8  7  6  6 12  8  8  4  6]\n"
     ]
    },
    {
     "name": "stdout",
     "output_type": "stream",
     "text": [
      "loss for counter 440 is 1.816004991531372\ncounter 440: valid acc = 0.36000001430511475\n[8 8 8 8 8 8 8 8 8 8 8 8 8 8 8 8 8 8 8 8]\n[ 8  9  7 10  8  8 10 10  9  9  8  8  7  6  6 12  8  8  4  6]\n"
     ]
    },
    {
     "name": "stdout",
     "output_type": "stream",
     "text": [
      "loss for counter 445 is 1.6560924053192139\ncounter 445: valid acc = 0.36000001430511475\n[8 8 8 8 8 8 8 8 8 8 8 8 8 8 8 8 8 8 8 8]\n[ 8  9  7 10  8  8 10 10  9  9  8  8  7  6  6 12  8  8  4  6]\nloss for counter 450 is 1.8053874969482422\ncounter 450: valid acc = 0.36000001430511475\n[8 8 8 8 8 8 8 8 8 8 8 8 8 8 8 8 8 8 8 8]\n[ 8  9  7 10  8  8 10 10  9  9  8  8  7  6  6 12  8  8  4  6]\n"
     ]
    },
    {
     "name": "stdout",
     "output_type": "stream",
     "text": [
      "loss for counter 455 is 1.6510406732559204\ncounter 455: valid acc = 0.36000001430511475\n[8 8 8 8 8 8 8 8 8 8 8 8 8 8 8 8 8 8 8 8]\n[ 8  9  7 10  8  8 10 10  9  9  8  8  7  6  6 12  8  8  4  6]\nloss for counter 460 is 1.7952334880828857\ncounter 460: valid acc = 0.36000001430511475\n[8 8 8 8 8 8 8 8 8 8 8 8 8 8 8 8 8 8 8 8]\n[ 8  9  7 10  8  8 10 10  9  9  8  8  7  6  6 12  8  8  4  6]\n"
     ]
    },
    {
     "name": "stdout",
     "output_type": "stream",
     "text": [
      "loss for counter 465 is 1.6460542678833008\ncounter 465: valid acc = 0.36000001430511475\n[8 8 8 8 8 8 8 8 8 8 8 8 8 8 8 8 8 8 8 8]\n[ 8  9  7 10  8  8 10 10  9  9  8  8  7  6  6 12  8  8  4  6]\nloss for counter 470 is 1.7854067087173462\ncounter 470: valid acc = 0.36000001430511475\n[8 8 8 8 8 8 8 8 8 8 8 8 8 8 8 8 8 8 8 8]\n[ 8  9  7 10  8  8 10 10  9  9  8  8  7  6  6 12  8  8  4  6]\n"
     ]
    },
    {
     "name": "stdout",
     "output_type": "stream",
     "text": [
      "loss for counter 475 is 1.6410496234893799\ncounter 475: valid acc = 0.36000001430511475\n[8 8 8 8 8 8 8 8 8 8 8 8 8 8 8 8 8 8 8 8]\n[ 8  9  7 10  8  8 10 10  9  9  8  8  7  6  6 12  8  8  4  6]\nloss for counter 480 is 1.775804877281189\ncounter 480: valid acc = 0.36000001430511475\n[8 8 8 8 8 8 8 8 8 8 8 8 8 8 8 8 8 8 8 8]\n[ 8  9  7 10  8  8 10 10  9  9  8  8  7  6  6 12  8  8  4  6]\n"
     ]
    },
    {
     "name": "stdout",
     "output_type": "stream",
     "text": [
      "loss for counter 485 is 1.6359628438949585\ncounter 485: valid acc = 0.36000001430511475\n[8 8 8 8 8 8 8 8 8 8 8 8 8 8 8 8 8 8 8 8]\n[ 8  9  7 10  8  8 10 10  9  9  8  8  7  6  6 12  8  8  4  6]\nloss for counter 490 is 1.7663562297821045\ncounter 490: valid acc = 0.36000001430511475\n[8 8 8 8 8 8 8 8 8 8 8 8 8 8 8 8 8 8 8 8]\n[ 8  9  7 10  8  8 10 10  9  9  8  8  7  6  6 12  8  8  4  6]\n"
     ]
    },
    {
     "name": "stdout",
     "output_type": "stream",
     "text": [
      "loss for counter 495 is 1.6307483911514282\ncounter 495: valid acc = 0.36000001430511475\n[8 8 8 8 8 8 8 8 8 8 8 8 8 8 8 8 8 8 8 8]\n[ 8  9  7 10  8  8 10 10  9  9  8  8  7  6  6 12  8  8  4  6]\nloss for counter 500 is 1.7570164203643799\ncounter 500: valid acc = 0.36000001430511475\n[8 8 8 8 8 8 8 8 8 8 8 8 8 8 8 8 8 8 8 8]\n[ 8  9  7 10  8  8 10 10  9  9  8  8  7  6  6 12  8  8  4  6]\n"
     ]
    },
    {
     "name": "stdout",
     "output_type": "stream",
     "text": [
      "loss for counter 505 is 1.6253753900527954\ncounter 505: valid acc = 0.36000001430511475\n[8 8 8 8 8 8 8 8 8 8 8 8 8 8 8 8 8 8 8 8]\n[ 8  9  7 10  8  8 10 10  9  9  8  8  7  6  6 12  8  8  4  6]\nloss for counter 510 is 1.7477614879608154\ncounter 510: valid acc = 0.36000001430511475\n[8 8 8 8 8 8 8 8 8 8 8 8 8 8 8 8 8 8 8 8]\n[ 8  9  7 10  8  8 10 10  9  9  8  8  7  6  6 12  8  8  4  6]\n"
     ]
    },
    {
     "name": "stdout",
     "output_type": "stream",
     "text": [
      "loss for counter 515 is 1.6198253631591797\ncounter 515: valid acc = 0.36000001430511475\n[8 8 8 8 8 8 8 8 8 8 8 8 8 8 8 8 8 8 8 8]\n[ 8  9  7 10  8  8 10 10  9  9  8  8  7  6  6 12  8  8  4  6]\nloss for counter 520 is 1.7385833263397217\ncounter 520: valid acc = 0.36000001430511475\n[8 8 8 8 8 8 8 8 8 8 8 8 8 8 8 8 8 8 8 8]\n[ 8  9  7 10  8  8 10 10  9  9  8  8  7  6  6 12  8  8  4  6]\n"
     ]
    },
    {
     "name": "stdout",
     "output_type": "stream",
     "text": [
      "loss for counter 525 is 1.6140892505645752\ncounter 525: valid acc = 0.36000001430511475\n[8 8 8 8 8 8 8 8 8 8 8 8 8 8 8 8 8 8 8 8]\n[ 8  9  7 10  8  8 10 10  9  9  8  8  7  6  6 12  8  8  4  6]\nloss for counter 530 is 1.7294845581054688\ncounter 530: valid acc = 0.36000001430511475\n[8 8 8 8 8 8 8 8 8 8 8 8 8 8 8 8 8 8 8 8]\n[ 8  9  7 10  8  8 10 10  9  9  8  8  7  6  6 12  8  8  4  6]\n"
     ]
    },
    {
     "name": "stdout",
     "output_type": "stream",
     "text": [
      "loss for counter 535 is 1.608165979385376\ncounter 535: valid acc = 0.36000001430511475\n[8 8 8 8 8 8 8 8 8 8 8 8 8 8 8 8 8 8 8 8]\n[ 8  9  7 10  8  8 10 10  9  9  8  8  7  6  6 12  8  8  4  6]\nloss for counter 540 is 1.7204746007919312\ncounter 540: valid acc = 0.36000001430511475\n[8 8 8 8 8 8 8 8 8 8 8 8 8 8 8 8 8 8 8 8]\n[ 8  9  7 10  8  8 10 10  9  9  8  8  7  6  6 12  8  8  4  6]\n"
     ]
    },
    {
     "name": "stdout",
     "output_type": "stream",
     "text": [
      "loss for counter 545 is 1.602060079574585\ncounter 545: valid acc = 0.36000001430511475\n[8 8 8 8 8 8 8 8 8 8 8 8 8 8 8 8 8 8 8 8]\n[ 8  9  7 10  8  8 10 10  9  9  8  8  7  6  6 12  8  8  4  6]\nloss for counter 550 is 1.7115650177001953\ncounter 550: valid acc = 0.36000001430511475\n[8 8 8 8 8 8 8 8 8 8 8 8 8 8 8 8 8 8 8 8]\n[ 8  9  7 10  8  8 10 10  9  9  8  8  7  6  6 12  8  8  4  6]\n"
     ]
    },
    {
     "name": "stdout",
     "output_type": "stream",
     "text": [
      "loss for counter 555 is 1.5957810878753662\ncounter 555: valid acc = 0.36000001430511475\n[8 8 8 8 8 8 8 8 8 8 8 8 8 8 8 8 8 8 8 8]\n[ 8  9  7 10  8  8 10 10  9  9  8  8  7  6  6 12  8  8  4  6]\n"
     ]
    },
    {
     "name": "stdout",
     "output_type": "stream",
     "text": [
      "loss for counter 560 is 1.7027686834335327\ncounter 560: valid acc = 0.36000001430511475\n[8 8 8 8 8 8 8 8 8 8 8 8 8 8 8 8 8 8 8 8]\n[ 8  9  7 10  8  8 10 10  9  9  8  8  7  6  6 12  8  8  4  6]\n"
     ]
    },
    {
     "name": "stdout",
     "output_type": "stream",
     "text": [
      "loss for counter 565 is 1.5893408060073853\ncounter 565: valid acc = 0.36000001430511475\n[8 8 8 8 8 8 8 8 8 8 8 8 8 8 8 8 8 8 8 8]\n[ 8  9  7 10  8  8 10 10  9  9  8  8  7  6  6 12  8  8  4  6]\nloss for counter 570 is 1.6940968036651611\ncounter 570: valid acc = 0.36000001430511475\n[8 8 8 8 8 8 8 8 8 8 8 8 8 8 8 8 8 8 8 8]\n[ 8  9  7 10  8  8 10 10  9  9  8  8  7  6  6 12  8  8  4  6]\n"
     ]
    },
    {
     "name": "stdout",
     "output_type": "stream",
     "text": [
      "loss for counter 575 is 1.5827531814575195\ncounter 575: valid acc = 0.36000001430511475\n[8 8 8 8 8 8 8 8 8 8 8 8 8 8 8 8 8 8 8 8]\n[ 8  9  7 10  8  8 10 10  9  9  8  8  7  6  6 12  8  8  4  6]\nloss for counter 580 is 1.6855586767196655\ncounter 580: valid acc = 0.36000001430511475\n[8 8 8 8 8 8 8 8 8 8 8 8 8 8 8 8 8 8 8 8]\n[ 8  9  7 10  8  8 10 10  9  9  8  8  7  6  6 12  8  8  4  6]\n"
     ]
    },
    {
     "name": "stdout",
     "output_type": "stream",
     "text": [
      "loss for counter 585 is 1.5760345458984375\ncounter 585: valid acc = 0.36000001430511475\n[8 8 8 8 8 8 8 8 8 8 8 8 8 8 8 8 8 8 8 8]\n[ 8  9  7 10  8  8 10 10  9  9  8  8  7  6  6 12  8  8  4  6]\nloss for counter 590 is 1.6771608591079712\ncounter 590: valid acc = 0.36000001430511475\n[8 8 8 8 8 8 8 8 8 8 8 8 8 8 8 8 8 8 8 8]\n[ 8  9  7 10  8  8 10 10  9  9  8  8  7  6  6 12  8  8  4  6]\n"
     ]
    },
    {
     "name": "stdout",
     "output_type": "stream",
     "text": [
      "loss for counter 595 is 1.5692005157470703\ncounter 595: valid acc = 0.36000001430511475\n[8 8 8 8 8 8 8 8 8 8 8 8 8 8 8 8 8 8 8 8]\n[ 8  9  7 10  8  8 10 10  9  9  8  8  7  6  6 12  8  8  4  6]\nloss for counter 600 is 1.6689075231552124\ncounter 600: valid acc = 0.36000001430511475\n[8 8 8 8 8 8 8 8 8 8 8 8 8 8 8 8 8 8 8 8]\n[ 8  9  7 10  8  8 10 10  9  9  8  8  7  6  6 12  8  8  4  6]\n"
     ]
    },
    {
     "name": "stdout",
     "output_type": "stream",
     "text": [
      "loss for counter 605 is 1.5622684955596924\ncounter 605: valid acc = 0.36000001430511475\n[8 8 8 8 8 8 8 8 8 8 8 8 8 8 8 8 8 8 8 8]\n[ 8  9  7 10  8  8 10 10  9  9  8  8  7  6  6 12  8  8  4  6]\nloss for counter 610 is 1.6608012914657593\ncounter 610: valid acc = 0.36000001430511475\n[8 8 8 8 8 8 8 8 8 8 8 8 8 8 8 8 8 8 8 8]\n[ 8  9  7 10  8  8 10 10  9  9  8  8  7  6  6 12  8  8  4  6]"
     ]
    },
    {
     "name": "stdout",
     "output_type": "stream",
     "text": [
      "\n"
     ]
    },
    {
     "name": "stdout",
     "output_type": "stream",
     "text": [
      "loss for counter 615 is 1.5552544593811035\ncounter 615: valid acc = 0.36000001430511475\n[8 8 8 8 8 8 8 8 8 8 8 8 8 8 8 8 8 8 8 8]\n[ 8  9  7 10  8  8 10 10  9  9  8  8  7  6  6 12  8  8  4  6]\nloss for counter 620 is 1.6528412103652954\ncounter 620: valid acc = 0.36000001430511475\n[8 8 8 8 8 8 8 8 8 8 8 8 8 8 8 8 8 8 8 8]\n[ 8  9  7 10  8  8 10 10  9  9  8  8  7  6  6 12  8  8  4  6]\n"
     ]
    },
    {
     "name": "stdout",
     "output_type": "stream",
     "text": [
      "loss for counter 625 is 1.5481752157211304\ncounter 625: valid acc = 0.36000001430511475\n[8 8 8 8 8 8 8 8 8 8 8 8 8 8 8 8 8 8 8 8]\n[ 8  9  7 10  8  8 10 10  9  9  8  8  7  6  6 12  8  8  4  6]\nloss for counter 630 is 1.6450259685516357\ncounter 630: valid acc = 0.36000001430511475\n[8 8 8 8 8 8 8 8 8 8 8 8 8 8 8 8 8 8 8 8]\n[ 8  9  7 10  8  8 10 10  9  9  8  8  7  6  6 12  8  8  4  6]\n"
     ]
    },
    {
     "name": "stdout",
     "output_type": "stream",
     "text": [
      "loss for counter 635 is 1.541046380996704\ncounter 635: valid acc = 0.36000001430511475\n[8 8 8 8 8 8 8 8 8 8 8 8 8 8 8 8 8 8 8 8]\n[ 8  9  7 10  8  8 10 10  9  9  8  8  7  6  6 12  8  8  4  6]\n"
     ]
    },
    {
     "name": "stdout",
     "output_type": "stream",
     "text": [
      "loss for counter 640 is 1.6373523473739624\ncounter 640: valid acc = 0.36000001430511475\n[8 8 8 8 8 8 8 8 8 8 8 8 8 8 8 8 8 8 8 8]\n[ 8  9  7 10  8  8 10 10  9  9  8  8  7  6  6 12  8  8  4  6]\nloss for counter 645 is 1.53388249874115\ncounter 645: valid acc = 0.36000001430511475\n[8 8 8 8 8 8 8 8 8 8 8 8 8 8 8 8 8 8 8 8]\n[ 8  9  7 10  8  8 10 10  9  9  8  8  7  6  6 12  8  8  4  6]\n"
     ]
    },
    {
     "name": "stdout",
     "output_type": "stream",
     "text": [
      "loss for counter 650 is 1.6298166513442993\ncounter 650: valid acc = 0.3700000047683716\n[8 8 8 8 8 8 8 8 8 8 8 8 8 8 8 8 8 8 8 8]\n[ 8  9  7 10  8  8 10 10  9  9  8  8  7  6  6 12  8  8  4  6]\nloss for counter 655 is 1.526698112487793\ncounter 655: valid acc = 0.3700000047683716\n[8 8 8 8 8 8 8 8 8 8 8 8 8 8 8 8 8 8 8 8]\n[ 8  9  7 10  8  8 10 10  9  9  8  8  7  6  6 12  8  8  4  6]\n"
     ]
    },
    {
     "name": "stdout",
     "output_type": "stream",
     "text": [
      "loss for counter 660 is 1.6224143505096436\ncounter 660: valid acc = 0.3700000047683716\n[8 8 8 8 8 8 8 8 8 8 8 8 8 8 8 8 8 8 8 8]\n[ 8  9  7 10  8  8 10 10  9  9  8  8  7  6  6 12  8  8  4  6]\nloss for counter 665 is 1.5195066928863525\ncounter 665: valid acc = 0.3700000047683716\n[8 8 8 8 8 8 8 8 8 8 8 8 8 8 8 8 8 8 8 8]\n[ 8  9  7 10  8  8 10 10  9  9  8  8  7  6  6 12  8  8  4  6]\n"
     ]
    },
    {
     "name": "stdout",
     "output_type": "stream",
     "text": [
      "loss for counter 670 is 1.6151405572891235\ncounter 670: valid acc = 0.38999998569488525\n[8 8 8 8 8 8 8 8 8 8 8 8 8 8 8 8 8 8 8 8]\n[ 8  9  7 10  8  8 10 10  9  9  8  8  7  6  6 12  8  8  4  6]\nloss for counter 675 is 1.5123199224472046\ncounter 675: valid acc = 0.3799999952316284\n[8 8 8 8 8 8 8 8 8 8 8 8 8 8 8 8 8 8 8 8]\n[ 8  9  7 10  8  8 10 10  9  9  8  8  7  6  6 12  8  8  4  6]\n"
     ]
    },
    {
     "name": "stdout",
     "output_type": "stream",
     "text": [
      "loss for counter 680 is 1.607990026473999\ncounter 680: valid acc = 0.4000000059604645\n[8 8 8 8 8 8 8 8 8 8 8 8 8 8 8 8 8 8 8 8]\n[ 8  9  7 10  8  8 10 10  9  9  8  8  7  6  6 12  8  8  4  6]\nloss for counter 685 is 1.5051491260528564\ncounter 685: valid acc = 0.4000000059604645\n[8 8 8 8 8 8 8 8 8 8 8 8 8 8 8 8 8 8 8 8]\n[ 8  9  7 10  8  8 10 10  9  9  8  8  7  6  6 12  8  8  4  6]\n"
     ]
    },
    {
     "name": "stdout",
     "output_type": "stream",
     "text": [
      "loss for counter 690 is 1.6009578704833984\ncounter 690: valid acc = 0.4000000059604645\n[8 8 8 8 8 8 8 8 8 8 8 8 8 8 8 8 8 8 8 8]\n[ 8  9  7 10  8  8 10 10  9  9  8  8  7  6  6 12  8  8  4  6]\nloss for counter 695 is 1.4980041980743408\ncounter 695: valid acc = 0.4000000059604645\n[8 8 8 8 8 8 8 8 8 8 8 8 8 8 8 8 8 8 8 8]\n[ 8  9  7 10  8  8 10 10  9  9  8  8  7  6  6 12  8  8  4  6]\n"
     ]
    },
    {
     "name": "stdout",
     "output_type": "stream",
     "text": [
      "loss for counter 700 is 1.5940386056900024\ncounter 700: valid acc = 0.4099999964237213\n[ 8  8  8  8  8  8  8 10  8  8  8  8  8  8  8  8  8  8  8  8]\n[ 8  9  7 10  8  8 10 10  9  9  8  8  7  6  6 12  8  8  4  6]\n"
     ]
    },
    {
     "name": "stdout",
     "output_type": "stream",
     "text": [
      "loss for counter 705 is 1.490894079208374\ncounter 705: valid acc = 0.4099999964237213\n[ 8  8  8  8  8  8  8 10  8  8  8  8  8  8  8  8  8  8  8  8]\n[ 8  9  7 10  8  8 10 10  9  9  8  8  7  6  6 12  8  8  4  6]\nloss for counter 710 is 1.5872275829315186\ncounter 710: valid acc = 0.4099999964237213\n[ 8  8  8  8  8  8  8 10  8 10  8  8  8  8  8  8  8  8  8  8]\n[ 8  9  7 10  8  8 10 10  9  9  8  8  7  6  6 12  8  8  4  6]\n"
     ]
    },
    {
     "name": "stdout",
     "output_type": "stream",
     "text": [
      "loss for counter 715 is 1.4838268756866455\ncounter 715: valid acc = 0.4099999964237213\n[ 8  8  8  8  8  8  8 10  8 10  8  8  8  8  8  8  8  8  8  8]\n[ 8  9  7 10  8  8 10 10  9  9  8  8  7  6  6 12  8  8  4  6]\nloss for counter 720 is 1.580519437789917\ncounter 720: valid acc = 0.4099999964237213\n[ 8  8  8  8  8  8  8 10  8 10  8  8  8  8  8 10  8  8  8  8]\n[ 8  9  7 10  8  8 10 10  9  9  8  8  7  6  6 12  8  8  4  6]\n"
     ]
    },
    {
     "name": "stdout",
     "output_type": "stream",
     "text": [
      "loss for counter 725 is 1.4768092632293701\ncounter 725: valid acc = 0.4099999964237213\n[ 8  8  8  8  8  8  8 10  8 10  8  8  8  8  8 10  8  8  8  8]\n[ 8  9  7 10  8  8 10 10  9  9  8  8  7  6  6 12  8  8  4  6]\nloss for counter 730 is 1.5739103555679321\ncounter 730: valid acc = 0.4099999964237213\n[ 8  8  8  8  8  8  8 10  8 10  8  8  8  8  8 10  8  8  8  8]\n[ 8  9  7 10  8  8 10 10  9  9  8  8  7  6  6 12  8  8  4  6]\n"
     ]
    },
    {
     "name": "stdout",
     "output_type": "stream",
     "text": [
      "loss for counter 735 is 1.469847321510315\ncounter 735: valid acc = 0.4099999964237213\n[ 8  8  8  8  8  8  8 10  8 10  8  8  8  8  8 10  8  8  8  8]\n[ 8  9  7 10  8  8 10 10  9  9  8  8  7  6  6 12  8  8  4  6]\nloss for counter 740 is 1.5673950910568237\ncounter 740: valid acc = 0.41999998688697815\n[ 8  8  8  8  8  8  8 10  8 10  8  8  8  8  8 10  8  8  8  8]\n[ 8  9  7 10  8  8 10 10  9  9  8  8  7  6  6 12  8  8  4  6]\n"
     ]
    },
    {
     "name": "stdout",
     "output_type": "stream",
     "text": [
      "loss for counter 745 is 1.4629459381103516\ncounter 745: valid acc = 0.4099999964237213\n[ 8  8  8  8  8  8  8 10  8 10  8  8  8  8  8 10  8  8  8  8]\n[ 8  9  7 10  8  8 10 10  9  9  8  8  7  6  6 12  8  8  4  6]\nloss for counter 750 is 1.5609697103500366\ncounter 750: valid acc = 0.41999998688697815\n[ 8  8  8  8  8  8  8 10  8 10  8  8  8  8  8 10  8  8  8  8]\n[ 8  9  7 10  8  8 10 10  9  9  8  8  7  6  6 12  8  8  4  6]\n"
     ]
    },
    {
     "name": "stdout",
     "output_type": "stream",
     "text": [
      "loss for counter 755 is 1.4561094045639038\ncounter 755: valid acc = 0.41999998688697815\n[ 8  8  8  8  8  8  8 10  8 10  8  8  8  8  8 10  8  8  8  8]\n[ 8  9  7 10  8  8 10 10  9  9  8  8  7  6  6 12  8  8  4  6]\nloss for counter 760 is 1.5546300411224365\ncounter 760: valid acc = 0.41999998688697815\n[ 8  8  8  8  8  8  8 10  8 10  8  8  8  8  8 10  8  8  8  8]\n[ 8  9  7 10  8  8 10 10  9  9  8  8  7  6  6 12  8  8  4  6]\n"
     ]
    },
    {
     "name": "stdout",
     "output_type": "stream",
     "text": [
      "loss for counter 765 is 1.4493407011032104\ncounter 765: valid acc = 0.41999998688697815\n[ 8  8  8  8  8  8  8 10  8 10  8  8  8  8  8 10  8  8  8  8]\n[ 8  9  7 10  8  8 10 10  9  9  8  8  7  6  6 12  8  8  4  6]\nloss for counter 770 is 1.5483720302581787\ncounter 770: valid acc = 0.4300000071525574\n[ 8  8  8  8  8  8 10 10  8 10  8  8  8  8  8 10  8  8  8  8]\n[ 8  9  7 10  8  8 10 10  9  9  8  8  7  6  6 12  8  8  4  6]\n"
     ]
    },
    {
     "name": "stdout",
     "output_type": "stream",
     "text": [
      "loss for counter 775 is 1.4426432847976685\ncounter 775: valid acc = 0.41999998688697815\n[ 8  8  8  8  8  8  8 10  8 10  8  8  8  8  8 10  8  8  8  8]\n[ 8  9  7 10  8  8 10 10  9  9  8  8  7  6  6 12  8  8  4  6]\nloss for counter 780 is 1.542191743850708\ncounter 780: valid acc = 0.44999998807907104\n[ 8  8  8 10  8  8 10 10  8 10  8  8  8  8  8 10  8  8  8  8]\n[ 8  9  7 10  8  8 10 10  9  9  8  8  7  6  6 12  8  8  4  6]\n"
     ]
    },
    {
     "name": "stdout",
     "output_type": "stream",
     "text": [
      "loss for counter 785 is 1.4360185861587524\ncounter 785: valid acc = 0.4300000071525574\n[ 8  8  8  8  8  8 10 10  8 10  8  8  8  8  8 10  8  8  8  8]\n[ 8  9  7 10  8  8 10 10  9  9  8  8  7  6  6 12  8  8  4  6]\nloss for counter 790 is 1.536085844039917\ncounter 790: valid acc = 0.44999998807907104\n[ 8  8  8 10  8  8 10 10  8 10  8  8  8  8  8 10  8  8  8  8]\n[ 8  9  7 10  8  8 10 10  9  9  8  8  7  6  6 12  8  8  4  6]\n"
     ]
    },
    {
     "name": "stdout",
     "output_type": "stream",
     "text": [
      "loss for counter 795 is 1.4294682741165161\ncounter 795: valid acc = 0.44999998807907104\n[ 8  8  8 10  8  8 10 10  8 10  8  8  8  8  8 10  8  8  8  8]\n[ 8  9  7 10  8  8 10 10  9  9  8  8  7  6  6 12  8  8  4  6]\nloss for counter 800 is 1.5300512313842773\ncounter 800: valid acc = 0.44999998807907104\n[ 8  8  8 10  8  8 10 10  8 10  8  8  8  8  8 10  8  8  8  8]\n[ 8  9  7 10  8  8 10 10  9  9  8  8  7  6  6 12  8  8  4  6]\n"
     ]
    },
    {
     "name": "stdout",
     "output_type": "stream",
     "text": [
      "loss for counter 805 is 1.4229930639266968\ncounter 805: valid acc = 0.44999998807907104\n[ 8  8  8 10  8  8 10 10  8 10  8  8  8  8  8 10  8  8  8  8]\n[ 8  9  7 10  8  8 10 10  9  9  8  8  7  6  6 12  8  8  4  6]\nloss for counter 810 is 1.5240830183029175\ncounter 810: valid acc = 0.46000000834465027\n[ 8  8  8 10  8  8 10 10  8 10  8  8  8  8  8 10  8  8  8  8]\n[ 8  9  7 10  8  8 10 10  9  9  8  8  7  6  6 12  8  8  4  6]\n"
     ]
    },
    {
     "name": "stdout",
     "output_type": "stream",
     "text": [
      "loss for counter 815 is 1.4165945053100586\ncounter 815: valid acc = 0.44999998807907104\n[ 8  8  8 10  8  8 10 10  8 10  8  8  8  8  8 10  8  8  8  8]\n[ 8  9  7 10  8  8 10 10  9  9  8  8  7  6  6 12  8  8  4  6]\nloss for counter 820 is 1.5181785821914673\ncounter 820: valid acc = 0.46000000834465027\n[ 8  8  8 10  8  8 10 10  8 10  8  8  8  8  8 10  8  8  8  8]\n[ 8  9  7 10  8  8 10 10  9  9  8  8  7  6  6 12  8  8  4  6]\n"
     ]
    },
    {
     "name": "stdout",
     "output_type": "stream",
     "text": [
      "loss for counter 825 is 1.4102721214294434\ncounter 825: valid acc = 0.46000000834465027\n[ 8  8  8 10  8  8 10 10  8 10  8  8  8  8  8 10  8  8  8  8]\n[ 8  9  7 10  8  8 10 10  9  9  8  8  7  6  6 12  8  8  4  6]\nloss for counter 830 is 1.5123344659805298\ncounter 830: valid acc = 0.47999998927116394\n[ 8  8  8 10  8  8 10 10  8 10  8  8  8  8  8 10  8  8  8  8]\n[ 8  9  7 10  8  8 10 10  9  9  8  8  7  6  6 12  8  8  4  6]\n"
     ]
    },
    {
     "name": "stdout",
     "output_type": "stream",
     "text": [
      "loss for counter 835 is 1.4040262699127197\ncounter 835: valid acc = 0.4699999988079071\n[ 8  8  8 10  8  8 10 10  8 10  8  8  8  8  8 10  8  8  8  8]\n[ 8  9  7 10  8  8 10 10  9  9  8  8  7  6  6 12  8  8  4  6]\nloss for counter 840 is 1.506547212600708\ncounter 840: valid acc = 0.49000000953674316\n[ 8  8  8 10  8  8 10 10  8 10  8  8  8  8  8 10  8  8  8  8]\n[ 8  9  7 10  8  8 10 10  9  9  8  8  7  6  6 12  8  8  4  6]\n"
     ]
    },
    {
     "name": "stdout",
     "output_type": "stream",
     "text": [
      "loss for counter 845 is 1.3978562355041504\ncounter 845: valid acc = 0.47999998927116394\n[ 8  8  8 10  8  8 10 10  8 10  8  8  8  8  8 10  8  8  8  8]\n[ 8  9  7 10  8  8 10 10  9  9  8  8  7  6  6 12  8  8  4  6]\nloss for counter 850 is 1.500813364982605\ncounter 850: valid acc = 0.49000000953674316\n[ 8  8  8 10  8  8 10 10  8 10  8  8  8  8  8 10  8  8  8  8]\n[ 8  9  7 10  8  8 10 10  9  9  8  8  7  6  6 12  8  8  4  6]\n"
     ]
    },
    {
     "name": "stdout",
     "output_type": "stream",
     "text": [
      "loss for counter 855 is 1.3917615413665771\ncounter 855: valid acc = 0.49000000953674316\n[ 8  8  8 10  8  8 10 10  8 10  8  8  8  8  8 10  8  8  8  8]\n[ 8  9  7 10  8  8 10 10  9  9  8  8  7  6  6 12  8  8  4  6]\nloss for counter 860 is 1.4951311349868774\ncounter 860: valid acc = 0.49000000953674316\n[ 8  8  8 10  8  8 10 10  8 10  8  8  8  8  8 10  8  8  8  8]\n[ 8  9  7 10  8  8 10 10  9  9  8  8  7  6  6 12  8  8  4  6]\n"
     ]
    },
    {
     "name": "stdout",
     "output_type": "stream",
     "text": [
      "loss for counter 865 is 1.3857414722442627\ncounter 865: valid acc = 0.49000000953674316\n[ 8  8  8 10  8  8 10 10  8 10  8  8  8  8  8 10  8  8  8  8]\n[ 8  9  7 10  8  8 10 10  9  9  8  8  7  6  6 12  8  8  4  6]\nloss for counter 870 is 1.4894963502883911\ncounter 870: valid acc = 0.49000000953674316\n[ 8  8  8 10  8  8 10 10  8 10  8  8  8  8  8 10  8  8  8  8]\n[ 8  9  7 10  8  8 10 10  9  9  8  8  7  6  6 12  8  8  4  6]\n"
     ]
    },
    {
     "name": "stdout",
     "output_type": "stream",
     "text": [
      "loss for counter 875 is 1.3797951936721802\ncounter 875: valid acc = 0.49000000953674316\n[ 8  8  8 10  8  8 10 10  8 10  8  8  8  8  8 10  8  8  8  8]\n[ 8  9  7 10  8  8 10 10  9  9  8  8  7  6  6 12  8  8  4  6]\nloss for counter 880 is 1.4839075803756714\ncounter 880: valid acc = 0.49000000953674316\n[ 8  8  8 10  8  8 10 10  8 10  8  8  8  8  8 10  8  8  8  8]\n[ 8  9  7 10  8  8 10 10  9  9  8  8  7  6  6 12  8  8  4  6]\n"
     ]
    },
    {
     "name": "stdout",
     "output_type": "stream",
     "text": [
      "loss for counter 885 is 1.3739210367202759\ncounter 885: valid acc = 0.49000000953674316\n[ 8  8  8 10  8  8 10 10  8 10  8  8  8  8  8 10  8  8  8  8]\n[ 8  9  7 10  8  8 10 10  9  9  8  8  7  6  6 12  8  8  4  6]\nloss for counter 890 is 1.478359341621399\ncounter 890: valid acc = 0.5\n[ 8  8  8 10  8  8 10 10  8 10  8  8  8  8  8 10  8  8  8  8]\n[ 8  9  7 10  8  8 10 10  9  9  8  8  7  6  6 12  8  8  4  6]\n"
     ]
    },
    {
     "name": "stdout",
     "output_type": "stream",
     "text": [
      "loss for counter 895 is 1.3681199550628662\ncounter 895: valid acc = 0.49000000953674316\n[ 8  8  8 10  8  8 10 10  8 10  8  8  8  8  8 10  8  8  8  8]\n[ 8  9  7 10  8  8 10 10  9  9  8  8  7  6  6 12  8  8  4  6]\nloss for counter 900 is 1.4728482961654663\ncounter 900: valid acc = 0.5\n[ 8  8  8 10  8  8 10 10  8 10  8  8  8  8  8 10  8  8  8  8]\n[ 8  9  7 10  8  8 10 10  9  9  8  8  7  6  6 12  8  8  4  6]\n"
     ]
    },
    {
     "name": "stdout",
     "output_type": "stream",
     "text": [
      "loss for counter 905 is 1.3623899221420288\ncounter 905: valid acc = 0.5\n[ 8  8  8 10  8  8 10 10  8 10  8  8  8  8  8 10  8  8  8  8]\n[ 8  9  7 10  8  8 10 10  9  9  8  8  7  6  6 12  8  8  4  6]\nloss for counter 910 is 1.4673712253570557\ncounter 910: valid acc = 0.5099999904632568\n[ 8  8  8 10  8  8 10 10  8 10  8  8  8  8  8 10  8  8  8  8]\n[ 8  9  7 10  8  8 10 10  9  9  8  8  7  6  6 12  8  8  4  6]\n"
     ]
    },
    {
     "name": "stdout",
     "output_type": "stream",
     "text": [
      "loss for counter 915 is 1.3567306995391846\ncounter 915: valid acc = 0.5\n[ 8  8  8 10  8  8 10 10  8 10  8  8  8  8  8 10  8  8  8  8]\n[ 8  9  7 10  8  8 10 10  9  9  8  8  7  6  6 12  8  8  4  6]\nloss for counter 920 is 1.4619249105453491\ncounter 920: valid acc = 0.5099999904632568\n[ 8  8  8 10  8  8 10 10  8 10  8  8  8  8  8 10  8  8  8  8]\n[ 8  9  7 10  8  8 10 10  9  9  8  8  7  6  6 12  8  8  4  6]\n"
     ]
    },
    {
     "name": "stdout",
     "output_type": "stream",
     "text": [
      "loss for counter 925 is 1.351140022277832\ncounter 925: valid acc = 0.5099999904632568\n[ 8  8  8 10  8  8 10 10  8 10  8  8  8  8  8 10  8  8  8  8]\n[ 8  9  7 10  8  8 10 10  9  9  8  8  7  6  6 12  8  8  4  6]\nloss for counter 930 is 1.4565083980560303\ncounter 930: valid acc = 0.5199999809265137\n[ 8  8  8 10  8  8 10 10  8 10  8  8  8  8  8 10  8  8  8  8]\n[ 8  9  7 10  8  8 10 10  9  9  8  8  7  6  6 12  8  8  4  6]\n"
     ]
    },
    {
     "name": "stdout",
     "output_type": "stream",
     "text": [
      "loss for counter 935 is 1.3456182479858398\ncounter 935: valid acc = 0.5099999904632568\n[ 8  8  8 10  8  8 10 10  8 10  8  8  8  8  8 10  8  8  8  8]\n[ 8  9  7 10  8  8 10 10  9  9  8  8  7  6  6 12  8  8  4  6]\nloss for counter 940 is 1.4511183500289917\ncounter 940: valid acc = 0.5400000214576721\n[ 8  8  8 10  8  8 10 10  8 10  8  8  8  8  8 10  8  8  8  8]\n[ 8  9  7 10  8  8 10 10  9  9  8  8  7  6  6 12  8  8  4  6]\n"
     ]
    },
    {
     "name": "stdout",
     "output_type": "stream",
     "text": [
      "loss for counter 945 is 1.3401638269424438\ncounter 945: valid acc = 0.5199999809265137\n[ 8  8  8 10  8  8 10 10  8 10  8  8  8  8  8 10  8  8  8  8]\n[ 8  9  7 10  8  8 10 10  9  9  8  8  7  6  6 12  8  8  4  6]\nloss for counter 950 is 1.4457523822784424\ncounter 950: valid acc = 0.5400000214576721\n[ 8  8  8 10  8  8 10 10  8 10  8  8  8  8  8 10  8  8  8  8]\n[ 8  9  7 10  8  8 10 10  9  9  8  8  7  6  6 12  8  8  4  6]\n"
     ]
    },
    {
     "name": "stdout",
     "output_type": "stream",
     "text": [
      "loss for counter 955 is 1.3347766399383545\ncounter 955: valid acc = 0.5400000214576721\n[ 8  8  8 10  8  8 10 10  8 10  8  8  8  8  8 10  8  8  8  8]\n[ 8  9  7 10  8  8 10 10  9  9  8  8  7  6  6 12  8  8  4  6]\nloss for counter 960 is 1.4404113292694092\ncounter 960: valid acc = 0.5400000214576721\n[ 8  8  8 10  8  8 10 10  8 10  8  8  8  8  8 10  8  8  8  8]\n[ 8  9  7 10  8  8 10 10  9  9  8  8  7  6  6 12  8  8  4  6]\n"
     ]
    },
    {
     "name": "stdout",
     "output_type": "stream",
     "text": [
      "loss for counter 965 is 1.3294545412063599\ncounter 965: valid acc = 0.5400000214576721\n[ 8  8  8 10  8  8 10 10  8 10  8  8  8  8  8 10  8  8  8  8]\n[ 8  9  7 10  8  8 10 10  9  9  8  8  7  6  6 12  8  8  4  6]\nloss for counter 970 is 1.4350841045379639\ncounter 970: valid acc = 0.5400000214576721\n[ 8  8  8 10  8  8 10 10  8 10  8  8  8  8  8 10  8  8  8  8]\n[ 8  9  7 10  8  8 10 10  9  9  8  8  7  6  6 12  8  8  4  6]\n"
     ]
    },
    {
     "name": "stdout",
     "output_type": "stream",
     "text": [
      "loss for counter 975 is 1.324198842048645\ncounter 975: valid acc = 0.5400000214576721\n[ 8  8  8 10  8  8 10 10  8 10  8  8  8  8  8 10  8  8  8  8]\n[ 8  9  7 10  8  8 10 10  9  9  8  8  7  6  6 12  8  8  4  6]\nloss for counter 980 is 1.4297773838043213\ncounter 980: valid acc = 0.5400000214576721\n[ 8  8  8 10  8  8 10 10  8 10  8  8  8  8  8 10  8  8  8  8]\n[ 8  9  7 10  8  8 10 10  9  9  8  8  7  6  6 12  8  8  4  6]\n"
     ]
    },
    {
     "name": "stdout",
     "output_type": "stream",
     "text": [
      "loss for counter 985 is 1.3190090656280518\ncounter 985: valid acc = 0.5400000214576721\n[ 8  8  8 10  8  8 10 10  8 10  8  8  8  8  8 10  8  8  8  8]\n[ 8  9  7 10  8  8 10 10  9  9  8  8  7  6  6 12  8  8  4  6]\nloss for counter 990 is 1.4244816303253174\ncounter 990: valid acc = 0.5400000214576721\n[ 8  8  8 10  8  8 10 10  8 10  8  8  8  8  8 10  8  8  8  8]\n[ 8  9  7 10  8  8 10 10  9  9  8  8  7  6  6 12  8  8  4  6]\n"
     ]
    },
    {
     "name": "stdout",
     "output_type": "stream",
     "text": [
      "loss for counter 995 is 1.3138866424560547\ncounter 995: valid acc = 0.5400000214576721\n[ 8  8  8 10  8  8 10 10  8 10  8  8  8  8  8 10  8  8  8  8]\n[ 8  9  7 10  8  8 10 10  9  9  8  8  7  6  6 12  8  8  4  6]\nloss for counter 1000 is 1.4192010164260864\ncounter 1000: valid acc = 0.5400000214576721\n[ 8  8  8 10  8  8 10 10  8 10  8  8  8  8  8 10  8  8  8  8]\n[ 8  9  7 10  8  8 10 10  9  9  8  8  7  6  6 12  8  8  4  6]\n"
     ]
    },
    {
     "name": "stdout",
     "output_type": "stream",
     "text": [
      "loss for counter 1005 is 1.3088274002075195\ncounter 1005: valid acc = 0.5400000214576721\n[ 8  8  8 10  8  8 10 10  8 10  8  8  8  8  8 10  8  8  8  8]\n[ 8  9  7 10  8  8 10 10  9  9  8  8  7  6  6 12  8  8  4  6]\nloss for counter 1010 is 1.4139279127120972\ncounter 1010: valid acc = 0.5400000214576721\n[ 8  8  8 10  8  8 10 10  8 10  8  8  8  8  8 10  8  8  8  8]\n[ 8  9  7 10  8  8 10 10  9  9  8  8  7  6  6 12  8  8  4  6]\n"
     ]
    },
    {
     "name": "stdout",
     "output_type": "stream",
     "text": [
      "loss for counter 1015 is 1.3038359880447388\ncounter 1015: valid acc = 0.5400000214576721\n[ 8  8  8 10  8  8 10 10  8 10  8  8  8  8  8 10  8  8  8  8]\n[ 8  9  7 10  8  8 10 10  9  9  8  8  7  6  6 12  8  8  4  6]\nloss for counter 1020 is 1.408666968345642\ncounter 1020: valid acc = 0.5400000214576721\n[ 8  8  8 10  8  8 10 10  8 10  8  8  8  8  8 10  8  8  8  8]\n[ 8  9  7 10  8  8 10 10  9  9  8  8  7  6  6 12  8  8  4  6]\n"
     ]
    },
    {
     "name": "stdout",
     "output_type": "stream",
     "text": [
      "loss for counter 1025 is 1.2989122867584229\ncounter 1025: valid acc = 0.5400000214576721\n[ 8  8  8 10  8  8 10 10  8 10  8  8  8  8  8 10  8  8  8  8]\n[ 8  9  7 10  8  8 10 10  9  9  8  8  7  6  6 12  8  8  4  6]\n"
     ]
    },
    {
     "name": "stdout",
     "output_type": "stream",
     "text": [
      "loss for counter 1030 is 1.4034132957458496\ncounter 1030: valid acc = 0.5400000214576721\n[ 8  8  8 10  8  8 10 10  8 10  8  8  8  8  8 10  8  8  8  8]\n[ 8  9  7 10  8  8 10 10  9  9  8  8  7  6  6 12  8  8  4  6]\n"
     ]
    },
    {
     "name": "stdout",
     "output_type": "stream",
     "text": [
      "loss for counter 1035 is 1.2940551042556763\ncounter 1035: valid acc = 0.5400000214576721\n[ 8  8  8 10  8  8 10 10  8 10  8  8  8  8  8 10  8  8  8  8]\n[ 8  9  7 10  8  8 10 10  9  9  8  8  7  6  6 12  8  8  4  6]\n"
     ]
    },
    {
     "name": "stdout",
     "output_type": "stream",
     "text": [
      "loss for counter 1040 is 1.3981696367263794\ncounter 1040: valid acc = 0.5400000214576721\n[ 8  8  8 10  8  8 10 10  8 10  8  8  8  8  8 10  8  8  8  8]\n[ 8  9  7 10  8  8 10 10  9  9  8  8  7  6  6 12  8  8  4  6]\nloss for counter 1045 is 1.2892606258392334\ncounter 1045: valid acc = 0.5400000214576721\n[ 8  8  8 10  8  8 10 10  8 10  8  8  8  8  8 10  8  8  8  8]\n[ 8  9  7 10  8  8 10 10  9  9  8  8  7  6  6 12  8  8  4  6]\n"
     ]
    },
    {
     "name": "stdout",
     "output_type": "stream",
     "text": [
      "loss for counter 1050 is 1.3929383754730225\ncounter 1050: valid acc = 0.550000011920929\n[ 8  8  8 10  8  8 10 10  8 10  8  8  8  8  8 10  8  8  8  8]\n[ 8  9  7 10  8  8 10 10  9  9  8  8  7  6  6 12  8  8  4  6]\nloss for counter 1055 is 1.2845385074615479\ncounter 1055: valid acc = 0.5400000214576721\n[ 8  8  8 10  8  8 10 10  8 10  8  8  8  8  8 10  8  8  8  8]\n[ 8  9  7 10  8  8 10 10  9  9  8  8  7  6  6 12  8  8  4  6]\n"
     ]
    },
    {
     "name": "stdout",
     "output_type": "stream",
     "text": [
      "loss for counter 1060 is 1.3877209424972534\ncounter 1060: valid acc = 0.550000011920929\n[ 8  8  8 10  8  8 10 10  8 10  8  8  8  8  8 10  8  8  8  8]\n[ 8  9  7 10  8  8 10 10  9  9  8  8  7  6  6 12  8  8  4  6]\nloss for counter 1065 is 1.2798818349838257\ncounter 1065: valid acc = 0.5400000214576721\n[ 8  8  8 10  8  8 10 10  8 10  8  8  8  8  8 10  8  8  8  8]\n[ 8  9  7 10  8  8 10 10  9  9  8  8  7  6  6 12  8  8  4  6]\n"
     ]
    },
    {
     "name": "stdout",
     "output_type": "stream",
     "text": [
      "loss for counter 1070 is 1.3825019598007202\ncounter 1070: valid acc = 0.550000011920929\n[ 8  8  8 10  8  8 10 10  8 10  8  8  8  8  8 10  8  8  8  8]\n[ 8  9  7 10  8  8 10 10  9  9  8  8  7  6  6 12  8  8  4  6]\nloss for counter 1075 is 1.2752963304519653\ncounter 1075: valid acc = 0.550000011920929\n[ 8  8  8 10  8  8 10 10  8 10  8  8  8  8  8 10  8  8  8  8]\n[ 8  9  7 10  8  8 10 10  9  9  8  8  7  6  6 12  8  8  4  6]\n"
     ]
    },
    {
     "name": "stdout",
     "output_type": "stream",
     "text": [
      "loss for counter 1080 is 1.377290964126587\ncounter 1080: valid acc = 0.550000011920929\n[ 8  8  8 10  8  8 10 10  8 10  8  8  8  8  8 10  8  8  8  8]\n[ 8  9  7 10  8  8 10 10  9  9  8  8  7  6  6 12  8  8  4  6]\nloss for counter 1085 is 1.2707773447036743\ncounter 1085: valid acc = 0.550000011920929\n[ 8  8  8 10  8  8 10 10  8 10  8  8  8  8  8 10  8  8  8  8]\n[ 8  9  7 10  8  8 10 10  9  9  8  8  7  6  6 12  8  8  4  6]\n"
     ]
    },
    {
     "name": "stdout",
     "output_type": "stream",
     "text": [
      "loss for counter 1090 is 1.372084617614746\ncounter 1090: valid acc = 0.550000011920929\n[ 8  8  8 10  8  8 10 10  8 10  8  8  8  8  8 10  8  8  8  8]\n[ 8  9  7 10  8  8 10 10  9  9  8  8  7  6  6 12  8  8  4  6]\n"
     ]
    },
    {
     "name": "stdout",
     "output_type": "stream",
     "text": [
      "loss for counter 1095 is 1.266331434249878\ncounter 1095: valid acc = 0.550000011920929\n[ 8  8  8 10  8  8 10 10  8 10  8  8  8  8  8 10  8  8  8  8]\n[ 8  9  7 10  8  8 10 10  9  9  8  8  7  6  6 12  8  8  4  6]\n"
     ]
    },
    {
     "name": "stdout",
     "output_type": "stream",
     "text": [
      "loss for counter 1100 is 1.366891860961914\ncounter 1100: valid acc = 0.550000011920929\n[ 8  8  8 10  8  8 10 10  8 10  8  8  8  8  8 10  8  8  8  8]\n[ 8  9  7 10  8  8 10 10  9  9  8  8  7  6  6 12  8  8  4  6]\n"
     ]
    },
    {
     "name": "stdout",
     "output_type": "stream",
     "text": [
      "loss for counter 1105 is 1.2619504928588867\ncounter 1105: valid acc = 0.550000011920929\n[ 8  8  8 10  8  8 10 10  8 10  8  8  8  8  8 10  8  8  8  8]\n[ 8  9  7 10  8  8 10 10  9  9  8  8  7  6  6 12  8  8  4  6]\n"
     ]
    },
    {
     "name": "stdout",
     "output_type": "stream",
     "text": [
      "loss for counter 1110 is 1.3617041110992432\ncounter 1110: valid acc = 0.550000011920929\n[ 8  8  8 10  8  8 10 10  8 10  8  8  8  8  8 10  8  8  8  8]\n[ 8  9  7 10  8  8 10 10  9  9  8  8  7  6  6 12  8  8  4  6]\n"
     ]
    },
    {
     "name": "stdout",
     "output_type": "stream",
     "text": [
      "loss for counter 1115 is 1.2576377391815186\ncounter 1115: valid acc = 0.550000011920929\n[ 8  8  8 10  8  8 10 10  8 10  8  8  8  8  8 10  8  8  8  8]\n[ 8  9  7 10  8  8 10 10  9  9  8  8  7  6  6 12  8  8  4  6]\n"
     ]
    },
    {
     "name": "stdout",
     "output_type": "stream",
     "text": [
      "loss for counter 1120 is 1.35652494430542\ncounter 1120: valid acc = 0.550000011920929\n[ 8  8  8 10  8  8 10 10  8 10  8  8  8  8  8 10  8  8  8  8]\n[ 8  9  7 10  8  8 10 10  9  9  8  8  7  6  6 12  8  8  4  6]\nloss for counter 1125 is 1.2533931732177734\ncounter 1125: valid acc = 0.550000011920929\n[ 8  8  8 10  8  8 10 10  8 10  8  8  8  8  8 10  8  8  8  8]\n[ 8  9  7 10  8  8 10 10  9  9  8  8  7  6  6 12  8  8  4  6]\n"
     ]
    },
    {
     "name": "stdout",
     "output_type": "stream",
     "text": [
      "loss for counter 1130 is 1.3513683080673218\ncounter 1130: valid acc = 0.550000011920929\n[ 8  8  8 10  8  8 10 10  8 10  8  8  8  8  8 10  8  8  8  8]\n[ 8  9  7 10  8  8 10 10  9  9  8  8  7  6  6 12  8  8  4  6]\nloss for counter 1135 is 1.2492154836654663\ncounter 1135: valid acc = 0.550000011920929\n[ 8  8  8 10  8  8 10 10  8 10  8  8  8  8  8 10  8  8  8  8]\n[ 8  9  7 10  8  8 10 10  9  9  8  8  7  6  6 12  8  8  4  6]\n"
     ]
    },
    {
     "name": "stdout",
     "output_type": "stream",
     "text": [
      "loss for counter 1140 is 1.3462247848510742\ncounter 1140: valid acc = 0.550000011920929\n[ 8  8  8 10  8  8 10 10  8 10  8  8  8  8  8 10  8  8  8  8]\n[ 8  9  7 10  8  8 10 10  9  9  8  8  7  6  6 12  8  8  4  6]\nloss for counter 1145 is 1.2451070547103882\ncounter 1145: valid acc = 0.550000011920929\n[ 8  8  8 10  8  8 10 10  8 10  8  8  8  8  8 10  8  8  8  8]\n[ 8  9  7 10  8  8 10 10  9  9  8  8  7  6  6 12  8  8  4  6]\n"
     ]
    },
    {
     "name": "stdout",
     "output_type": "stream",
     "text": [
      "loss for counter 1150 is 1.3410907983779907\ncounter 1150: valid acc = 0.550000011920929\n[ 8  8  8 10  8  8 10 10  8 10  8  8  8  8  8 10  8  8  8  8]\n[ 8  9  7 10  8  8 10 10  9  9  8  8  7  6  6 12  8  8  4  6]\nloss for counter 1155 is 1.2410647869110107\ncounter 1155: valid acc = 0.550000011920929\n[ 8  8  8 10  8  8 10 10  8 10  8  8  8  8  8 10  8  8  8  8]\n[ 8  9  7 10  8  8 10 10  9  9  8  8  7  6  6 12  8  8  4  6]\n"
     ]
    },
    {
     "name": "stdout",
     "output_type": "stream",
     "text": [
      "loss for counter 1160 is 1.3359724283218384\ncounter 1160: valid acc = 0.550000011920929\n[ 8  8  8 10  8  8 10 10  8 10  8  8  8  8  8 10  8  8  8  8]\n[ 8  9  7 10  8  8 10 10  9  9  8  8  7  6  6 12  8  8  4  6]\nloss for counter 1165 is 1.237093210220337\ncounter 1165: valid acc = 0.550000011920929\n[ 8  8  8 10  8  8 10 10  8 10  8  8  8  8  8 10  8  8  8  8]\n[ 8  9  7 10  8  8 10 10  9  9  8  8  7  6  6 12  8  8  4  6]\n"
     ]
    },
    {
     "name": "stdout",
     "output_type": "stream",
     "text": [
      "loss for counter 1170 is 1.3308672904968262\ncounter 1170: valid acc = 0.550000011920929\n[ 8  8  8 10  8  8 10 10  8 10  8  8  8  8  8 10  8  8  8  8]\n[ 8  9  7 10  8  8 10 10  9  9  8  8  7  6  6 12  8  8  4  6]\n"
     ]
    },
    {
     "name": "stdout",
     "output_type": "stream",
     "text": [
      "loss for counter 1175 is 1.2331833839416504\ncounter 1175: valid acc = 0.550000011920929\n[ 8  8  8 10  8  8 10 10  8 10  8  8  8  8  8 10  8  8  8  8]\n[ 8  9  7 10  8  8 10 10  9  9  8  8  7  6  6 12  8  8  4  6]\n"
     ]
    },
    {
     "name": "stdout",
     "output_type": "stream",
     "text": [
      "loss for counter 1180 is 1.325783133506775\ncounter 1180: valid acc = 0.550000011920929\n[ 8  8  8 10  8  8 10 10  8 10  8  8  8  8  8 10  8  8  8  8]\n[ 8  9  7 10  8  8 10 10  9  9  8  8  7  6  6 12  8  8  4  6]\n"
     ]
    },
    {
     "name": "stdout",
     "output_type": "stream",
     "text": [
      "loss for counter 1185 is 1.2293379306793213\ncounter 1185: valid acc = 0.550000011920929\n[ 8  8  8 10  8  8 10 10  8 10  8  8  8  8  8 10  8  8  8  8]\n[ 8  9  7 10  8  8 10 10  9  9  8  8  7  6  6 12  8  8  4  6]\n"
     ]
    },
    {
     "name": "stdout",
     "output_type": "stream",
     "text": [
      "loss for counter 1190 is 1.3207261562347412\ncounter 1190: valid acc = 0.550000011920929\n[ 8  8  8 10  8  8 10 10  8 10  8  8  8  8  8 10  8  8  8  8]\n[ 8  9  7 10  8  8 10 10  9  9  8  8  7  6  6 12  8  8  4  6]\n"
     ]
    },
    {
     "name": "stdout",
     "output_type": "stream",
     "text": [
      "loss for counter 1195 is 1.2255580425262451\ncounter 1195: valid acc = 0.550000011920929\n[ 8  8  8 10  8  8 10 10  8 10  8  8  8  8  8 10  8  8  8  8]\n[ 8  9  7 10  8  8 10 10  9  9  8  8  7  6  6 12  8  8  4  6]\n"
     ]
    },
    {
     "name": "stdout",
     "output_type": "stream",
     "text": [
      "loss for counter 1200 is 1.3156874179840088\ncounter 1200: valid acc = 0.550000011920929\n[ 8  8  8 10  8  8 10 10  8 10  8  8  8  8  8 10  8  8  8  8]\n[ 8  9  7 10  8  8 10 10  9  9  8  8  7  6  6 12  8  8  4  6]\nloss for counter 1205 is 1.2218347787857056\ncounter 1205: valid acc = 0.550000011920929\n[ 8  8  8 10  8  8 10 10  8 10  8  8  8  8  8 10  8  8  8  8]\n[ 8  9  7 10  8  8 10 10  9  9  8  8  7  6  6 12  8  8  4  6]\n"
     ]
    },
    {
     "name": "stdout",
     "output_type": "stream",
     "text": [
      "loss for counter 1210 is 1.3106787204742432\ncounter 1210: valid acc = 0.550000011920929\n[ 8  8  8 10  8  8 10 10 10 10  8  8  8  8  8 10  8  8  8  8]\n[ 8  9  7 10  8  8 10 10  9  9  8  8  7  6  6 12  8  8  4  6]\nloss for counter 1215 is 1.218174695968628\ncounter 1215: valid acc = 0.550000011920929\n[ 8  8  8 10  8  8 10 10  8 10  8  8  8  8  8 10  8  8  8  8]\n[ 8  9  7 10  8  8 10 10  9  9  8  8  7  6  6 12  8  8  4  6]\n"
     ]
    },
    {
     "name": "stdout",
     "output_type": "stream",
     "text": [
      "loss for counter 1220 is 1.3056939840316772\ncounter 1220: valid acc = 0.550000011920929\n[ 8  8  8 10  8  8 10 10 10 10  8  8  8  8  8 10  8  8  8  8]\n[ 8  9  7 10  8  8 10 10  9  9  8  8  7  6  6 12  8  8  4  6]\nloss for counter 1225 is 1.2145774364471436\ncounter 1225: valid acc = 0.550000011920929\n[ 8  8  8 10  8  8 10 10  8 10  8  8  8  8  8 10  8  8  8  8]\n[ 8  9  7 10  8  8 10 10  9  9  8  8  7  6  6 12  8  8  4  6]\n"
     ]
    },
    {
     "name": "stdout",
     "output_type": "stream",
     "text": [
      "loss for counter 1230 is 1.300728678703308\ncounter 1230: valid acc = 0.550000011920929\n[ 8  8  8 10  8  8 10 10 10 10  8  8  8  8  8 10  8  8  8  8]\n[ 8  9  7 10  8  8 10 10  9  9  8  8  7  6  6 12  8  8  4  6]\nloss for counter 1235 is 1.2110368013381958\ncounter 1235: valid acc = 0.550000011920929\n[ 8  8  8 10  8  8 10 10  8 10  8  8  8  8  8 10  8  8  8  8]\n[ 8  9  7 10  8  8 10 10  9  9  8  8  7  6  6 12  8  8  4  6]\n"
     ]
    },
    {
     "name": "stdout",
     "output_type": "stream",
     "text": [
      "loss for counter 1240 is 1.2957944869995117\ncounter 1240: valid acc = 0.550000011920929\n[ 8  8  8 10  8  8 10 10 10 10  8  8  8  8  8 10  8  8  8  8]\n[ 8  9  7 10  8  8 10 10  9  9  8  8  7  6  6 12  8  8  4  6]\nloss for counter 1245 is 1.2075592279434204\ncounter 1245: valid acc = 0.550000011920929\n[ 8  8  8 10  8  8 10 10  8 10  8  8  8  8  8 10  8  8  8  8]\n[ 8  9  7 10  8  8 10 10  9  9  8  8  7  6  6 12  8  8  4  6]\n"
     ]
    },
    {
     "name": "stdout",
     "output_type": "stream",
     "text": [
      "loss for counter 1250 is 1.2908860445022583\ncounter 1250: valid acc = 0.550000011920929\n[ 8  8  8 10  8  8 10 10 10 10  8  8  8  8  8 10  8  8  8  8]\n[ 8  9  7 10  8  8 10 10  9  9  8  8  7  6  6 12  8  8  4  6]\nloss for counter 1255 is 1.2041298151016235\ncounter 1255: valid acc = 0.550000011920929\n[ 8  8  8 10  8  8 10 10  8 10  8  8  8  8  8 10  8  8  8  8]\n[ 8  9  7 10  8  8 10 10  9  9  8  8  7  6  6 12  8  8  4  6]\n"
     ]
    },
    {
     "name": "stdout",
     "output_type": "stream",
     "text": [
      "loss for counter 1260 is 1.286017894744873\ncounter 1260: valid acc = 0.550000011920929\n[ 8  8  8 10  8  8 10 10 10 10  8  8  8  8  8 10  8  8  8  8]\n[ 8  9  7 10  8  8 10 10  9  9  8  8  7  6  6 12  8  8  4  6]\nloss for counter 1265 is 1.2007558345794678\ncounter 1265: valid acc = 0.550000011920929\n[ 8  8  8 10  8  8 10 10  8 10  8  8  8  8  8 10  8  8  8  8]\n[ 8  9  7 10  8  8 10 10  9  9  8  8  7  6  6 12  8  8  4  6]\n"
     ]
    },
    {
     "name": "stdout",
     "output_type": "stream",
     "text": [
      "loss for counter 1270 is 1.2811768054962158\ncounter 1270: valid acc = 0.550000011920929\n[ 8  8  8 10  8  8 10 10 10 10  8  8  8  8  8 10  8  8  8  8]\n[ 8  9  7 10  8  8 10 10  9  9  8  8  7  6  6 12  8  8  4  6]\nloss for counter 1275 is 1.1974271535873413\ncounter 1275: valid acc = 0.550000011920929\n[ 8  8  8 10  8  8 10 10  8 10  8  8  8  8  8 10  8  8  8  8]\n[ 8  9  7 10  8  8 10 10  9  9  8  8  7  6  6 12  8  8  4  6]\n"
     ]
    },
    {
     "name": "stdout",
     "output_type": "stream",
     "text": [
      "loss for counter 1280 is 1.2763698101043701\ncounter 1280: valid acc = 0.550000011920929\n[ 8  8  8 10  8  8 10 10 10 10  8  8  8  8  8 10  8  8  8  8]\n[ 8  9  7 10  8  8 10 10  9  9  8  8  7  6  6 12  8  8  4  6]\nloss for counter 1285 is 1.1941531896591187\ncounter 1285: valid acc = 0.550000011920929\n[ 8  8  8 10  8  8 10 10  8 10  8  8  8  8  8 10  8  8  8  8]\n[ 8  9  7 10  8  8 10 10  9  9  8  8  7  6  6 12  8  8  4  6]\n"
     ]
    },
    {
     "name": "stdout",
     "output_type": "stream",
     "text": [
      "loss for counter 1290 is 1.271604061126709\ncounter 1290: valid acc = 0.550000011920929\n[ 8  8  8 10  8  8 10 10 10 10  8  8  8  8  8 10  8  8  8  8]\n[ 8  9  7 10  8  8 10 10  9  9  8  8  7  6  6 12  8  8  4  6]\nloss for counter 1295 is 1.1909279823303223\ncounter 1295: valid acc = 0.550000011920929\n[ 8  8  8 10  8  8 10 10  8 10  8  8  8  8  8 10  8  8  8  8]\n[ 8  9  7 10  8  8 10 10  9  9  8  8  7  6  6 12  8  8  4  6]\n"
     ]
    },
    {
     "name": "stdout",
     "output_type": "stream",
     "text": [
      "loss for counter 1300 is 1.266874074935913\ncounter 1300: valid acc = 0.550000011920929\n[ 8  8  8 10  8  8 10 10 10 10  8  8  8  8  8 10  8  8  8  8]\n[ 8  9  7 10  8  8 10 10  9  9  8  8  7  6  6 12  8  8  4  6]\nloss for counter 1305 is 1.1877577304840088\ncounter 1305: valid acc = 0.550000011920929\n[ 8  8  8 10  8  8 10 10  8 10  8  8  8  8  8 10  8  8  8  8]\n[ 8  9  7 10  8  8 10 10  9  9  8  8  7  6  6 12  8  8  4  6]\n"
     ]
    },
    {
     "name": "stdout",
     "output_type": "stream",
     "text": [
      "loss for counter 1310 is 1.2621709108352661\ncounter 1310: valid acc = 0.550000011920929\n[ 8  8  8 10  8  8 10 10 10 10  8  8  8  8  8 10  8  8  8  8]\n[ 8  9  7 10  8  8 10 10  9  9  8  8  7  6  6 12  8  8  4  6]\nloss for counter 1315 is 1.184635043144226\ncounter 1315: valid acc = 0.550000011920929\n[ 8  8  8 10  8  8 10 10  8 10  8  8  8  8  8 10  8  8  8  8]\n[ 8  9  7 10  8  8 10 10  9  9  8  8  7  6  6 12  8  8  4  6]\n"
     ]
    },
    {
     "name": "stdout",
     "output_type": "stream",
     "text": [
      "loss for counter 1320 is 1.2575113773345947\ncounter 1320: valid acc = 0.550000011920929\n[ 8  8  8 10  8  8 10 10 10 10  8  8  8  8  8 10  8  8  8  8]\n[ 8  9  7 10  8  8 10 10  9  9  8  8  7  6  6 12  8  8  4  6]\nloss for counter 1325 is 1.1815588474273682\ncounter 1325: valid acc = 0.550000011920929\n[ 8  8  8 10  8  8 10 10  8 10  8  8  8  8  8 10  8  8  8  8]\n[ 8  9  7 10  8  8 10 10  9  9  8  8  7  6  6 12  8  8  4  6]\n"
     ]
    },
    {
     "name": "stdout",
     "output_type": "stream",
     "text": [
      "loss for counter 1330 is 1.2528859376907349\ncounter 1330: valid acc = 0.550000011920929\n[ 8  8  8 10  8  8 10 10 10 10  8  8  8  8  8 10  8  8  8  8]\n[ 8  9  7 10  8  8 10 10  9  9  8  8  7  6  6 12  8  8  4  6]\n"
     ]
    },
    {
     "name": "stdout",
     "output_type": "stream",
     "text": [
      "loss for counter 1335 is 1.178532361984253\ncounter 1335: valid acc = 0.550000011920929\n[ 8  8  8 10  8  8 10 10  8 10  8  8  8  8  8 10  8  8  8  8]\n[ 8  9  7 10  8  8 10 10  9  9  8  8  7  6  6 12  8  8  4  6]\n"
     ]
    },
    {
     "name": "stdout",
     "output_type": "stream",
     "text": [
      "loss for counter 1340 is 1.2482926845550537\ncounter 1340: valid acc = 0.550000011920929\n[ 8  8  8 10  8  8 10 10 10 10  8  8  8  8  8 10  8  8  8  8]\n[ 8  9  7 10  8  8 10 10  9  9  8  8  7  6  6 12  8  8  4  6]\nloss for counter 1345 is 1.175546407699585\ncounter 1345: valid acc = 0.550000011920929\n[ 8  8  8 10  8  8 10 10  8 10  8  8  8  8  8 10  8  8  8  8]\n[ 8  9  7 10  8  8 10 10  9  9  8  8  7  6  6 12  8  8  4  6]\n"
     ]
    },
    {
     "name": "stdout",
     "output_type": "stream",
     "text": [
      "loss for counter 1350 is 1.2437443733215332\ncounter 1350: valid acc = 0.550000011920929\n[ 8  8  8 10  8  8 10 10 10 10  8  8  8  8  8 10  8  8  8  8]\n[ 8  9  7 10  8  8 10 10  9  9  8  8  7  6  6 12  8  8  4  6]\n"
     ]
    },
    {
     "name": "stdout",
     "output_type": "stream",
     "text": [
      "loss for counter 1355 is 1.1726032495498657\ncounter 1355: valid acc = 0.550000011920929\n[ 8  8  8 10  8  8 10 10  8 10  8  8  8  8  8 10  8  8  8  8]\n[ 8  9  7 10  8  8 10 10  9  9  8  8  7  6  6 12  8  8  4  6]\nloss for counter 1360 is 1.239235281944275\ncounter 1360: valid acc = 0.550000011920929\n[ 8  8  8 10  8  8 10 10 10 10  8  8  8  8  8 10  8  8  8  8]\n[ 8  9  7 10  8  8 10 10  9  9  8  8  7  6  6 12  8  8  4  6]\n"
     ]
    },
    {
     "name": "stdout",
     "output_type": "stream",
     "text": [
      "loss for counter 1365 is 1.1697001457214355\ncounter 1365: valid acc = 0.550000011920929\n[ 8  8  8 10  8  8 10 10  8 10  8  8  8  8  8 10  8  8  8  8]\n[ 8  9  7 10  8  8 10 10  9  9  8  8  7  6  6 12  8  8  4  6]\n"
     ]
    },
    {
     "name": "stdout",
     "output_type": "stream",
     "text": [
      "loss for counter 1370 is 1.234764814376831\ncounter 1370: valid acc = 0.550000011920929\n[ 8  8  8 10  8  8 10 10 10 10  8  8  8  8  8 10  8  8  8  8]\n[ 8  9  7 10  8  8 10 10  9  9  8  8  7  6  6 12  8  8  4  6]\n"
     ]
    },
    {
     "name": "stdout",
     "output_type": "stream",
     "text": [
      "loss for counter 1375 is 1.1668363809585571\ncounter 1375: valid acc = 0.550000011920929\n[ 8  8  8 10  8  8 10 10  8 10  8  8  8  8  8 10  8  8  8  8]\n[ 8  9  7 10  8  8 10 10  9  9  8  8  7  6  6 12  8  8  4  6]\nloss for counter 1380 is 1.2303334474563599\ncounter 1380: valid acc = 0.550000011920929\n[ 8  8  8 10  8  8 10 10 10 10  8  8  8  8  8 10  8  8  8  8]\n[ 8  9  7 10  8  8 10 10  9  9  8  8  7  6  6 12  8  8  4  6]\n"
     ]
    },
    {
     "name": "stdout",
     "output_type": "stream",
     "text": [
      "loss for counter 1385 is 1.164015769958496\ncounter 1385: valid acc = 0.550000011920929\n[ 8  8  8 10  8  8 10 10  8 10  8  8  8  8  8 10  8  8  8  8]\n[ 8  9  7 10  8  8 10 10  9  9  8  8  7  6  6 12  8  8  4  6]\nloss for counter 1390 is 1.2259490489959717\ncounter 1390: valid acc = 0.550000011920929\n[ 8  8  8 10  8  8 10 10 10 10  8  8  8  8  8 10  8  8  8  8]\n[ 8  9  7 10  8  8 10 10  9  9  8  8  7  6  6 12  8  8  4  6]\n"
     ]
    },
    {
     "name": "stdout",
     "output_type": "stream",
     "text": [
      "loss for counter 1395 is 1.1612346172332764\ncounter 1395: valid acc = 0.550000011920929\n[ 8  8  8 10  8  8 10 10  8 10  8  8  8  8  8 10  8  8  8  8]\n[ 8  9  7 10  8  8 10 10  9  9  8  8  7  6  6 12  8  8  4  6]\nloss for counter 1400 is 1.221600890159607\ncounter 1400: valid acc = 0.5600000023841858\n[ 8  8  8 10  8  8 10 10 10 10  8  8  8  8  8 10  8  8  8  8]\n[ 8  9  7 10  8  8 10 10  9  9  8  8  7  6  6 12  8  8  4  6]\n"
     ]
    },
    {
     "name": "stdout",
     "output_type": "stream",
     "text": [
      "loss for counter 1405 is 1.158493995666504\ncounter 1405: valid acc = 0.550000011920929\n[ 8  8  8 10  8  8 10 10  8 10  8  8  8  8  8 10  8  8  8  8]\n[ 8  9  7 10  8  8 10 10  9  9  8  8  7  6  6 12  8  8  4  6]\nloss for counter 1410 is 1.2173044681549072\ncounter 1410: valid acc = 0.5600000023841858\n[ 8  8  8 10  8  8 10 10 10 10  8  8  8  8  8 10  8  8  8  8]\n[ 8  9  7 10  8  8 10 10  9  9  8  8  7  6  6 12  8  8  4  6]\n"
     ]
    },
    {
     "name": "stdout",
     "output_type": "stream",
     "text": [
      "loss for counter 1415 is 1.1557886600494385\ncounter 1415: valid acc = 0.550000011920929\n[ 8  8  8 10  8  8 10 10  8 10  8  8  8  8  8 10  8  8  8  8]\n[ 8  9  7 10  8  8 10 10  9  9  8  8  7  6  6 12  8  8  4  6]\nloss for counter 1420 is 1.2130558490753174\ncounter 1420: valid acc = 0.5699999928474426\n[ 8  8  8 10  8  8 10 10  9 10  8  8  8  8  8 10  8  8  8  8]\n[ 8  9  7 10  8  8 10 10  9  9  8  8  7  6  6 12  8  8  4  6]\n"
     ]
    },
    {
     "name": "stdout",
     "output_type": "stream",
     "text": [
      "loss for counter 1425 is 1.1531269550323486\ncounter 1425: valid acc = 0.550000011920929\n[ 8  8  8 10  8  8 10 10  8 10  8  8  8  8  8 10  8  8  8  8]\n[ 8  9  7 10  8  8 10 10  9  9  8  8  7  6  6 12  8  8  4  6]\nloss for counter 1430 is 1.2088468074798584\ncounter 1430: valid acc = 0.5799999833106995\n[ 8  8  8 10  8  8 10 10  9 10  8  8  8  8  8 10  8  8  9  8]\n[ 8  9  7 10  8  8 10 10  9  9  8  8  7  6  6 12  8  8  4  6]\n"
     ]
    },
    {
     "name": "stdout",
     "output_type": "stream",
     "text": [
      "loss for counter 1435 is 1.1505013704299927\ncounter 1435: valid acc = 0.550000011920929\n[ 8  8  8 10  8  8 10 10  8 10  8  8  8  8  8 10  8  8  9  8]\n[ 8  9  7 10  8  8 10 10  9  9  8  8  7  6  6 12  8  8  4  6]\nloss for counter 1440 is 1.2046949863433838\ncounter 1440: valid acc = 0.5799999833106995\n[ 8  8  8 10  8  8 10 10  9 10  8  8  8  8  8 10  8  8  9  8]\n[ 8  9  7 10  8  8 10 10  9  9  8  8  7  6  6 12  8  8  4  6]\n"
     ]
    },
    {
     "name": "stdout",
     "output_type": "stream",
     "text": [
      "loss for counter 1445 is 1.1479113101959229\ncounter 1445: valid acc = 0.550000011920929\n[ 8  8  8 10  8  8 10 10  8 10  8  8  8  8  8 10  8  8  9  8]\n[ 8  9  7 10  8  8 10 10  9  9  8  8  7  6  6 12  8  8  4  6]\nloss for counter 1450 is 1.2005761861801147\ncounter 1450: valid acc = 0.5799999833106995\n[ 8  8  8 10  8  8 10 10  9 10  8  8  8  8  8 10  8  8  9  8]\n[ 8  9  7 10  8  8 10 10  9  9  8  8  7  6  6 12  8  8  4  6]\n"
     ]
    },
    {
     "name": "stdout",
     "output_type": "stream",
     "text": [
      "loss for counter 1455 is 1.145361065864563\ncounter 1455: valid acc = 0.5600000023841858\n[ 8  8  8 10  8  8 10 10  9 10  8  8  8  8  8 10  8  8  9  8]\n[ 8  9  7 10  8  8 10 10  9  9  8  8  7  6  6 12  8  8  4  6]\nloss for counter 1460 is 1.1965053081512451\ncounter 1460: valid acc = 0.5799999833106995\n[ 8  8  8 10  8  8 10 10  9 10  8  8  8  8  8 10  8  8  9  8]\n[ 8  9  7 10  8  8 10 10  9  9  8  8  7  6  6 12  8  8  4  6]\n"
     ]
    },
    {
     "name": "stdout",
     "output_type": "stream",
     "text": [
      "loss for counter 1465 is 1.1428428888320923\ncounter 1465: valid acc = 0.5600000023841858\n[ 8  8  8 10  8  8 10 10  9 10  8  8  8  8  8 10  8  8  9  8]\n[ 8  9  7 10  8  8 10 10  9  9  8  8  7  6  6 12  8  8  4  6]\nloss for counter 1470 is 1.1924829483032227\ncounter 1470: valid acc = 0.5799999833106995\n[ 8  8  8 10  8  8 10 10  9 10  8  8  8  8  8 10  8  8  9  8]\n[ 8  9  7 10  8  8 10 10  9  9  8  8  7  6  6 12  8  8  4  6]\n"
     ]
    },
    {
     "name": "stdout",
     "output_type": "stream",
     "text": [
      "loss for counter 1475 is 1.1403632164001465\ncounter 1475: valid acc = 0.5600000023841858\n[ 8  8  8 10  8  8 10 10  9 10  8  8  8  8  8 10  8  8  9  8]\n[ 8  9  7 10  8  8 10 10  9  9  8  8  7  6  6 12  8  8  4  6]\nloss for counter 1480 is 1.188502550125122\ncounter 1480: valid acc = 0.5799999833106995\n[ 8  8  8 10  8  8 10 10  9 10  8  8  8  8  8 10  8  8  9  8]\n[ 8  9  7 10  8  8 10 10  9  9  8  8  7  6  6 12  8  8  4  6]\n"
     ]
    },
    {
     "name": "stdout",
     "output_type": "stream",
     "text": [
      "loss for counter 1485 is 1.1379203796386719\ncounter 1485: valid acc = 0.5600000023841858\n[ 8  8  8 10  8  8 10 10  9 10  8  8  8  8  8 10  8  8  9  8]\n[ 8  9  7 10  8  8 10 10  9  9  8  8  7  6  6 12  8  8  4  6]\nloss for counter 1490 is 1.1845588684082031\ncounter 1490: valid acc = 0.5899999737739563\n[ 8  8  8 10  8  8 10 10  9 10  8  8  8  8  8 10  8  8  9  8]\n[ 8  9  7 10  8  8 10 10  9  9  8  8  7  6  6 12  8  8  4  6]\n"
     ]
    },
    {
     "name": "stdout",
     "output_type": "stream",
     "text": [
      "loss for counter 1495 is 1.1355087757110596\ncounter 1495: valid acc = 0.5600000023841858\n[ 8  8  8 10  8  8 10 10  9 10  8  8  8  8  8 10  8  8  9  8]\n[ 8  9  7 10  8  8 10 10  9  9  8  8  7  6  6 12  8  8  4  6]\nloss for counter 1500 is 1.180669903755188\ncounter 1500: valid acc = 0.6000000238418579\n[ 8  8  8 10  8  8 10 10  9 10  8  8  8  8  8 10  8  8  9  8]\n[ 8  9  7 10  8  8 10 10  9  9  8  8  7  6  6 12  8  8  4  6]\n"
     ]
    },
    {
     "name": "stdout",
     "output_type": "stream",
     "text": [
      "loss for counter 1505 is 1.1331312656402588\ncounter 1505: valid acc = 0.5600000023841858\n[ 8  8  8 10  8  8 10 10  9 10  8  8  8  8  8 10  8  8  9  8]\n[ 8  9  7 10  8  8 10 10  9  9  8  8  7  6  6 12  8  8  4  6]\nloss for counter 1510 is 1.1768229007720947\ncounter 1510: valid acc = 0.6000000238418579\n[ 8  8  8 10  8  8 10 10  9 10  8  8  8  8  8 10  8  8  9  8]\n[ 8  9  7 10  8  8 10 10  9  9  8  8  7  6  6 12  8  8  4  6]\n"
     ]
    },
    {
     "name": "stdout",
     "output_type": "stream",
     "text": [
      "loss for counter 1515 is 1.1307951211929321\ncounter 1515: valid acc = 0.5600000023841858\n[ 8  8  8 10  8  8 10 10  9 10  8  8  8  8  8 10  8  8  9  8]\n[ 8  9  7 10  8  8 10 10  9  9  8  8  7  6  6 12  8  8  4  6]\nloss for counter 1520 is 1.1730095148086548\ncounter 1520: valid acc = 0.6100000143051147\n[ 8  8  8 10  8  8 10 10  9 10  8  8  8  8  8 10  8  8  9  8]\n[ 8  9  7 10  8  8 10 10  9  9  8  8  7  6  6 12  8  8  4  6]\n"
     ]
    },
    {
     "name": "stdout",
     "output_type": "stream",
     "text": [
      "loss for counter 1525 is 1.1284912824630737\ncounter 1525: valid acc = 0.5799999833106995\n[ 8  8  8 10  8  8 10 10  9 10  8  8  8  8  8 10  8  8  9  8]\n[ 8  9  7 10  8  8 10 10  9  9  8  8  7  6  6 12  8  8  4  6]\nloss for counter 1530 is 1.169241189956665\ncounter 1530: valid acc = 0.6100000143051147\n[ 8  8  8 10  8  8 10 10  9 10  8  8  8  8  8 10  8  8  9  8]\n[ 8  9  7 10  8  8 10 10  9  9  8  8  7  6  6 12  8  8  4  6]\n"
     ]
    },
    {
     "name": "stdout",
     "output_type": "stream",
     "text": [
      "loss for counter 1535 is 1.1262238025665283\ncounter 1535: valid acc = 0.5799999833106995\n[ 8  8  8 10  8  8 10 10  9 10  8  8  8  8  8 10  8  8  9  8]\n[ 8  9  7 10  8  8 10 10  9  9  8  8  7  6  6 12  8  8  4  6]\nloss for counter 1540 is 1.165527582168579\ncounter 1540: valid acc = 0.6100000143051147\n[ 8  8  8 10  8  8 10 10  9 10  8  8  8  8  8 10  8  8  9  8]\n[ 8  9  7 10  8  8 10 10  9  9  8  8  7  6  6 12  8  8  4  6]\n"
     ]
    },
    {
     "name": "stdout",
     "output_type": "stream",
     "text": [
      "loss for counter 1545 is 1.123989462852478\ncounter 1545: valid acc = 0.5799999833106995\n[ 8  8  8 10  8  8 10 10  9 10  8  8  8  8  8 10  8  8  9  8]\n[ 8  9  7 10  8  8 10 10  9  9  8  8  7  6  6 12  8  8  4  6]\nloss for counter 1550 is 1.1618525981903076\ncounter 1550: valid acc = 0.6100000143051147\n[ 8  8  8 10  8  8 10 10  9 10  8  8  8  8  8 10  8  8  9  8]\n[ 8  9  7 10  8  8 10 10  9  9  8  8  7  6  6 12  8  8  4  6]\n"
     ]
    },
    {
     "name": "stdout",
     "output_type": "stream",
     "text": [
      "loss for counter 1555 is 1.1217873096466064\ncounter 1555: valid acc = 0.5799999833106995\n[ 8  8  8 10  8  8 10 10  9 10  8  8  8  8  8 10  8  8  9  8]\n[ 8  9  7 10  8  8 10 10  9  9  8  8  7  6  6 12  8  8  4  6]\nloss for counter 1560 is 1.1582252979278564\ncounter 1560: valid acc = 0.6100000143051147\n[ 8  8  8 10  8  8 10 10  9 10  8  8  8  8  8 10  8  8  9  8]\n[ 8  9  7 10  8  8 10 10  9  9  8  8  7  6  6 12  8  8  4  6]\n"
     ]
    },
    {
     "name": "stdout",
     "output_type": "stream",
     "text": [
      "loss for counter 1565 is 1.1196197271347046\ncounter 1565: valid acc = 0.5799999833106995\n[ 8  8  8 10  8  8 10 10  9 10  8  8  8  8  8 10  8  8  9  8]\n[ 8  9  7 10  8  8 10 10  9  9  8  8  7  6  6 12  8  8  4  6]\nloss for counter 1570 is 1.1546427011489868\ncounter 1570: valid acc = 0.6100000143051147\n[ 8  8  8 10  8  8 10 10  9 10  8  8  8  8  8 10  8  8  9  8]\n[ 8  9  7 10  8  8 10 10  9  9  8  8  7  6  6 12  8  8  4  6]\n"
     ]
    },
    {
     "name": "stdout",
     "output_type": "stream",
     "text": [
      "loss for counter 1575 is 1.1174923181533813\ncounter 1575: valid acc = 0.5899999737739563\n[ 8  8  8 10  8  8 10 10  9 10  8  8  8  8  8 10  8  8  9  8]\n[ 8  9  7 10  8  8 10 10  9  9  8  8  7  6  6 12  8  8  4  6]\nloss for counter 1580 is 1.1510772705078125\ncounter 1580: valid acc = 0.6200000047683716\n[ 8  8  8 10  8  8 10 10  9 10  8  8  8  8  8 10  8  8  9  8]\n[ 8  9  7 10  8  8 10 10  9  9  8  8  7  6  6 12  8  8  4  6]\n"
     ]
    },
    {
     "name": "stdout",
     "output_type": "stream",
     "text": [
      "loss for counter 1585 is 1.115398645401001\ncounter 1585: valid acc = 0.6000000238418579\n[ 8  8  8 10  8  8 10 10  9 10  8  8  8  8  8 10  8  8  9  8]\n[ 8  9  7 10  8  8 10 10  9  9  8  8  7  6  6 12  8  8  4  6]\nloss for counter 1590 is 1.1475796699523926\ncounter 1590: valid acc = 0.6299999952316284\n[ 8  8  8 10  8  8 10 10  9 10  8  8  8  8  8 10  8  8  9  8]\n[ 8  9  7 10  8  8 10 10  9  9  8  8  7  6  6 12  8  8  4  6]\n"
     ]
    },
    {
     "name": "stdout",
     "output_type": "stream",
     "text": [
      "loss for counter 1595 is 1.1133320331573486\ncounter 1595: valid acc = 0.6000000238418579\n[ 8  8  8 10  8  8 10 10  9 10  8  8  8  8  8 10  8  8  9  8]\n[ 8  9  7 10  8  8 10 10  9  9  8  8  7  6  6 12  8  8  4  6]\nloss for counter 1600 is 1.144112467765808\ncounter 1600: valid acc = 0.6299999952316284\n[ 8  8  8 10  8  8 10 10  9 10  8  8  8  8  8 10  8  8  9  8]\n[ 8  9  7 10  8  8 10 10  9  9  8  8  7  6  6 12  8  8  4  6]\n"
     ]
    },
    {
     "name": "stdout",
     "output_type": "stream",
     "text": [
      "loss for counter 1605 is 1.1112983226776123\ncounter 1605: valid acc = 0.6000000238418579\n[ 8  8  8 10  8  8 10 10  9 10  8  8  8  8  8 10  8  8  9  8]\n[ 8  9  7 10  8  8 10 10  9  9  8  8  7  6  6 12  8  8  4  6]\nloss for counter 1610 is 1.140702247619629\ncounter 1610: valid acc = 0.6299999952316284\n[ 8  8  8 10  8  8 10 10  9 10  8  8  8  8  8 10  8  8  9  8]\n[ 8  9  7 10  8  8 10 10  9  9  8  8  7  6  6 12  8  8  4  6]\n"
     ]
    },
    {
     "name": "stdout",
     "output_type": "stream",
     "text": [
      "loss for counter 1615 is 1.1092935800552368\ncounter 1615: valid acc = 0.6000000238418579\n[ 8  8  8 10  8  8 10 10  9 10  8  8  8  8  8 10  8  8  9  8]\n[ 8  9  7 10  8  8 10 10  9  9  8  8  7  6  6 12  8  8  4  6]\nloss for counter 1620 is 1.1373234987258911\ncounter 1620: valid acc = 0.6399999856948853\n[ 8  9  8 10  8  8 10 10  9 10  8  8  8  8  8 10  8  8  9  8]\n[ 8  9  7 10  8  8 10 10  9  9  8  8  7  6  6 12  8  8  4  6]\n"
     ]
    },
    {
     "name": "stdout",
     "output_type": "stream",
     "text": [
      "loss for counter 1625 is 1.1073309183120728\ncounter 1625: valid acc = 0.6000000238418579\n[ 8  8  8 10  8  8 10 10  9 10  8  8  8  8  8 10  8  8  9  8]\n[ 8  9  7 10  8  8 10 10  9  9  8  8  7  6  6 12  8  8  4  6]\nloss for counter 1630 is 1.1339699029922485\ncounter 1630: valid acc = 0.6399999856948853\n[ 8  9  8 10  8  8 10 10  9 10  8  8  8  8  8 10  8  8  9  8]\n[ 8  9  7 10  8  8 10 10  9  9  8  8  7  6  6 12  8  8  4  6]\n"
     ]
    },
    {
     "name": "stdout",
     "output_type": "stream",
     "text": [
      "loss for counter 1635 is 1.1053907871246338\ncounter 1635: valid acc = 0.6200000047683716\n[ 8  8  8 10  8  8 10 10  9 10  8  8  8  8  8 10  8  8  9  8]\n[ 8  9  7 10  8  8 10 10  9  9  8  8  7  6  6 12  8  8  4  6]\nloss for counter 1640 is 1.1306629180908203\ncounter 1640: valid acc = 0.6399999856948853\n[ 8  9  8 10  8  8 10 10  9 10  8  8  8  8  8 10  8  8  9  8]\n[ 8  9  7 10  8  8 10 10  9  9  8  8  7  6  6 12  8  8  4  6]\n"
     ]
    },
    {
     "name": "stdout",
     "output_type": "stream",
     "text": [
      "loss for counter 1645 is 1.1034877300262451\ncounter 1645: valid acc = 0.6200000047683716\n[ 8  8  8 10  8  8 10 10  9 10  8  8  8  8  8 10  8  8  9  8]\n[ 8  9  7 10  8  8 10 10  9  9  8  8  7  6  6 12  8  8  4  6]\nloss for counter 1650 is 1.1273833513259888\ncounter 1650: valid acc = 0.6399999856948853\n[ 8  9  8 10  8  8 10 10  9 10  8  8  8  8  8 10  8  8  9  8]\n[ 8  9  7 10  8  8 10 10  9  9  8  8  7  6  6 12  8  8  4  6]\n"
     ]
    },
    {
     "name": "stdout",
     "output_type": "stream",
     "text": [
      "loss for counter 1655 is 1.1016204357147217\ncounter 1655: valid acc = 0.6299999952316284\n[ 8  8  8 10  8  8 10 10  9 10  8  8  8  8  8 10  8  8  9  8]\n[ 8  9  7 10  8  8 10 10  9  9  8  8  7  6  6 12  8  8  4  6]\n"
     ]
    },
    {
     "name": "stdout",
     "output_type": "stream",
     "text": [
      "loss for counter 1660 is 1.124129056930542\ncounter 1660: valid acc = 0.6499999761581421\n[ 8  9  8 10  8  8 10 10  9 10  8  8  8  8  8 10  8  8  9  8]\n[ 8  9  7 10  8  8 10 10  9  9  8  8  7  6  6 12  8  8  4  6]\n"
     ]
    },
    {
     "name": "stdout",
     "output_type": "stream",
     "text": [
      "loss for counter 1665 is 1.0997806787490845\ncounter 1665: valid acc = 0.6399999856948853\n[ 8  8  8 10  8  8 10 10  9 10  8  8  8  8  8 10  8  8  9  8]\n[ 8  9  7 10  8  8 10 10  9  9  8  8  7  6  6 12  8  8  4  6]\nloss for counter 1670 is 1.1209007501602173\ncounter 1670: valid acc = 0.6499999761581421\n[ 8  9  8 10  8  8 10 10  9 10  8  8  8  8  8 10  8  8  9  8]\n[ 8  9  7 10  8  8 10 10  9  9  8  8  7  6  6 12  8  8  4  6]\n"
     ]
    },
    {
     "name": "stdout",
     "output_type": "stream",
     "text": [
      "loss for counter 1675 is 1.0979688167572021\ncounter 1675: valid acc = 0.6399999856948853\n[ 8  8  8 10  8  8 10 10  9 10  8  8  8  8  8 10  8  8  9  8]\n[ 8  9  7 10  8  8 10 10  9  9  8  8  7  6  6 12  8  8  4  6]\nloss for counter 1680 is 1.1177152395248413\ncounter 1680: valid acc = 0.6600000262260437\n[ 8  9  8 10  8  8 10 10  9 10  8  8  8  8  8 10  8  8  9  8]\n[ 8  9  7 10  8  8 10 10  9  9  8  8  7  6  6 12  8  8  4  6]\n"
     ]
    },
    {
     "name": "stdout",
     "output_type": "stream",
     "text": [
      "loss for counter 1685 is 1.0961816310882568\ncounter 1685: valid acc = 0.6399999856948853\n[ 8  8  8 10  8  8 10 10  9 10  8  8  8  8  8 10  8  8  9  8]\n[ 8  9  7 10  8  8 10 10  9  9  8  8  7  6  6 12  8  8  4  6]\n"
     ]
    },
    {
     "name": "stdout",
     "output_type": "stream",
     "text": [
      "loss for counter 1690 is 1.1145639419555664\ncounter 1690: valid acc = 0.6700000166893005\n[ 8  9  8 10  8  8 10 10  9 10  8  8  8  8  8 10  8  8  9  8]\n[ 8  9  7 10  8  8 10 10  9  9  8  8  7  6  6 12  8  8  4  6]\nloss for counter 1695 is 1.0944141149520874\ncounter 1695: valid acc = 0.6399999856948853\n[ 8  8  8 10  8  8 10 10  9 10  8  8  8  8  8 10  8  8  9  8]\n[ 8  9  7 10  8  8 10 10  9  9  8  8  7  6  6 12  8  8  4  6]\n"
     ]
    },
    {
     "name": "stdout",
     "output_type": "stream",
     "text": [
      "loss for counter 1700 is 1.1114475727081299\ncounter 1700: valid acc = 0.6700000166893005\n[ 8  9  8 10  8  8 10 10  9 10  8  8  8  8  8 10  8  8  9  8]\n[ 8  9  7 10  8  8 10 10  9  9  8  8  7  6  6 12  8  8  4  6]\nloss for counter 1705 is 1.0926697254180908\ncounter 1705: valid acc = 0.6499999761581421\n[ 8  9  8 10  8  8 10 10  9 10  8  8  8  8  8 10  8  8  9  8]\n[ 8  9  7 10  8  8 10 10  9  9  8  8  7  6  6 12  8  8  4  6]\n"
     ]
    },
    {
     "name": "stdout",
     "output_type": "stream",
     "text": [
      "loss for counter 1710 is 1.1083743572235107\ncounter 1710: valid acc = 0.6700000166893005\n[ 8  9  8 10  8  8 10 10  9 10  8  8  8  8  8 10  8  8  9  8]\n[ 8  9  7 10  8  8 10 10  9  9  8  8  7  6  6 12  8  8  4  6]\nloss for counter 1715 is 1.0909373760223389\ncounter 1715: valid acc = 0.6499999761581421\n[ 8  9  8 10  8  8 10 10  9 10  8  8  8  8  8 10  8  8  9  8]\n[ 8  9  7 10  8  8 10 10  9  9  8  8  7  6  6 12  8  8  4  6]\n"
     ]
    },
    {
     "name": "stdout",
     "output_type": "stream",
     "text": [
      "loss for counter 1720 is 1.1053403615951538\ncounter 1720: valid acc = 0.6700000166893005\n[ 8  9  8 10  8  8 10 10  9 10  8  8  8  8  8 10  8  8  9  8]\n[ 8  9  7 10  8  8 10 10  9  9  8  8  7  6  6 12  8  8  4  6]\nloss for counter 1725 is 1.089227557182312\ncounter 1725: valid acc = 0.6499999761581421\n[ 8  9  8 10  8  8 10 10  9 10  8  8  8  8  8 10  8  8  9  8]\n[ 8  9  7 10  8  8 10 10  9  9  8  8  7  6  6 12  8  8  4  6]\n"
     ]
    },
    {
     "name": "stdout",
     "output_type": "stream",
     "text": [
      "loss for counter 1730 is 1.1023229360580444\ncounter 1730: valid acc = 0.6700000166893005\n[ 8  9  8 10  8  8 10 10  9 10  8  8  8  8  8 10  8  8  9  8]\n[ 8  9  7 10  8  8 10 10  9  9  8  8  7  6  6 12  8  8  4  6]\nloss for counter 1735 is 1.0875229835510254\ncounter 1735: valid acc = 0.6700000166893005\n[ 8  9  8 10  8  8 10 10  9 10  8  8  8  8  8 10  8  8  9  8]\n[ 8  9  7 10  8  8 10 10  9  9  8  8  7  6  6 12  8  8  4  6]\n"
     ]
    },
    {
     "name": "stdout",
     "output_type": "stream",
     "text": [
      "loss for counter 1740 is 1.099327802658081\ncounter 1740: valid acc = 0.6700000166893005\n[ 8  9  8 10  8  8 10 10  9 10  8  8  8  8  8 10  8  8  9  8]\n[ 8  9  7 10  8  8 10 10  9  9  8  8  7  6  6 12  8  8  4  6]\nloss for counter 1745 is 1.0858180522918701\ncounter 1745: valid acc = 0.6700000166893005\n[ 8  9  8 10  8  8 10 10  9 10  8  8  8  8  8 10  8  8  9  8]\n[ 8  9  7 10  8  8 10 10  9  9  8  8  7  6  6 12  8  8  4  6]\n"
     ]
    },
    {
     "name": "stdout",
     "output_type": "stream",
     "text": [
      "loss for counter 1750 is 1.0963693857192993\ncounter 1750: valid acc = 0.6700000166893005\n[ 8  9  8 10  8  8 10 10  9 10  8  8  8  8  8 10  8  8  9  8]\n[ 8  9  7 10  8  8 10 10  9  9  8  8  7  6  6 12  8  8  4  6]\nloss for counter 1755 is 1.084111213684082\ncounter 1755: valid acc = 0.6700000166893005\n[ 8  9  8 10  8  8 10 10  9 10  8  8  8  8  8 10  8  8  9  8]\n[ 8  9  7 10  8  8 10 10  9  9  8  8  7  6  6 12  8  8  4  6]\n"
     ]
    },
    {
     "name": "stdout",
     "output_type": "stream",
     "text": [
      "loss for counter 1760 is 1.0934345722198486\ncounter 1760: valid acc = 0.6700000166893005\n[ 8  9  8 10  8  8 10 10  9 10  8  8  8  8  8 10  8  8  9  8]\n[ 8  9  7 10  8  8 10 10  9  9  8  8  7  6  6 12  8  8  4  6]\nloss for counter 1765 is 1.0823825597763062\ncounter 1765: valid acc = 0.6700000166893005\n[ 8  9  8 10  8  8 10 10  9 10  8  8  8  8  8 10  8  8  9  8]\n[ 8  9  7 10  8  8 10 10  9  9  8  8  7  6  6 12  8  8  4  6]\n"
     ]
    },
    {
     "name": "stdout",
     "output_type": "stream",
     "text": [
      "loss for counter 1770 is 1.0905338525772095\ncounter 1770: valid acc = 0.6700000166893005\n[ 8  9  8 10  8  8 10 10  9 10  8  8  8  8  8 10  8  8  9  8]\n[ 8  9  7 10  8  8 10 10  9  9  8  8  7  6  6 12  8  8  4  6]\nloss for counter 1775 is 1.0806052684783936\ncounter 1775: valid acc = 0.6700000166893005\n[ 8  9  8 10  8  8 10 10  9 10  8  8  8  8  8 10  8  8  9  8]\n[ 8  9  7 10  8  8 10 10  9  9  8  8  7  6  6 12  8  8  4  6]\n"
     ]
    },
    {
     "name": "stdout",
     "output_type": "stream",
     "text": [
      "loss for counter 1780 is 1.0876798629760742\ncounter 1780: valid acc = 0.6700000166893005\n[ 8  9  8 10  8  8 10 10  9 10  8  8  8  8  8 10  8  8  9  8]\n[ 8  9  7 10  8  8 10 10  9  9  8  8  7  6  6 12  8  8  4  6]\nloss for counter 1785 is 1.0787346363067627\ncounter 1785: valid acc = 0.6700000166893005\n[ 8  9  8 10  8  8 10 10  9 10  8  8  8  8  8 10  8  8  9  8]\n[ 8  9  7 10  8  8 10 10  9  9  8  8  7  6  6 12  8  8  4  6]\n"
     ]
    },
    {
     "name": "stdout",
     "output_type": "stream",
     "text": [
      "loss for counter 1790 is 1.0848660469055176\ncounter 1790: valid acc = 0.6700000166893005\n[ 8  9  8 10  8  8 10 10  9 10  8  8  8  8  8 10  8  8  9  8]\n[ 8  9  7 10  8  8 10 10  9  9  8  8  7  6  6 12  8  8  4  6]\nloss for counter 1795 is 1.0766404867172241\ncounter 1795: valid acc = 0.6700000166893005\n[ 8  9  8 10  8  8 10 10  9 10  8  8  8  8  8 10  8  8  9  8]\n[ 8  9  7 10  8  8 10 10  9  9  8  8  7  6  6 12  8  8  4  6]\n"
     ]
    },
    {
     "name": "stdout",
     "output_type": "stream",
     "text": [
      "loss for counter 1800 is 1.0820943117141724\ncounter 1800: valid acc = 0.6700000166893005\n[ 8  9  8 10  8  8 10 10  9 10  8  8  8  8  8 10  8  8  9  8]\n[ 8  9  7 10  8  8 10 10  9  9  8  8  7  6  6 12  8  8  4  6]\nloss for counter 1805 is 1.0743398666381836\ncounter 1805: valid acc = 0.6700000166893005\n[ 8  9  8 10  8  8 10 10  9 10  8  8  8  8  8 10  8  8  9  8]\n[ 8  9  7 10  8  8 10 10  9  9  8  8  7  6  6 12  8  8  4  6]\n"
     ]
    },
    {
     "name": "stdout",
     "output_type": "stream",
     "text": [
      "loss for counter 1810 is 1.0793492794036865\ncounter 1810: valid acc = 0.6700000166893005\n[ 8  9  8 10  8  8 10 10  9 10  8  8  8  8  8 10  8  8  9  8]\n[ 8  9  7 10  8  8 10 10  9  9  8  8  7  6  6 12  8  8  4  6]\nloss for counter 1815 is 1.0717828273773193\ncounter 1815: valid acc = 0.6700000166893005\n[ 8  9  8 10  8  8 10 10  9 10  8  8  8  8  8 10  8  8  9  8]\n[ 8  9  7 10  8  8 10 10  9  9  8  8  7  6  6 12  8  8  4  6]\n"
     ]
    },
    {
     "name": "stdout",
     "output_type": "stream",
     "text": [
      "loss for counter 1820 is 1.076641321182251\ncounter 1820: valid acc = 0.6700000166893005\n[ 8  9  8 10  8  8 10 10  9 10  8  8  8  8  8 10  8  8  9  8]\n[ 8  9  7 10  8  8 10 10  9  9  8  8  7  6  6 12  8  8  4  6]\nloss for counter 1825 is 1.0690208673477173\ncounter 1825: valid acc = 0.6700000166893005\n[ 8  9  8 10  8  8 10 10  9 10  8  8  8  8  8 10  8  8  9  8]\n[ 8  9  7 10  8  8 10 10  9  9  8  8  7  6  6 12  8  8  4  6]\n"
     ]
    },
    {
     "name": "stdout",
     "output_type": "stream",
     "text": [
      "loss for counter 1830 is 1.0739383697509766\ncounter 1830: valid acc = 0.6700000166893005\n[ 8  9  8 10  8  8 10 10  9 10  8  8  8  8  8 10  8  8  9  8]\n[ 8  9  7 10  8  8 10 10  9  9  8  8  7  6  6 12  8  8  4  6]\nloss for counter 1835 is 1.0661293268203735\ncounter 1835: valid acc = 0.6700000166893005\n[ 8  9  8 10  8  8 10 10  9 10  8  8  8  8  8 10  8  8  9  8]\n[ 8  9  7 10  8  8 10 10  9  9  8  8  7  6  6 12  8  8  4  6]\n"
     ]
    },
    {
     "name": "stdout",
     "output_type": "stream",
     "text": [
      "loss for counter 1840 is 1.0712600946426392\ncounter 1840: valid acc = 0.6700000166893005\n[ 8  9  8 10  8  8 10 10  9 10  8  8  8  8  8 10  8  8  9  8]\n[ 8  9  7 10  8  8 10 10  9  9  8  8  7  6  6 12  8  8  4  6]\nloss for counter 1845 is 1.063145637512207\ncounter 1845: valid acc = 0.6700000166893005\n[ 8  9  8 10  8  8 10 10  9 10  8  8  8  8  8 10  8  8  9  8]\n[ 8  9  7 10  8  8 10 10  9  9  8  8  7  6  6 12  8  8  4  6]\n"
     ]
    },
    {
     "name": "stdout",
     "output_type": "stream",
     "text": [
      "loss for counter 1850 is 1.0685746669769287\ncounter 1850: valid acc = 0.6700000166893005\n[ 8  9  8 10  8  8 10 10  9 10  8  8  8  8  8 10  8  8  9  8]\n[ 8  9  7 10  8  8 10 10  9  9  8  8  7  6  6 12  8  8  4  6]\nloss for counter 1855 is 1.06003999710083\ncounter 1855: valid acc = 0.6700000166893005\n[ 8  9  8 10  8  8 10 10  9 10  8  8  8  8  8 10  8  8  9  8]\n[ 8  9  7 10  8  8 10 10  9  9  8  8  7  6  6 12  8  8  4  6]\n"
     ]
    },
    {
     "name": "stdout",
     "output_type": "stream",
     "text": [
      "loss for counter 1860 is 1.0659098625183105\ncounter 1860: valid acc = 0.6700000166893005\n[ 8  9  8 10  8  8 10 10  9 10  8  8  8  8  8 10  8  8  9  8]\n[ 8  9  7 10  8  8 10 10  9  9  8  8  7  6  6 12  8  8  4  6]\nloss for counter 1865 is 1.0568925142288208\ncounter 1865: valid acc = 0.6700000166893005\n[ 8  9  8 10  8  8 10 10  9 10  8  8  8  8  8 10  8  8  9  8]\n[ 8  9  7 10  8  8 10 10  9  9  8  8  7  6  6 12  8  8  4  6]\n"
     ]
    },
    {
     "name": "stdout",
     "output_type": "stream",
     "text": [
      "loss for counter 1870 is 1.0632641315460205\ncounter 1870: valid acc = 0.6700000166893005\n[ 8  9  8 10  8  8 10 10  9 10  8  8  8  8  8 10  8  8  9  8]\n[ 8  9  7 10  8  8 10 10  9  9  8  8  7  6  6 12  8  8  4  6]\nloss for counter 1875 is 1.0536954402923584\ncounter 1875: valid acc = 0.6800000071525574\n[ 8  9  8 10  8  8 10 10  9  9  8  8  8  8  8 10  8  8  9  8]\n[ 8  9  7 10  8  8 10 10  9  9  8  8  7  6  6 12  8  8  4  6]\n"
     ]
    },
    {
     "name": "stdout",
     "output_type": "stream",
     "text": [
      "loss for counter 1880 is 1.0606070756912231\ncounter 1880: valid acc = 0.6700000166893005\n[ 8  9  8 10  8  8 10 10  9 10  8  8  8  8  8 10  8  8  9  8]\n[ 8  9  7 10  8  8 10 10  9  9  8  8  7  6  6 12  8  8  4  6]\nloss for counter 1885 is 1.0504519939422607\ncounter 1885: valid acc = 0.6800000071525574\n[ 8  9  8 10  8  8 10 10  9  9  8  8  8  8  8 10  8  8  9  8]\n[ 8  9  7 10  8  8 10 10  9  9  8  8  7  6  6 12  8  8  4  6]\n"
     ]
    },
    {
     "name": "stdout",
     "output_type": "stream",
     "text": [
      "loss for counter 1890 is 1.0579725503921509\ncounter 1890: valid acc = 0.6700000166893005\n[ 8  9  8 10  8  8 10 10  9 10  8  8  8  8  8 10  8  8  9  8]\n[ 8  9  7 10  8  8 10 10  9  9  8  8  7  6  6 12  8  8  4  6]\nloss for counter 1895 is 1.0471653938293457\ncounter 1895: valid acc = 0.6800000071525574\n[ 8  9  8 10  8  8 10 10  9  9  8  8  8  8  8 10  8  8  9  8]\n[ 8  9  7 10  8  8 10 10  9  9  8  8  7  6  6 12  8  8  4  6]\n"
     ]
    },
    {
     "name": "stdout",
     "output_type": "stream",
     "text": [
      "loss for counter 1900 is 1.0553556680679321\ncounter 1900: valid acc = 0.6800000071525574\n[ 8  9  8 10  8  8 10 10  9  9  8  8  8  8  8 10  8  8  9  8]\n[ 8  9  7 10  8  8 10 10  9  9  8  8  7  6  6 12  8  8  4  6]\n"
     ]
    },
    {
     "name": "stdout",
     "output_type": "stream",
     "text": [
      "loss for counter 1905 is 1.0438050031661987\ncounter 1905: valid acc = 0.6800000071525574\n[ 8  9  8 10  8  8 10 10  9  9  8  8  8  8  8 10  8  8  9  8]\n[ 8  9  7 10  8  8 10 10  9  9  8  8  7  6  6 12  8  8  4  6]\n"
     ]
    },
    {
     "name": "stdout",
     "output_type": "stream",
     "text": [
      "loss for counter 1910 is 1.0527732372283936\ncounter 1910: valid acc = 0.6800000071525574\n[ 8  9  8 10  8  8 10 10  9  9  8  8  8  8  8 10  8  8  9  8]\n[ 8  9  7 10  8  8 10 10  9  9  8  8  7  6  6 12  8  8  4  6]\n"
     ]
    },
    {
     "name": "stdout",
     "output_type": "stream",
     "text": [
      "loss for counter 1915 is 1.040379285812378\ncounter 1915: valid acc = 0.6800000071525574\n[ 8  9  8 10  8  8 10 10  9  9  8  8  8  8  8 10  8  8  9  8]\n[ 8  9  7 10  8  8 10 10  9  9  8  8  7  6  6 12  8  8  4  6]\n"
     ]
    },
    {
     "name": "stdout",
     "output_type": "stream",
     "text": [
      "loss for counter 1920 is 1.050194501876831\ncounter 1920: valid acc = 0.6800000071525574\n[ 8  9  8 10  8  8 10 10  9  9  8  8  8  8  8 10  8  8  9  8]\n[ 8  9  7 10  8  8 10 10  9  9  8  8  7  6  6 12  8  8  4  6]\n"
     ]
    },
    {
     "name": "stdout",
     "output_type": "stream",
     "text": [
      "loss for counter 1925 is 1.0368950366973877\ncounter 1925: valid acc = 0.6800000071525574\n[ 8  9  8 10  8  8 10 10  9  9  8  8  8  8  8 10  8  8  9  8]\n[ 8  9  7 10  8  8 10 10  9  9  8  8  7  6  6 12  8  8  4  6]\n"
     ]
    },
    {
     "name": "stdout",
     "output_type": "stream",
     "text": [
      "loss for counter 1930 is 1.0476490259170532\ncounter 1930: valid acc = 0.6800000071525574\n[ 8  9  8 10  8  8 10 10  9  9  8  8  8  8  8 10  8  8  9  8]\n[ 8  9  7 10  8  8 10 10  9  9  8  8  7  6  6 12  8  8  4  6]\n"
     ]
    },
    {
     "name": "stdout",
     "output_type": "stream",
     "text": [
      "loss for counter 1935 is 1.0333986282348633\ncounter 1935: valid acc = 0.6800000071525574\n[ 8  9  8 10  8  8 10 10  9  9  8  8  8  8  8 10  8  8  9  8]\n[ 8  9  7 10  8  8 10 10  9  9  8  8  7  6  6 12  8  8  4  6]\nloss for counter 1940 is 1.0451172590255737\ncounter 1940: valid acc = 0.6800000071525574\n[ 8  9  8 10  8  8 10 10  9  9  8  8  8  8  8 10  8  8  9  8]\n[ 8  9  7 10  8  8 10 10  9  9  8  8  7  6  6 12  8  8  4  6]\n"
     ]
    },
    {
     "name": "stdout",
     "output_type": "stream",
     "text": [
      "loss for counter 1945 is 1.0299376249313354\ncounter 1945: valid acc = 0.6800000071525574\n[ 8  9  8 10  8  8 10 10  9  9  8  8  8  8  8 10  8  8  9  8]\n[ 8  9  7 10  8  8 10 10  9  9  8  8  7  6  6 12  8  8  4  6]\nloss for counter 1950 is 1.0426146984100342\ncounter 1950: valid acc = 0.6800000071525574\n[ 8  9  8 10  8  8 10 10  9  9  8  8  8  8  8 10  8  8  9  8]\n[ 8  9  7 10  8  8 10 10  9  9  8  8  7  6  6 12  8  8  4  6]\n"
     ]
    },
    {
     "name": "stdout",
     "output_type": "stream",
     "text": [
      "loss for counter 1955 is 1.0265846252441406\ncounter 1955: valid acc = 0.6899999976158142\n[ 8  9  8 10  8  8 10 10  9  9  8  8  8  8  8 10  8  8  9  8]\n[ 8  9  7 10  8  8 10 10  9  9  8  8  7  6  6 12  8  8  4  6]\nloss for counter 1960 is 1.0401244163513184\ncounter 1960: valid acc = 0.6800000071525574\n[ 8  9  8 10  8  8 10 10  9  9  8  8  8  8  8 10  8  8  9  8]\n[ 8  9  7 10  8  8 10 10  9  9  8  8  7  6  6 12  8  8  4  6]\n"
     ]
    },
    {
     "name": "stdout",
     "output_type": "stream",
     "text": [
      "loss for counter 1965 is 1.0233193635940552\ncounter 1965: valid acc = 0.6899999976158142\n[ 8  9  8 10  8  8 10 10  9  9  8  8  8  8  8 10  8  8  9  8]\n[ 8  9  7 10  8  8 10 10  9  9  8  8  7  6  6 12  8  8  4  6]\n"
     ]
    },
    {
     "name": "stdout",
     "output_type": "stream",
     "text": [
      "loss for counter 1970 is 1.0376590490341187\ncounter 1970: valid acc = 0.6899999976158142\n[ 8  9  8 10  8  8 10 10  9  9  8  8  8  8  8 10  8  8  9  8]\n[ 8  9  7 10  8  8 10 10  9  9  8  8  7  6  6 12  8  8  4  6]\n"
     ]
    },
    {
     "name": "stdout",
     "output_type": "stream",
     "text": [
      "loss for counter 1975 is 1.0202096700668335\ncounter 1975: valid acc = 0.6899999976158142\n[ 8  9  8 10  8  8 10 10  9  9  8  8  8  8  8 10  8  8  9  8]\n[ 8  9  7 10  8  8 10 10  9  9  8  8  7  6  6 12  8  8  4  6]\nloss for counter 1980 is 1.0351969003677368\ncounter 1980: valid acc = 0.6899999976158142\n[ 8  9  8 10  8  8 10 10  9  9  8  8  8  8  8 10  8  8  9  8]\n[ 8  9  7 10  8  8 10 10  9  9  8  8  7  6  6 12  8  8  4  6]\n"
     ]
    },
    {
     "name": "stdout",
     "output_type": "stream",
     "text": [
      "loss for counter 1985 is 1.0172158479690552\ncounter 1985: valid acc = 0.6899999976158142\n[ 8  9  8 10  8  8 10 10  9  9  8  8  8  8  8 10  8  8  9  8]\n[ 8  9  7 10  8  8 10 10  9  9  8  8  7  6  6 12  8  8  4  6]\nloss for counter 1990 is 1.0327554941177368\ncounter 1990: valid acc = 0.6899999976158142\n[ 8  9  8 10  8  8 10 10  9  9  8  8  8  8  8 10  8  8  9  8]\n[ 8  9  7 10  8  8 10 10  9  9  8  8  7  6  6 12  8  8  4  6]\n"
     ]
    },
    {
     "name": "stdout",
     "output_type": "stream",
     "text": [
      "loss for counter 1995 is 1.0143709182739258\ncounter 1995: valid acc = 0.6899999976158142\n[ 8  9  8 10  8  8 10 10  9  9  8  8  8  8  8 10  8  8  9  8]\n[ 8  9  7 10  8  8 10 10  9  9  8  8  7  6  6 12  8  8  4  6]\n"
     ]
    },
    {
     "name": "stdout",
     "output_type": "stream",
     "text": [
      "loss for counter 2000 is 1.0303338766098022\ncounter 2000: valid acc = 0.6899999976158142\n[ 8  9  8 10  8  8 10 10  9  9  8  8  8  8  8 10  8  8  9  8]\n[ 8  9  7 10  8  8 10 10  9  9  8  8  7  6  6 12  8  8  4  6]\n"
     ]
    },
    {
     "name": "stdout",
     "output_type": "stream",
     "text": [
      "loss for counter 2005 is 1.0116636753082275\ncounter 2005: valid acc = 0.6899999976158142\n[ 8  9  8 10  8  8 10 10  9  9  8  8  8  8  8 10  8  8  9  8]\n[ 8  9  7 10  8  8 10 10  9  9  8  8  7  6  6 12  8  8  4  6]\nloss for counter 2010 is 1.027928113937378\ncounter 2010: valid acc = 0.6899999976158142\n[ 8  9  8 10  8  8 10 10  9  9  8  8  8  8  8 10  8  8  9  8]\n[ 8  9  7 10  8  8 10 10  9  9  8  8  7  6  6 12  8  8  4  6]\n"
     ]
    },
    {
     "name": "stdout",
     "output_type": "stream",
     "text": [
      "loss for counter 2015 is 1.009093999862671\ncounter 2015: valid acc = 0.6899999976158142\n[ 8  9  8 10  8  8 10 10  9  9  8  8  8  8  8 10  8  8  9  8]\n[ 8  9  7 10  8  8 10 10  9  9  8  8  7  6  6 12  8  8  4  6]\nloss for counter 2020 is 1.0255472660064697\ncounter 2020: valid acc = 0.6899999976158142\n[ 8  9  8 10  8  8 10 10  9  9  8  8  8  8  8 10  8  8  9  8]\n[ 8  9  7 10  8  8 10 10  9  9  8  8  7  6  6 12  8  8  4  6]\n"
     ]
    },
    {
     "name": "stdout",
     "output_type": "stream",
     "text": [
      "loss for counter 2025 is 1.0066611766815186\ncounter 2025: valid acc = 0.6899999976158142\n[ 8  9  8 10  8  8 10 10  9  9  8  8  8  8  8 10  8  8  9  8]\n[ 8  9  7 10  8  8 10 10  9  9  8  8  7  6  6 12  8  8  4  6]\nloss for counter 2030 is 1.0231934785842896\ncounter 2030: valid acc = 0.6899999976158142\n[ 8  9  8 10  8  8 10 10  9  9  8  8  8  8  8 10  8  8  9  8]\n[ 8  9  7 10  8  8 10 10  9  9  8  8  7  6  6 12  8  8  4  6]\n"
     ]
    },
    {
     "name": "stdout",
     "output_type": "stream",
     "text": [
      "loss for counter 2035 is 1.004346489906311\ncounter 2035: valid acc = 0.6899999976158142\n[ 8  9  8 10  8  8 10 10  9  9  8  8  8  8  8 10  8  8  9  8]\n[ 8  9  7 10  8  8 10 10  9  9  8  8  7  6  6 12  8  8  4  6]\n"
     ]
    },
    {
     "name": "stdout",
     "output_type": "stream",
     "text": [
      "loss for counter 2040 is 1.0208721160888672\ncounter 2040: valid acc = 0.6899999976158142\n[ 8  9  8 10  8  8 10 10  9  9  8  8  8  8  8 10  8  8  9  8]\n[ 8  9  7 10  8  8 10 10  9  9  8  8  7  6  6 12  8  8  4  6]\n"
     ]
    },
    {
     "name": "stdout",
     "output_type": "stream",
     "text": [
      "loss for counter 2045 is 1.00217604637146\ncounter 2045: valid acc = 0.6899999976158142\n[ 8  9  8 10  8  8 10 10  9  9  8  8  8  8  8 10  8  8  9  8]\n[ 8  9  7 10  8  8 10 10  9  9  8  8  7  6  6 12  8  8  4  6]\n"
     ]
    },
    {
     "name": "stdout",
     "output_type": "stream",
     "text": [
      "loss for counter 2050 is 1.0185686349868774\ncounter 2050: valid acc = 0.6899999976158142\n[ 8  9  8 10  8  8 10 10  9  9  8  8  8  8  8 10  8  8  9  8]\n[ 8  9  7 10  8  8 10 10  9  9  8  8  7  6  6 12  8  8  4  6]\n"
     ]
    },
    {
     "name": "stdout",
     "output_type": "stream",
     "text": [
      "loss for counter 2055 is 1.0000994205474854\ncounter 2055: valid acc = 0.6899999976158142\n[ 8  9  8 10  8  8 10 10  9  9  8  8  8  8  8 10  8  8  9  8]\n[ 8  9  7 10  8  8 10 10  9  9  8  8  7  6  6 12  8  8  4  6]\nloss for counter 2060 is 1.016295313835144\ncounter 2060: valid acc = 0.6899999976158142\n[ 8  9  8 10  8  8 10 10  9  9  8  8  8  8  8 10  8  8  9  8]\n[ 8  9  7 10  8  8 10 10  9  9  8  8  7  6  6 12  8  8  4  6]\n"
     ]
    },
    {
     "name": "stdout",
     "output_type": "stream",
     "text": [
      "loss for counter 2065 is 0.9981560707092285\ncounter 2065: valid acc = 0.6899999976158142\n[ 8  9  8 10  8  8 10 10  9  9  8  8  8  8  8 10  8  8  9  8]\n[ 8  9  7 10  8  8 10 10  9  9  8  8  7  6  6 12  8  8  4  6]\n"
     ]
    },
    {
     "name": "stdout",
     "output_type": "stream",
     "text": [
      "loss for counter 2070 is 1.0140336751937866\ncounter 2070: valid acc = 0.6899999976158142\n[ 8  9  8 10  8  8 10 10  9  9  8  8  8  8  9 10  8  8  9  8]\n[ 8  9  7 10  8  8 10 10  9  9  8  8  7  6  6 12  8  8  4  6]\n"
     ]
    },
    {
     "name": "stdout",
     "output_type": "stream",
     "text": [
      "loss for counter 2075 is 0.996292233467102\ncounter 2075: valid acc = 0.6899999976158142\n[ 8  9  8 10  8  8 10 10  9  9  8  8  8  8  8 10  8  8  9  8]\n[ 8  9  7 10  8  8 10 10  9  9  8  8  7  6  6 12  8  8  4  6]\nloss for counter 2080 is 1.011806845664978\ncounter 2080: valid acc = 0.6899999976158142\n[ 8  9  8 10  8  8 10 10  9  9  8  8  8  8  9 10  8  8  9  8]\n[ 8  9  7 10  8  8 10 10  9  9  8  8  7  6  6 12  8  8  4  6]\n"
     ]
    },
    {
     "name": "stdout",
     "output_type": "stream",
     "text": [
      "loss for counter 2085 is 0.9945281147956848\ncounter 2085: valid acc = 0.6899999976158142\n[ 8  9  8 10  8  8 10 10  9  9  8  8  8  8  9 10  8  8  9  8]\n[ 8  9  7 10  8  8 10 10  9  9  8  8  7  6  6 12  8  8  4  6]\nloss for counter 2090 is 1.009616494178772\ncounter 2090: valid acc = 0.6899999976158142\n[ 8  9  8 10  8  8 10 10  9  9  8  8  8  8  9 10  8  8  9  8]\n[ 8  9  7 10  8  8 10 10  9  9  8  8  7  6  6 12  8  8  4  6]\n"
     ]
    },
    {
     "name": "stdout",
     "output_type": "stream",
     "text": [
      "loss for counter 2095 is 0.9928337931632996\ncounter 2095: valid acc = 0.6899999976158142\n[ 8  9  8 10  8  8 10 10  9  9  8  8  8  8  9 10  8  8  9  8]\n[ 8  9  7 10  8  8 10 10  9  9  8  8  7  6  6 12  8  8  4  6]\n"
     ]
    },
    {
     "name": "stdout",
     "output_type": "stream",
     "text": [
      "loss for counter 2100 is 1.0074318647384644\ncounter 2100: valid acc = 0.6899999976158142\n[ 8  9  8 10  8  8 10 10  9  9  8  8  8  8  9 10  8  8  9  9]\n[ 8  9  7 10  8  8 10 10  9  9  8  8  7  6  6 12  8  8  4  6]\nloss for counter 2105 is 0.9912112951278687\ncounter 2105: valid acc = 0.6899999976158142\n[ 8  9  8 10  8  8 10 10  9  9  8  8  8  8  9 10  8  8  9  8]\n[ 8  9  7 10  8  8 10 10  9  9  8  8  7  6  6 12  8  8  4  6]\n"
     ]
    },
    {
     "name": "stdout",
     "output_type": "stream",
     "text": [
      "loss for counter 2110 is 1.0052772760391235\ncounter 2110: valid acc = 0.6899999976158142\n[ 8  9  8 10  8  8 10 10  9  9  8  8  8  8  9 10  8  8  9  9]\n[ 8  9  7 10  8  8 10 10  9  9  8  8  7  6  6 12  8  8  4  6]\nloss for counter 2115 is 0.9896482229232788\ncounter 2115: valid acc = 0.6899999976158142\n[ 8  9  8 10  8  8 10 10  9  9  8  8  8  8  9 10  8  8  9  9]\n[ 8  9  7 10  8  8 10 10  9  9  8  8  7  6  6 12  8  8  4  6]\n"
     ]
    },
    {
     "name": "stdout",
     "output_type": "stream",
     "text": [
      "loss for counter 2120 is 1.0031508207321167\ncounter 2120: valid acc = 0.6899999976158142\n[ 8  9  8 10  8  8 10 10  9  9  8  8  8  8  9 10  8  8  9  9]\n[ 8  9  7 10  8  8 10 10  9  9  8  8  7  6  6 12  8  8  4  6]\nloss for counter 2125 is 0.9881458282470703\ncounter 2125: valid acc = 0.6899999976158142\n[ 8  9  8 10  8  8 10 10  9  9  8  8  8  8  9 10  8  8  9  9]\n[ 8  9  7 10  8  8 10 10  9  9  8  8  7  6  6 12  8  8  4  6]\n"
     ]
    },
    {
     "name": "stdout",
     "output_type": "stream",
     "text": [
      "loss for counter 2130 is 1.0010206699371338\ncounter 2130: valid acc = 0.6899999976158142\n[ 8  9  8 10  8  8 10 10  9  9  8  8  8  8  9 10  8  8  9  9]\n[ 8  9  7 10  8  8 10 10  9  9  8  8  7  6  6 12  8  8  4  6]\nloss for counter 2135 is 0.9866905212402344\ncounter 2135: valid acc = 0.6899999976158142\n[ 8  9  8 10  8  8 10 10  9  9  8  8  8  8  9 10  8  8  9  9]\n[ 8  9  7 10  8  8 10 10  9  9  8  8  7  6  6 12  8  8  4  6]\n"
     ]
    },
    {
     "name": "stdout",
     "output_type": "stream",
     "text": [
      "loss for counter 2140 is 0.9989215135574341\ncounter 2140: valid acc = 0.6899999976158142\n[ 8  9  8 10  8  8 10 10  9  9  8  8  8  8  9 10  8  8  9  9]\n[ 8  9  7 10  8  8 10 10  9  9  8  8  7  6  6 12  8  8  4  6]\nloss for counter 2145 is 0.9852819442749023\ncounter 2145: valid acc = 0.6899999976158142\n[ 8  9  8 10  8  8 10 10  9  9  8  8  8  8  9 10  8  8  9  9]\n[ 8  9  7 10  8  8 10 10  9  9  8  8  7  6  6 12  8  8  4  6]\n"
     ]
    },
    {
     "name": "stdout",
     "output_type": "stream",
     "text": [
      "loss for counter 2150 is 0.9968450665473938\ncounter 2150: valid acc = 0.6899999976158142\n[ 8  9  8 10  8  8 10 10  9  9  8  8  8  8  9 10  8  8  9  9]\n[ 8  9  7 10  8  8 10 10  9  9  8  8  7  6  6 12  8  8  4  6]\nloss for counter 2155 is 0.9839155077934265\ncounter 2155: valid acc = 0.6899999976158142\n[ 8  9  8 10  8  8 10 10  9  9  8  8  8  8  9 10  8  8  9  9]\n[ 8  9  7 10  8  8 10 10  9  9  8  8  7  6  6 12  8  8  4  6]\n"
     ]
    },
    {
     "name": "stdout",
     "output_type": "stream",
     "text": [
      "loss for counter 2160 is 0.9947884678840637\ncounter 2160: valid acc = 0.6899999976158142\n[ 8  9  8 10  8  8 10 10  9  9  8  8  8  8  9 10  8  8  9  9]\n[ 8  9  7 10  8  8 10 10  9  9  8  8  7  6  6 12  8  8  4  6]\nloss for counter 2165 is 0.9825875163078308\ncounter 2165: valid acc = 0.6899999976158142\n[ 8  9  8 10  8  8 10 10  9  9  8  8  8  8  9 10  8  8  9  9]\n[ 8  9  7 10  8  8 10 10  9  9  8  8  7  6  6 12  8  8  4  6]\n"
     ]
    },
    {
     "name": "stdout",
     "output_type": "stream",
     "text": [
      "loss for counter 2170 is 0.9927414059638977\ncounter 2170: valid acc = 0.6899999976158142\n[ 8  9  8 10  8  8 10 10  9  9  8  8  8  9  9 10  8  8  9  9]\n[ 8  9  7 10  8  8 10 10  9  9  8  8  7  6  6 12  8  8  4  6]\nloss for counter 2175 is 0.9812977910041809\ncounter 2175: valid acc = 0.6899999976158142\n[ 8  9  8 10  8  8 10 10  9  9  8  8  8  8  9 10  8  8  9  9]\n[ 8  9  7 10  8  8 10 10  9  9  8  8  7  6  6 12  8  8  4  6]\n"
     ]
    },
    {
     "name": "stdout",
     "output_type": "stream",
     "text": [
      "loss for counter 2180 is 0.9907211065292358\ncounter 2180: valid acc = 0.6899999976158142\n[ 8  9  8 10  8  8 10 10  9  9  8  8  8  9  9 10  8  8  9  9]\n[ 8  9  7 10  8  8 10 10  9  9  8  8  7  6  6 12  8  8  4  6]\nloss for counter 2185 is 0.9800339937210083\ncounter 2185: valid acc = 0.6899999976158142\n[ 8  9  8 10  8  8 10 10  9  9  8  8  8  9  9 10  8  8  9  9]\n[ 8  9  7 10  8  8 10 10  9  9  8  8  7  6  6 12  8  8  4  6]\n"
     ]
    },
    {
     "name": "stdout",
     "output_type": "stream",
     "text": [
      "loss for counter 2190 is 0.9887161254882812\ncounter 2190: valid acc = 0.6899999976158142\n[ 8  9  8 10  8  8 10 10  9  9  8  8  8  9  9 10  8  8  9  9]\n[ 8  9  7 10  8  8 10 10  9  9  8  8  7  6  6 12  8  8  4  6]\nloss for counter 2195 is 0.9787899255752563\ncounter 2195: valid acc = 0.6899999976158142\n[ 8  9  8 10  8  8 10 10  9  9  8  8  8  9  9 10  8  8  9  9]\n[ 8  9  7 10  8  8 10 10  9  9  8  8  7  6  6 12  8  8  4  6]\n"
     ]
    },
    {
     "name": "stdout",
     "output_type": "stream",
     "text": [
      "loss for counter 2200 is 0.986722469329834\ncounter 2200: valid acc = 0.6899999976158142\n[ 8  9  8 10  8  8 10 10  9  9  8  8  8  9  9 10  8  8  9  9]\n[ 8  9  7 10  8  8 10 10  9  9  8  8  7  6  6 12  8  8  4  6]\nloss for counter 2205 is 0.9775821566581726\ncounter 2205: valid acc = 0.6899999976158142\n[ 8  9  8 10  8  8 10 10  9  9  8  8  8  9  9 10  8  8  9  9]\n[ 8  9  7 10  8  8 10 10  9  9  8  8  7  6  6 12  8  8  4  6]\n"
     ]
    },
    {
     "name": "stdout",
     "output_type": "stream",
     "text": [
      "loss for counter 2210 is 0.9847347140312195\ncounter 2210: valid acc = 0.6899999976158142\n[ 8  9  8 10  8  8 10 10  9  9  8  8  8  9  9 10  8  8  9  9]\n[ 8  9  7 10  8  8 10 10  9  9  8  8  7  6  6 12  8  8  4  6]\nloss for counter 2215 is 0.9763815999031067\ncounter 2215: valid acc = 0.6899999976158142\n[ 8  9  8 10  8  8 10 10  9  9  8  8  8  9  9 10  8  8  9  9]\n[ 8  9  7 10  8  8 10 10  9  9  8  8  7  6  6 12  8  8  4  6]\n"
     ]
    },
    {
     "name": "stdout",
     "output_type": "stream",
     "text": [
      "loss for counter 2220 is 0.9827743768692017\ncounter 2220: valid acc = 0.6899999976158142\n[ 8  9  8 10  8  8 10 10  9  9  8  8  8  9  9 10  8  8  9  9]\n[ 8  9  7 10  8  8 10 10  9  9  8  8  7  6  6 12  8  8  4  6]\nloss for counter 2225 is 0.9752094149589539\ncounter 2225: valid acc = 0.6899999976158142\n[ 8  9  8 10  8  8 10 10  9  9  8  8  8  9  9 10  8  8  9  9]\n[ 8  9  7 10  8  8 10 10  9  9  8  8  7  6  6 12  8  8  4  6]\n"
     ]
    },
    {
     "name": "stdout",
     "output_type": "stream",
     "text": [
      "loss for counter 2230 is 0.9808112382888794\ncounter 2230: valid acc = 0.6899999976158142\n[ 8  9  8 10  8  8 10 10  9  9  8  8  8  9  9 10  8  8  9  9]\n[ 8  9  7 10  8  8 10 10  9  9  8  8  7  6  6 12  8  8  4  6]\nloss for counter 2235 is 0.9740413427352905\ncounter 2235: valid acc = 0.6899999976158142\n[ 8  9  8 10  8  8 10 10  9  9  8  8  8  9  9 10  8  8  9  9]\n[ 8  9  7 10  8  8 10 10  9  9  8  8  7  6  6 12  8  8  4  6]\n"
     ]
    },
    {
     "name": "stdout",
     "output_type": "stream",
     "text": [
      "loss for counter 2240 is 0.9788665771484375\ncounter 2240: valid acc = 0.6899999976158142\n[ 8  9  8 10  8  8 10 10  9  9  8  8  8  9  9 10  8  8  9  9]\n[ 8  9  7 10  8  8 10 10  9  9  8  8  7  6  6 12  8  8  4  6]\nloss for counter 2245 is 0.9729176759719849\ncounter 2245: valid acc = 0.6899999976158142\n[ 8  9  8 10  8  8 10 10  9  9  8  8  8  9  9 10  8  8  9  9]\n[ 8  9  7 10  8  8 10 10  9  9  8  8  7  6  6 12  8  8  4  6]\n"
     ]
    },
    {
     "name": "stdout",
     "output_type": "stream",
     "text": [
      "loss for counter 2250 is 0.9769319295883179\ncounter 2250: valid acc = 0.6899999976158142\n[ 8  9  8 10  8  8 10 10  9  9  8  8  8  9  9 10  8  8  9  9]\n[ 8  9  7 10  8  8 10 10  9  9  8  8  7  6  6 12  8  8  4  6]\n"
     ]
    },
    {
     "ename": "KeyboardInterrupt",
     "evalue": "",
     "traceback": [
      "\u001b[0;31m---------------------------------------------------------------------------\u001b[0m",
      "\u001b[0;31mKeyboardInterrupt\u001b[0m                         Traceback (most recent call last)",
      "\u001b[0;32m<ipython-input-19-571486e0b9a8>\u001b[0m in \u001b[0;36m<module>\u001b[0;34m\u001b[0m\n\u001b[0;32m----> 1\u001b[0;31m \u001b[0mmy_net\u001b[0m\u001b[0;34m.\u001b[0m\u001b[0mtrain\u001b[0m\u001b[0;34m(\u001b[0m\u001b[0mgen\u001b[0m\u001b[0;34m=\u001b[0m\u001b[0mbatch_gen\u001b[0m\u001b[0;34m,\u001b[0m \u001b[0mX_val\u001b[0m\u001b[0;34m=\u001b[0m\u001b[0mX_train\u001b[0m\u001b[0;34m,\u001b[0m \u001b[0my_val\u001b[0m\u001b[0;34m=\u001b[0m\u001b[0my_train\u001b[0m\u001b[0;34m,\u001b[0m \u001b[0mn_epochs\u001b[0m\u001b[0;34m=\u001b[0m\u001b[0;36m20\u001b[0m\u001b[0;34m,\u001b[0m \u001b[0mlr\u001b[0m\u001b[0;34m=\u001b[0m\u001b[0;36m1e-2\u001b[0m\u001b[0;34m)\u001b[0m\u001b[0;34m\u001b[0m\u001b[0;34m\u001b[0m\u001b[0m\n\u001b[0m",
      "\u001b[0;32m~/Columbia/ECBM4040/Project/EssayGrader/src/mlp.py\u001b[0m in \u001b[0;36mtrain\u001b[0;34m(self, gen, X_val, y_val, n_epochs, lr)\u001b[0m\n\u001b[1;32m     54\u001b[0m                 \u001b[0mloss\u001b[0m\u001b[0;34m,\u001b[0m \u001b[0m_\u001b[0m \u001b[0;34m=\u001b[0m \u001b[0msess\u001b[0m\u001b[0;34m.\u001b[0m\u001b[0mrun\u001b[0m\u001b[0;34m(\u001b[0m\u001b[0;34m[\u001b[0m\u001b[0mself\u001b[0m\u001b[0;34m.\u001b[0m\u001b[0mloss\u001b[0m\u001b[0;34m,\u001b[0m\u001b[0mself\u001b[0m\u001b[0;34m.\u001b[0m\u001b[0mtrain_step\u001b[0m\u001b[0;34m]\u001b[0m\u001b[0;34m,\u001b[0m \u001b[0mfeed_dict\u001b[0m\u001b[0;34m=\u001b[0m\u001b[0;34m{\u001b[0m\u001b[0mself\u001b[0m\u001b[0;34m.\u001b[0m\u001b[0mX\u001b[0m\u001b[0;34m:\u001b[0m \u001b[0mbatch_X\u001b[0m\u001b[0;34m,\u001b[0m \u001b[0mself\u001b[0m\u001b[0;34m.\u001b[0m\u001b[0my\u001b[0m\u001b[0;34m:\u001b[0m \u001b[0mbatch_y\u001b[0m\u001b[0;34m}\u001b[0m\u001b[0;34m)\u001b[0m\u001b[0;34m\u001b[0m\u001b[0;34m\u001b[0m\u001b[0m\n\u001b[1;32m     55\u001b[0m                 \u001b[0;32mif\u001b[0m \u001b[0mcounter\u001b[0m \u001b[0;34m%\u001b[0m \u001b[0;36m5\u001b[0m \u001b[0;34m==\u001b[0m\u001b[0;36m0\u001b[0m\u001b[0;34m:\u001b[0m\u001b[0;34m\u001b[0m\u001b[0;34m\u001b[0m\u001b[0m\n\u001b[0;32m---> 56\u001b[0;31m                     \u001b[0mpreds\u001b[0m\u001b[0;34m,\u001b[0m\u001b[0mvals\u001b[0m\u001b[0;34m,\u001b[0m \u001b[0mval_acc\u001b[0m \u001b[0;34m=\u001b[0m \u001b[0msess\u001b[0m\u001b[0;34m.\u001b[0m\u001b[0mrun\u001b[0m\u001b[0;34m(\u001b[0m\u001b[0;34m[\u001b[0m\u001b[0mself\u001b[0m\u001b[0;34m.\u001b[0m\u001b[0mpreds\u001b[0m\u001b[0;34m,\u001b[0m\u001b[0mself\u001b[0m\u001b[0;34m.\u001b[0m\u001b[0my\u001b[0m\u001b[0;34m,\u001b[0m \u001b[0mself\u001b[0m\u001b[0;34m.\u001b[0m\u001b[0maccuracy\u001b[0m\u001b[0;34m]\u001b[0m\u001b[0;34m,\u001b[0m \u001b[0mfeed_dict\u001b[0m\u001b[0;34m=\u001b[0m\u001b[0;34m{\u001b[0m\u001b[0mself\u001b[0m\u001b[0;34m.\u001b[0m\u001b[0mX\u001b[0m\u001b[0;34m:\u001b[0m \u001b[0mX_val\u001b[0m\u001b[0;34m,\u001b[0m \u001b[0mself\u001b[0m\u001b[0;34m.\u001b[0m\u001b[0my\u001b[0m\u001b[0;34m:\u001b[0m \u001b[0my_val\u001b[0m\u001b[0;34m}\u001b[0m\u001b[0;34m)\u001b[0m\u001b[0;34m\u001b[0m\u001b[0;34m\u001b[0m\u001b[0m\n\u001b[0m\u001b[1;32m     57\u001b[0m                     \u001b[0mprint\u001b[0m\u001b[0;34m(\u001b[0m\u001b[0;34m\"loss for counter {} is {}\"\u001b[0m\u001b[0;34m.\u001b[0m\u001b[0mformat\u001b[0m\u001b[0;34m(\u001b[0m\u001b[0mcounter\u001b[0m\u001b[0;34m,\u001b[0m \u001b[0mloss\u001b[0m\u001b[0;34m)\u001b[0m\u001b[0;34m)\u001b[0m\u001b[0;34m\u001b[0m\u001b[0;34m\u001b[0m\u001b[0m\n\u001b[1;32m     58\u001b[0m                     \u001b[0mprint\u001b[0m\u001b[0;34m(\u001b[0m\u001b[0;34m'counter {}: valid acc = {}'\u001b[0m\u001b[0;34m.\u001b[0m\u001b[0mformat\u001b[0m\u001b[0;34m(\u001b[0m\u001b[0mcounter\u001b[0m\u001b[0;34m,\u001b[0m \u001b[0mval_acc\u001b[0m\u001b[0;34m)\u001b[0m\u001b[0;34m)\u001b[0m\u001b[0;34m\u001b[0m\u001b[0;34m\u001b[0m\u001b[0m\n",
      "\u001b[0;32m/anaconda3/envs/EssayGrader_env/lib/python3.6/site-packages/tensorflow/python/client/session.py\u001b[0m in \u001b[0;36mrun\u001b[0;34m(self, fetches, feed_dict, options, run_metadata)\u001b[0m\n\u001b[1;32m    927\u001b[0m     \u001b[0;32mtry\u001b[0m\u001b[0;34m:\u001b[0m\u001b[0;34m\u001b[0m\u001b[0;34m\u001b[0m\u001b[0m\n\u001b[1;32m    928\u001b[0m       result = self._run(None, fetches, feed_dict, options_ptr,\n\u001b[0;32m--> 929\u001b[0;31m                          run_metadata_ptr)\n\u001b[0m\u001b[1;32m    930\u001b[0m       \u001b[0;32mif\u001b[0m \u001b[0mrun_metadata\u001b[0m\u001b[0;34m:\u001b[0m\u001b[0;34m\u001b[0m\u001b[0;34m\u001b[0m\u001b[0m\n\u001b[1;32m    931\u001b[0m         \u001b[0mproto_data\u001b[0m \u001b[0;34m=\u001b[0m \u001b[0mtf_session\u001b[0m\u001b[0;34m.\u001b[0m\u001b[0mTF_GetBuffer\u001b[0m\u001b[0;34m(\u001b[0m\u001b[0mrun_metadata_ptr\u001b[0m\u001b[0;34m)\u001b[0m\u001b[0;34m\u001b[0m\u001b[0;34m\u001b[0m\u001b[0m\n",
      "\u001b[0;32m/anaconda3/envs/EssayGrader_env/lib/python3.6/site-packages/tensorflow/python/client/session.py\u001b[0m in \u001b[0;36m_run\u001b[0;34m(self, handle, fetches, feed_dict, options, run_metadata)\u001b[0m\n\u001b[1;32m   1150\u001b[0m     \u001b[0;32mif\u001b[0m \u001b[0mfinal_fetches\u001b[0m \u001b[0;32mor\u001b[0m \u001b[0mfinal_targets\u001b[0m \u001b[0;32mor\u001b[0m \u001b[0;34m(\u001b[0m\u001b[0mhandle\u001b[0m \u001b[0;32mand\u001b[0m \u001b[0mfeed_dict_tensor\u001b[0m\u001b[0;34m)\u001b[0m\u001b[0;34m:\u001b[0m\u001b[0;34m\u001b[0m\u001b[0;34m\u001b[0m\u001b[0m\n\u001b[1;32m   1151\u001b[0m       results = self._do_run(handle, final_targets, final_fetches,\n\u001b[0;32m-> 1152\u001b[0;31m                              feed_dict_tensor, options, run_metadata)\n\u001b[0m\u001b[1;32m   1153\u001b[0m     \u001b[0;32melse\u001b[0m\u001b[0;34m:\u001b[0m\u001b[0;34m\u001b[0m\u001b[0;34m\u001b[0m\u001b[0m\n\u001b[1;32m   1154\u001b[0m       \u001b[0mresults\u001b[0m \u001b[0;34m=\u001b[0m \u001b[0;34m[\u001b[0m\u001b[0;34m]\u001b[0m\u001b[0;34m\u001b[0m\u001b[0;34m\u001b[0m\u001b[0m\n",
      "\u001b[0;32m/anaconda3/envs/EssayGrader_env/lib/python3.6/site-packages/tensorflow/python/client/session.py\u001b[0m in \u001b[0;36m_do_run\u001b[0;34m(self, handle, target_list, fetch_list, feed_dict, options, run_metadata)\u001b[0m\n\u001b[1;32m   1326\u001b[0m     \u001b[0;32mif\u001b[0m \u001b[0mhandle\u001b[0m \u001b[0;32mis\u001b[0m \u001b[0;32mNone\u001b[0m\u001b[0;34m:\u001b[0m\u001b[0;34m\u001b[0m\u001b[0;34m\u001b[0m\u001b[0m\n\u001b[1;32m   1327\u001b[0m       return self._do_call(_run_fn, feeds, fetches, targets, options,\n\u001b[0;32m-> 1328\u001b[0;31m                            run_metadata)\n\u001b[0m\u001b[1;32m   1329\u001b[0m     \u001b[0;32melse\u001b[0m\u001b[0;34m:\u001b[0m\u001b[0;34m\u001b[0m\u001b[0;34m\u001b[0m\u001b[0m\n\u001b[1;32m   1330\u001b[0m       \u001b[0;32mreturn\u001b[0m \u001b[0mself\u001b[0m\u001b[0;34m.\u001b[0m\u001b[0m_do_call\u001b[0m\u001b[0;34m(\u001b[0m\u001b[0m_prun_fn\u001b[0m\u001b[0;34m,\u001b[0m \u001b[0mhandle\u001b[0m\u001b[0;34m,\u001b[0m \u001b[0mfeeds\u001b[0m\u001b[0;34m,\u001b[0m \u001b[0mfetches\u001b[0m\u001b[0;34m)\u001b[0m\u001b[0;34m\u001b[0m\u001b[0;34m\u001b[0m\u001b[0m\n",
      "\u001b[0;32m/anaconda3/envs/EssayGrader_env/lib/python3.6/site-packages/tensorflow/python/client/session.py\u001b[0m in \u001b[0;36m_do_call\u001b[0;34m(self, fn, *args)\u001b[0m\n\u001b[1;32m   1332\u001b[0m   \u001b[0;32mdef\u001b[0m \u001b[0m_do_call\u001b[0m\u001b[0;34m(\u001b[0m\u001b[0mself\u001b[0m\u001b[0;34m,\u001b[0m \u001b[0mfn\u001b[0m\u001b[0;34m,\u001b[0m \u001b[0;34m*\u001b[0m\u001b[0margs\u001b[0m\u001b[0;34m)\u001b[0m\u001b[0;34m:\u001b[0m\u001b[0;34m\u001b[0m\u001b[0;34m\u001b[0m\u001b[0m\n\u001b[1;32m   1333\u001b[0m     \u001b[0;32mtry\u001b[0m\u001b[0;34m:\u001b[0m\u001b[0;34m\u001b[0m\u001b[0;34m\u001b[0m\u001b[0m\n\u001b[0;32m-> 1334\u001b[0;31m       \u001b[0;32mreturn\u001b[0m \u001b[0mfn\u001b[0m\u001b[0;34m(\u001b[0m\u001b[0;34m*\u001b[0m\u001b[0margs\u001b[0m\u001b[0;34m)\u001b[0m\u001b[0;34m\u001b[0m\u001b[0;34m\u001b[0m\u001b[0m\n\u001b[0m\u001b[1;32m   1335\u001b[0m     \u001b[0;32mexcept\u001b[0m \u001b[0merrors\u001b[0m\u001b[0;34m.\u001b[0m\u001b[0mOpError\u001b[0m \u001b[0;32mas\u001b[0m \u001b[0me\u001b[0m\u001b[0;34m:\u001b[0m\u001b[0;34m\u001b[0m\u001b[0;34m\u001b[0m\u001b[0m\n\u001b[1;32m   1336\u001b[0m       \u001b[0mmessage\u001b[0m \u001b[0;34m=\u001b[0m \u001b[0mcompat\u001b[0m\u001b[0;34m.\u001b[0m\u001b[0mas_text\u001b[0m\u001b[0;34m(\u001b[0m\u001b[0me\u001b[0m\u001b[0;34m.\u001b[0m\u001b[0mmessage\u001b[0m\u001b[0;34m)\u001b[0m\u001b[0;34m\u001b[0m\u001b[0;34m\u001b[0m\u001b[0m\n",
      "\u001b[0;32m/anaconda3/envs/EssayGrader_env/lib/python3.6/site-packages/tensorflow/python/client/session.py\u001b[0m in \u001b[0;36m_run_fn\u001b[0;34m(feed_dict, fetch_list, target_list, options, run_metadata)\u001b[0m\n\u001b[1;32m   1317\u001b[0m       \u001b[0mself\u001b[0m\u001b[0;34m.\u001b[0m\u001b[0m_extend_graph\u001b[0m\u001b[0;34m(\u001b[0m\u001b[0;34m)\u001b[0m\u001b[0;34m\u001b[0m\u001b[0;34m\u001b[0m\u001b[0m\n\u001b[1;32m   1318\u001b[0m       return self._call_tf_sessionrun(\n\u001b[0;32m-> 1319\u001b[0;31m           options, feed_dict, fetch_list, target_list, run_metadata)\n\u001b[0m\u001b[1;32m   1320\u001b[0m \u001b[0;34m\u001b[0m\u001b[0m\n\u001b[1;32m   1321\u001b[0m     \u001b[0;32mdef\u001b[0m \u001b[0m_prun_fn\u001b[0m\u001b[0;34m(\u001b[0m\u001b[0mhandle\u001b[0m\u001b[0;34m,\u001b[0m \u001b[0mfeed_dict\u001b[0m\u001b[0;34m,\u001b[0m \u001b[0mfetch_list\u001b[0m\u001b[0;34m)\u001b[0m\u001b[0;34m:\u001b[0m\u001b[0;34m\u001b[0m\u001b[0;34m\u001b[0m\u001b[0m\n",
      "\u001b[0;32m/anaconda3/envs/EssayGrader_env/lib/python3.6/site-packages/tensorflow/python/client/session.py\u001b[0m in \u001b[0;36m_call_tf_sessionrun\u001b[0;34m(self, options, feed_dict, fetch_list, target_list, run_metadata)\u001b[0m\n\u001b[1;32m   1405\u001b[0m     return tf_session.TF_SessionRun_wrapper(\n\u001b[1;32m   1406\u001b[0m         \u001b[0mself\u001b[0m\u001b[0;34m.\u001b[0m\u001b[0m_session\u001b[0m\u001b[0;34m,\u001b[0m \u001b[0moptions\u001b[0m\u001b[0;34m,\u001b[0m \u001b[0mfeed_dict\u001b[0m\u001b[0;34m,\u001b[0m \u001b[0mfetch_list\u001b[0m\u001b[0;34m,\u001b[0m \u001b[0mtarget_list\u001b[0m\u001b[0;34m,\u001b[0m\u001b[0;34m\u001b[0m\u001b[0;34m\u001b[0m\u001b[0m\n\u001b[0;32m-> 1407\u001b[0;31m         run_metadata)\n\u001b[0m\u001b[1;32m   1408\u001b[0m \u001b[0;34m\u001b[0m\u001b[0m\n\u001b[1;32m   1409\u001b[0m   \u001b[0;32mdef\u001b[0m \u001b[0m_call_tf_sessionprun\u001b[0m\u001b[0;34m(\u001b[0m\u001b[0mself\u001b[0m\u001b[0;34m,\u001b[0m \u001b[0mhandle\u001b[0m\u001b[0;34m,\u001b[0m \u001b[0mfeed_dict\u001b[0m\u001b[0;34m,\u001b[0m \u001b[0mfetch_list\u001b[0m\u001b[0;34m)\u001b[0m\u001b[0;34m:\u001b[0m\u001b[0;34m\u001b[0m\u001b[0;34m\u001b[0m\u001b[0m\n",
      "\u001b[0;31mKeyboardInterrupt\u001b[0m: "
     ],
     "output_type": "error"
    }
   ],
   "source": [
    "my_net.train(gen=batch_gen, X_val=X_val, y_val=y_val, n_epochs=20, lr=1e-2)"
   ]
  },
  {
   "cell_type": "markdown",
   "metadata": {},
   "source": [
    "Beginning of LSTM Trainging:"
   ]
  },
  {
   "cell_type": "code",
   "execution_count": 83,
   "metadata": {},
   "outputs": [],
   "source": [
    "X = np.array(df['essays_embed'])\n",
    "y = np.array(df['norm_score'])\n",
    "X_stacked = np.stack(X, axis=0)\n",
    "X_shuffled, y_shuffled = shuffle(X_stacked, y)\n",
    "X_train, y_train, X_val, y_val = train_val_split(X_shuffled, y_shuffled, train_prop=0.8)"
   ]
  },
  {
   "cell_type": "code",
   "execution_count": 84,
   "metadata": {},
   "outputs": [],
   "source": [
    "# Small sample dataset for proof of concept testing\n",
    "X_val = X_train[100:110]\n",
    "y_val = y_train[100:110]\n",
    "\n",
    "X_train = X_train[:100]\n",
    "y_train = y_train[:100]"
   ]
  },
  {
   "cell_type": "code",
   "execution_count": 86,
   "metadata": {},
   "outputs": [],
   "source": [
    "from src.lstm import RNN\n",
    "num_classes = 12\n",
    "batch_size = 10\n",
    "seq_length = X_train.shape[1]\n",
    "embed_size = X_train.shape[2]\n",
    "\n",
    "rnn_net = LSTM_RNN(cell_type='gru', num_classes=num_classes, batch_size=batch_size, seq_length=seq_length)\n",
    "batch_gen = get_batches(X_train, y_train, batch_size, net_type='gru')"
   ]
  },
  {
   "cell_type": "code",
   "execution_count": 87,
   "metadata": {},
   "outputs": [
    {
     "name": "stdout",
     "output_type": "stream",
     "text": [
      "Initializing training\n"
     ]
    },
    {
     "name": "stdout",
     "output_type": "stream",
     "text": [
      "step: 1  loss: 2.4854  0.5308 sec/batch\n"
     ]
    },
    {
     "name": "stdout",
     "output_type": "stream",
     "text": [
      "step: 2  loss: 2.2329  0.5051 sec/batch\n"
     ]
    },
    {
     "name": "stdout",
     "output_type": "stream",
     "text": [
      "step: 3  loss: 2.4725  0.5588 sec/batch\n"
     ]
    },
    {
     "name": "stdout",
     "output_type": "stream",
     "text": [
      "step: 4  loss: 2.2198  0.5205 sec/batch\n"
     ]
    },
    {
     "name": "stdout",
     "output_type": "stream",
     "text": [
      "step: 5  loss: 2.4584  0.5433 sec/batch\nstep: 5  validation accuracy 0.4000000059604645 \n[8 8 8 8 8 8 8 8 8 8]\n[ 9 11  8  8  6  9  8  8  9  4]\n"
     ]
    },
    {
     "name": "stdout",
     "output_type": "stream",
     "text": [
      "step: 6  loss: 2.4408  0.4495 sec/batch\n"
     ]
    },
    {
     "name": "stdout",
     "output_type": "stream",
     "text": [
      "step: 7  loss: 2.1919  0.5968 sec/batch\n"
     ]
    },
    {
     "name": "stdout",
     "output_type": "stream",
     "text": [
      "step: 8  loss: 2.3731  0.5606 sec/batch\n"
     ]
    },
    {
     "name": "stdout",
     "output_type": "stream",
     "text": [
      "step: 9  loss: 2.3568  0.4267 sec/batch\n"
     ]
    },
    {
     "name": "stdout",
     "output_type": "stream",
     "text": [
      "step: 10  loss: 2.3769  0.4044 sec/batch\nstep: 10  validation accuracy 0.4000000059604645 \n[10  8  8  8  8  8  8  8  8  8]\n[ 9 11  8  8  6  9  8  8  9  4]\n"
     ]
    },
    {
     "name": "stdout",
     "output_type": "stream",
     "text": [
      "step: 11  loss: 2.2061  0.5050 sec/batch\n"
     ]
    },
    {
     "name": "stdout",
     "output_type": "stream",
     "text": [
      "step: 12  loss: 2.0107  0.4618 sec/batch\n"
     ]
    },
    {
     "name": "stdout",
     "output_type": "stream",
     "text": [
      "step: 13  loss: 2.0626  0.4444 sec/batch\n"
     ]
    },
    {
     "name": "stdout",
     "output_type": "stream",
     "text": [
      "step: 14  loss: 1.8023  0.4275 sec/batch\n"
     ]
    },
    {
     "name": "stdout",
     "output_type": "stream",
     "text": [
      "step: 15  loss: 1.9366  0.4766 sec/batch\n"
     ]
    },
    {
     "name": "stdout",
     "output_type": "stream",
     "text": [
      "step: 15  validation accuracy 0.4000000059604645 \n[8 8 8 8 8 8 8 8 8 8]\n[ 9 11  8  8  6  9  8  8  9  4]\n"
     ]
    },
    {
     "name": "stdout",
     "output_type": "stream",
     "text": [
      "step: 16  loss: 1.6422  0.5300 sec/batch\n"
     ]
    },
    {
     "name": "stdout",
     "output_type": "stream",
     "text": [
      "step: 17  loss: 1.7724  0.4725 sec/batch\n"
     ]
    },
    {
     "name": "stdout",
     "output_type": "stream",
     "text": [
      "step: 18  loss: 1.4439  0.3845 sec/batch\n"
     ]
    },
    {
     "name": "stdout",
     "output_type": "stream",
     "text": [
      "step: 19  loss: 1.8893  0.4551 sec/batch\n"
     ]
    },
    {
     "name": "stdout",
     "output_type": "stream",
     "text": [
      "step: 20  loss: 1.8251  0.4620 sec/batch\nstep: 20  validation accuracy 0.4000000059604645 \n[10  8  8  8  8  8  8  8 10  8]\n[ 9 11  8  8  6  9  8  8  9  4]\n"
     ]
    },
    {
     "name": "stdout",
     "output_type": "stream",
     "text": [
      "step: 21  loss: 1.5528  0.5216 sec/batch\n"
     ]
    },
    {
     "name": "stdout",
     "output_type": "stream",
     "text": [
      "step: 22  loss: 1.9438  0.4535 sec/batch\n"
     ]
    },
    {
     "name": "stdout",
     "output_type": "stream",
     "text": [
      "step: 23  loss: 2.0055  0.4301 sec/batch\n"
     ]
    },
    {
     "name": "stdout",
     "output_type": "stream",
     "text": [
      "step: 24  loss: 1.7086  0.3997 sec/batch\n"
     ]
    },
    {
     "name": "stdout",
     "output_type": "stream",
     "text": [
      "step: 25  loss: 1.9082  0.3539 sec/batch\nstep: 25  validation accuracy 0.4000000059604645 \n[10  8  8  8  8  8  8  8  8  8]\n[ 9 11  8  8  6  9  8  8  9  4]\n"
     ]
    },
    {
     "name": "stdout",
     "output_type": "stream",
     "text": [
      "step: 26  loss: 1.5808  0.5764 sec/batch\n"
     ]
    },
    {
     "name": "stdout",
     "output_type": "stream",
     "text": [
      "step: 27  loss: 1.5267  0.5585 sec/batch\n"
     ]
    },
    {
     "name": "stdout",
     "output_type": "stream",
     "text": [
      "step: 28  loss: 1.3275  0.4493 sec/batch\n"
     ]
    },
    {
     "name": "stdout",
     "output_type": "stream",
     "text": [
      "step: 29  loss: 1.7831  0.4251 sec/batch\n"
     ]
    },
    {
     "name": "stdout",
     "output_type": "stream",
     "text": [
      "step: 30  loss: 1.9260  0.4474 sec/batch\nstep: 30  validation accuracy 0.4000000059604645 \n[10  8  8  8  8  8  8  8  8  8]\n[ 9 11  8  8  6  9  8  8  9  4]\n"
     ]
    },
    {
     "name": "stdout",
     "output_type": "stream",
     "text": [
      "step: 31  loss: 1.5075  0.4482 sec/batch\n"
     ]
    },
    {
     "name": "stdout",
     "output_type": "stream",
     "text": [
      "step: 32  loss: 1.6709  0.4502 sec/batch\n"
     ]
    },
    {
     "name": "stdout",
     "output_type": "stream",
     "text": [
      "step: 33  loss: 1.9875  0.4318 sec/batch\n"
     ]
    },
    {
     "name": "stdout",
     "output_type": "stream",
     "text": [
      "step: 34  loss: 1.6944  0.4801 sec/batch\n"
     ]
    },
    {
     "name": "stdout",
     "output_type": "stream",
     "text": [
      "step: 35  loss: 1.9409  0.6174 sec/batch\n"
     ]
    },
    {
     "name": "stdout",
     "output_type": "stream",
     "text": [
      "step: 35  validation accuracy 0.4000000059604645 \n[10  8  8  8  8  8  8  8 10  8]\n[ 9 11  8  8  6  9  8  8  9  4]\n"
     ]
    },
    {
     "name": "stdout",
     "output_type": "stream",
     "text": [
      "step: 36  loss: 1.6662  0.4839 sec/batch\n"
     ]
    },
    {
     "name": "stdout",
     "output_type": "stream",
     "text": [
      "step: 37  loss: 1.4067  0.5101 sec/batch\n"
     ]
    },
    {
     "name": "stdout",
     "output_type": "stream",
     "text": [
      "step: 38  loss: 1.3439  0.4179 sec/batch\n"
     ]
    },
    {
     "name": "stdout",
     "output_type": "stream",
     "text": [
      "step: 39  loss: 1.6137  0.4458 sec/batch\n"
     ]
    },
    {
     "name": "stdout",
     "output_type": "stream",
     "text": [
      "step: 40  loss: 1.7551  0.4593 sec/batch\nstep: 40  validation accuracy 0.4000000059604645 \n[10  8  8  8  8  8  8  8 10  8]\n[ 9 11  8  8  6  9  8  8  9  4]\n"
     ]
    },
    {
     "name": "stdout",
     "output_type": "stream",
     "text": [
      "step: 41  loss: 1.2906  0.3980 sec/batch\n"
     ]
    },
    {
     "name": "stdout",
     "output_type": "stream",
     "text": [
      "step: 42  loss: 1.6606  0.5870 sec/batch\n"
     ]
    },
    {
     "name": "stdout",
     "output_type": "stream",
     "text": [
      "step: 43  loss: 1.8450  0.6908 sec/batch\n"
     ]
    },
    {
     "name": "stdout",
     "output_type": "stream",
     "text": [
      "step: 44  loss: 1.5293  0.5313 sec/batch\n"
     ]
    },
    {
     "name": "stdout",
     "output_type": "stream",
     "text": [
      "step: 45  loss: 1.8950  0.6789 sec/batch\nstep: 45  validation accuracy 0.30000001192092896 \n[10  8  8  8  8  8  8 10 10  8]\n[ 9 11  8  8  6  9  8  8  9  4]\n"
     ]
    },
    {
     "name": "stdout",
     "output_type": "stream",
     "text": [
      "step: 46  loss: 1.3781  0.5116 sec/batch\n"
     ]
    },
    {
     "name": "stdout",
     "output_type": "stream",
     "text": [
      "step: 47  loss: 1.2346  0.6951 sec/batch\n"
     ]
    },
    {
     "name": "stdout",
     "output_type": "stream",
     "text": [
      "step: 48  loss: 1.1547  0.6141 sec/batch\n"
     ]
    },
    {
     "name": "stdout",
     "output_type": "stream",
     "text": [
      "step: 49  loss: 1.4729  0.6255 sec/batch\n"
     ]
    },
    {
     "name": "stdout",
     "output_type": "stream",
     "text": [
      "step: 50  loss: 1.3311  0.5077 sec/batch\nstep: 50  validation accuracy 0.20000000298023224 \n[10 10 10  8  8 10  8 10 10  8]\n[ 9 11  8  8  6  9  8  8  9  4]\n"
     ]
    },
    {
     "name": "stdout",
     "output_type": "stream",
     "text": [
      "step: 51  loss: 1.2905  0.4046 sec/batch\n"
     ]
    },
    {
     "name": "stdout",
     "output_type": "stream",
     "text": [
      "step: 52  loss: 1.5298  0.4876 sec/batch\n"
     ]
    },
    {
     "name": "stdout",
     "output_type": "stream",
     "text": [
      "step: 53  loss: 1.6818  0.5059 sec/batch\n"
     ]
    },
    {
     "name": "stdout",
     "output_type": "stream",
     "text": [
      "step: 54  loss: 1.7412  0.4388 sec/batch\n"
     ]
    },
    {
     "name": "stdout",
     "output_type": "stream",
     "text": [
      "step: 55  loss: 3.3765  0.4419 sec/batch\nstep: 55  validation accuracy 0.10000000149011612 \n[10  1  1 10  1  8 10  8 10 11]\n[ 9 11  8  8  6  9  8  8  9  4]\n"
     ]
    },
    {
     "name": "stdout",
     "output_type": "stream",
     "text": [
      "step: 56  loss: 1.9442  0.5560 sec/batch\n"
     ]
    },
    {
     "name": "stdout",
     "output_type": "stream",
     "text": [
      "step: 57  loss: 2.3318  0.4127 sec/batch\n"
     ]
    },
    {
     "name": "stdout",
     "output_type": "stream",
     "text": [
      "step: 58  loss: 2.5989  0.4950 sec/batch\n"
     ]
    },
    {
     "name": "stdout",
     "output_type": "stream",
     "text": [
      "step: 59  loss: 1.8464  0.5968 sec/batch\n"
     ]
    },
    {
     "name": "stdout",
     "output_type": "stream",
     "text": [
      "step: 60  loss: 1.7993  0.4454 sec/batch\nstep: 60  validation accuracy 0.0 \n[10 10 10 10 10 10 10 10 10 10]\n[ 9 11  8  8  6  9  8  8  9  4]\n"
     ]
    },
    {
     "name": "stdout",
     "output_type": "stream",
     "text": [
      "step: 61  loss: 1.7003  0.4596 sec/batch\n"
     ]
    },
    {
     "name": "stdout",
     "output_type": "stream",
     "text": [
      "step: 62  loss: 2.5844  0.4418 sec/batch\n"
     ]
    },
    {
     "name": "stdout",
     "output_type": "stream",
     "text": [
      "step: 63  loss: 2.0872  0.6777 sec/batch\n"
     ]
    },
    {
     "name": "stdout",
     "output_type": "stream",
     "text": [
      "step: 64  loss: 1.9237  0.4981 sec/batch\n"
     ]
    },
    {
     "name": "stdout",
     "output_type": "stream",
     "text": [
      "step: 65  loss: 2.3281  0.4475 sec/batch\nstep: 65  validation accuracy 0.10000000149011612 \n[10 10 10 10  8 10  8 10 10  8]\n[ 9 11  8  8  6  9  8  8  9  4]\n"
     ]
    },
    {
     "name": "stdout",
     "output_type": "stream",
     "text": [
      "step: 66  loss: 1.6437  0.5038 sec/batch\n"
     ]
    },
    {
     "name": "stdout",
     "output_type": "stream",
     "text": [
      "step: 67  loss: 1.4807  0.4156 sec/batch\n"
     ]
    },
    {
     "name": "stdout",
     "output_type": "stream",
     "text": [
      "step: 68  loss: 1.4442  0.4832 sec/batch\n"
     ]
    },
    {
     "name": "stdout",
     "output_type": "stream",
     "text": [
      "step: 69  loss: 1.6650  0.4553 sec/batch\n"
     ]
    },
    {
     "name": "stdout",
     "output_type": "stream",
     "text": [
      "step: 70  loss: 1.8296  0.4394 sec/batch\nstep: 70  validation accuracy 0.4000000059604645 \n[8 8 8 8 8 8 8 8 8 1]\n[ 9 11  8  8  6  9  8  8  9  4]\n"
     ]
    },
    {
     "name": "stdout",
     "output_type": "stream",
     "text": [
      "step: 71  loss: 1.4380  0.4380 sec/batch\n"
     ]
    },
    {
     "name": "stdout",
     "output_type": "stream",
     "text": [
      "step: 72  loss: 1.5653  0.4765 sec/batch\n"
     ]
    },
    {
     "name": "stdout",
     "output_type": "stream",
     "text": [
      "step: 73  loss: 1.6453  0.4305 sec/batch\n"
     ]
    },
    {
     "name": "stdout",
     "output_type": "stream",
     "text": [
      "step: 74  loss: 1.6781  0.4232 sec/batch\n"
     ]
    },
    {
     "name": "stdout",
     "output_type": "stream",
     "text": [
      "step: 75  loss: 1.6878  0.4462 sec/batch\nstep: 75  validation accuracy 0.4000000059604645 \n[10  8  8  8  8  8  8  8  8  8]\n[ 9 11  8  8  6  9  8  8  9  4]\n"
     ]
    },
    {
     "name": "stdout",
     "output_type": "stream",
     "text": [
      "step: 76  loss: 1.6441  0.4935 sec/batch\n"
     ]
    },
    {
     "name": "stdout",
     "output_type": "stream",
     "text": [
      "step: 77  loss: 1.4966  0.4670 sec/batch\n"
     ]
    },
    {
     "name": "stdout",
     "output_type": "stream",
     "text": [
      "step: 78  loss: 1.3489  0.4089 sec/batch\n"
     ]
    },
    {
     "name": "stdout",
     "output_type": "stream",
     "text": [
      "step: 79  loss: 1.7925  0.4274 sec/batch\n"
     ]
    },
    {
     "name": "stdout",
     "output_type": "stream",
     "text": [
      "step: 80  loss: 2.1327  0.4361 sec/batch\nstep: 80  validation accuracy 0.30000001192092896 \n[10  8  8  8  0  8  0  8  8 11]\n[ 9 11  8  8  6  9  8  8  9  4]\n"
     ]
    },
    {
     "name": "stdout",
     "output_type": "stream",
     "text": [
      "step: 81  loss: 1.7592  0.4843 sec/batch\n"
     ]
    },
    {
     "name": "stdout",
     "output_type": "stream",
     "text": [
      "step: 82  loss: 2.0884  0.4550 sec/batch\n"
     ]
    },
    {
     "name": "stdout",
     "output_type": "stream",
     "text": [
      "step: 83  loss: 1.9554  0.4654 sec/batch\n"
     ]
    },
    {
     "name": "stdout",
     "output_type": "stream",
     "text": [
      "step: 84  loss: 2.0272  0.4235 sec/batch\n"
     ]
    },
    {
     "name": "stdout",
     "output_type": "stream",
     "text": [
      "step: 85  loss: 2.1070  0.4432 sec/batch\nstep: 85  validation accuracy 0.20000000298023224 \n[10  1  1 11  0  8  8  8 10  0]\n[ 9 11  8  8  6  9  8  8  9  4]\n"
     ]
    },
    {
     "name": "stdout",
     "output_type": "stream",
     "text": [
      "step: 86  loss: 2.1969  0.4401 sec/batch\n"
     ]
    },
    {
     "name": "stdout",
     "output_type": "stream",
     "text": [
      "step: 87  loss: 1.8442  0.4858 sec/batch\n"
     ]
    },
    {
     "name": "stdout",
     "output_type": "stream",
     "text": [
      "step: 88  loss: 1.9899  0.4380 sec/batch\n"
     ]
    },
    {
     "name": "stdout",
     "output_type": "stream",
     "text": [
      "step: 89  loss: 1.8362  0.4320 sec/batch\n"
     ]
    },
    {
     "name": "stdout",
     "output_type": "stream",
     "text": [
      "step: 90  loss: 1.8173  0.4618 sec/batch\nstep: 90  validation accuracy 0.20000000298023224 \n[10 10 10  8  8 10  8 10 10  8]\n[ 9 11  8  8  6  9  8  8  9  4]\n"
     ]
    },
    {
     "name": "stdout",
     "output_type": "stream",
     "text": [
      "step: 91  loss: 1.4975  0.4542 sec/batch\n"
     ]
    },
    {
     "name": "stdout",
     "output_type": "stream",
     "text": [
      "step: 92  loss: 1.8365  0.4649 sec/batch\n"
     ]
    },
    {
     "name": "stdout",
     "output_type": "stream",
     "text": [
      "step: 93  loss: 1.5196  0.4403 sec/batch\n"
     ]
    },
    {
     "name": "stdout",
     "output_type": "stream",
     "text": [
      "step: 94  loss: 1.4883  0.4400 sec/batch\n"
     ]
    },
    {
     "name": "stdout",
     "output_type": "stream",
     "text": [
      "step: 95  loss: 2.0754  0.4279 sec/batch\nstep: 95  validation accuracy 0.0 \n[10 10 10 10  8 10 10 10 10  8]\n[ 9 11  8  8  6  9  8  8  9  4]\n"
     ]
    },
    {
     "name": "stdout",
     "output_type": "stream",
     "text": [
      "step: 96  loss: 1.4481  0.4787 sec/batch\n"
     ]
    },
    {
     "name": "stdout",
     "output_type": "stream",
     "text": [
      "step: 97  loss: 1.3115  0.4571 sec/batch\n"
     ]
    },
    {
     "name": "stdout",
     "output_type": "stream",
     "text": [
      "step: 98  loss: 1.4261  0.4323 sec/batch\n"
     ]
    },
    {
     "name": "stdout",
     "output_type": "stream",
     "text": [
      "step: 99  loss: 1.5917  0.3960 sec/batch\n"
     ]
    },
    {
     "name": "stdout",
     "output_type": "stream",
     "text": [
      "step: 100  loss: 1.4443  0.4264 sec/batch\nstep: 100  validation accuracy 0.20000000298023224 \n[10 10 10  8  8 10  8 10 10  8]\n[ 9 11  8  8  6  9  8  8  9  4]\n"
     ]
    },
    {
     "name": "stdout",
     "output_type": "stream",
     "text": [
      "step: 101  loss: 1.2350  0.4411 sec/batch\n"
     ]
    },
    {
     "name": "stdout",
     "output_type": "stream",
     "text": [
      "step: 102  loss: 1.6075  0.4672 sec/batch\n"
     ]
    },
    {
     "name": "stdout",
     "output_type": "stream",
     "text": [
      "step: 103  loss: 1.2824  0.4437 sec/batch\n"
     ]
    },
    {
     "name": "stdout",
     "output_type": "stream",
     "text": [
      "step: 104  loss: 1.2161  0.4916 sec/batch\n"
     ]
    },
    {
     "name": "stdout",
     "output_type": "stream",
     "text": [
      "step: 105  loss: 1.5507  0.3946 sec/batch\nstep: 105  validation accuracy 0.4000000059604645 \n[10  8  8  8  8  8  8  8 10  8]\n[ 9 11  8  8  6  9  8  8  9  4]\n"
     ]
    },
    {
     "name": "stdout",
     "output_type": "stream",
     "text": [
      "step: 106  loss: 1.3526  0.4155 sec/batch\n"
     ]
    },
    {
     "name": "stdout",
     "output_type": "stream",
     "text": [
      "step: 107  loss: 1.1945  0.4447 sec/batch\n"
     ]
    },
    {
     "name": "stdout",
     "output_type": "stream",
     "text": [
      "step: 108  loss: 1.2368  0.4270 sec/batch\n"
     ]
    },
    {
     "name": "stdout",
     "output_type": "stream",
     "text": [
      "step: 109  loss: 1.6988  0.4243 sec/batch\n"
     ]
    },
    {
     "name": "stdout",
     "output_type": "stream",
     "text": [
      "step: 110  loss: 1.6524  0.5462 sec/batch\nstep: 110  validation accuracy 0.4000000059604645 \n[10  8  8  8  8  8  8  8 10  8]\n[ 9 11  8  8  6  9  8  8  9  4]\n"
     ]
    },
    {
     "name": "stdout",
     "output_type": "stream",
     "text": [
      "step: 111  loss: 1.2394  0.4430 sec/batch\n"
     ]
    },
    {
     "name": "stdout",
     "output_type": "stream",
     "text": [
      "step: 112  loss: 2.1595  0.4123 sec/batch\n"
     ]
    },
    {
     "name": "stdout",
     "output_type": "stream",
     "text": [
      "step: 113  loss: 1.9574  0.3822 sec/batch\n"
     ]
    },
    {
     "name": "stdout",
     "output_type": "stream",
     "text": [
      "step: 114  loss: 1.8151  0.4279 sec/batch\n"
     ]
    },
    {
     "name": "stdout",
     "output_type": "stream",
     "text": [
      "step: 115  loss: 2.1624  0.4291 sec/batch\nstep: 115  validation accuracy 0.4000000059604645 \n[10  8  8  8  8  8  8  8 10  8]\n[ 9 11  8  8  6  9  8  8  9  4]\n"
     ]
    },
    {
     "name": "stdout",
     "output_type": "stream",
     "text": [
      "step: 116  loss: 1.4886  0.4259 sec/batch\n"
     ]
    },
    {
     "name": "stdout",
     "output_type": "stream",
     "text": [
      "step: 117  loss: 1.3587  0.4143 sec/batch\n"
     ]
    },
    {
     "name": "stdout",
     "output_type": "stream",
     "text": [
      "step: 118  loss: 1.2774  0.6491 sec/batch\n"
     ]
    },
    {
     "name": "stdout",
     "output_type": "stream",
     "text": [
      "step: 119  loss: 1.5960  0.3768 sec/batch\n"
     ]
    },
    {
     "name": "stdout",
     "output_type": "stream",
     "text": [
      "step: 120  loss: 1.5266  0.3775 sec/batch\nstep: 120  validation accuracy 0.4000000059604645 \n[10  8  8  8  8  8  8  8 10  8]\n[ 9 11  8  8  6  9  8  8  9  4]\n"
     ]
    },
    {
     "name": "stdout",
     "output_type": "stream",
     "text": [
      "step: 121  loss: 1.2124  0.4237 sec/batch\n"
     ]
    },
    {
     "name": "stdout",
     "output_type": "stream",
     "text": [
      "step: 122  loss: 1.8402  0.4764 sec/batch\n"
     ]
    },
    {
     "name": "stdout",
     "output_type": "stream",
     "text": [
      "step: 123  loss: 1.9243  0.4716 sec/batch\n"
     ]
    },
    {
     "name": "stdout",
     "output_type": "stream",
     "text": [
      "step: 124  loss: 1.6506  0.4618 sec/batch\n"
     ]
    },
    {
     "name": "stdout",
     "output_type": "stream",
     "text": [
      "step: 125  loss: 1.9070  0.6088 sec/batch\nstep: 125  validation accuracy 0.4000000059604645 \n[10  8  8  8  8  8  8  8 10  8]\n[ 9 11  8  8  6  9  8  8  9  4]\n"
     ]
    },
    {
     "name": "stdout",
     "output_type": "stream",
     "text": [
      "step: 126  loss: 1.4117  0.4346 sec/batch\n"
     ]
    },
    {
     "name": "stdout",
     "output_type": "stream",
     "text": [
      "step: 127  loss: 1.2089  0.4478 sec/batch\n"
     ]
    },
    {
     "name": "stdout",
     "output_type": "stream",
     "text": [
      "step: 128  loss: 1.1742  0.4530 sec/batch\n"
     ]
    },
    {
     "name": "stdout",
     "output_type": "stream",
     "text": [
      "step: 129  loss: 1.4001  0.5666 sec/batch\n"
     ]
    },
    {
     "name": "stdout",
     "output_type": "stream",
     "text": [
      "step: 130  loss: 1.4695  0.4910 sec/batch\nstep: 130  validation accuracy 0.4000000059604645 \n[10  8  8  8  8  8  8  8 10  8]\n[ 9 11  8  8  6  9  8  8  9  4]\n"
     ]
    },
    {
     "name": "stdout",
     "output_type": "stream",
     "text": [
      "step: 131  loss: 1.1915  0.5910 sec/batch\n"
     ]
    },
    {
     "name": "stdout",
     "output_type": "stream",
     "text": [
      "step: 132  loss: 1.4897  0.4252 sec/batch\n"
     ]
    },
    {
     "name": "stdout",
     "output_type": "stream",
     "text": [
      "step: 133  loss: 1.8490  0.4484 sec/batch\n"
     ]
    },
    {
     "name": "stdout",
     "output_type": "stream",
     "text": [
      "step: 134  loss: 1.5034  0.5150 sec/batch\n"
     ]
    },
    {
     "name": "stdout",
     "output_type": "stream",
     "text": [
      "step: 135  loss: 1.7328  0.5587 sec/batch\nstep: 135  validation accuracy 0.4000000059604645 \n[10  8  8  8  8  8  8  8 10  8]\n[ 9 11  8  8  6  9  8  8  9  4]\n"
     ]
    },
    {
     "name": "stdout",
     "output_type": "stream",
     "text": [
      "step: 136  loss: 1.3717  0.3742 sec/batch\n"
     ]
    },
    {
     "name": "stdout",
     "output_type": "stream",
     "text": [
      "step: 137  loss: 1.1831  0.4401 sec/batch\n"
     ]
    },
    {
     "name": "stdout",
     "output_type": "stream",
     "text": [
      "step: 138  loss: 1.1529  0.4439 sec/batch\n"
     ]
    },
    {
     "name": "stdout",
     "output_type": "stream",
     "text": [
      "step: 139  loss: 1.2971  0.4361 sec/batch\n"
     ]
    },
    {
     "name": "stdout",
     "output_type": "stream",
     "text": [
      "step: 140  loss: 1.4198  0.5584 sec/batch\nstep: 140  validation accuracy 0.4000000059604645 \n[10  8  8  8  8  8  8  8 10  1]\n[ 9 11  8  8  6  9  8  8  9  4]\n"
     ]
    },
    {
     "name": "stdout",
     "output_type": "stream",
     "text": [
      "step: 141  loss: 1.1432  0.4431 sec/batch\n"
     ]
    },
    {
     "name": "stdout",
     "output_type": "stream",
     "text": [
      "step: 142  loss: 1.2256  0.6126 sec/batch\n"
     ]
    },
    {
     "name": "stdout",
     "output_type": "stream",
     "text": [
      "step: 143  loss: 1.4392  0.4399 sec/batch\n"
     ]
    },
    {
     "name": "stdout",
     "output_type": "stream",
     "text": [
      "step: 144  loss: 1.1260  0.4341 sec/batch\n"
     ]
    },
    {
     "name": "stdout",
     "output_type": "stream",
     "text": [
      "step: 145  loss: 1.4471  0.4786 sec/batch\nstep: 145  validation accuracy 0.4000000059604645 \n[10  8  8  8  8  8  8  8 10  8]\n[ 9 11  8  8  6  9  8  8  9  4]\n"
     ]
    },
    {
     "name": "stdout",
     "output_type": "stream",
     "text": [
      "step: 146  loss: 1.2532  0.4182 sec/batch\n"
     ]
    },
    {
     "name": "stdout",
     "output_type": "stream",
     "text": [
      "step: 147  loss: 1.0509  0.4148 sec/batch\n"
     ]
    },
    {
     "name": "stdout",
     "output_type": "stream",
     "text": [
      "step: 148  loss: 1.0379  0.4335 sec/batch\n"
     ]
    },
    {
     "name": "stdout",
     "output_type": "stream",
     "text": [
      "step: 149  loss: 1.2209  0.4487 sec/batch\n"
     ]
    },
    {
     "name": "stdout",
     "output_type": "stream",
     "text": [
      "step: 150  loss: 1.2391  0.4393 sec/batch\nstep: 150  validation accuracy 0.4000000059604645 \n[10  8  8  8  8  8  8  8 10  7]\n[ 9 11  8  8  6  9  8  8  9  4]\n"
     ]
    },
    {
     "name": "stdout",
     "output_type": "stream",
     "text": [
      "step: 151  loss: 1.0984  0.4332 sec/batch\n"
     ]
    },
    {
     "name": "stdout",
     "output_type": "stream",
     "text": [
      "step: 152  loss: 1.2384  0.4427 sec/batch\n"
     ]
    },
    {
     "name": "stdout",
     "output_type": "stream",
     "text": [
      "step: 153  loss: 1.2513  0.4554 sec/batch\n"
     ]
    },
    {
     "name": "stdout",
     "output_type": "stream",
     "text": [
      "step: 154  loss: 1.0107  0.4230 sec/batch\n"
     ]
    },
    {
     "name": "stdout",
     "output_type": "stream",
     "text": [
      "step: 155  loss: 1.4288  0.4275 sec/batch\nstep: 155  validation accuracy 0.4000000059604645 \n[10  8  8  8  8  8  8  8 10  7]\n[ 9 11  8  8  6  9  8  8  9  4]\n"
     ]
    },
    {
     "name": "stdout",
     "output_type": "stream",
     "text": [
      "step: 156  loss: 1.0602  0.4634 sec/batch\n"
     ]
    },
    {
     "name": "stdout",
     "output_type": "stream",
     "text": [
      "step: 157  loss: 0.9795  0.4355 sec/batch\n"
     ]
    },
    {
     "name": "stdout",
     "output_type": "stream",
     "text": [
      "step: 158  loss: 1.0034  0.4807 sec/batch\n"
     ]
    },
    {
     "name": "stdout",
     "output_type": "stream",
     "text": [
      "step: 159  loss: 1.1813  0.4289 sec/batch\n"
     ]
    },
    {
     "name": "stdout",
     "output_type": "stream",
     "text": [
      "step: 160  loss: 1.1823  0.4602 sec/batch\nstep: 160  validation accuracy 0.4000000059604645 \n[10  8  8  8  8  8  8  8 10  7]\n[ 9 11  8  8  6  9  8  8  9  4]\n"
     ]
    },
    {
     "name": "stdout",
     "output_type": "stream",
     "text": [
      "step: 161  loss: 0.9950  0.4843 sec/batch\n"
     ]
    },
    {
     "name": "stdout",
     "output_type": "stream",
     "text": [
      "step: 162  loss: 1.3276  0.5111 sec/batch\n"
     ]
    },
    {
     "name": "stdout",
     "output_type": "stream",
     "text": [
      "step: 163  loss: 1.4089  0.4463 sec/batch\n"
     ]
    },
    {
     "name": "stdout",
     "output_type": "stream",
     "text": [
      "step: 164  loss: 1.1642  0.4227 sec/batch\n"
     ]
    },
    {
     "name": "stdout",
     "output_type": "stream",
     "text": [
      "step: 165  loss: 1.4013  0.4640 sec/batch\nstep: 165  validation accuracy 0.4000000059604645 \n[10  8  8  8  7  8  8  8 10  7]\n[ 9 11  8  8  6  9  8  8  9  4]\n"
     ]
    },
    {
     "name": "stdout",
     "output_type": "stream",
     "text": [
      "step: 166  loss: 1.4333  0.4472 sec/batch\n"
     ]
    },
    {
     "name": "stdout",
     "output_type": "stream",
     "text": [
      "step: 167  loss: 0.8664  0.4466 sec/batch\n"
     ]
    },
    {
     "name": "stdout",
     "output_type": "stream",
     "text": [
      "step: 168  loss: 0.9973  0.4762 sec/batch\n"
     ]
    },
    {
     "name": "stdout",
     "output_type": "stream",
     "text": [
      "step: 169  loss: 1.2768  0.6163 sec/batch\n"
     ]
    },
    {
     "name": "stdout",
     "output_type": "stream",
     "text": [
      "step: 170  loss: 1.2364  0.4247 sec/batch\nstep: 170  validation accuracy 0.30000001192092896 \n[10  8  8  8  8 10  8 10 10  7]\n[ 9 11  8  8  6  9  8  8  9  4]\n"
     ]
    },
    {
     "name": "stdout",
     "output_type": "stream",
     "text": [
      "step: 171  loss: 1.0907  0.5655 sec/batch\n"
     ]
    },
    {
     "name": "stdout",
     "output_type": "stream",
     "text": [
      "step: 172  loss: 1.3714  0.4642 sec/batch\n"
     ]
    },
    {
     "name": "stdout",
     "output_type": "stream",
     "text": [
      "step: 173  loss: 1.1346  0.4609 sec/batch\n"
     ]
    },
    {
     "name": "stdout",
     "output_type": "stream",
     "text": [
      "step: 174  loss: 0.9183  0.4384 sec/batch\n"
     ]
    },
    {
     "name": "stdout",
     "output_type": "stream",
     "text": [
      "step: 175  loss: 1.2913  0.4324 sec/batch\nstep: 175  validation accuracy 0.4000000059604645 \n[10  8  8  8  8  8  8  8 10  7]\n[ 9 11  8  8  6  9  8  8  9  4]\n"
     ]
    },
    {
     "name": "stdout",
     "output_type": "stream",
     "text": [
      "step: 176  loss: 1.1570  0.4333 sec/batch\n"
     ]
    },
    {
     "name": "stdout",
     "output_type": "stream",
     "text": [
      "step: 177  loss: 0.8884  0.4315 sec/batch\n"
     ]
    },
    {
     "name": "stdout",
     "output_type": "stream",
     "text": [
      "step: 178  loss: 0.9858  0.4359 sec/batch\n"
     ]
    },
    {
     "name": "stdout",
     "output_type": "stream",
     "text": [
      "step: 179  loss: 1.0899  0.6263 sec/batch\n"
     ]
    },
    {
     "name": "stdout",
     "output_type": "stream",
     "text": [
      "step: 180  loss: 1.1368  0.4252 sec/batch\nstep: 180  validation accuracy 0.4000000059604645 \n[10  8  8  8  8  8  8  8 10  7]\n[ 9 11  8  8  6  9  8  8  9  4]\n"
     ]
    },
    {
     "name": "stdout",
     "output_type": "stream",
     "text": [
      "step: 181  loss: 0.9609  0.4169 sec/batch\n"
     ]
    },
    {
     "name": "stdout",
     "output_type": "stream",
     "text": [
      "step: 182  loss: 1.0529  0.6132 sec/batch\n"
     ]
    },
    {
     "name": "stdout",
     "output_type": "stream",
     "text": [
      "step: 183  loss: 1.2072  0.4717 sec/batch\n"
     ]
    },
    {
     "name": "stdout",
     "output_type": "stream",
     "text": [
      "step: 184  loss: 0.8927  0.4793 sec/batch\n"
     ]
    },
    {
     "name": "stdout",
     "output_type": "stream",
     "text": [
      "step: 185  loss: 1.2686  0.4238 sec/batch\nstep: 185  validation accuracy 0.4000000059604645 \n[10  8  8  8  8  8  8  8 10  7]\n[ 9 11  8  8  6  9  8  8  9  4]\n"
     ]
    },
    {
     "name": "stdout",
     "output_type": "stream",
     "text": [
      "step: 186  loss: 1.0804  0.4185 sec/batch\n"
     ]
    },
    {
     "name": "stdout",
     "output_type": "stream",
     "text": [
      "step: 187  loss: 0.8207  0.4221 sec/batch\n"
     ]
    },
    {
     "name": "stdout",
     "output_type": "stream",
     "text": [
      "step: 188  loss: 0.9681  0.4257 sec/batch\n"
     ]
    },
    {
     "name": "stdout",
     "output_type": "stream",
     "text": [
      "step: 189  loss: 1.0931  0.4269 sec/batch\n"
     ]
    },
    {
     "name": "stdout",
     "output_type": "stream",
     "text": [
      "step: 190  loss: 1.0213  0.4431 sec/batch\nstep: 190  validation accuracy 0.30000001192092896 \n[10  8  8  8  8  8  8 10 10  7]\n[ 9 11  8  8  6  9  8  8  9  4]\n"
     ]
    },
    {
     "name": "stdout",
     "output_type": "stream",
     "text": [
      "step: 191  loss: 1.0155  0.4393 sec/batch\n"
     ]
    },
    {
     "name": "stdout",
     "output_type": "stream",
     "text": [
      "step: 192  loss: 1.0233  0.7488 sec/batch\n"
     ]
    },
    {
     "name": "stdout",
     "output_type": "stream",
     "text": [
      "step: 193  loss: 1.2276  0.4939 sec/batch\n"
     ]
    },
    {
     "name": "stdout",
     "output_type": "stream",
     "text": [
      "step: 194  loss: 0.8845  0.5169 sec/batch\n"
     ]
    },
    {
     "name": "stdout",
     "output_type": "stream",
     "text": [
      "step: 195  loss: 1.2284  0.4366 sec/batch\nstep: 195  validation accuracy 0.4000000059604645 \n[10  8  8  8  7  8  8  8 10  7]\n[ 9 11  8  8  6  9  8  8  9  4]\n"
     ]
    },
    {
     "name": "stdout",
     "output_type": "stream",
     "text": [
      "step: 196  loss: 1.1752  0.4400 sec/batch\n"
     ]
    },
    {
     "name": "stdout",
     "output_type": "stream",
     "text": [
      "step: 197  loss: 0.7912  0.4364 sec/batch\n"
     ]
    },
    {
     "name": "stdout",
     "output_type": "stream",
     "text": [
      "step: 198  loss: 0.9552  0.5344 sec/batch\n"
     ]
    },
    {
     "name": "stdout",
     "output_type": "stream",
     "text": [
      "step: 199  loss: 1.0733  0.4719 sec/batch\n"
     ]
    },
    {
     "name": "stdout",
     "output_type": "stream",
     "text": [
      "step: 200  loss: 1.0421  0.4611 sec/batch\nstep: 200  validation accuracy 0.30000001192092896 \n[10  8  8  8  8  8  8 10 10  7]\n[ 9 11  8  8  6  9  8  8  9  4]\n"
     ]
    },
    {
     "name": "stdout",
     "output_type": "stream",
     "text": [
      "step: 201  loss: 1.0224  0.4354 sec/batch\n"
     ]
    },
    {
     "name": "stdout",
     "output_type": "stream",
     "text": [
      "step: 202  loss: 1.0588  0.4387 sec/batch\n"
     ]
    },
    {
     "name": "stdout",
     "output_type": "stream",
     "text": [
      "step: 203  loss: 1.2299  0.4005 sec/batch\n"
     ]
    },
    {
     "name": "stdout",
     "output_type": "stream",
     "text": [
      "step: 204  loss: 0.8415  0.4602 sec/batch\n"
     ]
    },
    {
     "name": "stdout",
     "output_type": "stream",
     "text": [
      "step: 205  loss: 1.1481  0.7958 sec/batch\nstep: 205  validation accuracy 0.4000000059604645 \n[10  8  8  8  7  8  8  8 10  7]\n[ 9 11  8  8  6  9  8  8  9  4]\n"
     ]
    },
    {
     "name": "stdout",
     "output_type": "stream",
     "text": [
      "step: 206  loss: 1.2129  0.5186 sec/batch\n"
     ]
    },
    {
     "name": "stdout",
     "output_type": "stream",
     "text": [
      "step: 207  loss: 0.8111  0.4789 sec/batch\n"
     ]
    },
    {
     "name": "stdout",
     "output_type": "stream",
     "text": [
      "step: 208  loss: 0.9574  0.4096 sec/batch\n"
     ]
    },
    {
     "name": "stdout",
     "output_type": "stream",
     "text": [
      "step: 209  loss: 1.0007  0.4562 sec/batch\n"
     ]
    },
    {
     "name": "stdout",
     "output_type": "stream",
     "text": [
      "step: 210  loss: 1.0061  0.4269 sec/batch\nstep: 210  validation accuracy 0.4000000059604645 \n[10  8  8  8  8  8  8  8 10  7]\n[ 9 11  8  8  6  9  8  8  9  4]\n"
     ]
    },
    {
     "name": "stdout",
     "output_type": "stream",
     "text": [
      "step: 211  loss: 1.0162  0.4273 sec/batch\n"
     ]
    },
    {
     "name": "stdout",
     "output_type": "stream",
     "text": [
      "step: 212  loss: 1.0041  0.4178 sec/batch\n"
     ]
    },
    {
     "name": "stdout",
     "output_type": "stream",
     "text": [
      "step: 213  loss: 1.1081  0.4285 sec/batch\n"
     ]
    },
    {
     "name": "stdout",
     "output_type": "stream",
     "text": [
      "step: 214  loss: 0.8045  0.4283 sec/batch\n"
     ]
    },
    {
     "name": "stdout",
     "output_type": "stream",
     "text": [
      "step: 215  loss: 1.1610  0.4286 sec/batch\n"
     ]
    },
    {
     "name": "stdout",
     "output_type": "stream",
     "text": [
      "step: 215  validation accuracy 0.4000000059604645 \n[10  8  8  8  7  8  8  8 10  7]\n[ 9 11  8  8  6  9  8  8  9  4]\n"
     ]
    },
    {
     "name": "stdout",
     "output_type": "stream",
     "text": [
      "step: 216  loss: 1.1590  0.5086 sec/batch\n"
     ]
    },
    {
     "name": "stdout",
     "output_type": "stream",
     "text": [
      "step: 217  loss: 0.7595  0.5624 sec/batch\n"
     ]
    },
    {
     "name": "stdout",
     "output_type": "stream",
     "text": [
      "step: 218  loss: 0.9500  0.4172 sec/batch\n"
     ]
    },
    {
     "name": "stdout",
     "output_type": "stream",
     "text": [
      "step: 219  loss: 0.9952  0.4236 sec/batch\n"
     ]
    },
    {
     "name": "stdout",
     "output_type": "stream",
     "text": [
      "step: 220  loss: 0.9528  0.4471 sec/batch\nstep: 220  validation accuracy 0.4000000059604645 \n[10  8  8  8  8  8  8  8 10  7]\n[ 9 11  8  8  6  9  8  8  9  4]\n"
     ]
    },
    {
     "name": "stdout",
     "output_type": "stream",
     "text": [
      "step: 221  loss: 1.0386  0.6824 sec/batch\n"
     ]
    },
    {
     "name": "stdout",
     "output_type": "stream",
     "text": [
      "step: 222  loss: 0.9989  0.6297 sec/batch\n"
     ]
    },
    {
     "name": "stdout",
     "output_type": "stream",
     "text": [
      "step: 223  loss: 1.0688  0.4635 sec/batch\n"
     ]
    },
    {
     "name": "stdout",
     "output_type": "stream",
     "text": [
      "step: 224  loss: 0.7667  0.4420 sec/batch\n"
     ]
    },
    {
     "name": "stdout",
     "output_type": "stream",
     "text": [
      "step: 225  loss: 1.1497  0.4392 sec/batch\nstep: 225  validation accuracy 0.5 \n[10  8  8  8  8  8  8  8 10  4]\n[ 9 11  8  8  6  9  8  8  9  4]\n"
     ]
    },
    {
     "name": "stdout",
     "output_type": "stream",
     "text": [
      "step: 226  loss: 1.0177  0.4114 sec/batch\n"
     ]
    },
    {
     "name": "stdout",
     "output_type": "stream",
     "text": [
      "step: 227  loss: 0.7720  0.3942 sec/batch\n"
     ]
    },
    {
     "name": "stdout",
     "output_type": "stream",
     "text": [
      "step: 228  loss: 0.9365  0.5948 sec/batch\n"
     ]
    },
    {
     "name": "stdout",
     "output_type": "stream",
     "text": [
      "step: 229  loss: 1.0012  0.6497 sec/batch\n"
     ]
    },
    {
     "name": "stdout",
     "output_type": "stream",
     "text": [
      "step: 230  loss: 0.9686  0.6582 sec/batch\nstep: 230  validation accuracy 0.5 \n[10  8  8  8  8  8  8  8 10  4]\n[ 9 11  8  8  6  9  8  8  9  4]\n"
     ]
    },
    {
     "name": "stdout",
     "output_type": "stream",
     "text": [
      "step: 231  loss: 0.9865  0.4762 sec/batch\n"
     ]
    },
    {
     "name": "stdout",
     "output_type": "stream",
     "text": [
      "step: 232  loss: 0.9261  0.4042 sec/batch\n"
     ]
    },
    {
     "name": "stdout",
     "output_type": "stream",
     "text": [
      "step: 233  loss: 1.1182  0.4219 sec/batch\n"
     ]
    },
    {
     "name": "stdout",
     "output_type": "stream",
     "text": [
      "step: 234  loss: 0.7418  0.7836 sec/batch\n"
     ]
    },
    {
     "name": "stdout",
     "output_type": "stream",
     "text": [
      "step: 235  loss: 1.0883  0.4199 sec/batch\nstep: 235  validation accuracy 0.5 \n[10  8  8  8  8  8  8  8 10  4]\n[ 9 11  8  8  6  9  8  8  9  4]\n"
     ]
    },
    {
     "name": "stdout",
     "output_type": "stream",
     "text": [
      "step: 236  loss: 1.0340  0.4312 sec/batch\n"
     ]
    },
    {
     "name": "stdout",
     "output_type": "stream",
     "text": [
      "step: 237  loss: 0.7264  0.4412 sec/batch\n"
     ]
    },
    {
     "name": "stdout",
     "output_type": "stream",
     "text": [
      "step: 238  loss: 0.9084  0.4681 sec/batch\n"
     ]
    },
    {
     "name": "stdout",
     "output_type": "stream",
     "text": [
      "step: 239  loss: 1.0157  0.5025 sec/batch\n"
     ]
    },
    {
     "name": "stdout",
     "output_type": "stream",
     "text": [
      "step: 240  loss: 0.9072  0.4477 sec/batch\nstep: 240  validation accuracy 0.5 \n[10  8  8  8  8  8  8  8 10  4]\n[ 9 11  8  8  6  9  8  8  9  4]\n"
     ]
    },
    {
     "name": "stdout",
     "output_type": "stream",
     "text": [
      "step: 241  loss: 1.0081  0.4449 sec/batch\n"
     ]
    },
    {
     "name": "stdout",
     "output_type": "stream",
     "text": [
      "step: 242  loss: 0.9699  0.4470 sec/batch\n"
     ]
    },
    {
     "name": "stdout",
     "output_type": "stream",
     "text": [
      "step: 243  loss: 1.0249  0.5062 sec/batch\n"
     ]
    },
    {
     "name": "stdout",
     "output_type": "stream",
     "text": [
      "step: 244  loss: 0.7510  0.4589 sec/batch\n"
     ]
    },
    {
     "name": "stdout",
     "output_type": "stream",
     "text": [
      "step: 245  loss: 1.3450  0.4352 sec/batch\nstep: 245  validation accuracy 0.4000000059604645 \n[10  8  8  8  8  8  8  8 10  8]\n[ 9 11  8  8  6  9  8  8  9  4]\n"
     ]
    },
    {
     "name": "stdout",
     "output_type": "stream",
     "text": [
      "step: 246  loss: 0.9871  0.4456 sec/batch\n"
     ]
    },
    {
     "name": "stdout",
     "output_type": "stream",
     "text": [
      "step: 247  loss: 0.7331  0.5024 sec/batch\n"
     ]
    },
    {
     "name": "stdout",
     "output_type": "stream",
     "text": [
      "step: 248  loss: 0.9245  0.7970 sec/batch\n"
     ]
    },
    {
     "name": "stdout",
     "output_type": "stream",
     "text": [
      "step: 249  loss: 0.9396  0.4761 sec/batch\n"
     ]
    },
    {
     "name": "stdout",
     "output_type": "stream",
     "text": [
      "step: 250  loss: 0.9462  0.4214 sec/batch\nstep: 250  validation accuracy 0.4000000059604645 \n[10  8  8  8  8  8  8  8 10  7]\n[ 9 11  8  8  6  9  8  8  9  4]\n"
     ]
    },
    {
     "name": "stdout",
     "output_type": "stream",
     "text": [
      "step: 251  loss: 0.9728  0.5433 sec/batch\n"
     ]
    },
    {
     "name": "stdout",
     "output_type": "stream",
     "text": [
      "step: 252  loss: 0.9116  0.4323 sec/batch\n"
     ]
    },
    {
     "name": "stdout",
     "output_type": "stream",
     "text": [
      "step: 253  loss: 1.1439  0.4518 sec/batch\n"
     ]
    },
    {
     "name": "stdout",
     "output_type": "stream",
     "text": [
      "step: 254  loss: 0.7128  0.4418 sec/batch\n"
     ]
    },
    {
     "name": "stdout",
     "output_type": "stream",
     "text": [
      "step: 255  loss: 1.0849  0.4770 sec/batch\nstep: 255  validation accuracy 0.4000000059604645 \n[10  8  8  8  7  8  8  8 10  6]\n[ 9 11  8  8  6  9  8  8  9  4]\n"
     ]
    },
    {
     "name": "stdout",
     "output_type": "stream",
     "text": [
      "step: 256  loss: 1.0959  0.5183 sec/batch\n"
     ]
    },
    {
     "name": "stdout",
     "output_type": "stream",
     "text": [
      "step: 257  loss: 0.6795  0.4272 sec/batch\n"
     ]
    },
    {
     "name": "stdout",
     "output_type": "stream",
     "text": [
      "step: 258  loss: 0.9146  0.4310 sec/batch\n"
     ]
    },
    {
     "name": "stdout",
     "output_type": "stream",
     "text": [
      "step: 259  loss: 0.9363  0.4503 sec/batch\n"
     ]
    },
    {
     "name": "stdout",
     "output_type": "stream",
     "text": [
      "step: 260  loss: 0.8543  0.4387 sec/batch\nstep: 260  validation accuracy 0.4000000059604645 \n[10  8  8  8  8  9  8 10 10  6]\n[ 9 11  8  8  6  9  8  8  9  4]\n"
     ]
    },
    {
     "name": "stdout",
     "output_type": "stream",
     "text": [
      "step: 261  loss: 1.0216  0.3684 sec/batch\n"
     ]
    },
    {
     "name": "stdout",
     "output_type": "stream",
     "text": [
      "step: 262  loss: 0.8542  0.4258 sec/batch\n"
     ]
    },
    {
     "name": "stdout",
     "output_type": "stream",
     "text": [
      "step: 263  loss: 1.0288  0.4393 sec/batch\n"
     ]
    },
    {
     "name": "stdout",
     "output_type": "stream",
     "text": [
      "step: 264  loss: 0.7280  0.4323 sec/batch\n"
     ]
    },
    {
     "name": "stdout",
     "output_type": "stream",
     "text": [
      "step: 265  loss: 1.0699  0.4290 sec/batch\nstep: 265  validation accuracy 0.4000000059604645 \n[10  8  8  8  8  8  8  8 10  6]\n[ 9 11  8  8  6  9  8  8  9  4]\n"
     ]
    },
    {
     "name": "stdout",
     "output_type": "stream",
     "text": [
      "step: 266  loss: 1.0012  0.4308 sec/batch\n"
     ]
    },
    {
     "name": "stdout",
     "output_type": "stream",
     "text": [
      "step: 267  loss: 0.7130  0.4140 sec/batch\n"
     ]
    },
    {
     "name": "stdout",
     "output_type": "stream",
     "text": [
      "step: 268  loss: 0.9027  0.6171 sec/batch\n"
     ]
    },
    {
     "name": "stdout",
     "output_type": "stream",
     "text": [
      "step: 269  loss: 0.9678  0.5353 sec/batch\n"
     ]
    },
    {
     "name": "stdout",
     "output_type": "stream",
     "text": [
      "step: 270  loss: 0.9245  0.4348 sec/batch\nstep: 270  validation accuracy 0.4000000059604645 \n[10  8  8  8  8  8  8  8 10  6]\n[ 9 11  8  8  6  9  8  8  9  4]\n"
     ]
    },
    {
     "name": "stdout",
     "output_type": "stream",
     "text": [
      "step: 271  loss: 0.9165  0.4438 sec/batch\n"
     ]
    },
    {
     "name": "stdout",
     "output_type": "stream",
     "text": [
      "step: 272  loss: 0.7846  0.4426 sec/batch\n"
     ]
    },
    {
     "name": "stdout",
     "output_type": "stream",
     "text": [
      "step: 273  loss: 1.0885  0.4390 sec/batch\n"
     ]
    },
    {
     "name": "stdout",
     "output_type": "stream",
     "text": [
      "step: 274  loss: 0.7121  0.4337 sec/batch\n"
     ]
    },
    {
     "name": "stdout",
     "output_type": "stream",
     "text": [
      "step: 275  loss: 1.0044  0.6885 sec/batch\nstep: 275  validation accuracy 0.4000000059604645 \n[10  8  8  8  8  8  8  8 10  6]\n[ 9 11  8  8  6  9  8  8  9  4]\n"
     ]
    },
    {
     "name": "stdout",
     "output_type": "stream",
     "text": [
      "step: 276  loss: 0.9752  0.7364 sec/batch\n"
     ]
    },
    {
     "name": "stdout",
     "output_type": "stream",
     "text": [
      "step: 277  loss: 0.6721  0.4794 sec/batch\n"
     ]
    },
    {
     "name": "stdout",
     "output_type": "stream",
     "text": [
      "step: 278  loss: 0.8563  0.4223 sec/batch\n"
     ]
    },
    {
     "name": "stdout",
     "output_type": "stream",
     "text": [
      "step: 279  loss: 0.9818  0.4367 sec/batch\n"
     ]
    },
    {
     "name": "stdout",
     "output_type": "stream",
     "text": [
      "step: 280  loss: 0.8608  0.4692 sec/batch\nstep: 280  validation accuracy 0.5 \n[10  8  8  8  8  9  8  8 10  6]\n[ 9 11  8  8  6  9  8  8  9  4]\n"
     ]
    },
    {
     "name": "stdout",
     "output_type": "stream",
     "text": [
      "step: 281  loss: 0.9245  0.4327 sec/batch\n"
     ]
    },
    {
     "name": "stdout",
     "output_type": "stream",
     "text": [
      "step: 282  loss: 0.8393  0.4038 sec/batch\n"
     ]
    },
    {
     "name": "stdout",
     "output_type": "stream",
     "text": [
      "step: 283  loss: 0.9804  0.4408 sec/batch\n"
     ]
    },
    {
     "name": "stdout",
     "output_type": "stream",
     "text": [
      "step: 284  loss: 0.6797  0.5177 sec/batch\n"
     ]
    },
    {
     "name": "stdout",
     "output_type": "stream",
     "text": [
      "step: 285  loss: 0.9638  0.6432 sec/batch\nstep: 285  validation accuracy 0.5 \n[10  8  8  8  7  8  8  8 10  4]\n[ 9 11  8  8  6  9  8  8  9  4]\n"
     ]
    },
    {
     "name": "stdout",
     "output_type": "stream",
     "text": [
      "step: 286  loss: 0.9839  0.4336 sec/batch\n"
     ]
    },
    {
     "name": "stdout",
     "output_type": "stream",
     "text": [
      "step: 287  loss: 0.6509  0.4592 sec/batch\n"
     ]
    },
    {
     "name": "stdout",
     "output_type": "stream",
     "text": [
      "step: 288  loss: 0.8160  0.4363 sec/batch\n"
     ]
    },
    {
     "name": "stdout",
     "output_type": "stream",
     "text": [
      "step: 289  loss: 0.9303  0.5460 sec/batch\n"
     ]
    },
    {
     "name": "stdout",
     "output_type": "stream",
     "text": [
      "step: 290  loss: 0.8372  0.6028 sec/batch\nstep: 290  validation accuracy 0.5 \n[10  8  8  8  8  9  8  8 10  6]\n[ 9 11  8  8  6  9  8  8  9  4]\n"
     ]
    },
    {
     "name": "stdout",
     "output_type": "stream",
     "text": [
      "step: 291  loss: 0.9285  0.4318 sec/batch\n"
     ]
    },
    {
     "name": "stdout",
     "output_type": "stream",
     "text": [
      "step: 292  loss: 0.8836  0.4519 sec/batch\n"
     ]
    },
    {
     "name": "stdout",
     "output_type": "stream",
     "text": [
      "step: 293  loss: 0.9301  0.4395 sec/batch\n"
     ]
    },
    {
     "name": "stdout",
     "output_type": "stream",
     "text": [
      "step: 294  loss: 0.6484  0.4351 sec/batch\n"
     ]
    },
    {
     "name": "stdout",
     "output_type": "stream",
     "text": [
      "step: 295  loss: 0.9086  0.4283 sec/batch\nstep: 295  validation accuracy 0.5 \n[10  8  8  8  7  8  8  8 10  4]\n[ 9 11  8  8  6  9  8  8  9  4]\n"
     ]
    },
    {
     "name": "stdout",
     "output_type": "stream",
     "text": [
      "step: 296  loss: 1.0328  0.4232 sec/batch\n"
     ]
    },
    {
     "name": "stdout",
     "output_type": "stream",
     "text": [
      "step: 297  loss: 0.7406  0.4184 sec/batch\n"
     ]
    },
    {
     "name": "stdout",
     "output_type": "stream",
     "text": [
      "step: 298  loss: 0.8774  0.4467 sec/batch\n"
     ]
    },
    {
     "name": "stdout",
     "output_type": "stream",
     "text": [
      "step: 299  loss: 0.8331  0.5375 sec/batch\n"
     ]
    },
    {
     "name": "stdout",
     "output_type": "stream",
     "text": [
      "step: 300  loss: 0.8402  0.4566 sec/batch\nstep: 300  validation accuracy 0.5 \n[10  8  8  8  8  9  8  8 10  6]\n[ 9 11  8  8  6  9  8  8  9  4]\n"
     ]
    },
    {
     "name": "stdout",
     "output_type": "stream",
     "text": [
      "step: 301  loss: 0.9352  0.4351 sec/batch\n"
     ]
    },
    {
     "name": "stdout",
     "output_type": "stream",
     "text": [
      "step: 302  loss: 0.9792  0.4507 sec/batch\n"
     ]
    },
    {
     "name": "stdout",
     "output_type": "stream",
     "text": [
      "step: 303  loss: 0.8778  0.4326 sec/batch\n"
     ]
    },
    {
     "name": "stdout",
     "output_type": "stream",
     "text": [
      "step: 304  loss: 0.6790  0.4419 sec/batch\n"
     ]
    },
    {
     "name": "stdout",
     "output_type": "stream",
     "text": [
      "step: 305  loss: 0.9060  0.4246 sec/batch\nstep: 305  validation accuracy 0.5 \n[10  8  8  8  7  8  8  8 10  4]\n[ 9 11  8  8  6  9  8  8  9  4]\n"
     ]
    },
    {
     "name": "stdout",
     "output_type": "stream",
     "text": [
      "step: 306  loss: 0.9375  0.4377 sec/batch\n"
     ]
    },
    {
     "name": "stdout",
     "output_type": "stream",
     "text": [
      "step: 307  loss: 0.7954  0.4305 sec/batch\n"
     ]
    },
    {
     "name": "stdout",
     "output_type": "stream",
     "text": [
      "step: 308  loss: 1.0214  0.4358 sec/batch\n"
     ]
    },
    {
     "name": "stdout",
     "output_type": "stream",
     "text": [
      "step: 309  loss: 0.7143  0.4061 sec/batch\n"
     ]
    },
    {
     "name": "stdout",
     "output_type": "stream",
     "text": [
      "step: 310  loss: 0.8437  0.4255 sec/batch\nstep: 310  validation accuracy 0.5 \n[10  8  8  8  8  9  8  8 10  6]\n[ 9 11  8  8  6  9  8  8  9  4]\n"
     ]
    },
    {
     "name": "stdout",
     "output_type": "stream",
     "text": [
      "step: 311  loss: 0.8887  0.5625 sec/batch\n"
     ]
    },
    {
     "name": "stdout",
     "output_type": "stream",
     "text": [
      "step: 312  loss: 1.0233  0.4620 sec/batch\n"
     ]
    },
    {
     "name": "stdout",
     "output_type": "stream",
     "text": [
      "step: 313  loss: 1.0950  0.4559 sec/batch\n"
     ]
    },
    {
     "name": "stdout",
     "output_type": "stream",
     "text": [
      "step: 314  loss: 0.7403  0.4495 sec/batch\n"
     ]
    },
    {
     "name": "stdout",
     "output_type": "stream",
     "text": [
      "step: 315  loss: 0.8863  0.4371 sec/batch\nstep: 315  validation accuracy 0.5 \n[10  8  8  8  7  8  8  8 10  4]\n[ 9 11  8  8  6  9  8  8  9  4]\n"
     ]
    },
    {
     "name": "stdout",
     "output_type": "stream",
     "text": [
      "step: 316  loss: 0.9576  0.5256 sec/batch\n"
     ]
    },
    {
     "name": "stdout",
     "output_type": "stream",
     "text": [
      "step: 317  loss: 0.8528  0.4938 sec/batch\n"
     ]
    },
    {
     "name": "stdout",
     "output_type": "stream",
     "text": [
      "step: 318  loss: 1.0933  0.4482 sec/batch\n"
     ]
    },
    {
     "name": "stdout",
     "output_type": "stream",
     "text": [
      "step: 319  loss: 0.8534  0.4485 sec/batch\n"
     ]
    },
    {
     "name": "stdout",
     "output_type": "stream",
     "text": [
      "step: 320  loss: 0.8408  0.4261 sec/batch\nstep: 320  validation accuracy 0.30000001192092896 \n[10  9  9  8  8  9  8 10 10  6]\n[ 9 11  8  8  6  9  8  8  9  4]\n"
     ]
    },
    {
     "name": "stdout",
     "output_type": "stream",
     "text": [
      "step: 321  loss: 0.9239  0.5149 sec/batch\n"
     ]
    },
    {
     "name": "stdout",
     "output_type": "stream",
     "text": [
      "step: 322  loss: 1.3375  0.4683 sec/batch\n"
     ]
    },
    {
     "name": "stdout",
     "output_type": "stream",
     "text": [
      "step: 323  loss: 1.3158  0.4403 sec/batch\n"
     ]
    },
    {
     "name": "stdout",
     "output_type": "stream",
     "text": [
      "step: 324  loss: 1.0678  0.4332 sec/batch\n"
     ]
    },
    {
     "name": "stdout",
     "output_type": "stream",
     "text": [
      "step: 325  loss: 1.1331  0.4403 sec/batch\nstep: 325  validation accuracy 0.6000000238418579 \n[10  8  8  8  8  8  8  8  9  4]\n[ 9 11  8  8  6  9  8  8  9  4]\n"
     ]
    },
    {
     "name": "stdout",
     "output_type": "stream",
     "text": [
      "step: 326  loss: 0.7648  0.4109 sec/batch\n"
     ]
    },
    {
     "name": "stdout",
     "output_type": "stream",
     "text": [
      "step: 327  loss: 0.7982  0.4362 sec/batch\n"
     ]
    },
    {
     "name": "stdout",
     "output_type": "stream",
     "text": [
      "step: 328  loss: 1.1655  0.4342 sec/batch\n"
     ]
    },
    {
     "name": "stdout",
     "output_type": "stream",
     "text": [
      "step: 329  loss: 1.1370  0.4283 sec/batch\n"
     ]
    },
    {
     "name": "stdout",
     "output_type": "stream",
     "text": [
      "step: 330  loss: 1.3374  0.4164 sec/batch\nstep: 330  validation accuracy 0.6000000238418579 \n[10  8  8  8  8  8  8  8  9  4]\n[ 9 11  8  8  6  9  8  8  9  4]\n"
     ]
    },
    {
     "name": "stdout",
     "output_type": "stream",
     "text": [
      "step: 331  loss: 0.7876  0.4556 sec/batch\n"
     ]
    },
    {
     "name": "stdout",
     "output_type": "stream",
     "text": [
      "step: 332  loss: 0.7390  0.6497 sec/batch\n"
     ]
    },
    {
     "name": "stdout",
     "output_type": "stream",
     "text": [
      "step: 333  loss: 0.8183  0.5888 sec/batch\n"
     ]
    },
    {
     "name": "stdout",
     "output_type": "stream",
     "text": [
      "step: 334  loss: 0.9281  0.4527 sec/batch\n"
     ]
    },
    {
     "name": "stdout",
     "output_type": "stream",
     "text": [
      "step: 335  loss: 1.4825  0.4425 sec/batch\nstep: 335  validation accuracy 0.4000000059604645 \n[10  8  8  8  8  9  8 10 10  7]\n[ 9 11  8  8  6  9  8  8  9  4]\n"
     ]
    },
    {
     "name": "stdout",
     "output_type": "stream",
     "text": [
      "step: 336  loss: 1.0541  0.5004 sec/batch\n"
     ]
    },
    {
     "name": "stdout",
     "output_type": "stream",
     "text": [
      "step: 337  loss: 0.8079  0.5451 sec/batch\n"
     ]
    },
    {
     "name": "stdout",
     "output_type": "stream",
     "text": [
      "step: 338  loss: 0.6725  0.7629 sec/batch\n"
     ]
    },
    {
     "name": "stdout",
     "output_type": "stream",
     "text": [
      "step: 339  loss: 0.6808  0.6319 sec/batch\n"
     ]
    },
    {
     "name": "stdout",
     "output_type": "stream",
     "text": [
      "step: 340  loss: 0.9065  0.4580 sec/batch\nstep: 340  validation accuracy 0.5 \n[10  8  8  8  7  8  8  8 10  4]\n[ 9 11  8  8  6  9  8  8  9  4]\n"
     ]
    },
    {
     "name": "stdout",
     "output_type": "stream",
     "text": [
      "step: 341  loss: 0.7519  0.4404 sec/batch\n"
     ]
    },
    {
     "name": "stdout",
     "output_type": "stream",
     "text": [
      "step: 342  loss: 0.6865  0.4195 sec/batch\n"
     ]
    },
    {
     "name": "stdout",
     "output_type": "stream",
     "text": [
      "step: 343  loss: 1.1108  0.5203 sec/batch\n"
     ]
    },
    {
     "name": "stdout",
     "output_type": "stream",
     "text": [
      "step: 344  loss: 0.7814  0.7750 sec/batch\n"
     ]
    },
    {
     "name": "stdout",
     "output_type": "stream",
     "text": [
      "step: 345  loss: 0.8920  0.4161 sec/batch\nstep: 345  validation accuracy 0.5 \n[10  8  8  8  8  8  8  8 10  4]\n[ 9 11  8  8  6  9  8  8  9  4]\n"
     ]
    },
    {
     "name": "stdout",
     "output_type": "stream",
     "text": [
      "step: 346  loss: 0.8101  0.5852 sec/batch\n"
     ]
    },
    {
     "name": "stdout",
     "output_type": "stream",
     "text": [
      "step: 347  loss: 0.5685  0.5376 sec/batch\n"
     ]
    },
    {
     "name": "stdout",
     "output_type": "stream",
     "text": [
      "step: 348  loss: 0.6409  0.4426 sec/batch\n"
     ]
    },
    {
     "name": "stdout",
     "output_type": "stream",
     "text": [
      "step: 349  loss: 0.7112  0.4573 sec/batch\n"
     ]
    },
    {
     "name": "stdout",
     "output_type": "stream",
     "text": [
      "step: 350  loss: 0.7847  0.4645 sec/batch\nstep: 350  validation accuracy 0.6000000238418579 \n[10  8  8  8  8  9  8  8 10  4]\n[ 9 11  8  8  6  9  8  8  9  4]\n"
     ]
    },
    {
     "name": "stdout",
     "output_type": "stream",
     "text": [
      "step: 351  loss: 0.7384  0.4540 sec/batch\n"
     ]
    },
    {
     "name": "stdout",
     "output_type": "stream",
     "text": [
      "step: 352  loss: 0.6987  0.4666 sec/batch\n"
     ]
    },
    {
     "name": "stdout",
     "output_type": "stream",
     "text": [
      "step: 353  loss: 0.7733  0.4451 sec/batch\n"
     ]
    },
    {
     "name": "stdout",
     "output_type": "stream",
     "text": [
      "step: 354  loss: 0.6457  0.4575 sec/batch\n"
     ]
    },
    {
     "name": "stdout",
     "output_type": "stream",
     "text": [
      "step: 355  loss: 0.8322  0.4585 sec/batch\nstep: 355  validation accuracy 0.5 \n[10  8  8  8  8  8  8  8 10  4]\n[ 9 11  8  8  6  9  8  8  9  4]\n"
     ]
    },
    {
     "name": "stdout",
     "output_type": "stream",
     "text": [
      "step: 356  loss: 0.6985  0.4442 sec/batch\n"
     ]
    },
    {
     "name": "stdout",
     "output_type": "stream",
     "text": [
      "step: 357  loss: 0.5765  0.4493 sec/batch\n"
     ]
    },
    {
     "name": "stdout",
     "output_type": "stream",
     "text": [
      "step: 358  loss: 0.6524  0.6886 sec/batch\n"
     ]
    },
    {
     "name": "stdout",
     "output_type": "stream",
     "text": [
      "step: 359  loss: 0.5710  0.8469 sec/batch\n"
     ]
    },
    {
     "name": "stdout",
     "output_type": "stream",
     "text": [
      "step: 360  loss: 0.8113  0.6871 sec/batch\nstep: 360  validation accuracy 0.6000000238418579 \n[10  8  8  8  8  9  8  8 10  4]\n[ 9 11  8  8  6  9  8  8  9  4]\n"
     ]
    },
    {
     "name": "stdout",
     "output_type": "stream",
     "text": [
      "step: 361  loss: 0.6462  0.4299 sec/batch\n"
     ]
    },
    {
     "name": "stdout",
     "output_type": "stream",
     "text": [
      "step: 362  loss: 0.6792  0.4163 sec/batch\n"
     ]
    },
    {
     "name": "stdout",
     "output_type": "stream",
     "text": [
      "step: 363  loss: 0.7597  0.6103 sec/batch\n"
     ]
    },
    {
     "name": "stdout",
     "output_type": "stream",
     "text": [
      "step: 364  loss: 0.6081  0.5629 sec/batch\n"
     ]
    },
    {
     "name": "stdout",
     "output_type": "stream",
     "text": [
      "step: 365  loss: 0.8520  0.5353 sec/batch\nstep: 365  validation accuracy 0.6000000238418579 \n[10  8  8  8  8  9  8  8 10  4]\n[ 9 11  8  8  6  9  8  8  9  4]\n"
     ]
    },
    {
     "name": "stdout",
     "output_type": "stream",
     "text": [
      "step: 366  loss: 0.6555  0.4275 sec/batch\n"
     ]
    },
    {
     "name": "stdout",
     "output_type": "stream",
     "text": [
      "step: 367  loss: 0.4935  0.4493 sec/batch\n"
     ]
    },
    {
     "name": "stdout",
     "output_type": "stream",
     "text": [
      "step: 368  loss: 0.5612  0.5413 sec/batch\n"
     ]
    },
    {
     "name": "stdout",
     "output_type": "stream",
     "text": [
      "step: 369  loss: 0.5445  0.7652 sec/batch\n"
     ]
    },
    {
     "name": "stdout",
     "output_type": "stream",
     "text": [
      "step: 370  loss: 0.7992  0.3834 sec/batch\nstep: 370  validation accuracy 0.6000000238418579 \n[10  8  8  8  8  9  8  8 10  4]\n[ 9 11  8  8  6  9  8  8  9  4]\n"
     ]
    },
    {
     "name": "stdout",
     "output_type": "stream",
     "text": [
      "step: 371  loss: 0.5834  0.5898 sec/batch\n"
     ]
    },
    {
     "name": "stdout",
     "output_type": "stream",
     "text": [
      "step: 372  loss: 0.5853  0.4155 sec/batch\n"
     ]
    },
    {
     "name": "stdout",
     "output_type": "stream",
     "text": [
      "step: 373  loss: 0.7223  0.5132 sec/batch\n"
     ]
    },
    {
     "name": "stdout",
     "output_type": "stream",
     "text": [
      "step: 374  loss: 0.5707  0.6051 sec/batch\n"
     ]
    },
    {
     "name": "stdout",
     "output_type": "stream",
     "text": [
      "step: 375  loss: 0.8119  0.4368 sec/batch\nstep: 375  validation accuracy 0.5 \n[10  8  8  8  8  8  8  8 10  4]\n[ 9 11  8  8  6  9  8  8  9  4]\n"
     ]
    },
    {
     "name": "stdout",
     "output_type": "stream",
     "text": [
      "step: 376  loss: 0.6282  0.5024 sec/batch\n"
     ]
    },
    {
     "name": "stdout",
     "output_type": "stream",
     "text": [
      "step: 377  loss: 0.4514  0.4133 sec/batch\n"
     ]
    },
    {
     "name": "stdout",
     "output_type": "stream",
     "text": [
      "step: 378  loss: 0.4656  0.4386 sec/batch\n"
     ]
    },
    {
     "name": "stdout",
     "output_type": "stream",
     "text": [
      "step: 379  loss: 0.5077  0.4335 sec/batch\n"
     ]
    },
    {
     "name": "stdout",
     "output_type": "stream",
     "text": [
      "step: 380  loss: 0.7219  0.4435 sec/batch\nstep: 380  validation accuracy 0.6000000238418579 \n[10  8  8  8  8  9  8  8 10  4]\n[ 9 11  8  8  6  9  8  8  9  4]\n"
     ]
    },
    {
     "name": "stdout",
     "output_type": "stream",
     "text": [
      "step: 381  loss: 0.5496  0.4283 sec/batch\n"
     ]
    },
    {
     "name": "stdout",
     "output_type": "stream",
     "text": [
      "step: 382  loss: 0.5261  0.4241 sec/batch\n"
     ]
    },
    {
     "name": "stdout",
     "output_type": "stream",
     "text": [
      "step: 383  loss: 0.6852  0.4054 sec/batch\n"
     ]
    },
    {
     "name": "stdout",
     "output_type": "stream",
     "text": [
      "step: 384  loss: 0.5689  0.4284 sec/batch\n"
     ]
    },
    {
     "name": "stdout",
     "output_type": "stream",
     "text": [
      "step: 385  loss: 0.7851  0.4239 sec/batch\nstep: 385  validation accuracy 0.5 \n[10  8  8  8  8  8  8  8 10  4]\n[ 9 11  8  8  6  9  8  8  9  4]\n"
     ]
    },
    {
     "name": "stdout",
     "output_type": "stream",
     "text": [
      "step: 386  loss: 0.5578  0.4277 sec/batch\n"
     ]
    },
    {
     "name": "stdout",
     "output_type": "stream",
     "text": [
      "step: 387  loss: 0.3957  0.4348 sec/batch\n"
     ]
    },
    {
     "name": "stdout",
     "output_type": "stream",
     "text": [
      "step: 388  loss: 0.4266  0.3877 sec/batch\n"
     ]
    },
    {
     "name": "stdout",
     "output_type": "stream",
     "text": [
      "step: 389  loss: 0.5340  0.4244 sec/batch\n"
     ]
    },
    {
     "name": "stdout",
     "output_type": "stream",
     "text": [
      "step: 390  loss: 0.6604  0.4292 sec/batch\nstep: 390  validation accuracy 0.6000000238418579 \n[10  8  8  8  8  9  8  8 10  4]\n[ 9 11  8  8  6  9  8  8  9  4]\n"
     ]
    },
    {
     "name": "stdout",
     "output_type": "stream",
     "text": [
      "step: 391  loss: 0.4768  0.4157 sec/batch\n"
     ]
    },
    {
     "name": "stdout",
     "output_type": "stream",
     "text": [
      "step: 392  loss: 0.4595  0.4276 sec/batch\n"
     ]
    },
    {
     "name": "stdout",
     "output_type": "stream",
     "text": [
      "step: 393  loss: 0.6730  0.4245 sec/batch\n"
     ]
    },
    {
     "name": "stdout",
     "output_type": "stream",
     "text": [
      "step: 394  loss: 0.5732  0.4407 sec/batch\n"
     ]
    },
    {
     "name": "stdout",
     "output_type": "stream",
     "text": [
      "step: 395  loss: 0.7587  0.4251 sec/batch\nstep: 395  validation accuracy 0.5 \n[10  8  8  8  8  8  8  8 10  4]\n[ 9 11  8  8  6  9  8  8  9  4]\n"
     ]
    },
    {
     "name": "stdout",
     "output_type": "stream",
     "text": [
      "step: 396  loss: 0.5202  0.4410 sec/batch\n"
     ]
    },
    {
     "name": "stdout",
     "output_type": "stream",
     "text": [
      "step: 397  loss: 0.3647  0.4326 sec/batch\n"
     ]
    },
    {
     "name": "stdout",
     "output_type": "stream",
     "text": [
      "step: 398  loss: 0.3629  0.4225 sec/batch\n"
     ]
    },
    {
     "name": "stdout",
     "output_type": "stream",
     "text": [
      "step: 399  loss: 0.4872  0.4465 sec/batch\n"
     ]
    },
    {
     "name": "stdout",
     "output_type": "stream",
     "text": [
      "step: 400  loss: 0.6246  0.4362 sec/batch\nstep: 400  validation accuracy 0.5 \n[10  8  8  8  8  9  8  8 10  6]\n[ 9 11  8  8  6  9  8  8  9  4]\n"
     ]
    },
    {
     "name": "stdout",
     "output_type": "stream",
     "text": [
      "step: 401  loss: 0.4579  0.4186 sec/batch\n"
     ]
    },
    {
     "name": "stdout",
     "output_type": "stream",
     "text": [
      "step: 402  loss: 0.4013  0.4221 sec/batch\n"
     ]
    },
    {
     "name": "stdout",
     "output_type": "stream",
     "text": [
      "step: 403  loss: 0.6020  0.4634 sec/batch\n"
     ]
    },
    {
     "name": "stdout",
     "output_type": "stream",
     "text": [
      "step: 404  loss: 0.5964  0.4079 sec/batch\n"
     ]
    },
    {
     "name": "stdout",
     "output_type": "stream",
     "text": [
      "step: 405  loss: 0.7235  0.4316 sec/batch\nstep: 405  validation accuracy 0.5 \n[10  8  8  8  8  8  8  8 10  4]\n[ 9 11  8  8  6  9  8  8  9  4]\n"
     ]
    },
    {
     "ename": "KeyboardInterrupt",
     "evalue": "",
     "traceback": [
      "\u001b[0;31m---------------------------------------------------------------------------\u001b[0m",
      "\u001b[0;31mKeyboardInterrupt\u001b[0m                         Traceback (most recent call last)",
      "\u001b[0;32m<ipython-input-87-38fecb2a79e8>\u001b[0m in \u001b[0;36m<module>\u001b[0;34m\u001b[0m\n\u001b[0;32m----> 1\u001b[0;31m \u001b[0mrnn_net\u001b[0m\u001b[0;34m.\u001b[0m\u001b[0mtrain\u001b[0m\u001b[0;34m(\u001b[0m\u001b[0mbatch_gen\u001b[0m\u001b[0;34m,\u001b[0m \u001b[0mX_val\u001b[0m\u001b[0;34m,\u001b[0m \u001b[0my_val\u001b[0m\u001b[0;34m)\u001b[0m\u001b[0;34m\u001b[0m\u001b[0;34m\u001b[0m\u001b[0m\n\u001b[0m",
      "\u001b[0;32m~/Columbia/ECBM4040/Project/EssayGrader/src/lstm.py\u001b[0m in \u001b[0;36mtrain\u001b[0;34m(self, batches, X_val, y_val)\u001b[0m\n\u001b[1;32m    111\u001b[0m                 \u001b[0;32mfor\u001b[0m \u001b[0mX_batch\u001b[0m\u001b[0;34m,\u001b[0m \u001b[0my_batch\u001b[0m \u001b[0;32min\u001b[0m \u001b[0mbatches\u001b[0m\u001b[0;34m:\u001b[0m\u001b[0;34m\u001b[0m\u001b[0;34m\u001b[0m\u001b[0m\n\u001b[1;32m    112\u001b[0m                     \u001b[0mcounter\u001b[0m \u001b[0;34m+=\u001b[0m \u001b[0;36m1\u001b[0m\u001b[0;34m\u001b[0m\u001b[0;34m\u001b[0m\u001b[0m\n\u001b[0;32m--> 113\u001b[0;31m                     \u001b[0mstart\u001b[0m \u001b[0;34m=\u001b[0m \u001b[0mtime\u001b[0m\u001b[0;34m.\u001b[0m\u001b[0mtime\u001b[0m\u001b[0;34m(\u001b[0m\u001b[0;34m)\u001b[0m\u001b[0;34m\u001b[0m\u001b[0;34m\u001b[0m\u001b[0m\n\u001b[0m\u001b[1;32m    114\u001b[0m                     feed = {self.inputs: X_batch,\n\u001b[1;32m    115\u001b[0m                             \u001b[0mself\u001b[0m\u001b[0;34m.\u001b[0m\u001b[0mtargets\u001b[0m\u001b[0;34m:\u001b[0m \u001b[0my_batch\u001b[0m\u001b[0;34m,\u001b[0m\u001b[0;34m\u001b[0m\u001b[0;34m\u001b[0m\u001b[0m\n",
      "\u001b[0;32m/anaconda3/envs/EssayGrader_env/lib/python3.6/site-packages/tensorflow/python/client/session.py\u001b[0m in \u001b[0;36mrun\u001b[0;34m(self, fetches, feed_dict, options, run_metadata)\u001b[0m\n\u001b[1;32m    927\u001b[0m     \u001b[0;32mtry\u001b[0m\u001b[0;34m:\u001b[0m\u001b[0;34m\u001b[0m\u001b[0;34m\u001b[0m\u001b[0m\n\u001b[1;32m    928\u001b[0m       result = self._run(None, fetches, feed_dict, options_ptr,\n\u001b[0;32m--> 929\u001b[0;31m                          run_metadata_ptr)\n\u001b[0m\u001b[1;32m    930\u001b[0m       \u001b[0;32mif\u001b[0m \u001b[0mrun_metadata\u001b[0m\u001b[0;34m:\u001b[0m\u001b[0;34m\u001b[0m\u001b[0;34m\u001b[0m\u001b[0m\n\u001b[1;32m    931\u001b[0m         \u001b[0mproto_data\u001b[0m \u001b[0;34m=\u001b[0m \u001b[0mtf_session\u001b[0m\u001b[0;34m.\u001b[0m\u001b[0mTF_GetBuffer\u001b[0m\u001b[0;34m(\u001b[0m\u001b[0mrun_metadata_ptr\u001b[0m\u001b[0;34m)\u001b[0m\u001b[0;34m\u001b[0m\u001b[0;34m\u001b[0m\u001b[0m\n",
      "\u001b[0;32m/anaconda3/envs/EssayGrader_env/lib/python3.6/site-packages/tensorflow/python/client/session.py\u001b[0m in \u001b[0;36m_run\u001b[0;34m(self, handle, fetches, feed_dict, options, run_metadata)\u001b[0m\n\u001b[1;32m   1150\u001b[0m     \u001b[0;32mif\u001b[0m \u001b[0mfinal_fetches\u001b[0m \u001b[0;32mor\u001b[0m \u001b[0mfinal_targets\u001b[0m \u001b[0;32mor\u001b[0m \u001b[0;34m(\u001b[0m\u001b[0mhandle\u001b[0m \u001b[0;32mand\u001b[0m \u001b[0mfeed_dict_tensor\u001b[0m\u001b[0;34m)\u001b[0m\u001b[0;34m:\u001b[0m\u001b[0;34m\u001b[0m\u001b[0;34m\u001b[0m\u001b[0m\n\u001b[1;32m   1151\u001b[0m       results = self._do_run(handle, final_targets, final_fetches,\n\u001b[0;32m-> 1152\u001b[0;31m                              feed_dict_tensor, options, run_metadata)\n\u001b[0m\u001b[1;32m   1153\u001b[0m     \u001b[0;32melse\u001b[0m\u001b[0;34m:\u001b[0m\u001b[0;34m\u001b[0m\u001b[0;34m\u001b[0m\u001b[0m\n\u001b[1;32m   1154\u001b[0m       \u001b[0mresults\u001b[0m \u001b[0;34m=\u001b[0m \u001b[0;34m[\u001b[0m\u001b[0;34m]\u001b[0m\u001b[0;34m\u001b[0m\u001b[0;34m\u001b[0m\u001b[0m\n",
      "\u001b[0;32m/anaconda3/envs/EssayGrader_env/lib/python3.6/site-packages/tensorflow/python/client/session.py\u001b[0m in \u001b[0;36m_do_run\u001b[0;34m(self, handle, target_list, fetch_list, feed_dict, options, run_metadata)\u001b[0m\n\u001b[1;32m   1326\u001b[0m     \u001b[0;32mif\u001b[0m \u001b[0mhandle\u001b[0m \u001b[0;32mis\u001b[0m \u001b[0;32mNone\u001b[0m\u001b[0;34m:\u001b[0m\u001b[0;34m\u001b[0m\u001b[0;34m\u001b[0m\u001b[0m\n\u001b[1;32m   1327\u001b[0m       return self._do_call(_run_fn, feeds, fetches, targets, options,\n\u001b[0;32m-> 1328\u001b[0;31m                            run_metadata)\n\u001b[0m\u001b[1;32m   1329\u001b[0m     \u001b[0;32melse\u001b[0m\u001b[0;34m:\u001b[0m\u001b[0;34m\u001b[0m\u001b[0;34m\u001b[0m\u001b[0m\n\u001b[1;32m   1330\u001b[0m       \u001b[0;32mreturn\u001b[0m \u001b[0mself\u001b[0m\u001b[0;34m.\u001b[0m\u001b[0m_do_call\u001b[0m\u001b[0;34m(\u001b[0m\u001b[0m_prun_fn\u001b[0m\u001b[0;34m,\u001b[0m \u001b[0mhandle\u001b[0m\u001b[0;34m,\u001b[0m \u001b[0mfeeds\u001b[0m\u001b[0;34m,\u001b[0m \u001b[0mfetches\u001b[0m\u001b[0;34m)\u001b[0m\u001b[0;34m\u001b[0m\u001b[0;34m\u001b[0m\u001b[0m\n",
      "\u001b[0;32m/anaconda3/envs/EssayGrader_env/lib/python3.6/site-packages/tensorflow/python/client/session.py\u001b[0m in \u001b[0;36m_do_call\u001b[0;34m(self, fn, *args)\u001b[0m\n\u001b[1;32m   1332\u001b[0m   \u001b[0;32mdef\u001b[0m \u001b[0m_do_call\u001b[0m\u001b[0;34m(\u001b[0m\u001b[0mself\u001b[0m\u001b[0;34m,\u001b[0m \u001b[0mfn\u001b[0m\u001b[0;34m,\u001b[0m \u001b[0;34m*\u001b[0m\u001b[0margs\u001b[0m\u001b[0;34m)\u001b[0m\u001b[0;34m:\u001b[0m\u001b[0;34m\u001b[0m\u001b[0;34m\u001b[0m\u001b[0m\n\u001b[1;32m   1333\u001b[0m     \u001b[0;32mtry\u001b[0m\u001b[0;34m:\u001b[0m\u001b[0;34m\u001b[0m\u001b[0;34m\u001b[0m\u001b[0m\n\u001b[0;32m-> 1334\u001b[0;31m       \u001b[0;32mreturn\u001b[0m \u001b[0mfn\u001b[0m\u001b[0;34m(\u001b[0m\u001b[0;34m*\u001b[0m\u001b[0margs\u001b[0m\u001b[0;34m)\u001b[0m\u001b[0;34m\u001b[0m\u001b[0;34m\u001b[0m\u001b[0m\n\u001b[0m\u001b[1;32m   1335\u001b[0m     \u001b[0;32mexcept\u001b[0m \u001b[0merrors\u001b[0m\u001b[0;34m.\u001b[0m\u001b[0mOpError\u001b[0m \u001b[0;32mas\u001b[0m \u001b[0me\u001b[0m\u001b[0;34m:\u001b[0m\u001b[0;34m\u001b[0m\u001b[0;34m\u001b[0m\u001b[0m\n\u001b[1;32m   1336\u001b[0m       \u001b[0mmessage\u001b[0m \u001b[0;34m=\u001b[0m \u001b[0mcompat\u001b[0m\u001b[0;34m.\u001b[0m\u001b[0mas_text\u001b[0m\u001b[0;34m(\u001b[0m\u001b[0me\u001b[0m\u001b[0;34m.\u001b[0m\u001b[0mmessage\u001b[0m\u001b[0;34m)\u001b[0m\u001b[0;34m\u001b[0m\u001b[0;34m\u001b[0m\u001b[0m\n",
      "\u001b[0;32m/anaconda3/envs/EssayGrader_env/lib/python3.6/site-packages/tensorflow/python/client/session.py\u001b[0m in \u001b[0;36m_run_fn\u001b[0;34m(feed_dict, fetch_list, target_list, options, run_metadata)\u001b[0m\n\u001b[1;32m   1317\u001b[0m       \u001b[0mself\u001b[0m\u001b[0;34m.\u001b[0m\u001b[0m_extend_graph\u001b[0m\u001b[0;34m(\u001b[0m\u001b[0;34m)\u001b[0m\u001b[0;34m\u001b[0m\u001b[0;34m\u001b[0m\u001b[0m\n\u001b[1;32m   1318\u001b[0m       return self._call_tf_sessionrun(\n\u001b[0;32m-> 1319\u001b[0;31m           options, feed_dict, fetch_list, target_list, run_metadata)\n\u001b[0m\u001b[1;32m   1320\u001b[0m \u001b[0;34m\u001b[0m\u001b[0m\n\u001b[1;32m   1321\u001b[0m     \u001b[0;32mdef\u001b[0m \u001b[0m_prun_fn\u001b[0m\u001b[0;34m(\u001b[0m\u001b[0mhandle\u001b[0m\u001b[0;34m,\u001b[0m \u001b[0mfeed_dict\u001b[0m\u001b[0;34m,\u001b[0m \u001b[0mfetch_list\u001b[0m\u001b[0;34m)\u001b[0m\u001b[0;34m:\u001b[0m\u001b[0;34m\u001b[0m\u001b[0;34m\u001b[0m\u001b[0m\n",
      "\u001b[0;32m/anaconda3/envs/EssayGrader_env/lib/python3.6/site-packages/tensorflow/python/client/session.py\u001b[0m in \u001b[0;36m_call_tf_sessionrun\u001b[0;34m(self, options, feed_dict, fetch_list, target_list, run_metadata)\u001b[0m\n\u001b[1;32m   1405\u001b[0m     return tf_session.TF_SessionRun_wrapper(\n\u001b[1;32m   1406\u001b[0m         \u001b[0mself\u001b[0m\u001b[0;34m.\u001b[0m\u001b[0m_session\u001b[0m\u001b[0;34m,\u001b[0m \u001b[0moptions\u001b[0m\u001b[0;34m,\u001b[0m \u001b[0mfeed_dict\u001b[0m\u001b[0;34m,\u001b[0m \u001b[0mfetch_list\u001b[0m\u001b[0;34m,\u001b[0m \u001b[0mtarget_list\u001b[0m\u001b[0;34m,\u001b[0m\u001b[0;34m\u001b[0m\u001b[0;34m\u001b[0m\u001b[0m\n\u001b[0;32m-> 1407\u001b[0;31m         run_metadata)\n\u001b[0m\u001b[1;32m   1408\u001b[0m \u001b[0;34m\u001b[0m\u001b[0m\n\u001b[1;32m   1409\u001b[0m   \u001b[0;32mdef\u001b[0m \u001b[0m_call_tf_sessionprun\u001b[0m\u001b[0;34m(\u001b[0m\u001b[0mself\u001b[0m\u001b[0;34m,\u001b[0m \u001b[0mhandle\u001b[0m\u001b[0;34m,\u001b[0m \u001b[0mfeed_dict\u001b[0m\u001b[0;34m,\u001b[0m \u001b[0mfetch_list\u001b[0m\u001b[0;34m)\u001b[0m\u001b[0;34m:\u001b[0m\u001b[0;34m\u001b[0m\u001b[0;34m\u001b[0m\u001b[0m\n",
      "\u001b[0;31mKeyboardInterrupt\u001b[0m: "
     ],
     "output_type": "error"
    }
   ],
   "source": [
    "rnn_net.train(batch_gen, X_val, y_val)"
   ]
  },
  {
   "cell_type": "code",
   "execution_count": null,
   "metadata": {},
   "outputs": [],
   "source": [
    ""
   ]
  }
 ],
 "metadata": {
  "kernelspec": {
   "display_name": "Python 2",
   "language": "python",
   "name": "python2"
  },
  "language_info": {
   "codemirror_mode": {
    "name": "ipython",
    "version": 2.0
   },
   "file_extension": ".py",
   "mimetype": "text/x-python",
   "name": "python",
   "nbconvert_exporter": "python",
   "pygments_lexer": "ipython2",
   "version": "2.7.6"
  }
 },
 "nbformat": 4,
 "nbformat_minor": 0
}